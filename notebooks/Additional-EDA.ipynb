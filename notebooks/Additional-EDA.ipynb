{
 "cells": [
  {
   "cell_type": "markdown",
   "id": "544b6a22-7da0-4d75-a74c-1b6dfd6ba5a0",
   "metadata": {},
   "source": [
    "# Set up \n",
    "\n",
    "## Check Environment "
   ]
  },
  {
   "cell_type": "code",
   "execution_count": 10,
   "id": "b4ae9065-6964-4078-971d-819cb3123697",
   "metadata": {
    "tags": []
   },
   "outputs": [],
   "source": [
    "import boto3\n",
    "\n",
    "region = boto3.Session().region_name\n",
    "session = boto3.session.Session()\n",
    "\n",
    "ec2 = boto3.Session().client(service_name=\"ec2\", region_name=region)\n",
    "sm = boto3.Session().client(service_name=\"sagemaker\", region_name=region)"
   ]
  },
  {
   "cell_type": "markdown",
   "id": "f2679010-3b8e-4843-8118-63eaf45bb0bd",
   "metadata": {},
   "source": [
    "## Update IAM Roles and Policies"
   ]
  },
  {
   "cell_type": "code",
   "execution_count": 11,
   "id": "7a5705df-9505-4f0f-a2d4-fd9244caa68d",
   "metadata": {
    "tags": []
   },
   "outputs": [],
   "source": [
    "import sagemaker\n",
    "import time\n",
    "from time import gmtime, strftime\n",
    "\n",
    "sagemaker_session = sagemaker.Session()\n",
    "role = sagemaker.get_execution_role()\n",
    "bucket = sagemaker_session.default_bucket()\n",
    "region = boto3.Session().region_name\n",
    "\n",
    "from botocore.config import Config\n",
    "\n",
    "config = Config(retries={\"max_attempts\": 10, \"mode\": \"adaptive\"})\n",
    "\n",
    "iam = boto3.client(\"iam\", config=config)"
   ]
  },
  {
   "cell_type": "code",
   "execution_count": 12,
   "id": "dfc59837-b3bc-4335-bf7e-80b9d866bcfd",
   "metadata": {
    "tags": []
   },
   "outputs": [
    {
     "name": "stdout",
     "output_type": "stream",
     "text": [
      "Role name: LabRole\n"
     ]
    }
   ],
   "source": [
    "role_name = role.split(\"/\")[-1]\n",
    "\n",
    "print(\"Role name: {}\".format(role_name))"
   ]
  },
  {
   "cell_type": "markdown",
   "id": "bfbe1100-813c-43f5-ad87-3f43471a5f4b",
   "metadata": {},
   "source": [
    "## Import Libraries"
   ]
  },
  {
   "cell_type": "code",
   "execution_count": 13,
   "id": "1fbe1a06-146a-4836-93fb-4230808a40a5",
   "metadata": {
    "tags": []
   },
   "outputs": [
    {
     "name": "stdout",
     "output_type": "stream",
     "text": [
      "Requirement already satisfied: descartes in /opt/conda/lib/python3.7/site-packages (1.1.0)\n",
      "Requirement already satisfied: matplotlib in /opt/conda/lib/python3.7/site-packages (from descartes) (3.1.3)\n",
      "Requirement already satisfied: pyparsing!=2.0.4,!=2.1.2,!=2.1.6,>=2.0.1 in /opt/conda/lib/python3.7/site-packages (from matplotlib->descartes) (2.4.6)\n",
      "Requirement already satisfied: cycler>=0.10 in /opt/conda/lib/python3.7/site-packages (from matplotlib->descartes) (0.10.0)\n",
      "Requirement already satisfied: python-dateutil>=2.1 in /opt/conda/lib/python3.7/site-packages (from matplotlib->descartes) (2.8.2)\n",
      "Requirement already satisfied: numpy>=1.11 in /opt/conda/lib/python3.7/site-packages (from matplotlib->descartes) (1.21.6)\n",
      "Requirement already satisfied: kiwisolver>=1.0.1 in /opt/conda/lib/python3.7/site-packages (from matplotlib->descartes) (1.1.0)\n",
      "Requirement already satisfied: six in /opt/conda/lib/python3.7/site-packages (from cycler>=0.10->matplotlib->descartes) (1.14.0)\n",
      "Requirement already satisfied: setuptools in /opt/conda/lib/python3.7/site-packages (from kiwisolver>=1.0.1->matplotlib->descartes) (59.3.0)\n",
      "\u001b[33mWARNING: Running pip as the 'root' user can result in broken permissions and conflicting behaviour with the system package manager. It is recommended to use a virtual environment instead: https://pip.pypa.io/warnings/venv\u001b[0m\u001b[33m\n",
      "\u001b[0mRequirement already satisfied: geopandas in /opt/conda/lib/python3.7/site-packages (0.10.2)\n",
      "Requirement already satisfied: pyproj>=2.2.0 in /opt/conda/lib/python3.7/site-packages (from geopandas) (3.2.1)\n",
      "Requirement already satisfied: shapely>=1.6 in /opt/conda/lib/python3.7/site-packages (from geopandas) (2.0.1)\n",
      "Requirement already satisfied: pandas>=0.25.0 in /opt/conda/lib/python3.7/site-packages (from geopandas) (1.3.5)\n",
      "Requirement already satisfied: fiona>=1.8 in /opt/conda/lib/python3.7/site-packages (from geopandas) (1.9.2)\n",
      "Requirement already satisfied: click~=8.0 in /opt/conda/lib/python3.7/site-packages (from fiona>=1.8->geopandas) (8.1.3)\n",
      "Requirement already satisfied: click-plugins>=1.0 in /opt/conda/lib/python3.7/site-packages (from fiona>=1.8->geopandas) (1.1.1)\n",
      "Requirement already satisfied: munch>=2.3.2 in /opt/conda/lib/python3.7/site-packages (from fiona>=1.8->geopandas) (2.5.0)\n",
      "Requirement already satisfied: attrs>=19.2.0 in /opt/conda/lib/python3.7/site-packages (from fiona>=1.8->geopandas) (22.2.0)\n",
      "Requirement already satisfied: cligj>=0.5 in /opt/conda/lib/python3.7/site-packages (from fiona>=1.8->geopandas) (0.7.2)\n",
      "Requirement already satisfied: importlib-metadata in /opt/conda/lib/python3.7/site-packages (from fiona>=1.8->geopandas) (6.1.0)\n",
      "Requirement already satisfied: certifi in /opt/conda/lib/python3.7/site-packages (from fiona>=1.8->geopandas) (2022.12.7)\n",
      "Requirement already satisfied: pytz>=2017.3 in /opt/conda/lib/python3.7/site-packages (from pandas>=0.25.0->geopandas) (2019.3)\n",
      "Requirement already satisfied: numpy>=1.17.3 in /opt/conda/lib/python3.7/site-packages (from pandas>=0.25.0->geopandas) (1.21.6)\n",
      "Requirement already satisfied: python-dateutil>=2.7.3 in /opt/conda/lib/python3.7/site-packages (from pandas>=0.25.0->geopandas) (2.8.2)\n",
      "Requirement already satisfied: six in /opt/conda/lib/python3.7/site-packages (from munch>=2.3.2->fiona>=1.8->geopandas) (1.14.0)\n",
      "Requirement already satisfied: typing-extensions>=3.6.4 in /opt/conda/lib/python3.7/site-packages (from importlib-metadata->fiona>=1.8->geopandas) (4.5.0)\n",
      "Requirement already satisfied: zipp>=0.5 in /opt/conda/lib/python3.7/site-packages (from importlib-metadata->fiona>=1.8->geopandas) (3.15.0)\n",
      "\u001b[33mWARNING: Running pip as the 'root' user can result in broken permissions and conflicting behaviour with the system package manager. It is recommended to use a virtual environment instead: https://pip.pypa.io/warnings/venv\u001b[0m\u001b[33m\n",
      "\u001b[0mRequirement already satisfied: wordcloud in /opt/conda/lib/python3.7/site-packages (1.8.2.2)\n",
      "Requirement already satisfied: pillow in /opt/conda/lib/python3.7/site-packages (from wordcloud) (9.5.0)\n",
      "Requirement already satisfied: matplotlib in /opt/conda/lib/python3.7/site-packages (from wordcloud) (3.1.3)\n",
      "Requirement already satisfied: numpy>=1.6.1 in /opt/conda/lib/python3.7/site-packages (from wordcloud) (1.21.6)\n",
      "Requirement already satisfied: python-dateutil>=2.1 in /opt/conda/lib/python3.7/site-packages (from matplotlib->wordcloud) (2.8.2)\n",
      "Requirement already satisfied: pyparsing!=2.0.4,!=2.1.2,!=2.1.6,>=2.0.1 in /opt/conda/lib/python3.7/site-packages (from matplotlib->wordcloud) (2.4.6)\n",
      "Requirement already satisfied: cycler>=0.10 in /opt/conda/lib/python3.7/site-packages (from matplotlib->wordcloud) (0.10.0)\n",
      "Requirement already satisfied: kiwisolver>=1.0.1 in /opt/conda/lib/python3.7/site-packages (from matplotlib->wordcloud) (1.1.0)\n",
      "Requirement already satisfied: six in /opt/conda/lib/python3.7/site-packages (from cycler>=0.10->matplotlib->wordcloud) (1.14.0)\n",
      "Requirement already satisfied: setuptools in /opt/conda/lib/python3.7/site-packages (from kiwisolver>=1.0.1->matplotlib->wordcloud) (59.3.0)\n",
      "\u001b[33mWARNING: Running pip as the 'root' user can result in broken permissions and conflicting behaviour with the system package manager. It is recommended to use a virtual environment instead: https://pip.pypa.io/warnings/venv\u001b[0m\u001b[33m\n",
      "\u001b[0m"
     ]
    }
   ],
   "source": [
    "import pandas as pd\n",
    "import numpy as np\n",
    "import matplotlib.pyplot as plt\n",
    "! pip install descartes\n",
    "! pip install geopandas\n",
    "!pip install wordcloud\n",
    "import geopandas as gpd\n",
    "from tqdm import tqdm  \n",
    "from geopandas import GeoDataFrame, points_from_xy\n",
    "from wordcloud import WordCloud"
   ]
  },
  {
   "cell_type": "code",
   "execution_count": 14,
   "id": "6dd9165a-6bb7-467a-ace0-fd0d22bf1ea7",
   "metadata": {
    "tags": []
   },
   "outputs": [],
   "source": [
    "s3_public_path = \"s3://sagemaker-studio-458903497716-h2kl4ff3dz/data\"\n",
    "s3_public_path_1=\"s3://sagemaker-studio-458903497716-h2kl4ff3dz/census_2010_data\"\n",
    "s3_public_path_2=\"s3://sagemaker-studio-458903497716-h2kl4ff3dz/state_abbrev_data\"\n",
    "s3_public_path_3=\"s3://sagemaker-studio-458903497716-h2kl4ff3dz/congress_data\"\n",
    "s3_public_path_4=\"s3://sagemaker-studio-458903497716-h2kl4ff3dz/state_income_data\"\n",
    "s3_public_path_5=\"s3://sagemaker-studio-458903497716-h2kl4ff3dz/cities_data\"\n",
    "s3_public_path_6=\"s3://sagemaker-studio-458903497716-h2kl4ff3dz/zipcodes\"\n",
    "s3_public_path_7=\"s3://sagemaker-studio-458903497716-h2kl4ff3dz/adjusted_gross_incomes\"\n",
    "s3_public_path_7=\"s3://sagemaker-studio-458903497716-h2kl4ff3dz/temp\""
   ]
  },
  {
   "cell_type": "code",
   "execution_count": 15,
   "id": "2513e31f-b8b4-45dd-8863-9440f786811c",
   "metadata": {
    "tags": []
   },
   "outputs": [
    {
     "name": "stdout",
     "output_type": "stream",
     "text": [
      "Stored 's3_public_path' (str)\n",
      "Stored 's3_public_path_1' (str)\n",
      "Stored 's3_public_path_2' (str)\n",
      "Stored 's3_public_path_3' (str)\n",
      "Stored 's3_public_path_4' (str)\n",
      "Stored 's3_public_path_5' (str)\n",
      "Stored 's3_public_path_6' (str)\n",
      "Stored 's3_public_path_7' (str)\n"
     ]
    },
    {
     "name": "stderr",
     "output_type": "stream",
     "text": [
      "UsageError: Unknown variable 's3_public_path_8'\n"
     ]
    }
   ],
   "source": [
    "%store s3_public_path\n",
    "%store s3_public_path_1\n",
    "%store s3_public_path_2\n",
    "%store s3_public_path_3\n",
    "%store s3_public_path_4\n",
    "%store s3_public_path_5\n",
    "%store s3_public_path_6\n",
    "%store s3_public_path_7\n",
    "%store s3_public_path_8"
   ]
  },
  {
   "cell_type": "code",
   "execution_count": 16,
   "id": "b86852f1-3e52-4377-a42d-cc90da590804",
   "metadata": {
    "tags": []
   },
   "outputs": [
    {
     "name": "stdout",
     "output_type": "stream",
     "text": [
      "s3://sagemaker-us-east-1-898900188658/gun_violence_data\n",
      "s3://sagemaker-us-east-1-898900188658/census2010_data\n",
      "s3://sagemaker-us-east-1-898900188658/state_abbrev_data\n",
      "s3://sagemaker-us-east-1-898900188658/congress_data\n",
      "s3://sagemaker-us-east-1-898900188658/state_income_data\n",
      "s3://sagemaker-us-east-1-898900188658/cities_data\n",
      "s3://sagemaker-us-east-1-898900188658/zipcodes\n",
      "s3://sagemaker-us-east-1-898900188658/adjusted_gross_incomes\n",
      "s3://sagemaker-us-east-1-898900188658/temp\n"
     ]
    }
   ],
   "source": [
    "s3_private_path = \"s3://{}/gun_violence_data\".format(bucket)\n",
    "s3_private_path_1 = \"s3://{}/census2010_data\".format(bucket)\n",
    "s3_private_path_2 = \"s3://{}/state_abbrev_data\".format(bucket)\n",
    "s3_private_path_3= \"s3://{}/congress_data\".format(bucket)\n",
    "s3_private_path_4= \"s3://{}/state_income_data\".format(bucket)\n",
    "s3_private_path_5= \"s3://{}/cities_data\".format(bucket)\n",
    "s3_private_path_6= \"s3://{}/zipcodes\".format(bucket)\n",
    "s3_private_path_7= \"s3://{}/adjusted_gross_incomes\".format(bucket)\n",
    "s3_private_path_8= \"s3://{}/temp\".format(bucket)\n",
    "\n",
    "print(s3_private_path)\n",
    "print(s3_private_path_1)\n",
    "print(s3_private_path_2)\n",
    "print(s3_private_path_3)\n",
    "print(s3_private_path_4)\n",
    "print(s3_private_path_5)\n",
    "print(s3_private_path_6)\n",
    "print(s3_private_path_7)\n",
    "print(s3_private_path_8)"
   ]
  },
  {
   "cell_type": "code",
   "execution_count": 17,
   "id": "af9c6e3d-401c-4bea-b393-ebe8c7fe280c",
   "metadata": {
    "tags": []
   },
   "outputs": [
    {
     "name": "stdout",
     "output_type": "stream",
     "text": [
      "Stored 's3_private_path' (str)\n",
      "Stored 's3_private_path_1' (str)\n",
      "Stored 's3_private_path_2' (str)\n",
      "Stored 's3_private_path_3' (str)\n",
      "Stored 's3_private_path_4' (str)\n",
      "Stored 's3_private_path_5' (str)\n",
      "Stored 's3_private_path_6' (str)\n",
      "Stored 's3_private_path_7' (str)\n",
      "Stored 's3_private_path_8' (str)\n"
     ]
    }
   ],
   "source": [
    "%store s3_private_path\n",
    "%store s3_private_path_1\n",
    "%store s3_private_path_2\n",
    "%store s3_private_path_3\n",
    "%store s3_private_path_4\n",
    "%store s3_private_path_5\n",
    "%store s3_private_path_6\n",
    "%store s3_private_path_7\n",
    "%store s3_private_path_8"
   ]
  },
  {
   "cell_type": "code",
   "execution_count": 18,
   "id": "9a7ffc10-6456-4acb-bbf0-4d23072cb4fd",
   "metadata": {
    "tags": []
   },
   "outputs": [
    {
     "name": "stdout",
     "output_type": "stream",
     "text": [
      "copy: s3://sagemaker-studio-458903497716-h2kl4ff3dz/data/gun_violence.csv to s3://sagemaker-us-east-1-898900188658/gun_violence_data/gun_violence.csv\n",
      "copy: s3://sagemaker-studio-458903497716-h2kl4ff3dz/census_2010_data/sub_est2018_all.csv to s3://sagemaker-us-east-1-898900188658/census2010_data/sub_est2018_all.csv\n",
      "copy failed: s3://sagemaker-studio-458903497716-h2kl4ff3dz/state_abbrev_data/state_abbrev_map.csv to s3://sagemaker-us-east-1-898900188658/state_abbrev_data/state_abbrev_map.csv An error occurred (AccessDenied) when calling the CopyObject operation: Access Denied\n",
      "copy failed: s3://sagemaker-studio-458903497716-h2kl4ff3dz/congress_data/Congress_2013-2018.csv to s3://sagemaker-us-east-1-898900188658/congress_data/Congress_2013-2018.csv An error occurred (AccessDenied) when calling the CopyObject operation: Access Denied\n",
      "copy failed: s3://sagemaker-studio-458903497716-h2kl4ff3dz/state_income_data/all_states_income.csv to s3://sagemaker-us-east-1-898900188658/state_income_data/all_states_income.csv An error occurred (AccessDenied) when calling the CopyObject operation: Access Denied\n",
      "copy failed: s3://sagemaker-studio-458903497716-h2kl4ff3dz/cities_data/uscities.csv to s3://sagemaker-us-east-1-898900188658/cities_data/uscities.csv An error occurred (AccessDenied) when calling the CopyObject operation: Access Denied\n",
      "\n",
      "usage: aws s3 cp <LocalPath> <S3Uri> or <S3Uri> <LocalPath> or <S3Uri> <S3Uri>\n",
      "Error: Invalid argument type\n"
     ]
    }
   ],
   "source": [
    "!aws s3 cp --recursive $s3_public_path/ $s3_private_path/ --include \"*\" \n",
    "!aws s3 cp --recursive $s3_public_path_1/ $s3_private_path_1/ --include \"*\"\n",
    "!aws s3 cp --recursive $s3_public_path_2/ $s3_private_path_2/ --include \"*\" \n",
    "!aws s3 cp --recursive $s3_public_path_3/ $s3_private_path_3/ --include \"*\" --acl bucket-owner-full-control\n",
    "!aws s3 cp --recursive $s3_public_path_4/ $s3_private_path_4/ --include \"*\" \n",
    "!aws s3 cp --recursive $s3_public_path_5/ $s3_private_path_5/ --include \"*\" \n",
    "!aws s3 cp --recursive $s3_public_path_6/ $s3_private_path_6/ --include \"*\" \n",
    "!aws s3 cp --recursive $s3_public_path_7/ $s3_private_path_7/ --include \"*\" \n",
    "!aws s3 cp --recursive $s3_public_path_8/ $s3_private_path_8/ --include \"*\" "
   ]
  },
  {
   "cell_type": "markdown",
   "id": "1978a323-fe9e-4c5c-b448-fb42a6f47c0a",
   "metadata": {},
   "source": [
    "# Create Database Schema in Athena"
   ]
  },
  {
   "cell_type": "code",
   "execution_count": null,
   "id": "fbfdde23-e09d-482d-93be-b7361eff135c",
   "metadata": {
    "tags": []
   },
   "outputs": [],
   "source": [
    "import boto3\n",
    "import sagemaker\n",
    "\n",
    "sess = sagemaker.Session()\n",
    "#bucket = '{}/gunData'.format(bucket)\n",
    "bucket = '{}'.format(bucket)\n",
    "role = sagemaker.get_execution_role()\n",
    "region = boto3.Session().region_name\n",
    "bucket"
   ]
  },
  {
   "cell_type": "code",
   "execution_count": null,
   "id": "8042c816-1eac-4ff3-b5a9-30a781887cd6",
   "metadata": {
    "tags": []
   },
   "outputs": [],
   "source": [
    "!pip install --disable-pip-version-check -q PyAthena==2.1.0\n",
    "from pyathena import connect"
   ]
  },
  {
   "cell_type": "code",
   "execution_count": null,
   "id": "f9a285fe-a778-4e37-a27f-c87ddc30237e",
   "metadata": {
    "tags": []
   },
   "outputs": [],
   "source": [
    "#assign database name\n",
    "database_name = \"ads508\""
   ]
  },
  {
   "cell_type": "code",
   "execution_count": null,
   "id": "5a8cd20c-a4d5-4e19-8494-5325227171a3",
   "metadata": {
    "tags": []
   },
   "outputs": [],
   "source": [
    "# Set S3 staging directory -- this is a temporary directory used for Athena queries\n",
    "s3_staging_dir = \"s3://{0}/athena/staging\".format(bucket)"
   ]
  },
  {
   "cell_type": "code",
   "execution_count": null,
   "id": "c0172f60-9813-4944-b1b6-c1a6f9309a79",
   "metadata": {
    "tags": []
   },
   "outputs": [],
   "source": [
    "conn = connect(region_name=region, s3_staging_dir=s3_staging_dir)"
   ]
  },
  {
   "cell_type": "code",
   "execution_count": null,
   "id": "57d73501-30f2-4995-8c4a-fbf0e6e27d2a",
   "metadata": {
    "tags": []
   },
   "outputs": [],
   "source": [
    "#create new database 'ads508'\n",
    "statement = \"CREATE DATABASE IF NOT EXISTS {}\".format(database_name)\n",
    "create_db = pd.read_sql(statement, conn)\n",
    "create_db"
   ]
  },
  {
   "cell_type": "code",
   "execution_count": null,
   "id": "05142a70-27d6-4788-817b-3dd82d10743f",
   "metadata": {
    "tags": []
   },
   "outputs": [],
   "source": [
    "#verify database creation\n",
    "q = \"SHOW DATABASES\"\n",
    "db_show = pd.read_sql(q, conn)\n",
    "db_show"
   ]
  },
  {
   "cell_type": "markdown",
   "id": "e4d154cc-0e38-46b3-9560-23c211acdeff",
   "metadata": {},
   "source": [
    "## Create Athena Tables"
   ]
  },
  {
   "cell_type": "code",
   "execution_count": null,
   "id": "655c904c-62c9-401f-96d5-c8feacae6e76",
   "metadata": {
    "tags": []
   },
   "outputs": [],
   "source": [
    "# Set Athena parameters\n",
    "database_name = \"ads508\"\n",
    "table_name_csv = \"gun_violence\"\n",
    "s3_path = \"s3://{}/gun_violence_data\".format(bucket)\n",
    "print(s3_path)"
   ]
  },
  {
   "cell_type": "code",
   "execution_count": null,
   "id": "9809b4c6-fa1a-4d24-b567-f301287efa6a",
   "metadata": {
    "tags": []
   },
   "outputs": [],
   "source": [
    "# SQL statement to execute\n",
    "statement = \"\"\"CREATE EXTERNAL TABLE IF NOT EXISTS {}.{}(\n",
    "         incident_id int,\n",
    "         date date,\n",
    "         state string,\n",
    "         city_or_county string,\n",
    "         address string,\n",
    "         n_killed int,\n",
    "         n_injured int,\n",
    "         incident_url string,\n",
    "         source_url string,\n",
    "         incident_url_fields_missing string,\n",
    "         congressional_district int,\n",
    "         gun_stolen string,\n",
    "         gun_type string,\n",
    "         incident_characteristics string,\n",
    "         latitude int,\n",
    "         location_description string,\n",
    "         longitude int,\n",
    "         n_guns_involved int,\n",
    "         notes string,\n",
    "         participant_age string,\n",
    "         participant_age_group string,\n",
    "         participant_gender string,\n",
    "         participant_name string,\n",
    "         participant_relationship string,\n",
    "         participant_status string,\n",
    "         participant_type string,\n",
    "         sources string,\n",
    "         state_house_district int,\n",
    "         state_senate_district int\n",
    ") ROW FORMAT DELIMITED FIELDS TERMINATED BY ',' LINES TERMINATED BY '\\\\n' LOCATION '{}'\n",
    "TBLPROPERTIES ('skip.header.line.count'='1')\"\"\".format(\n",
    "    database_name, table_name_csv, s3_path\n",
    ")\n",
    "\n",
    "create_table = pd.read_sql(statement, conn)\n",
    "create_table"
   ]
  },
  {
   "cell_type": "code",
   "execution_count": null,
   "id": "3b3fc3e4-6a35-4d89-827c-dd9f80d2c345",
   "metadata": {
    "tags": []
   },
   "outputs": [],
   "source": [
    "table_name_csv_1 = \"est2018\"\n",
    "s3_path_1 = \"s3://{}/census2010_data\".format(bucket)\n",
    "print(s3_path_1)"
   ]
  },
  {
   "cell_type": "code",
   "execution_count": null,
   "id": "04594e67-5635-42de-88bf-bfd3b14d5d19",
   "metadata": {
    "tags": []
   },
   "outputs": [],
   "source": [
    "# SQL statement to execute\n",
    "\n",
    "statement = \"\"\"CREATE EXTERNAL TABLE IF NOT EXISTS {}.{}(\n",
    "    sumlev int,\n",
    "    state int,\n",
    "    county int,\n",
    "    place int,\n",
    "    cousub int,\n",
    "    concit int,\n",
    "    primgeo_flag int,\n",
    "    funcstat int,\n",
    "    name string,\n",
    "    stname string,\n",
    "    census2010pop int,\n",
    "    estimatesbase2010 int,\n",
    "    popestimates2010 int,\n",
    "    popestimates2011 int,\n",
    "    popestimates2012 int,\n",
    "    popestimates2013 int,\n",
    "    popestimates2014 int,\n",
    "    popestimates2015 int,\n",
    "    popestimates2016 int,\n",
    "    popestimates2017 int,\n",
    "    popestimates2018 int\n",
    "         \n",
    ") ROW FORMAT DELIMITED FIELDS TERMINATED BY ',' LINES TERMINATED BY '\\\\n' LOCATION '{}'\n",
    "TBLPROPERTIES ('skip.header.line.count'='1')\"\"\".format(\n",
    "    database_name, table_name_csv_1, s3_path_1\n",
    ")\n",
    "\n",
    "create_table_1 = pd.read_sql(statement, conn)\n",
    "create_table_1"
   ]
  },
  {
   "cell_type": "code",
   "execution_count": null,
   "id": "7f5b422f-401b-41f9-a987-c4bf435bbb58",
   "metadata": {
    "tags": []
   },
   "outputs": [],
   "source": [
    "table_name_csv_2 = \"state_abbrev\"\n",
    "s3_path_2 = \"s3://{}/state_abbrev_data\".format(bucket)\n",
    "print(s3_path_2)"
   ]
  },
  {
   "cell_type": "code",
   "execution_count": null,
   "id": "38a3719e-9325-4a04-b1d8-749c39dec8cd",
   "metadata": {
    "tags": []
   },
   "outputs": [],
   "source": [
    "# SQL statement to execute\n",
    "\n",
    "statement = \"\"\"CREATE EXTERNAL TABLE IF NOT EXISTS {}.{}(\n",
    "   state string,\n",
    "   abbrev string,\n",
    "   code string\n",
    "         \n",
    ") ROW FORMAT SERDE 'org.apache.hadoop.hive.serde2.OpenCSVSerde'\n",
    "LOCATION '{}'\n",
    "TBLPROPERTIES ('skip.header.line.count'='1')\"\"\".format(\n",
    "    database_name, table_name_csv_2, s3_path_2\n",
    ")\n",
    "\n",
    "create_table_2 = pd.read_sql(statement, conn)\n",
    "create_table_2"
   ]
  },
  {
   "cell_type": "code",
   "execution_count": null,
   "id": "02660db2-771b-4ed6-95c0-19eca95e6a15",
   "metadata": {
    "tags": []
   },
   "outputs": [],
   "source": [
    "table_name_csv_3 = \"congress_2013_to_2018\"\n",
    "s3_path_3 = \"s3://{}/congress_data\".format(bucket)\n",
    "print(s3_path_3)"
   ]
  },
  {
   "cell_type": "code",
   "execution_count": null,
   "id": "8212c69d-22d2-4a91-818f-bcbf26616511",
   "metadata": {
    "tags": []
   },
   "outputs": [],
   "source": [
    "# SQL statement to execute\n",
    "\n",
    "statement = \"\"\"CREATE EXTERNAL TABLE IF NOT EXISTS {}.{}(\n",
    " id string,\n",
    " name string,\n",
    " sort_name string,\n",
    " email string,\n",
    " twitter string,\n",
    " facebook string,\n",
    " group string,\n",
    " group_id string,\n",
    " state string,\n",
    " district int,\n",
    " chamber string,\n",
    " year int,\n",
    " start_date date,\n",
    " end_date date,\n",
    " image string,\n",
    " gender string,\n",
    " wikidata string,\n",
    " wikidata_group string,\n",
    " wikidata_area string\n",
    " \n",
    "         \n",
    ") ROW FORMAT DELIMITED FIELDS TERMINATED BY ',' LINES TERMINATED BY '\\\\n' LOCATION '{}'\n",
    "TBLPROPERTIES ('skip.header.line.count'='1')\"\"\".format(\n",
    "    database_name, table_name_csv_3, s3_path_3\n",
    ")\n",
    "\n",
    "create_table_3 = pd.read_sql(statement, conn)\n",
    "create_table_3"
   ]
  },
  {
   "cell_type": "code",
   "execution_count": null,
   "id": "d31f0d59-80dc-4654-831c-a9979680a7f4",
   "metadata": {
    "tags": []
   },
   "outputs": [],
   "source": [
    "table_name_csv_4 = \"state_income\"\n",
    "s3_path_4 = \"s3://{}/state_income_data\".format(bucket)\n",
    "print(s3_path_4)"
   ]
  },
  {
   "cell_type": "code",
   "execution_count": null,
   "id": "e4fb67b7-762f-4d85-8bed-a15428ecf126",
   "metadata": {
    "tags": []
   },
   "outputs": [],
   "source": [
    "# SQL statement to execute\n",
    "\n",
    "statement = \"\"\"CREATE EXTERNAL TABLE IF NOT EXISTS {}.{}(\n",
    " id int,\n",
    " zipcode int,\n",
    " agi int,\n",
    " avg_agi int,\n",
    " groups string,\n",
    " avg_income int\n",
    " \n",
    "         \n",
    ") ROW FORMAT DELIMITED FIELDS TERMINATED BY ',' LINES TERMINATED BY '\\\\n' LOCATION '{}'\n",
    "TBLPROPERTIES ('skip.header.line.count'='1')\"\"\".format(\n",
    "    database_name, table_name_csv_4, s3_path_4\n",
    ")\n",
    "\n",
    "create_table_4 = pd.read_sql(statement, conn)\n",
    "create_table_4"
   ]
  },
  {
   "cell_type": "code",
   "execution_count": null,
   "id": "9283e75c-f4ae-47c1-aef5-f519c10b4b72",
   "metadata": {
    "tags": []
   },
   "outputs": [],
   "source": [
    "table_name_csv_5 = \"cities\"\n",
    "s3_path_5 = \"s3://{}/cities_data\".format(bucket)\n",
    "print(s3_path_5)"
   ]
  },
  {
   "cell_type": "code",
   "execution_count": null,
   "id": "0f611a66-ba04-41c2-a523-6cbc30e622d9",
   "metadata": {
    "tags": []
   },
   "outputs": [],
   "source": [
    "# SQL statement to execute\n",
    "\n",
    "statement = \"\"\"CREATE EXTERNAL TABLE IF NOT EXISTS {}.{}(\n",
    "    city string,\n",
    "    city_ascii string,\n",
    "    state_id string,\n",
    "    state_name string,\n",
    "    county_fips int,\n",
    "    county_name string,\n",
    "    lat string,\n",
    "    lng string,\n",
    "    population string,\n",
    "    density string,\n",
    "    source string,\n",
    "    military string,\n",
    "    incorporated string,\n",
    "    timezone string,\n",
    "    ranking int,\n",
    "    zips string,\n",
    "    id int)\n",
    "    \n",
    "ROW FORMAT SERDE \n",
    "  'org.apache.hadoop.hive.serde2.OpenCSVSerde' \n",
    "WITH SERDEPROPERTIES ( \n",
    "  'quoteChar'='\\\"', \n",
    "  'separatorChar'=',') \n",
    "LOCATION '{}'\n",
    "TBLPROPERTIES ('skip.header.line.count'='1')\"\"\".format(\n",
    "    database_name, table_name_csv_5, s3_path_5\n",
    ")\n",
    "\n",
    "create_table_5 = pd.read_sql(statement, conn)\n",
    "create_table_5"
   ]
  },
  {
   "cell_type": "code",
   "execution_count": null,
   "id": "83822cde-5e68-4f10-91d6-cbc6639eca29",
   "metadata": {
    "tags": []
   },
   "outputs": [],
   "source": [
    "statement = \"SHOW TABLES in ads508\"\n",
    "tables = pd.read_sql(statement, conn)\n",
    "tables"
   ]
  },
  {
   "cell_type": "code",
   "execution_count": null,
   "id": "2af401ce-8436-4e9a-9d9f-41f2f70e7e4d",
   "metadata": {
    "tags": []
   },
   "outputs": [],
   "source": [
    "statement = \"SELECT * from ads508.gun_violence LIMIT 100\"\n",
    "df = pd.read_sql(statement, conn)\n",
    "df.head(5)"
   ]
  },
  {
   "cell_type": "code",
   "execution_count": null,
   "id": "ea6f63c9-7a33-4d09-8b63-72947f9e3c4d",
   "metadata": {
    "tags": []
   },
   "outputs": [],
   "source": [
    "statement = \"SELECT * from ads508.est2018 LIMIT 100\"\n",
    "df_pop = pd.read_sql(statement, conn)\n",
    "df_pop.head(5)"
   ]
  },
  {
   "cell_type": "code",
   "execution_count": null,
   "id": "1bb0577c-4c67-4a55-b508-c2dfba9b4202",
   "metadata": {
    "tags": []
   },
   "outputs": [],
   "source": [
    "statement = \"SELECT * from ads508.congress_2013_to_2018 LIMIT 100\"\n",
    "df_cong = pd.read_sql(statement, conn)\n",
    "df_cong.head(5)"
   ]
  },
  {
   "cell_type": "code",
   "execution_count": null,
   "id": "ccfbaedc-9c13-4eef-9816-2832a50b3fa4",
   "metadata": {
    "tags": []
   },
   "outputs": [],
   "source": [
    "statement = \"SELECT * from ads508.state_abbrev LIMIT 100\"\n",
    "df_abbrev = pd.read_sql(statement, conn)\n",
    "df_abbrev.head(5)"
   ]
  },
  {
   "cell_type": "code",
   "execution_count": null,
   "id": "ffdfaa7e-a213-4395-8fe7-3806cc195815",
   "metadata": {
    "tags": []
   },
   "outputs": [],
   "source": [
    "statement = \"SELECT * from ads508.state_income LIMIT 100\"\n",
    "df_income = pd.read_sql(statement, conn)\n",
    "df_income.head(5)"
   ]
  },
  {
   "cell_type": "code",
   "execution_count": null,
   "id": "4515ce21-5ecf-4d64-8329-4795e929695a",
   "metadata": {
    "tags": []
   },
   "outputs": [],
   "source": [
    "statement = \"SELECT * from ads508.cities LIMIT 100\"\n",
    "df_cities = pd.read_sql(statement, conn)\n",
    "df_cities.head(5)"
   ]
  },
  {
   "cell_type": "markdown",
   "id": "32bde790-e6c1-4733-926a-e51d69433d4a",
   "metadata": {},
   "source": [
    "# Insert Dataset into Pandas Dataframe"
   ]
  },
  {
   "cell_type": "code",
   "execution_count": null,
   "id": "9f21490b-1c10-46b3-9ea0-5a46af541a98",
   "metadata": {
    "tags": []
   },
   "outputs": [],
   "source": [
    "df = pd.read_csv(\"{}/gun_violence.csv\".format(s3_path))\n",
    "df.head()"
   ]
  },
  {
   "cell_type": "code",
   "execution_count": null,
   "id": "0b26934b-b45a-4f2d-bdb6-fd18d1937886",
   "metadata": {
    "tags": []
   },
   "outputs": [],
   "source": [
    "df_cities = pd.read_csv(\"{}/uscities.csv\".format(s3_path_5))\n",
    "df_cities.head()"
   ]
  },
  {
   "cell_type": "markdown",
   "id": "72e39f38-1fc5-4426-aa0c-ffaffce66788",
   "metadata": {
    "tags": []
   },
   "source": [
    "## Most Frequent Gun Used Was 'Handgun'.  Significant portion of the dataset had record with gun type not recorded or known."
   ]
  },
  {
   "cell_type": "code",
   "execution_count": null,
   "id": "41873938-c274-442f-a7d8-a95ff1fef9a4",
   "metadata": {
    "tags": []
   },
   "outputs": [],
   "source": [
    "\"\"\"\n",
    "Parse gun_type column and display histogram of gun type frequency\n",
    "\n",
    "\"\"\"\n",
    "import re\n",
    "import math\n",
    "\n",
    "guns_list = []\n",
    "\n",
    "for item in df['gun_type']:\n",
    "\n",
    "    if type(item) == float and math.isnan(item):\n",
    "        continue\n",
    "\n",
    "    gun = re.findall(\"\\d*::\\d* (?P<gun>\\w*)\", item)\n",
    "\n",
    "    if len(gun) == 0:\n",
    "        gun = re.findall(\"\\d*::(?P<gun>\\w*)\", item)\n",
    "\n",
    "    guns_list.extend(gun)\n",
    "\n",
    "# print(guns_list)\n",
    "\n",
    "plt.xticks(rotation=\"vertical\")\n",
    "plt.hist(guns_list)\n",
    "plt.show()"
   ]
  },
  {
   "cell_type": "code",
   "execution_count": null,
   "id": "d295f7b3-9d16-47ff-a324-c48f946d5967",
   "metadata": {
    "tags": []
   },
   "outputs": [],
   "source": [
    "# break up Participant Gender\n",
    "import matplotlib.pyplot as plt\n",
    "import re\n",
    "\n",
    "participant_gender = df['participant_gender']\n",
    "cleaned_row = []\n",
    "\n",
    "for row in participant_gender:\n",
    "    \n",
    "     regex = 'Male'\n",
    "     match_males = re.findall(regex, str(row))\n",
    "     regex = 'Female'\n",
    "     match_females = re.findall(regex, str(row))\n",
    "    \n",
    "     if match_males != None:\n",
    "         cleaned_row = cleaned_row + match_males\n",
    "     if match_females != None:\n",
    "         cleaned_row = cleaned_row + match_females\n",
    "\n",
    "plt.hist(cleaned_row)\n",
    "plt.show()"
   ]
  },
  {
   "cell_type": "markdown",
   "id": "e10277de-3fd3-4727-96a1-f684c8f7742b",
   "metadata": {},
   "source": [
    "## Out Of All Gun Violence Incidents Recorded, There Are In Total More Suspects Than Victims"
   ]
  },
  {
   "cell_type": "code",
   "execution_count": null,
   "id": "ac6296ed-4bd6-4d85-b00c-6d3b50974d45",
   "metadata": {
    "tags": []
   },
   "outputs": [],
   "source": [
    "participant_type = df['participant_type']\n",
    "cleaned = []\n",
    "\n",
    "for parts in participant_type:\n",
    "\n",
    "    if '||' in str(parts):\n",
    "        part = str(parts).split('||')\n",
    "        \n",
    "        for keyval in part:\n",
    "            if '::' in str(keyval):\n",
    "                \n",
    "                part_value = str(keyval).split('::')\n",
    "                cleaned.append(part_value[1])\n",
    "\n",
    "plt.hist(cleaned)\n",
    "plt.show()"
   ]
  },
  {
   "cell_type": "markdown",
   "id": "749ab0a6-3b67-4510-8e45-2f1158469aba",
   "metadata": {},
   "source": [
    "## Most Suspects Belong To 'Adult 18+' Age Group, A Slightly Larger Portion Had No Age Group Recorded For Suspect"
   ]
  },
  {
   "cell_type": "code",
   "execution_count": null,
   "id": "b906183b-7865-451c-8b7b-1e1e2832eb3f",
   "metadata": {},
   "outputs": [],
   "source": [
    "\"\"\"\n",
    "New Suspect Age Group Column\n",
    "Most suspects are adults 18+ category which doesn't tell us much, so the next column to create\n",
    "is the actual age of the suspect (see next block in this notebook)\n",
    "\"\"\"\n",
    "import pandas as pd\n",
    "import re\n",
    "import math\n",
    "import matplotlib.pyplot as plt\n",
    "\n",
    "df['suspect_age'] = ''\n",
    "\n",
    "# parse each column into readable form\n",
    "for i, row in df.iterrows():\n",
    "\n",
    "    temp = row['participant_type']\n",
    "    #print(\"participant_type row %s\" % temp)\n",
    "\n",
    "    if isinstance(temp, float):\n",
    "        continue\n",
    "    #match = re.findall('\\d*::\\d*Subject-Suspect', temp)\n",
    "    match = re.findall('\\d*::Subject-Suspect', temp)\n",
    "\n",
    "    if len(match) == 0:\n",
    "        continue\n",
    "    elif 'Subject-Suspect' not in match[0]:\n",
    "        continue\n",
    "\n",
    "\n",
    "    for keyval in match:\n",
    "        if '::' in str(keyval):\n",
    "            #print(\"keyval: %s\" % keyval)\n",
    "            part_value = str(keyval).split('::')\n",
    "            part_index = part_value[0]\n",
    "\n",
    "            temp_age_group = row['participant_age_group']\n",
    "            regex = part_index + '::(.*)'\n",
    "            #print(\"regex: %s\" % regex)\n",
    "            #print(\"temp_age_group: %s\" % temp_age_group)\n",
    "            if not isinstance(temp_age_group, float):\n",
    "                match_age = re.findall(regex, temp_age_group)\n",
    "                #print(\"match_age: %s\" % match_age)\n",
    "                if len(match_age) != 0:\n",
    "                    if '||' in match_age[0]:\n",
    "                        element = match_age[0].split('||')\n",
    "                        if element[0] == '':\n",
    "                            #print(\"empty element: --%s--\" % element[0])\n",
    "                            pass\n",
    "                        df.at[i, 'suspect_age'] = element[0]\n",
    "                    else:\n",
    "                        df.at[i, 'suspect_age'] = match_age[0]\n",
    "                        #print(\"i = %d\" % i)\n",
    "                else:\n",
    "                    continue\n",
    "\n",
    "\n",
    "print(df['suspect_age'].value_counts())\n",
    "plt.clf()\n",
    "plt.hist(df['suspect_age'])\n",
    "plt.show()"
   ]
  },
  {
   "cell_type": "markdown",
   "id": "6470288d-99cb-4e5f-9abf-afcdadec14cd",
   "metadata": {},
   "source": [
    "## Overwhelming Majority of Suspects Were Male"
   ]
  },
  {
   "cell_type": "code",
   "execution_count": null,
   "id": "b05ca766-4f69-4eb2-9732-bf04ef0a5bc8",
   "metadata": {},
   "outputs": [],
   "source": [
    "\"\"\"\n",
    "'Gender Unknown' can mean two things:\n",
    "1: There was a suspect but the gender was not recorded in the dataset\n",
    "2: There was no suspect in the incident\n",
    "\"\"\"\n",
    "\n",
    "def has_numbers(inputString):\n",
    "    if inputString != 'Male' and inputString != 'Female':\n",
    "        #print(\"stop here\")\n",
    "        pass\n",
    "\n",
    "    #print(type(inputString))\n",
    "    for char in inputString:\n",
    "        result = char.isdigit()\n",
    "        if(result == True):\n",
    "            return result\n",
    "    #return any(char.isdigit() for char in inputString)\n",
    "    \n",
    "print(\"size of dataframe at start: %d\" % len(df))\n",
    "\n",
    "df['suspect_gender'] = ''\n",
    "df[['suspect_gender']] = df[['suspect_gender']].apply(str)\n",
    "# 0 = male\n",
    "# 1 = female\n",
    "\n",
    "# parse each column into readable form\n",
    "for i, row in df.iterrows():\n",
    "\n",
    "    temp = row['participant_type']\n",
    "    #print(\"participant_gender row %s\" % temp)\n",
    "\n",
    "    if isinstance(temp, float):\n",
    "        continue\n",
    "    #match = re.findall('\\d*::\\d*Subject-Suspect', temp)\n",
    "    match = re.findall('\\d*::Subject-Suspect', temp)\n",
    "\n",
    "    if len(match) == 0:\n",
    "        continue\n",
    "    elif 'Subject-Suspect' not in match[0]:\n",
    "        continue\n",
    "\n",
    "\n",
    "    for keyval in match:\n",
    "        if '::' in str(keyval):\n",
    "            #print(\"keyval: %s\" % keyval)\n",
    "            part_value = str(keyval).split('::')\n",
    "            part_index = part_value[0]\n",
    "\n",
    "            temp_age_group = row['participant_gender']\n",
    "            regex = part_index + '::(.*)'\n",
    "            #print(\"regex: %s\" % regex)\n",
    "            #print(\"temp_age_group: %s\" % temp_age_group)\n",
    "            if not isinstance(temp_age_group, float):\n",
    "                match_age = re.findall(regex, temp_age_group)\n",
    "                #print(\"match_age: %s\" % match_age)\n",
    "                if len(match_age) != 0:\n",
    "                    if '||' in match_age[0]:\n",
    "                        element = match_age[0].split('||')\n",
    "                        if element[0] == '':\n",
    "                            #print(\"empty element: --%s--\" % element[0])\n",
    "                            pass\n",
    "                        else:\n",
    "                            if has_numbers(element[0]):\n",
    "                                df.at[i, 'suspect_gender'] = 'Gender Unknown'\n",
    "                            else:\n",
    "                                df.at[i, 'suspect_gender'] = element[0]\n",
    "                    else:\n",
    "                        if match_age[0] == '':\n",
    "                            #print(\"do nothing\")\n",
    "                            pass\n",
    "                        else:\n",
    "                            if has_numbers(match_age[0]):\n",
    "                                df.at[i, 'suspect_gender'] = 'Gender Unknown'\n",
    "                            else:\n",
    "                                df.at[i, 'suspect_gender'] = match_age[0]\n",
    "                        #print(\"i = %d\" % i)\n",
    "                else:\n",
    "                    continue\n",
    "\n",
    "\n",
    "#print(df['suspect_gender'].value_counts())\n",
    "plt.clf()\n",
    "#print(\"number of rows before dropna(): %d\" % len(df))\n",
    "df_temp = df.dropna(subset=['suspect_gender'])\n",
    "#print(\"number of rows after dropna(): %d\" % len(df_temp))\n",
    "#df_temp['suspect_gender'] = df['suspect_gender'].replace('0', 'Unknown')\n",
    "\n",
    "for i,row in df_temp.iterrows():\n",
    "    result = row['suspect_gender']\n",
    "    if result != 'Female' and result != 'Male':\n",
    "        df_temp.at[i, 'suspect_gender'] = 'Gender Unknown'\n",
    "    #print(result)\n",
    "\n",
    "import seaborn as sns\n",
    "\n",
    "df = df_temp.copy()\n",
    "\n",
    "sns.countplot(x = df['suspect_gender'], data = df)\n",
    "plt.show()"
   ]
  },
  {
   "cell_type": "markdown",
   "id": "d9338045-ab7c-43ad-a44b-f724262fd6e9",
   "metadata": {},
   "source": [
    "## Incidents Per Adjusted Gross Income Level By ZipCode Overwhelmingly Skews To Lower Income Brackets\n",
    "\n",
    "Chart of number of incidents by the adjusted gross income per zipcode"
   ]
  },
  {
   "cell_type": "code",
   "execution_count": null,
   "id": "ddd55547-1257-4ad9-be78-3db082a2d965",
   "metadata": {
    "tags": []
   },
   "outputs": [],
   "source": [
    "df_agi_by_zip = pd.read_csv(\"s3://sagemaker-us-east-1-898900188658/income_by_zip/combined_csv-cleaned.csv\")\n",
    "df_inc_zip = pd.read_csv(\"s3://sagemaker-us-east-1-898900188658/zipcodes/incident_zips.csv\")"
   ]
  },
  {
   "cell_type": "code",
   "execution_count": null,
   "id": "1337e57f-4628-4b3e-a63e-16a67a36858b",
   "metadata": {
    "tags": []
   },
   "outputs": [],
   "source": [
    "df_merged = df_inc_zip.merge(df_agi_by_zip,on='zipcode')\n",
    "df_merged = df_merged[['incident_id', 'zipcode', 'agi', 'avg_agi', 'avg_income']]\n",
    "df = df.merge(df_merged, on='incident_id')"
   ]
  },
  {
   "cell_type": "code",
   "execution_count": null,
   "id": "4ff3a9b2-abb7-41eb-b4b1-555a06ef4817",
   "metadata": {
    "tags": []
   },
   "outputs": [],
   "source": [
    "import seaborn as sns\n",
    "\n",
    "plt.xlabel('Adjusted Gross Income By Zipcode (AGI)')\n",
    "plt.ylabel('Number of Incidents')\n",
    "sns.distplot(df['agi'],bins=100,kde=False)\n",
    "plt.show()"
   ]
  }
 ],
 "metadata": {
  "availableInstances": [
   {
    "_defaultOrder": 0,
    "_isFastLaunch": true,
    "category": "General purpose",
    "gpuNum": 0,
    "hideHardwareSpecs": false,
    "memoryGiB": 4,
    "name": "ml.t3.medium",
    "vcpuNum": 2
   },
   {
    "_defaultOrder": 1,
    "_isFastLaunch": false,
    "category": "General purpose",
    "gpuNum": 0,
    "hideHardwareSpecs": false,
    "memoryGiB": 8,
    "name": "ml.t3.large",
    "vcpuNum": 2
   },
   {
    "_defaultOrder": 2,
    "_isFastLaunch": false,
    "category": "General purpose",
    "gpuNum": 0,
    "hideHardwareSpecs": false,
    "memoryGiB": 16,
    "name": "ml.t3.xlarge",
    "vcpuNum": 4
   },
   {
    "_defaultOrder": 3,
    "_isFastLaunch": false,
    "category": "General purpose",
    "gpuNum": 0,
    "hideHardwareSpecs": false,
    "memoryGiB": 32,
    "name": "ml.t3.2xlarge",
    "vcpuNum": 8
   },
   {
    "_defaultOrder": 4,
    "_isFastLaunch": true,
    "category": "General purpose",
    "gpuNum": 0,
    "hideHardwareSpecs": false,
    "memoryGiB": 8,
    "name": "ml.m5.large",
    "vcpuNum": 2
   },
   {
    "_defaultOrder": 5,
    "_isFastLaunch": false,
    "category": "General purpose",
    "gpuNum": 0,
    "hideHardwareSpecs": false,
    "memoryGiB": 16,
    "name": "ml.m5.xlarge",
    "vcpuNum": 4
   },
   {
    "_defaultOrder": 6,
    "_isFastLaunch": false,
    "category": "General purpose",
    "gpuNum": 0,
    "hideHardwareSpecs": false,
    "memoryGiB": 32,
    "name": "ml.m5.2xlarge",
    "vcpuNum": 8
   },
   {
    "_defaultOrder": 7,
    "_isFastLaunch": false,
    "category": "General purpose",
    "gpuNum": 0,
    "hideHardwareSpecs": false,
    "memoryGiB": 64,
    "name": "ml.m5.4xlarge",
    "vcpuNum": 16
   },
   {
    "_defaultOrder": 8,
    "_isFastLaunch": false,
    "category": "General purpose",
    "gpuNum": 0,
    "hideHardwareSpecs": false,
    "memoryGiB": 128,
    "name": "ml.m5.8xlarge",
    "vcpuNum": 32
   },
   {
    "_defaultOrder": 9,
    "_isFastLaunch": false,
    "category": "General purpose",
    "gpuNum": 0,
    "hideHardwareSpecs": false,
    "memoryGiB": 192,
    "name": "ml.m5.12xlarge",
    "vcpuNum": 48
   },
   {
    "_defaultOrder": 10,
    "_isFastLaunch": false,
    "category": "General purpose",
    "gpuNum": 0,
    "hideHardwareSpecs": false,
    "memoryGiB": 256,
    "name": "ml.m5.16xlarge",
    "vcpuNum": 64
   },
   {
    "_defaultOrder": 11,
    "_isFastLaunch": false,
    "category": "General purpose",
    "gpuNum": 0,
    "hideHardwareSpecs": false,
    "memoryGiB": 384,
    "name": "ml.m5.24xlarge",
    "vcpuNum": 96
   },
   {
    "_defaultOrder": 12,
    "_isFastLaunch": false,
    "category": "General purpose",
    "gpuNum": 0,
    "hideHardwareSpecs": false,
    "memoryGiB": 8,
    "name": "ml.m5d.large",
    "vcpuNum": 2
   },
   {
    "_defaultOrder": 13,
    "_isFastLaunch": false,
    "category": "General purpose",
    "gpuNum": 0,
    "hideHardwareSpecs": false,
    "memoryGiB": 16,
    "name": "ml.m5d.xlarge",
    "vcpuNum": 4
   },
   {
    "_defaultOrder": 14,
    "_isFastLaunch": false,
    "category": "General purpose",
    "gpuNum": 0,
    "hideHardwareSpecs": false,
    "memoryGiB": 32,
    "name": "ml.m5d.2xlarge",
    "vcpuNum": 8
   },
   {
    "_defaultOrder": 15,
    "_isFastLaunch": false,
    "category": "General purpose",
    "gpuNum": 0,
    "hideHardwareSpecs": false,
    "memoryGiB": 64,
    "name": "ml.m5d.4xlarge",
    "vcpuNum": 16
   },
   {
    "_defaultOrder": 16,
    "_isFastLaunch": false,
    "category": "General purpose",
    "gpuNum": 0,
    "hideHardwareSpecs": false,
    "memoryGiB": 128,
    "name": "ml.m5d.8xlarge",
    "vcpuNum": 32
   },
   {
    "_defaultOrder": 17,
    "_isFastLaunch": false,
    "category": "General purpose",
    "gpuNum": 0,
    "hideHardwareSpecs": false,
    "memoryGiB": 192,
    "name": "ml.m5d.12xlarge",
    "vcpuNum": 48
   },
   {
    "_defaultOrder": 18,
    "_isFastLaunch": false,
    "category": "General purpose",
    "gpuNum": 0,
    "hideHardwareSpecs": false,
    "memoryGiB": 256,
    "name": "ml.m5d.16xlarge",
    "vcpuNum": 64
   },
   {
    "_defaultOrder": 19,
    "_isFastLaunch": false,
    "category": "General purpose",
    "gpuNum": 0,
    "hideHardwareSpecs": false,
    "memoryGiB": 384,
    "name": "ml.m5d.24xlarge",
    "vcpuNum": 96
   },
   {
    "_defaultOrder": 20,
    "_isFastLaunch": false,
    "category": "General purpose",
    "gpuNum": 0,
    "hideHardwareSpecs": true,
    "memoryGiB": 0,
    "name": "ml.geospatial.interactive",
    "supportedImageNames": [
     "sagemaker-geospatial-v1-0"
    ],
    "vcpuNum": 0
   },
   {
    "_defaultOrder": 21,
    "_isFastLaunch": true,
    "category": "Compute optimized",
    "gpuNum": 0,
    "hideHardwareSpecs": false,
    "memoryGiB": 4,
    "name": "ml.c5.large",
    "vcpuNum": 2
   },
   {
    "_defaultOrder": 22,
    "_isFastLaunch": false,
    "category": "Compute optimized",
    "gpuNum": 0,
    "hideHardwareSpecs": false,
    "memoryGiB": 8,
    "name": "ml.c5.xlarge",
    "vcpuNum": 4
   },
   {
    "_defaultOrder": 23,
    "_isFastLaunch": false,
    "category": "Compute optimized",
    "gpuNum": 0,
    "hideHardwareSpecs": false,
    "memoryGiB": 16,
    "name": "ml.c5.2xlarge",
    "vcpuNum": 8
   },
   {
    "_defaultOrder": 24,
    "_isFastLaunch": false,
    "category": "Compute optimized",
    "gpuNum": 0,
    "hideHardwareSpecs": false,
    "memoryGiB": 32,
    "name": "ml.c5.4xlarge",
    "vcpuNum": 16
   },
   {
    "_defaultOrder": 25,
    "_isFastLaunch": false,
    "category": "Compute optimized",
    "gpuNum": 0,
    "hideHardwareSpecs": false,
    "memoryGiB": 72,
    "name": "ml.c5.9xlarge",
    "vcpuNum": 36
   },
   {
    "_defaultOrder": 26,
    "_isFastLaunch": false,
    "category": "Compute optimized",
    "gpuNum": 0,
    "hideHardwareSpecs": false,
    "memoryGiB": 96,
    "name": "ml.c5.12xlarge",
    "vcpuNum": 48
   },
   {
    "_defaultOrder": 27,
    "_isFastLaunch": false,
    "category": "Compute optimized",
    "gpuNum": 0,
    "hideHardwareSpecs": false,
    "memoryGiB": 144,
    "name": "ml.c5.18xlarge",
    "vcpuNum": 72
   },
   {
    "_defaultOrder": 28,
    "_isFastLaunch": false,
    "category": "Compute optimized",
    "gpuNum": 0,
    "hideHardwareSpecs": false,
    "memoryGiB": 192,
    "name": "ml.c5.24xlarge",
    "vcpuNum": 96
   },
   {
    "_defaultOrder": 29,
    "_isFastLaunch": true,
    "category": "Accelerated computing",
    "gpuNum": 1,
    "hideHardwareSpecs": false,
    "memoryGiB": 16,
    "name": "ml.g4dn.xlarge",
    "vcpuNum": 4
   },
   {
    "_defaultOrder": 30,
    "_isFastLaunch": false,
    "category": "Accelerated computing",
    "gpuNum": 1,
    "hideHardwareSpecs": false,
    "memoryGiB": 32,
    "name": "ml.g4dn.2xlarge",
    "vcpuNum": 8
   },
   {
    "_defaultOrder": 31,
    "_isFastLaunch": false,
    "category": "Accelerated computing",
    "gpuNum": 1,
    "hideHardwareSpecs": false,
    "memoryGiB": 64,
    "name": "ml.g4dn.4xlarge",
    "vcpuNum": 16
   },
   {
    "_defaultOrder": 32,
    "_isFastLaunch": false,
    "category": "Accelerated computing",
    "gpuNum": 1,
    "hideHardwareSpecs": false,
    "memoryGiB": 128,
    "name": "ml.g4dn.8xlarge",
    "vcpuNum": 32
   },
   {
    "_defaultOrder": 33,
    "_isFastLaunch": false,
    "category": "Accelerated computing",
    "gpuNum": 4,
    "hideHardwareSpecs": false,
    "memoryGiB": 192,
    "name": "ml.g4dn.12xlarge",
    "vcpuNum": 48
   },
   {
    "_defaultOrder": 34,
    "_isFastLaunch": false,
    "category": "Accelerated computing",
    "gpuNum": 1,
    "hideHardwareSpecs": false,
    "memoryGiB": 256,
    "name": "ml.g4dn.16xlarge",
    "vcpuNum": 64
   },
   {
    "_defaultOrder": 35,
    "_isFastLaunch": false,
    "category": "Accelerated computing",
    "gpuNum": 1,
    "hideHardwareSpecs": false,
    "memoryGiB": 61,
    "name": "ml.p3.2xlarge",
    "vcpuNum": 8
   },
   {
    "_defaultOrder": 36,
    "_isFastLaunch": false,
    "category": "Accelerated computing",
    "gpuNum": 4,
    "hideHardwareSpecs": false,
    "memoryGiB": 244,
    "name": "ml.p3.8xlarge",
    "vcpuNum": 32
   },
   {
    "_defaultOrder": 37,
    "_isFastLaunch": false,
    "category": "Accelerated computing",
    "gpuNum": 8,
    "hideHardwareSpecs": false,
    "memoryGiB": 488,
    "name": "ml.p3.16xlarge",
    "vcpuNum": 64
   },
   {
    "_defaultOrder": 38,
    "_isFastLaunch": false,
    "category": "Accelerated computing",
    "gpuNum": 8,
    "hideHardwareSpecs": false,
    "memoryGiB": 768,
    "name": "ml.p3dn.24xlarge",
    "vcpuNum": 96
   },
   {
    "_defaultOrder": 39,
    "_isFastLaunch": false,
    "category": "Memory Optimized",
    "gpuNum": 0,
    "hideHardwareSpecs": false,
    "memoryGiB": 16,
    "name": "ml.r5.large",
    "vcpuNum": 2
   },
   {
    "_defaultOrder": 40,
    "_isFastLaunch": false,
    "category": "Memory Optimized",
    "gpuNum": 0,
    "hideHardwareSpecs": false,
    "memoryGiB": 32,
    "name": "ml.r5.xlarge",
    "vcpuNum": 4
   },
   {
    "_defaultOrder": 41,
    "_isFastLaunch": false,
    "category": "Memory Optimized",
    "gpuNum": 0,
    "hideHardwareSpecs": false,
    "memoryGiB": 64,
    "name": "ml.r5.2xlarge",
    "vcpuNum": 8
   },
   {
    "_defaultOrder": 42,
    "_isFastLaunch": false,
    "category": "Memory Optimized",
    "gpuNum": 0,
    "hideHardwareSpecs": false,
    "memoryGiB": 128,
    "name": "ml.r5.4xlarge",
    "vcpuNum": 16
   },
   {
    "_defaultOrder": 43,
    "_isFastLaunch": false,
    "category": "Memory Optimized",
    "gpuNum": 0,
    "hideHardwareSpecs": false,
    "memoryGiB": 256,
    "name": "ml.r5.8xlarge",
    "vcpuNum": 32
   },
   {
    "_defaultOrder": 44,
    "_isFastLaunch": false,
    "category": "Memory Optimized",
    "gpuNum": 0,
    "hideHardwareSpecs": false,
    "memoryGiB": 384,
    "name": "ml.r5.12xlarge",
    "vcpuNum": 48
   },
   {
    "_defaultOrder": 45,
    "_isFastLaunch": false,
    "category": "Memory Optimized",
    "gpuNum": 0,
    "hideHardwareSpecs": false,
    "memoryGiB": 512,
    "name": "ml.r5.16xlarge",
    "vcpuNum": 64
   },
   {
    "_defaultOrder": 46,
    "_isFastLaunch": false,
    "category": "Memory Optimized",
    "gpuNum": 0,
    "hideHardwareSpecs": false,
    "memoryGiB": 768,
    "name": "ml.r5.24xlarge",
    "vcpuNum": 96
   },
   {
    "_defaultOrder": 47,
    "_isFastLaunch": false,
    "category": "Accelerated computing",
    "gpuNum": 1,
    "hideHardwareSpecs": false,
    "memoryGiB": 16,
    "name": "ml.g5.xlarge",
    "vcpuNum": 4
   },
   {
    "_defaultOrder": 48,
    "_isFastLaunch": false,
    "category": "Accelerated computing",
    "gpuNum": 1,
    "hideHardwareSpecs": false,
    "memoryGiB": 32,
    "name": "ml.g5.2xlarge",
    "vcpuNum": 8
   },
   {
    "_defaultOrder": 49,
    "_isFastLaunch": false,
    "category": "Accelerated computing",
    "gpuNum": 1,
    "hideHardwareSpecs": false,
    "memoryGiB": 64,
    "name": "ml.g5.4xlarge",
    "vcpuNum": 16
   },
   {
    "_defaultOrder": 50,
    "_isFastLaunch": false,
    "category": "Accelerated computing",
    "gpuNum": 1,
    "hideHardwareSpecs": false,
    "memoryGiB": 128,
    "name": "ml.g5.8xlarge",
    "vcpuNum": 32
   },
   {
    "_defaultOrder": 51,
    "_isFastLaunch": false,
    "category": "Accelerated computing",
    "gpuNum": 1,
    "hideHardwareSpecs": false,
    "memoryGiB": 256,
    "name": "ml.g5.16xlarge",
    "vcpuNum": 64
   },
   {
    "_defaultOrder": 52,
    "_isFastLaunch": false,
    "category": "Accelerated computing",
    "gpuNum": 4,
    "hideHardwareSpecs": false,
    "memoryGiB": 192,
    "name": "ml.g5.12xlarge",
    "vcpuNum": 48
   },
   {
    "_defaultOrder": 53,
    "_isFastLaunch": false,
    "category": "Accelerated computing",
    "gpuNum": 4,
    "hideHardwareSpecs": false,
    "memoryGiB": 384,
    "name": "ml.g5.24xlarge",
    "vcpuNum": 96
   },
   {
    "_defaultOrder": 54,
    "_isFastLaunch": false,
    "category": "Accelerated computing",
    "gpuNum": 8,
    "hideHardwareSpecs": false,
    "memoryGiB": 768,
    "name": "ml.g5.48xlarge",
    "vcpuNum": 192
   }
  ],
  "instance_type": "ml.m5.large",
  "kernelspec": {
   "display_name": "Python 3 (ipykernel)",
   "language": "python",
   "name": "python3"
  },
  "language_info": {
   "codemirror_mode": {
    "name": "ipython",
    "version": 3
   },
   "file_extension": ".py",
   "mimetype": "text/x-python",
   "name": "python",
   "nbconvert_exporter": "python",
   "pygments_lexer": "ipython3",
   "version": "3.7.11"
  }
 },
 "nbformat": 4,
 "nbformat_minor": 5
}
