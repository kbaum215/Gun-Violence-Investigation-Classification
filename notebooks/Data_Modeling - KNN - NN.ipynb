{
 "cells": [
  {
   "cell_type": "code",
   "execution_count": 3,
   "id": "4df9f3d3-a5fe-4990-9a07-03af2c28f3b9",
   "metadata": {},
   "outputs": [],
   "source": [
    "import boto3\n",
    "\n",
    "region = boto3.Session().region_name\n",
    "session = boto3.session.Session()\n",
    "\n",
    "ec2 = boto3.Session().client(service_name=\"ec2\", region_name=region)\n",
    "sm = boto3.Session().client(service_name=\"sagemaker\", region_name=region)"
   ]
  },
  {
   "cell_type": "code",
   "execution_count": 22,
   "id": "fe81a7de-fc8a-4ed2-b4f0-6aa8bda96c4c",
   "metadata": {},
   "outputs": [],
   "source": [
    "import sagemaker\n",
    "import time\n",
    "from time import gmtime, strftime\n",
    "\n",
    "sagemaker_session = sagemaker.Session()\n",
    "role = sagemaker.get_execution_role()\n",
    "bucket = sagemaker_session.default_bucket()\n",
    "region = boto3.Session().region_name\n",
    "\n",
    "from botocore.config import Config\n",
    "\n",
    "config = Config(retries={\"max_attempts\": 10, \"mode\": \"adaptive\"})\n",
    "\n",
    "iam = boto3.client(\"iam\", config=config)"
   ]
  },
  {
   "cell_type": "code",
   "execution_count": 23,
   "id": "accbced0-49d3-45d6-b6ad-f7c4ec187755",
   "metadata": {},
   "outputs": [
    {
     "name": "stdout",
     "output_type": "stream",
     "text": [
      "Role name: LabRole\n"
     ]
    }
   ],
   "source": [
    "role_name = role.split(\"/\")[-1]\n",
    "\n",
    "print(\"Role name: {}\".format(role_name))"
   ]
  },
  {
   "cell_type": "code",
   "execution_count": 24,
   "id": "7880ec80-00f8-4449-a99a-c334b2a67701",
   "metadata": {
    "tags": []
   },
   "outputs": [
    {
     "name": "stdout",
     "output_type": "stream",
     "text": [
      "\u001b[33mWARNING: Running pip as the 'root' user can result in broken permissions and conflicting behaviour with the system package manager. It is recommended to use a virtual environment instead: https://pip.pypa.io/warnings/venv\u001b[0m\u001b[33m\n",
      "\u001b[0mRequirement already satisfied: descartes in /opt/conda/lib/python3.7/site-packages (1.1.0)\n",
      "Requirement already satisfied: matplotlib in /opt/conda/lib/python3.7/site-packages (from descartes) (3.1.3)\n",
      "Requirement already satisfied: cycler>=0.10 in /opt/conda/lib/python3.7/site-packages (from matplotlib->descartes) (0.10.0)\n",
      "Requirement already satisfied: kiwisolver>=1.0.1 in /opt/conda/lib/python3.7/site-packages (from matplotlib->descartes) (1.1.0)\n",
      "Requirement already satisfied: python-dateutil>=2.1 in /opt/conda/lib/python3.7/site-packages (from matplotlib->descartes) (2.8.2)\n",
      "Requirement already satisfied: pyparsing!=2.0.4,!=2.1.2,!=2.1.6,>=2.0.1 in /opt/conda/lib/python3.7/site-packages (from matplotlib->descartes) (2.4.6)\n",
      "Requirement already satisfied: numpy>=1.11 in /opt/conda/lib/python3.7/site-packages (from matplotlib->descartes) (1.18.5)\n",
      "Requirement already satisfied: six in /opt/conda/lib/python3.7/site-packages (from cycler>=0.10->matplotlib->descartes) (1.14.0)\n",
      "Requirement already satisfied: setuptools in /opt/conda/lib/python3.7/site-packages (from kiwisolver>=1.0.1->matplotlib->descartes) (59.3.0)\n",
      "\u001b[33mWARNING: Running pip as the 'root' user can result in broken permissions and conflicting behaviour with the system package manager. It is recommended to use a virtual environment instead: https://pip.pypa.io/warnings/venv\u001b[0m\u001b[33m\n",
      "\u001b[0mRequirement already satisfied: geopandas in /opt/conda/lib/python3.7/site-packages (0.10.2)\n",
      "Requirement already satisfied: fiona>=1.8 in /opt/conda/lib/python3.7/site-packages (from geopandas) (1.9.2)\n",
      "Requirement already satisfied: pyproj>=2.2.0 in /opt/conda/lib/python3.7/site-packages (from geopandas) (3.2.1)\n",
      "Requirement already satisfied: pandas>=0.25.0 in /opt/conda/lib/python3.7/site-packages (from geopandas) (1.3.5)\n",
      "Requirement already satisfied: shapely>=1.6 in /opt/conda/lib/python3.7/site-packages (from geopandas) (2.0.1)\n",
      "Requirement already satisfied: click~=8.0 in /opt/conda/lib/python3.7/site-packages (from fiona>=1.8->geopandas) (8.1.3)\n",
      "Requirement already satisfied: importlib-metadata in /opt/conda/lib/python3.7/site-packages (from fiona>=1.8->geopandas) (6.1.0)\n",
      "Requirement already satisfied: cligj>=0.5 in /opt/conda/lib/python3.7/site-packages (from fiona>=1.8->geopandas) (0.7.2)\n",
      "Requirement already satisfied: munch>=2.3.2 in /opt/conda/lib/python3.7/site-packages (from fiona>=1.8->geopandas) (2.5.0)\n",
      "Requirement already satisfied: attrs>=19.2.0 in /opt/conda/lib/python3.7/site-packages (from fiona>=1.8->geopandas) (22.2.0)\n",
      "Requirement already satisfied: click-plugins>=1.0 in /opt/conda/lib/python3.7/site-packages (from fiona>=1.8->geopandas) (1.1.1)\n",
      "Requirement already satisfied: certifi in /opt/conda/lib/python3.7/site-packages (from fiona>=1.8->geopandas) (2022.12.7)\n",
      "Requirement already satisfied: numpy>=1.17.3 in /opt/conda/lib/python3.7/site-packages (from pandas>=0.25.0->geopandas) (1.18.5)\n",
      "Requirement already satisfied: python-dateutil>=2.7.3 in /opt/conda/lib/python3.7/site-packages (from pandas>=0.25.0->geopandas) (2.8.2)\n",
      "Requirement already satisfied: pytz>=2017.3 in /opt/conda/lib/python3.7/site-packages (from pandas>=0.25.0->geopandas) (2019.3)\n",
      "Requirement already satisfied: six in /opt/conda/lib/python3.7/site-packages (from munch>=2.3.2->fiona>=1.8->geopandas) (1.14.0)\n",
      "Requirement already satisfied: typing-extensions>=3.6.4 in /opt/conda/lib/python3.7/site-packages (from importlib-metadata->fiona>=1.8->geopandas) (4.5.0)\n",
      "Requirement already satisfied: zipp>=0.5 in /opt/conda/lib/python3.7/site-packages (from importlib-metadata->fiona>=1.8->geopandas) (3.15.0)\n",
      "\u001b[33mWARNING: Running pip as the 'root' user can result in broken permissions and conflicting behaviour with the system package manager. It is recommended to use a virtual environment instead: https://pip.pypa.io/warnings/venv\u001b[0m\u001b[33m\n",
      "\u001b[0mRequirement already satisfied: wordcloud in /opt/conda/lib/python3.7/site-packages (1.8.2.2)\n",
      "Requirement already satisfied: matplotlib in /opt/conda/lib/python3.7/site-packages (from wordcloud) (3.1.3)\n",
      "Requirement already satisfied: pillow in /opt/conda/lib/python3.7/site-packages (from wordcloud) (9.5.0)\n",
      "Requirement already satisfied: numpy>=1.6.1 in /opt/conda/lib/python3.7/site-packages (from wordcloud) (1.18.5)\n",
      "Requirement already satisfied: pyparsing!=2.0.4,!=2.1.2,!=2.1.6,>=2.0.1 in /opt/conda/lib/python3.7/site-packages (from matplotlib->wordcloud) (2.4.6)\n",
      "Requirement already satisfied: python-dateutil>=2.1 in /opt/conda/lib/python3.7/site-packages (from matplotlib->wordcloud) (2.8.2)\n",
      "Requirement already satisfied: cycler>=0.10 in /opt/conda/lib/python3.7/site-packages (from matplotlib->wordcloud) (0.10.0)\n",
      "Requirement already satisfied: kiwisolver>=1.0.1 in /opt/conda/lib/python3.7/site-packages (from matplotlib->wordcloud) (1.1.0)\n",
      "Requirement already satisfied: six in /opt/conda/lib/python3.7/site-packages (from cycler>=0.10->matplotlib->wordcloud) (1.14.0)\n",
      "Requirement already satisfied: setuptools in /opt/conda/lib/python3.7/site-packages (from kiwisolver>=1.0.1->matplotlib->wordcloud) (59.3.0)\n",
      "\u001b[33mWARNING: Running pip as the 'root' user can result in broken permissions and conflicting behaviour with the system package manager. It is recommended to use a virtual environment instead: https://pip.pypa.io/warnings/venv\u001b[0m\u001b[33m\n",
      "\u001b[0m"
     ]
    }
   ],
   "source": [
    "import pandas as pd\n",
    "import numpy as np\n",
    "import matplotlib.pyplot as plt\n",
    "!pip install --disable-pip-version-check -q PyAthena==2.1.0\n",
    "! pip install descartes\n",
    "! pip install geopandas\n",
    "!pip install wordcloud\n",
    "from pyathena import connect\n",
    "import geopandas as gpd\n",
    "from tqdm import tqdm  \n",
    "from geopandas import GeoDataFrame, points_from_xy\n",
    "from wordcloud import WordCloud"
   ]
  },
  {
   "cell_type": "code",
   "execution_count": 25,
   "id": "1bf1a35d-ee36-4476-b429-d4e9bb144515",
   "metadata": {},
   "outputs": [
    {
     "data": {
      "text/plain": [
       "'sagemaker-us-east-1-898900188658'"
      ]
     },
     "execution_count": 25,
     "metadata": {},
     "output_type": "execute_result"
    }
   ],
   "source": [
    "sess = sagemaker.Session()\n",
    "bucket = '{}'.format(bucket)\n",
    "role = sagemaker.get_execution_role()\n",
    "region = boto3.Session().region_name\n",
    "bucket"
   ]
  },
  {
   "cell_type": "code",
   "execution_count": 26,
   "id": "4dd63ed3-0962-4e30-91b9-32516573dd01",
   "metadata": {
    "tags": []
   },
   "outputs": [],
   "source": [
    "# Assign database name\n",
    "database_name = \"ads508\""
   ]
  },
  {
   "cell_type": "code",
   "execution_count": 27,
   "id": "3aab204d-0b15-49ed-9e56-0f48e06a2942",
   "metadata": {},
   "outputs": [],
   "source": [
    "# Set S3 staging directory -- this is a temporary directory used for Athena queries\n",
    "s3_staging_dir = \"s3://{0}/athena/staging\".format(bucket)"
   ]
  },
  {
   "cell_type": "code",
   "execution_count": 28,
   "id": "03803e08-ae58-432b-97b1-5487c6a931c3",
   "metadata": {},
   "outputs": [],
   "source": [
    "conn = connect(region_name=region, s3_staging_dir=s3_staging_dir)"
   ]
  },
  {
   "cell_type": "code",
   "execution_count": 29,
   "id": "35c123d4-7c06-4c0e-a8eb-58ecb0ee661f",
   "metadata": {},
   "outputs": [
    {
     "data": {
      "text/html": [
       "<div>\n",
       "<style scoped>\n",
       "    .dataframe tbody tr th:only-of-type {\n",
       "        vertical-align: middle;\n",
       "    }\n",
       "\n",
       "    .dataframe tbody tr th {\n",
       "        vertical-align: top;\n",
       "    }\n",
       "\n",
       "    .dataframe thead th {\n",
       "        text-align: right;\n",
       "    }\n",
       "</style>\n",
       "<table border=\"1\" class=\"dataframe\">\n",
       "  <thead>\n",
       "    <tr style=\"text-align: right;\">\n",
       "      <th></th>\n",
       "    </tr>\n",
       "  </thead>\n",
       "  <tbody>\n",
       "  </tbody>\n",
       "</table>\n",
       "</div>"
      ],
      "text/plain": [
       "Empty DataFrame\n",
       "Columns: []\n",
       "Index: []"
      ]
     },
     "execution_count": 29,
     "metadata": {},
     "output_type": "execute_result"
    }
   ],
   "source": [
    "# Create new database 'ads508'\n",
    "statement = \"CREATE DATABASE IF NOT EXISTS {}\".format(database_name)\n",
    "create_db = pd.read_sql(statement, conn)\n",
    "create_db"
   ]
  },
  {
   "cell_type": "code",
   "execution_count": 30,
   "id": "a72aba22-8a5a-4e12-ab65-0b5827f5683d",
   "metadata": {},
   "outputs": [
    {
     "data": {
      "text/html": [
       "<div>\n",
       "<style scoped>\n",
       "    .dataframe tbody tr th:only-of-type {\n",
       "        vertical-align: middle;\n",
       "    }\n",
       "\n",
       "    .dataframe tbody tr th {\n",
       "        vertical-align: top;\n",
       "    }\n",
       "\n",
       "    .dataframe thead th {\n",
       "        text-align: right;\n",
       "    }\n",
       "</style>\n",
       "<table border=\"1\" class=\"dataframe\">\n",
       "  <thead>\n",
       "    <tr style=\"text-align: right;\">\n",
       "      <th></th>\n",
       "      <th>database_name</th>\n",
       "    </tr>\n",
       "  </thead>\n",
       "  <tbody>\n",
       "    <tr>\n",
       "      <th>0</th>\n",
       "      <td>ads508</td>\n",
       "    </tr>\n",
       "    <tr>\n",
       "      <th>1</th>\n",
       "      <td>default</td>\n",
       "    </tr>\n",
       "    <tr>\n",
       "      <th>2</th>\n",
       "      <td>dsoaws</td>\n",
       "    </tr>\n",
       "    <tr>\n",
       "      <th>3</th>\n",
       "      <td>sagemaker_featurestore</td>\n",
       "    </tr>\n",
       "  </tbody>\n",
       "</table>\n",
       "</div>"
      ],
      "text/plain": [
       "            database_name\n",
       "0                  ads508\n",
       "1                 default\n",
       "2                  dsoaws\n",
       "3  sagemaker_featurestore"
      ]
     },
     "execution_count": 30,
     "metadata": {},
     "output_type": "execute_result"
    }
   ],
   "source": [
    "# Verify database creation\n",
    "q = \"SHOW DATABASES\"\n",
    "db_show = pd.read_sql(q, conn)\n",
    "db_show"
   ]
  },
  {
   "cell_type": "code",
   "execution_count": 31,
   "id": "0807c6ce-9de7-470d-bb11-14cc83bee92d",
   "metadata": {},
   "outputs": [
    {
     "name": "stdout",
     "output_type": "stream",
     "text": [
      "s3://sagemaker-us-east-1-898900188658/modeling_data\n"
     ]
    }
   ],
   "source": [
    "# Set Athena parameters\n",
    "database_name = \"ads508\"\n",
    "model_table_name_csv = \"modeling\"\n",
    "model_s3_path = \"s3://{}/modeling_data\".format(bucket)\n",
    "print(model_s3_path)"
   ]
  },
  {
   "cell_type": "code",
   "execution_count": 32,
   "id": "3213323e-5c83-47d1-b964-217a10e1af7e",
   "metadata": {
    "tags": []
   },
   "outputs": [
    {
     "data": {
      "text/html": [
       "<div>\n",
       "<style scoped>\n",
       "    .dataframe tbody tr th:only-of-type {\n",
       "        vertical-align: middle;\n",
       "    }\n",
       "\n",
       "    .dataframe tbody tr th {\n",
       "        vertical-align: top;\n",
       "    }\n",
       "\n",
       "    .dataframe thead th {\n",
       "        text-align: right;\n",
       "    }\n",
       "</style>\n",
       "<table border=\"1\" class=\"dataframe\">\n",
       "  <thead>\n",
       "    <tr style=\"text-align: right;\">\n",
       "      <th></th>\n",
       "      <th>latitude</th>\n",
       "      <th>longitude</th>\n",
       "      <th>n_guns_involved</th>\n",
       "      <th>target_class</th>\n",
       "      <th>group_Democrat</th>\n",
       "      <th>suspect_age</th>\n",
       "      <th>ohe_drug</th>\n",
       "      <th>ohe_officer</th>\n",
       "      <th>ohe_gang</th>\n",
       "      <th>ohe_accident</th>\n",
       "      <th>...</th>\n",
       "      <th>suspect_age_group_Adult</th>\n",
       "      <th>suspect_age_group_Senior</th>\n",
       "      <th>region_East South Central</th>\n",
       "      <th>region_Middle Atlantic</th>\n",
       "      <th>region_Mountain</th>\n",
       "      <th>region_New England</th>\n",
       "      <th>region_Pacific</th>\n",
       "      <th>region_South Atlantic</th>\n",
       "      <th>region_West North Central</th>\n",
       "      <th>region_West South Central</th>\n",
       "    </tr>\n",
       "  </thead>\n",
       "  <tbody>\n",
       "    <tr>\n",
       "      <th>0</th>\n",
       "      <td>40.3467</td>\n",
       "      <td>-79.8559</td>\n",
       "      <td>1.0</td>\n",
       "      <td>1</td>\n",
       "      <td>1</td>\n",
       "      <td>Adult 18+</td>\n",
       "      <td>0</td>\n",
       "      <td>0</td>\n",
       "      <td>0</td>\n",
       "      <td>0</td>\n",
       "      <td>...</td>\n",
       "      <td>0</td>\n",
       "      <td>0</td>\n",
       "      <td>0</td>\n",
       "      <td>1</td>\n",
       "      <td>0</td>\n",
       "      <td>0</td>\n",
       "      <td>0</td>\n",
       "      <td>0</td>\n",
       "      <td>0</td>\n",
       "      <td>0</td>\n",
       "    </tr>\n",
       "    <tr>\n",
       "      <th>1</th>\n",
       "      <td>40.4555</td>\n",
       "      <td>-79.8970</td>\n",
       "      <td>1.0</td>\n",
       "      <td>1</td>\n",
       "      <td>1</td>\n",
       "      <td>NaN</td>\n",
       "      <td>0</td>\n",
       "      <td>0</td>\n",
       "      <td>0</td>\n",
       "      <td>1</td>\n",
       "      <td>...</td>\n",
       "      <td>0</td>\n",
       "      <td>0</td>\n",
       "      <td>0</td>\n",
       "      <td>1</td>\n",
       "      <td>0</td>\n",
       "      <td>0</td>\n",
       "      <td>0</td>\n",
       "      <td>0</td>\n",
       "      <td>0</td>\n",
       "      <td>0</td>\n",
       "    </tr>\n",
       "    <tr>\n",
       "      <th>2</th>\n",
       "      <td>33.9090</td>\n",
       "      <td>-118.3330</td>\n",
       "      <td>1.0</td>\n",
       "      <td>1</td>\n",
       "      <td>1</td>\n",
       "      <td>NaN</td>\n",
       "      <td>0</td>\n",
       "      <td>0</td>\n",
       "      <td>1</td>\n",
       "      <td>1</td>\n",
       "      <td>...</td>\n",
       "      <td>0</td>\n",
       "      <td>0</td>\n",
       "      <td>0</td>\n",
       "      <td>0</td>\n",
       "      <td>0</td>\n",
       "      <td>0</td>\n",
       "      <td>1</td>\n",
       "      <td>0</td>\n",
       "      <td>0</td>\n",
       "      <td>0</td>\n",
       "    </tr>\n",
       "    <tr>\n",
       "      <th>3</th>\n",
       "      <td>33.8447</td>\n",
       "      <td>-118.3070</td>\n",
       "      <td>1.0</td>\n",
       "      <td>1</td>\n",
       "      <td>1</td>\n",
       "      <td>Adult 18+</td>\n",
       "      <td>0</td>\n",
       "      <td>0</td>\n",
       "      <td>0</td>\n",
       "      <td>1</td>\n",
       "      <td>...</td>\n",
       "      <td>0</td>\n",
       "      <td>0</td>\n",
       "      <td>0</td>\n",
       "      <td>0</td>\n",
       "      <td>0</td>\n",
       "      <td>0</td>\n",
       "      <td>1</td>\n",
       "      <td>0</td>\n",
       "      <td>0</td>\n",
       "      <td>0</td>\n",
       "    </tr>\n",
       "    <tr>\n",
       "      <th>4</th>\n",
       "      <td>33.9454</td>\n",
       "      <td>-118.3990</td>\n",
       "      <td>1.0</td>\n",
       "      <td>1</td>\n",
       "      <td>1</td>\n",
       "      <td>NaN</td>\n",
       "      <td>0</td>\n",
       "      <td>0</td>\n",
       "      <td>0</td>\n",
       "      <td>1</td>\n",
       "      <td>...</td>\n",
       "      <td>0</td>\n",
       "      <td>0</td>\n",
       "      <td>0</td>\n",
       "      <td>0</td>\n",
       "      <td>0</td>\n",
       "      <td>0</td>\n",
       "      <td>1</td>\n",
       "      <td>0</td>\n",
       "      <td>0</td>\n",
       "      <td>0</td>\n",
       "    </tr>\n",
       "  </tbody>\n",
       "</table>\n",
       "<p>5 rows × 41 columns</p>\n",
       "</div>"
      ],
      "text/plain": [
       "   latitude  longitude  n_guns_involved  target_class  group_Democrat  \\\n",
       "0   40.3467   -79.8559              1.0             1               1   \n",
       "1   40.4555   -79.8970              1.0             1               1   \n",
       "2   33.9090  -118.3330              1.0             1               1   \n",
       "3   33.8447  -118.3070              1.0             1               1   \n",
       "4   33.9454  -118.3990              1.0             1               1   \n",
       "\n",
       "  suspect_age  ohe_drug  ohe_officer  ohe_gang  ohe_accident  ...  \\\n",
       "0   Adult 18+         0            0         0             0  ...   \n",
       "1         NaN         0            0         0             1  ...   \n",
       "2         NaN         0            0         1             1  ...   \n",
       "3   Adult 18+         0            0         0             1  ...   \n",
       "4         NaN         0            0         0             1  ...   \n",
       "\n",
       "   suspect_age_group_Adult  suspect_age_group_Senior  \\\n",
       "0                        0                         0   \n",
       "1                        0                         0   \n",
       "2                        0                         0   \n",
       "3                        0                         0   \n",
       "4                        0                         0   \n",
       "\n",
       "   region_East South Central  region_Middle Atlantic  region_Mountain  \\\n",
       "0                          0                       1                0   \n",
       "1                          0                       1                0   \n",
       "2                          0                       0                0   \n",
       "3                          0                       0                0   \n",
       "4                          0                       0                0   \n",
       "\n",
       "   region_New England  region_Pacific  region_South Atlantic  \\\n",
       "0                   0               0                      0   \n",
       "1                   0               0                      0   \n",
       "2                   0               1                      0   \n",
       "3                   0               1                      0   \n",
       "4                   0               1                      0   \n",
       "\n",
       "   region_West North Central  region_West South Central  \n",
       "0                          0                          0  \n",
       "1                          0                          0  \n",
       "2                          0                          0  \n",
       "3                          0                          0  \n",
       "4                          0                          0  \n",
       "\n",
       "[5 rows x 41 columns]"
      ]
     },
     "execution_count": 32,
     "metadata": {},
     "output_type": "execute_result"
    }
   ],
   "source": [
    "df = pd.read_csv(\"{}/data_for_modeling.csv\".format(model_s3_path))\n",
    "df = df.drop(columns=['Unnamed: 0'])\n",
    "df.head()"
   ]
  },
  {
   "cell_type": "code",
   "execution_count": 33,
   "id": "b9950e81-98d5-4a97-8d49-524b29f36041",
   "metadata": {},
   "outputs": [
    {
     "name": "stdout",
     "output_type": "stream",
     "text": [
      "220346\n",
      "111278\n"
     ]
    }
   ],
   "source": [
    "print(len(df))\n",
    "df = df.dropna()\n",
    "print(len(df))"
   ]
  },
  {
   "cell_type": "code",
   "execution_count": 34,
   "id": "2d61b744-9d52-4608-9d3a-4f43d2ba81b7",
   "metadata": {
    "tags": []
   },
   "outputs": [],
   "source": [
    "# statement = \"\"\"CREATE EXTERNAL TABLE IF NOT EXISTS {}.{}(\n",
    "#  latitude double,\n",
    "#  longitude double,\n",
    "#  n_guns_involved double,\n",
    "#  target_class int,\n",
    "#  group_Democrat int,\n",
    "#  suspect_age string,\n",
    "#  ohe_drug int,\n",
    "#  ohe_officer int,\n",
    "#  ohe_gang int,\n",
    "#  ohe_accident int,\n",
    "#  ohe_murder int,\n",
    "#  ohe_suicide int,\n",
    "#  ohe_arrest int,\n",
    "#  ohe_brandishing int,\n",
    "#  ohe_felon int,\n",
    "#  ohe_drive int,\n",
    "#  ohe_home_invasion int,\n",
    "#  ohe_stolen int,\n",
    "#  ohe_misc int,\n",
    "#  ohe_drugs int,\n",
    "#  ohe_car_jacking int,\n",
    "#  ohe_defensive int,\n",
    "#  ohe_robbery int,\n",
    "#  ohe_family int,\n",
    "#  ohe_institution int,\n",
    "#  ohe_child int,\n",
    "#  ohe_mass int,\n",
    "#  ohe_domestic int,\n",
    "#  suspect_age_group_Teen int,\n",
    "#  suspect_age_group_Young_Adult int,\n",
    "#  suspect_age_group_Mid-Adult int,\n",
    "#  suspect_age_group_Adult int,\n",
    "#  suspect_age_group_Senior int,\n",
    "#  region_East_South_Central int,\n",
    "#  region_Middle_Atlantic int,\n",
    "#  region_Mountain int,\n",
    "#  region_New_England int,\n",
    "#  region_Pacific int,\n",
    "#  region_South_Atlantic int,\n",
    "#  region_West_North_Central int,\n",
    "#  region_West_South_Central int\n",
    " \n",
    "# ) ROW FORMAT DELIMITED FIELDS TERMINATED BY ',' LINES TERMINATED BY '\\\\n' LOCATION '{}'\n",
    "# TBLPROPERTIES ('skip.header.line.count'='1')\"\"\".format(\n",
    "#     database_name, model_table_name_csv, model_s3_path\n",
    "# )\n",
    "\n",
    "# create_table = pd.read_sql(statement, conn)\n",
    "# create_table"
   ]
  },
  {
   "cell_type": "markdown",
   "id": "e93c146f-3729-4e2a-9b4f-a62fc7c4adaa",
   "metadata": {},
   "source": [
    "Displaying the previous count of the target class variable. \n",
    "We find that the class of 1 - which indicates someone was either injured\n",
    "or killed - is the majority class."
   ]
  },
  {
   "cell_type": "code",
   "execution_count": 35,
   "id": "61c5855b-ce3d-4008-b736-b1f1f848ebae",
   "metadata": {
    "tags": []
   },
   "outputs": [
    {
     "name": "stdout",
     "output_type": "stream",
     "text": [
      "0    55953\n",
      "1    55325\n",
      "Name: target_class, dtype: int64\n"
     ]
    }
   ],
   "source": [
    "# count the number of 0s and 1s in the 'outcome' column\n",
    "value_counts = df['target_class'].value_counts()\n",
    "\n",
    "# print the results\n",
    "print(value_counts)"
   ]
  },
  {
   "cell_type": "markdown",
   "id": "1c8ffeab-4406-4be7-8f40-658be9253ac5",
   "metadata": {},
   "source": [
    "# Undersampling the majority target_class of '1' "
   ]
  },
  {
   "cell_type": "code",
   "execution_count": 36,
   "id": "a6cb507a-3613-4df7-93f6-89e946e3898d",
   "metadata": {
    "tags": []
   },
   "outputs": [],
   "source": [
    "df_grouped_by = df.groupby([\"target_class\"])\n",
    "df_balanced = df_grouped_by.apply(\n",
    "    lambda x: x.sample(df_grouped_by.size().min())\\\n",
    "    .reset_index(drop=True)\n",
    ")"
   ]
  },
  {
   "cell_type": "code",
   "execution_count": 37,
   "id": "a85ea71d-406b-4f79-ac67-cb54fd21cda3",
   "metadata": {
    "tags": []
   },
   "outputs": [
    {
     "name": "stdout",
     "output_type": "stream",
     "text": [
      "0    55325\n",
      "1    55325\n",
      "Name: target_class, dtype: int64\n"
     ]
    }
   ],
   "source": [
    "# showing the balanced value counts of the newly created dataframe\n",
    "value_counts_balanced = df_balanced['target_class'].value_counts()\n",
    "\n",
    "# print the results\n",
    "print(value_counts_balanced)"
   ]
  },
  {
   "cell_type": "code",
   "execution_count": 38,
   "id": "cfe9f4fc-2d74-4f76-8c48-b59628bec972",
   "metadata": {
    "tags": []
   },
   "outputs": [],
   "source": [
    "from sklearn.model_selection import train_test_split\n",
    "\n",
    "# Split all data into 90% train and 10% holdout\n",
    "df_train, df_holdout = train_test_split(\n",
    "        df_balanced,\n",
    "        test_size=0.10,\n",
    "    stratify=df_balanced['target_class'])\n",
    "\n",
    "# Split holdout data into 50% validation and 50% test\n",
    "df_validation, df_test = train_test_split(\n",
    "        df_holdout,\n",
    "        test_size=0.50,\n",
    "        stratify=df_holdout['target_class'])"
   ]
  },
  {
   "cell_type": "code",
   "execution_count": 41,
   "id": "b92fe3d8-3d08-4f4d-82af-964a355c49fe",
   "metadata": {
    "tags": []
   },
   "outputs": [
    {
     "name": "stdout",
     "output_type": "stream",
     "text": [
      "Index(['latitude', 'longitude', 'n_guns_involved', 'group_Democrat',\n",
      "       'suspect_age', 'ohe_drug', 'ohe_officer', 'ohe_gang', 'ohe_accident',\n",
      "       'ohe_murder', 'ohe_suicide', 'ohe_arrest', 'ohe_brandishing',\n",
      "       'ohe_felon', 'ohe_drive', 'ohe_home_invasion', 'ohe_stolen', 'ohe_misc',\n",
      "       'ohe_drugs', 'ohe_car_jacking', 'ohe_defensive', 'ohe_robbery',\n",
      "       'ohe_family', 'ohe_institution', 'ohe_child', 'ohe_mass',\n",
      "       'ohe_domestic', 'suspect_age_group_Teen',\n",
      "       'suspect_age_group_Young Adult', 'suspect_age_group_Mid-Adult',\n",
      "       'suspect_age_group_Adult', 'suspect_age_group_Senior',\n",
      "       'region_East South Central', 'region_Middle Atlantic',\n",
      "       'region_Mountain', 'region_New England', 'region_Pacific',\n",
      "       'region_South Atlantic', 'region_West North Central',\n",
      "       'region_West South Central'],\n",
      "      dtype='object')\n"
     ]
    }
   ],
   "source": [
    "print(df_test.columns)"
   ]
  },
  {
   "cell_type": "code",
   "execution_count": 42,
   "id": "6d4d9ec8-2f54-4a86-a0a8-288525515c0e",
   "metadata": {
    "tags": []
   },
   "outputs": [
    {
     "name": "stdout",
     "output_type": "stream",
     "text": [
      "Index(['latitude', 'longitude', 'n_guns_involved', 'target_class',\n",
      "       'group_Democrat', 'suspect_age', 'ohe_drug', 'ohe_officer', 'ohe_gang',\n",
      "       'ohe_accident', 'ohe_murder', 'ohe_suicide', 'ohe_arrest',\n",
      "       'ohe_brandishing', 'ohe_felon', 'ohe_drive', 'ohe_home_invasion',\n",
      "       'ohe_stolen', 'ohe_misc', 'ohe_drugs', 'ohe_car_jacking',\n",
      "       'ohe_defensive', 'ohe_robbery', 'ohe_family', 'ohe_institution',\n",
      "       'ohe_child', 'ohe_mass', 'ohe_domestic', 'suspect_age_group_Teen',\n",
      "       'suspect_age_group_Young Adult', 'suspect_age_group_Mid-Adult',\n",
      "       'suspect_age_group_Adult', 'suspect_age_group_Senior',\n",
      "       'region_East South Central', 'region_Middle Atlantic',\n",
      "       'region_Mountain', 'region_New England', 'region_Pacific',\n",
      "       'region_South Atlantic', 'region_West North Central',\n",
      "       'region_West South Central'],\n",
      "      dtype='object')\n"
     ]
    }
   ],
   "source": [
    "print(df_train.columns)"
   ]
  },
  {
   "cell_type": "code",
   "execution_count": 43,
   "id": "edb17dff-bcb7-4043-8a63-17492ff8db7d",
   "metadata": {
    "tags": []
   },
   "outputs": [],
   "source": [
    "# Transfer Training Data to S3 bucket - exclude header and index\n",
    "import io\n",
    "\n",
    "s3_client = boto3.client(\"s3\")\n",
    "BUCKET='sagemaker-us-east-1-898900188658'\n",
    "KEY='knn/train/train.csv'\n",
    "#response = s3_client.get_object(Bucket=BUCKET, Key=KEY)\n",
    "\n",
    "df_y_train = df_train['target_class']\n",
    "df_features = df_train.drop(columns=['target_class'])\n",
    "\n",
    "#df_y_test = df_test['target_class']\n",
    "#df_test = df_test.drop(columns=['target_class'])\n",
    "\n",
    "with io.StringIO() as csv_buffer:\n",
    "    df_train.to_csv(csv_buffer, index=False, header=False)\n",
    "\n",
    "    response = s3_client.put_object(\n",
    "        Bucket=BUCKET, Key=KEY, Body=csv_buffer.getvalue()\n",
    "    )"
   ]
  },
  {
   "cell_type": "markdown",
   "id": "53cc85a2-20a6-4c73-8f0f-a25b189d5d06",
   "metadata": {},
   "source": [
    "## Neural Network"
   ]
  },
  {
   "cell_type": "code",
   "execution_count": 44,
   "id": "0c63e3ea-936c-4eb6-ba60-f8a2c4ae5714",
   "metadata": {
    "tags": []
   },
   "outputs": [],
   "source": [
    "from sklearn.model_selection import train_test_split\n",
    "from sklearn.model_selection import GridSearchCV\n",
    "from sklearn.neural_network import MLPClassifier\n",
    "from sklearn.metrics import confusion_matrix, classification_report, roc_curve, roc_auc_score, plot_confusion_matrix"
   ]
  },
  {
   "cell_type": "code",
   "execution_count": 45,
   "id": "9e46d35c-6d19-4a52-bc5c-87680d82288e",
   "metadata": {
    "tags": []
   },
   "outputs": [
    {
     "name": "stdout",
     "output_type": "stream",
     "text": [
      "(99585, 40)\n",
      "(99585,)\n"
     ]
    }
   ],
   "source": [
    "print(df_features.shape)\n",
    "print(df_y_train.shape)\n",
    "#print(df_features.columns)\n",
    "#print(df_features.head(5))\n",
    "df_features = df_features.drop(columns=['suspect_age'])"
   ]
  },
  {
   "cell_type": "code",
   "execution_count": 46,
   "id": "42b67a73-c61b-4a26-b225-3e4c0cca76e4",
   "metadata": {
    "tags": []
   },
   "outputs": [
    {
     "data": {
      "text/plain": [
       "GridSearchCV(cv=None, error_score=nan,\n",
       "             estimator=MLPClassifier(activation='relu', alpha=0.0001,\n",
       "                                     batch_size='auto', beta_1=0.9,\n",
       "                                     beta_2=0.999, early_stopping=False,\n",
       "                                     epsilon=1e-08, hidden_layer_sizes=(100,),\n",
       "                                     learning_rate='constant',\n",
       "                                     learning_rate_init=0.001, max_fun=15000,\n",
       "                                     max_iter=200, momentum=0.9,\n",
       "                                     n_iter_no_change=10,\n",
       "                                     nesterovs_momentum=True, power_t=0.5,\n",
       "                                     random_state=None, shuffle=True,\n",
       "                                     solver='adam', tol=0.0001,\n",
       "                                     validation_fraction=0.1, verbose=False,\n",
       "                                     warm_start=False),\n",
       "             iid='deprecated', n_jobs=None,\n",
       "             param_grid={'activation': ('relu', 'tanh'),\n",
       "                         'hidden_layer_sizes': [2, 4], 'max_iter': [200, 400],\n",
       "                         'solver': ('adam', 'sgd')},\n",
       "             pre_dispatch='2*n_jobs', refit=True, return_train_score=False,\n",
       "             scoring=None, verbose=0)"
      ]
     },
     "execution_count": 46,
     "metadata": {},
     "output_type": "execute_result"
    }
   ],
   "source": [
    "parameters = {'solver':('adam', 'sgd'), 'activation':('relu', 'tanh'), \n",
    "              'hidden_layer_sizes':[2, 4], 'max_iter': [200, 400]} \n",
    "nn = GridSearchCV(MLPClassifier(), parameters) #finetune t find best parameters\n",
    "nn.fit(df_features, df_y_train)"
   ]
  },
  {
   "cell_type": "code",
   "execution_count": 47,
   "id": "f0cedf3c-0a8a-4c3c-b2bc-19d635ba0601",
   "metadata": {},
   "outputs": [
    {
     "data": {
      "text/plain": [
       "{'activation': 'tanh',\n",
       " 'hidden_layer_sizes': 4,\n",
       " 'max_iter': 200,\n",
       " 'solver': 'adam'}"
      ]
     },
     "execution_count": 47,
     "metadata": {},
     "output_type": "execute_result"
    }
   ],
   "source": [
    "nn.best_params_ #best parameters"
   ]
  },
  {
   "cell_type": "code",
   "execution_count": 48,
   "id": "6d25139b-68b5-4188-8d2f-7532fa0bb780",
   "metadata": {},
   "outputs": [
    {
     "data": {
      "text/plain": [
       "0.7966059145453633"
      ]
     },
     "execution_count": 48,
     "metadata": {},
     "output_type": "execute_result"
    }
   ],
   "source": [
    "nn.best_score_ #best score"
   ]
  },
  {
   "cell_type": "markdown",
   "id": "87ef8b0d-7e0f-4f6c-8ce6-70820cf571b7",
   "metadata": {},
   "source": [
    "## KNN"
   ]
  },
  {
   "cell_type": "code",
   "execution_count": 49,
   "id": "0f904da2-e5be-4614-aee7-1047f3b92529",
   "metadata": {
    "tags": []
   },
   "outputs": [],
   "source": [
    "from sklearn.neighbors import KNeighborsClassifier"
   ]
  },
  {
   "cell_type": "code",
   "execution_count": 50,
   "id": "c72559c6-7c59-40ec-9c07-7bc16af9eab7",
   "metadata": {},
   "outputs": [
    {
     "name": "stdout",
     "output_type": "stream",
     "text": [
      "Index(['latitude', 'longitude', 'n_guns_involved', 'group_Democrat',\n",
      "       'suspect_age', 'ohe_drug', 'ohe_officer', 'ohe_gang', 'ohe_accident',\n",
      "       'ohe_murder', 'ohe_suicide', 'ohe_arrest', 'ohe_brandishing',\n",
      "       'ohe_felon', 'ohe_drive', 'ohe_home_invasion', 'ohe_stolen', 'ohe_misc',\n",
      "       'ohe_drugs', 'ohe_car_jacking', 'ohe_defensive', 'ohe_robbery',\n",
      "       'ohe_family', 'ohe_institution', 'ohe_child', 'ohe_mass',\n",
      "       'ohe_domestic', 'suspect_age_group_Teen',\n",
      "       'suspect_age_group_Young Adult', 'suspect_age_group_Mid-Adult',\n",
      "       'suspect_age_group_Adult', 'suspect_age_group_Senior',\n",
      "       'region_East South Central', 'region_Middle Atlantic',\n",
      "       'region_Mountain', 'region_New England', 'region_Pacific',\n",
      "       'region_South Atlantic', 'region_West North Central',\n",
      "       'region_West South Central'],\n",
      "      dtype='object')\n"
     ]
    }
   ],
   "source": [
    "print(df_test.columns)"
   ]
  },
  {
   "cell_type": "code",
   "execution_count": 51,
   "id": "1d24e0e6-a493-42bb-8d28-e970e8648d5d",
   "metadata": {
    "tags": []
   },
   "outputs": [],
   "source": [
    "df_test = df_test.drop(columns=['suspect_age'])"
   ]
  },
  {
   "cell_type": "code",
   "execution_count": 52,
   "id": "995b94c8-68e9-4a92-bf45-5c15bbed6d55",
   "metadata": {
    "tags": []
   },
   "outputs": [
    {
     "name": "stdout",
     "output_type": "stream",
     "text": [
      "Index(['latitude', 'longitude', 'n_guns_involved', 'group_Democrat',\n",
      "       'ohe_drug', 'ohe_officer', 'ohe_gang', 'ohe_accident', 'ohe_murder',\n",
      "       'ohe_suicide', 'ohe_arrest', 'ohe_brandishing', 'ohe_felon',\n",
      "       'ohe_drive', 'ohe_home_invasion', 'ohe_stolen', 'ohe_misc', 'ohe_drugs',\n",
      "       'ohe_car_jacking', 'ohe_defensive', 'ohe_robbery', 'ohe_family',\n",
      "       'ohe_institution', 'ohe_child', 'ohe_mass', 'ohe_domestic',\n",
      "       'suspect_age_group_Teen', 'suspect_age_group_Young Adult',\n",
      "       'suspect_age_group_Mid-Adult', 'suspect_age_group_Adult',\n",
      "       'suspect_age_group_Senior', 'region_East South Central',\n",
      "       'region_Middle Atlantic', 'region_Mountain', 'region_New England',\n",
      "       'region_Pacific', 'region_South Atlantic', 'region_West North Central',\n",
      "       'region_West South Central'],\n",
      "      dtype='object')\n"
     ]
    }
   ],
   "source": [
    "print(df_test.columns)"
   ]
  },
  {
   "cell_type": "code",
   "execution_count": 53,
   "id": "48614155-3987-408c-858d-a51fe121416f",
   "metadata": {
    "tags": []
   },
   "outputs": [
    {
     "data": {
      "text/plain": [
       "KNeighborsClassifier(algorithm='auto', leaf_size=30, metric='minkowski',\n",
       "                     metric_params=None, n_jobs=None, n_neighbors=7, p=2,\n",
       "                     weights='uniform')"
      ]
     },
     "execution_count": 53,
     "metadata": {},
     "output_type": "execute_result"
    }
   ],
   "source": [
    "knn = KNeighborsClassifier(n_neighbors=7)\n",
    "knn.fit(df_features, df_y_train)"
   ]
  },
  {
   "cell_type": "code",
   "execution_count": 54,
   "id": "9b9f973b-bbb4-48ef-b392-1bdf8f7ffad5",
   "metadata": {
    "tags": []
   },
   "outputs": [
    {
     "name": "stdout",
     "output_type": "stream",
     "text": [
      "Index(['latitude', 'longitude', 'n_guns_involved', 'group_Democrat',\n",
      "       'ohe_drug', 'ohe_officer', 'ohe_gang', 'ohe_accident', 'ohe_murder',\n",
      "       'ohe_suicide', 'ohe_arrest', 'ohe_brandishing', 'ohe_felon',\n",
      "       'ohe_drive', 'ohe_home_invasion', 'ohe_stolen', 'ohe_misc', 'ohe_drugs',\n",
      "       'ohe_car_jacking', 'ohe_defensive', 'ohe_robbery', 'ohe_family',\n",
      "       'ohe_institution', 'ohe_child', 'ohe_mass', 'ohe_domestic',\n",
      "       'suspect_age_group_Teen', 'suspect_age_group_Young Adult',\n",
      "       'suspect_age_group_Mid-Adult', 'suspect_age_group_Adult',\n",
      "       'suspect_age_group_Senior', 'region_East South Central',\n",
      "       'region_Middle Atlantic', 'region_Mountain', 'region_New England',\n",
      "       'region_Pacific', 'region_South Atlantic', 'region_West North Central',\n",
      "       'region_West South Central'],\n",
      "      dtype='object')\n"
     ]
    }
   ],
   "source": [
    "print(df_test.columns)"
   ]
  },
  {
   "cell_type": "code",
   "execution_count": 55,
   "id": "f926c522-2d60-464d-b070-c9abfdd16d59",
   "metadata": {
    "tags": []
   },
   "outputs": [
    {
     "name": "stdout",
     "output_type": "stream",
     "text": [
      "[1 0 0 ... 0 1 0]\n",
      "0.7771552503162841\n"
     ]
    }
   ],
   "source": [
    "# Predict on dataset which model has not seen before\n",
    "#print(df_test.columns)\n",
    "#df_y_test = df_test['target_class']\n",
    "#df_labels = df_test.drop(columns=['suspect_age'])\n",
    "print(knn.predict(df_test))\n",
    "\n",
    "print(knn.score(df_test, df_y_test))"
   ]
  },
  {
   "cell_type": "code",
   "execution_count": null,
   "id": "b2c103f2-cc3c-4ead-84f1-9ac5049d0092",
   "metadata": {},
   "outputs": [],
   "source": []
  },
  {
   "cell_type": "code",
   "execution_count": null,
   "id": "3acdc951-fac3-48b2-8576-0cb1e7c8193a",
   "metadata": {},
   "outputs": [],
   "source": []
  },
  {
   "cell_type": "code",
   "execution_count": null,
   "id": "584bafea-2e5e-4f11-8633-67a2c6bc48c4",
   "metadata": {},
   "outputs": [],
   "source": []
  },
  {
   "cell_type": "code",
   "execution_count": null,
   "id": "39367464-1e17-479c-864d-6294b6f3d5bd",
   "metadata": {},
   "outputs": [],
   "source": [
    "\"\"\"\n",
    "# load training data from S3 bucket\n",
    "\n",
    "import io\n",
    "import sagemaker.amazon.common as smac\n",
    "\n",
    "print(\"train_features shape = \", train_features.shape)\n",
    "print(\"train_labels shape = \", train_labels.shape)\n",
    "\n",
    "buf = io.BytesIO()\n",
    "smac.write_numpy_to_dense_tensor(buf, train_features, train_labels)\n",
    "buf.seek(0)\n",
    "\"\"\""
   ]
  },
  {
   "cell_type": "code",
   "execution_count": null,
   "id": "a1ee40b6-ca8b-41fb-aad6-c18ff3ea7f81",
   "metadata": {},
   "outputs": [],
   "source": []
  },
  {
   "cell_type": "code",
   "execution_count": null,
   "id": "8f824ee6-bb9a-469a-907c-e9445525135a",
   "metadata": {},
   "outputs": [],
   "source": []
  },
  {
   "cell_type": "code",
   "execution_count": null,
   "id": "6beb0c60-d056-444e-8dd3-456f16789b17",
   "metadata": {},
   "outputs": [],
   "source": []
  },
  {
   "cell_type": "code",
   "execution_count": null,
   "id": "5a9fa9e8-150b-466a-89ec-ec1ef112bae9",
   "metadata": {
    "tags": []
   },
   "outputs": [],
   "source": [
    "\"\"\"\n",
    "import boto3\n",
    "import os\n",
    "import sagemaker\n",
    "\n",
    "bucket = sagemaker.Session().default_bucket()  # modify to your bucket name\n",
    "prefix = \"knn\"\n",
    "key = \"knn-training-dataset\"\n",
    "\n",
    "boto3.resource(\"s3\").Bucket(bucket).Object(os.path.join(prefix, \"train\", key)).upload_fileobj(buf)\n",
    "s3_train_data = f\"s3://{bucket}/{prefix}/train/{key}\"\n",
    "print(f\"uploaded training data location: {s3_train_data}\")\n",
    "\"\"\""
   ]
  },
  {
   "cell_type": "code",
   "execution_count": 56,
   "id": "8ed84d8b-b944-48ad-b650-d55452bb0418",
   "metadata": {
    "tags": []
   },
   "outputs": [
    {
     "ename": "NameError",
     "evalue": "name 'df_knn_train' is not defined",
     "output_type": "error",
     "traceback": [
      "\u001b[0;31m---------------------------------------------------------------------------\u001b[0m",
      "\u001b[0;31mNameError\u001b[0m                                 Traceback (most recent call last)",
      "\u001b[0;32m<ipython-input-56-dde33d02d47c>\u001b[0m in \u001b[0;36m<module>\u001b[0;34m\u001b[0m\n\u001b[0;32m----> 1\u001b[0;31m \u001b[0mprint\u001b[0m\u001b[0;34m(\u001b[0m\u001b[0mdf_knn_train\u001b[0m\u001b[0;34m.\u001b[0m\u001b[0mcolumns\u001b[0m\u001b[0;34m)\u001b[0m\u001b[0;34m\u001b[0m\u001b[0;34m\u001b[0m\u001b[0m\n\u001b[0m",
      "\u001b[0;31mNameError\u001b[0m: name 'df_knn_train' is not defined"
     ]
    }
   ],
   "source": [
    "#print(df_knn_train.columns)"
   ]
  },
  {
   "cell_type": "code",
   "execution_count": 57,
   "id": "0df42a1a-c5e3-4d84-806b-620257c5d024",
   "metadata": {
    "tags": []
   },
   "outputs": [],
   "source": [
    "df_knn_train = df_train[['target_class', 'latitude', 'longitude', 'n_guns_involved', 'group_Democrat',\n",
    "       'suspect_age', 'ohe_drug', 'ohe_officer', 'ohe_gang', 'ohe_accident',\n",
    "       'ohe_murder', 'ohe_suicide', 'ohe_arrest', 'ohe_brandishing',\n",
    "       'ohe_felon', 'ohe_drive', 'ohe_home_invasion', 'ohe_stolen', 'ohe_misc',\n",
    "       'ohe_drugs', 'ohe_car_jacking', 'ohe_defensive', 'ohe_robbery',\n",
    "       'ohe_family', 'ohe_institution', 'ohe_child', 'ohe_mass',\n",
    "       'ohe_domestic', 'suspect_age_group_Teen',\n",
    "       'suspect_age_group_Young Adult', 'suspect_age_group_Mid-Adult',\n",
    "       'suspect_age_group_Adult', 'suspect_age_group_Senior',\n",
    "       'region_East South Central', 'region_Middle Atlantic',\n",
    "       'region_Mountain', 'region_New England', 'region_Pacific',\n",
    "       'region_South Atlantic', 'region_West North Central',\n",
    "       'region_West South Central']]"
   ]
  },
  {
   "cell_type": "code",
   "execution_count": 58,
   "id": "da74000b-9956-46a6-9747-73ad9ab9ef83",
   "metadata": {
    "tags": []
   },
   "outputs": [],
   "source": [
    "df_knn_train = df_train.drop(columns=['suspect_age'])"
   ]
  },
  {
   "cell_type": "code",
   "execution_count": 59,
   "id": "c7717d44-2728-4171-901b-6cb929e3e260",
   "metadata": {
    "tags": []
   },
   "outputs": [
    {
     "data": {
      "text/plain": [
       "Index(['latitude', 'longitude', 'n_guns_involved', 'target_class',\n",
       "       'group_Democrat', 'ohe_drug', 'ohe_officer', 'ohe_gang', 'ohe_accident',\n",
       "       'ohe_murder', 'ohe_suicide', 'ohe_arrest', 'ohe_brandishing',\n",
       "       'ohe_felon', 'ohe_drive', 'ohe_home_invasion', 'ohe_stolen', 'ohe_misc',\n",
       "       'ohe_drugs', 'ohe_car_jacking', 'ohe_defensive', 'ohe_robbery',\n",
       "       'ohe_family', 'ohe_institution', 'ohe_child', 'ohe_mass',\n",
       "       'ohe_domestic', 'suspect_age_group_Teen',\n",
       "       'suspect_age_group_Young Adult', 'suspect_age_group_Mid-Adult',\n",
       "       'suspect_age_group_Adult', 'suspect_age_group_Senior',\n",
       "       'region_East South Central', 'region_Middle Atlantic',\n",
       "       'region_Mountain', 'region_New England', 'region_Pacific',\n",
       "       'region_South Atlantic', 'region_West North Central',\n",
       "       'region_West South Central'],\n",
       "      dtype='object')"
      ]
     },
     "execution_count": 59,
     "metadata": {},
     "output_type": "execute_result"
    }
   ],
   "source": [
    "df_knn_train.columns"
   ]
  },
  {
   "cell_type": "code",
   "execution_count": 60,
   "id": "b426da68-9dcc-4d1e-b38d-9901a23f7347",
   "metadata": {
    "tags": []
   },
   "outputs": [
    {
     "name": "stdout",
     "output_type": "stream",
     "text": [
      "   target_class  latitude  longitude  n_guns_involved  group_Democrat  \\\n",
      "0             0   32.3190   -95.2115              2.0               0   \n",
      "1             0   31.0952   -97.7210              1.0               0   \n",
      "2             0   38.7931   -90.4085              1.0               1   \n",
      "3             1   30.0066   -91.8308              1.0               0   \n",
      "4             0   36.0412   -79.7727              1.0               1   \n",
      "\n",
      "   ohe_drug  ohe_officer  ohe_gang  ohe_accident  ohe_murder  ...  \\\n",
      "0         0            1         0             0           0  ...   \n",
      "1         0            0         0             0           0  ...   \n",
      "2         0            0         1             0           0  ...   \n",
      "3         0            0         0             0           0  ...   \n",
      "4         0            0         0             0           0  ...   \n",
      "\n",
      "   suspect_age_group_Adult  suspect_age_group_Senior  \\\n",
      "0                        0                         0   \n",
      "1                        0                         0   \n",
      "2                        0                         0   \n",
      "3                        0                         0   \n",
      "4                        0                         0   \n",
      "\n",
      "   region_East South Central  region_Middle Atlantic  region_Mountain  \\\n",
      "0                          0                       0                0   \n",
      "1                          0                       0                0   \n",
      "2                          0                       0                0   \n",
      "3                          0                       0                0   \n",
      "4                          0                       0                0   \n",
      "\n",
      "   region_New England  region_Pacific  region_South Atlantic  \\\n",
      "0                   0               0                      0   \n",
      "1                   0               0                      0   \n",
      "2                   0               0                      0   \n",
      "3                   0               0                      0   \n",
      "4                   0               0                      1   \n",
      "\n",
      "   region_West North Central  region_West South Central  \n",
      "0                          0                          1  \n",
      "1                          0                          1  \n",
      "2                          1                          0  \n",
      "3                          0                          1  \n",
      "4                          0                          0  \n",
      "\n",
      "[5 rows x 40 columns]\n"
     ]
    }
   ],
   "source": [
    "df_knn_train = df_knn_train.reset_index(drop=True)\n",
    "df_knn_train = df_knn_train[['target_class', 'latitude', 'longitude', 'n_guns_involved',\n",
    "       'group_Democrat', 'ohe_drug', 'ohe_officer', 'ohe_gang', 'ohe_accident',\n",
    "       'ohe_murder', 'ohe_suicide', 'ohe_arrest', 'ohe_brandishing',\n",
    "       'ohe_felon', 'ohe_drive', 'ohe_home_invasion', 'ohe_stolen', 'ohe_misc',\n",
    "       'ohe_drugs', 'ohe_car_jacking', 'ohe_defensive', 'ohe_robbery',\n",
    "       'ohe_family', 'ohe_institution', 'ohe_child', 'ohe_mass',\n",
    "       'ohe_domestic', 'suspect_age_group_Teen',\n",
    "       'suspect_age_group_Young Adult', 'suspect_age_group_Mid-Adult',\n",
    "       'suspect_age_group_Adult', 'suspect_age_group_Senior',\n",
    "       'region_East South Central', 'region_Middle Atlantic',\n",
    "       'region_Mountain', 'region_New England', 'region_Pacific',\n",
    "       'region_South Atlantic', 'region_West North Central',\n",
    "       'region_West South Central']]\n",
    "print(df_knn_train.head(5))"
   ]
  },
  {
   "cell_type": "code",
   "execution_count": 61,
   "id": "a840b3fe-ad17-4464-957c-6ab8cafe759f",
   "metadata": {
    "tags": []
   },
   "outputs": [],
   "source": [
    "# Transfer Training Data to S3 bucket\n",
    "s3_client = boto3.client(\"s3\")\n",
    "BUCKET='sagemaker-us-east-1-898900188658'\n",
    "KEY='knn/train/train-April10.csv'\n",
    "\n",
    "with io.StringIO() as csv_buffer:\n",
    "    df_knn_train.to_csv(csv_buffer, index=False, header=False)\n",
    "\n",
    "    response = s3_client.put_object(\n",
    "        Bucket=BUCKET, Key=KEY, Body=csv_buffer.getvalue()\n",
    "    )"
   ]
  },
  {
   "cell_type": "code",
   "execution_count": 62,
   "id": "0ab66bb9-b0f6-4c35-8853-d787d627fecc",
   "metadata": {
    "tags": []
   },
   "outputs": [
    {
     "ename": "KeyError",
     "evalue": "\"['target_class'] not in index\"",
     "output_type": "error",
     "traceback": [
      "\u001b[0;31m---------------------------------------------------------------------------\u001b[0m",
      "\u001b[0;31mKeyError\u001b[0m                                  Traceback (most recent call last)",
      "\u001b[0;32m<ipython-input-62-6ba8243ba3f2>\u001b[0m in \u001b[0;36m<module>\u001b[0;34m\u001b[0m\n\u001b[1;32m     12\u001b[0m        \u001b[0;34m'region_Mountain'\u001b[0m\u001b[0;34m,\u001b[0m \u001b[0;34m'region_New England'\u001b[0m\u001b[0;34m,\u001b[0m \u001b[0;34m'region_Pacific'\u001b[0m\u001b[0;34m,\u001b[0m\u001b[0;34m\u001b[0m\u001b[0;34m\u001b[0m\u001b[0m\n\u001b[1;32m     13\u001b[0m        \u001b[0;34m'region_South Atlantic'\u001b[0m\u001b[0;34m,\u001b[0m \u001b[0;34m'region_West North Central'\u001b[0m\u001b[0;34m,\u001b[0m\u001b[0;34m\u001b[0m\u001b[0;34m\u001b[0m\u001b[0m\n\u001b[0;32m---> 14\u001b[0;31m        'region_West South Central']]\n\u001b[0m\u001b[1;32m     15\u001b[0m \u001b[0mprint\u001b[0m\u001b[0;34m(\u001b[0m\u001b[0mdf_knn_test\u001b[0m\u001b[0;34m.\u001b[0m\u001b[0mhead\u001b[0m\u001b[0;34m(\u001b[0m\u001b[0;36m5\u001b[0m\u001b[0;34m)\u001b[0m\u001b[0;34m)\u001b[0m\u001b[0;34m\u001b[0m\u001b[0;34m\u001b[0m\u001b[0m\n",
      "\u001b[0;32m/opt/conda/lib/python3.7/site-packages/pandas/core/frame.py\u001b[0m in \u001b[0;36m__getitem__\u001b[0;34m(self, key)\u001b[0m\n\u001b[1;32m   3462\u001b[0m             \u001b[0;32mif\u001b[0m \u001b[0mis_iterator\u001b[0m\u001b[0;34m(\u001b[0m\u001b[0mkey\u001b[0m\u001b[0;34m)\u001b[0m\u001b[0;34m:\u001b[0m\u001b[0;34m\u001b[0m\u001b[0;34m\u001b[0m\u001b[0m\n\u001b[1;32m   3463\u001b[0m                 \u001b[0mkey\u001b[0m \u001b[0;34m=\u001b[0m \u001b[0mlist\u001b[0m\u001b[0;34m(\u001b[0m\u001b[0mkey\u001b[0m\u001b[0;34m)\u001b[0m\u001b[0;34m\u001b[0m\u001b[0;34m\u001b[0m\u001b[0m\n\u001b[0;32m-> 3464\u001b[0;31m             \u001b[0mindexer\u001b[0m \u001b[0;34m=\u001b[0m \u001b[0mself\u001b[0m\u001b[0;34m.\u001b[0m\u001b[0mloc\u001b[0m\u001b[0;34m.\u001b[0m\u001b[0m_get_listlike_indexer\u001b[0m\u001b[0;34m(\u001b[0m\u001b[0mkey\u001b[0m\u001b[0;34m,\u001b[0m \u001b[0maxis\u001b[0m\u001b[0;34m=\u001b[0m\u001b[0;36m1\u001b[0m\u001b[0;34m)\u001b[0m\u001b[0;34m[\u001b[0m\u001b[0;36m1\u001b[0m\u001b[0;34m]\u001b[0m\u001b[0;34m\u001b[0m\u001b[0;34m\u001b[0m\u001b[0m\n\u001b[0m\u001b[1;32m   3465\u001b[0m \u001b[0;34m\u001b[0m\u001b[0m\n\u001b[1;32m   3466\u001b[0m         \u001b[0;31m# take() does not accept boolean indexers\u001b[0m\u001b[0;34m\u001b[0m\u001b[0;34m\u001b[0m\u001b[0;34m\u001b[0m\u001b[0m\n",
      "\u001b[0;32m/opt/conda/lib/python3.7/site-packages/pandas/core/indexing.py\u001b[0m in \u001b[0;36m_get_listlike_indexer\u001b[0;34m(self, key, axis)\u001b[0m\n\u001b[1;32m   1312\u001b[0m             \u001b[0mkeyarr\u001b[0m\u001b[0;34m,\u001b[0m \u001b[0mindexer\u001b[0m\u001b[0;34m,\u001b[0m \u001b[0mnew_indexer\u001b[0m \u001b[0;34m=\u001b[0m \u001b[0max\u001b[0m\u001b[0;34m.\u001b[0m\u001b[0m_reindex_non_unique\u001b[0m\u001b[0;34m(\u001b[0m\u001b[0mkeyarr\u001b[0m\u001b[0;34m)\u001b[0m\u001b[0;34m\u001b[0m\u001b[0;34m\u001b[0m\u001b[0m\n\u001b[1;32m   1313\u001b[0m \u001b[0;34m\u001b[0m\u001b[0m\n\u001b[0;32m-> 1314\u001b[0;31m         \u001b[0mself\u001b[0m\u001b[0;34m.\u001b[0m\u001b[0m_validate_read_indexer\u001b[0m\u001b[0;34m(\u001b[0m\u001b[0mkeyarr\u001b[0m\u001b[0;34m,\u001b[0m \u001b[0mindexer\u001b[0m\u001b[0;34m,\u001b[0m \u001b[0maxis\u001b[0m\u001b[0;34m)\u001b[0m\u001b[0;34m\u001b[0m\u001b[0;34m\u001b[0m\u001b[0m\n\u001b[0m\u001b[1;32m   1315\u001b[0m \u001b[0;34m\u001b[0m\u001b[0m\n\u001b[1;32m   1316\u001b[0m         if needs_i8_conversion(ax.dtype) or isinstance(\n",
      "\u001b[0;32m/opt/conda/lib/python3.7/site-packages/pandas/core/indexing.py\u001b[0m in \u001b[0;36m_validate_read_indexer\u001b[0;34m(self, key, indexer, axis)\u001b[0m\n\u001b[1;32m   1375\u001b[0m \u001b[0;34m\u001b[0m\u001b[0m\n\u001b[1;32m   1376\u001b[0m             \u001b[0mnot_found\u001b[0m \u001b[0;34m=\u001b[0m \u001b[0mlist\u001b[0m\u001b[0;34m(\u001b[0m\u001b[0mensure_index\u001b[0m\u001b[0;34m(\u001b[0m\u001b[0mkey\u001b[0m\u001b[0;34m)\u001b[0m\u001b[0;34m[\u001b[0m\u001b[0mmissing_mask\u001b[0m\u001b[0;34m.\u001b[0m\u001b[0mnonzero\u001b[0m\u001b[0;34m(\u001b[0m\u001b[0;34m)\u001b[0m\u001b[0;34m[\u001b[0m\u001b[0;36m0\u001b[0m\u001b[0;34m]\u001b[0m\u001b[0;34m]\u001b[0m\u001b[0;34m.\u001b[0m\u001b[0munique\u001b[0m\u001b[0;34m(\u001b[0m\u001b[0;34m)\u001b[0m\u001b[0;34m)\u001b[0m\u001b[0;34m\u001b[0m\u001b[0;34m\u001b[0m\u001b[0m\n\u001b[0;32m-> 1377\u001b[0;31m             \u001b[0;32mraise\u001b[0m \u001b[0mKeyError\u001b[0m\u001b[0;34m(\u001b[0m\u001b[0;34mf\"{not_found} not in index\"\u001b[0m\u001b[0;34m)\u001b[0m\u001b[0;34m\u001b[0m\u001b[0;34m\u001b[0m\u001b[0m\n\u001b[0m\u001b[1;32m   1378\u001b[0m \u001b[0;34m\u001b[0m\u001b[0m\n\u001b[1;32m   1379\u001b[0m \u001b[0;34m\u001b[0m\u001b[0m\n",
      "\u001b[0;31mKeyError\u001b[0m: \"['target_class'] not in index\""
     ]
    }
   ],
   "source": [
    "\"\"\"\n",
    "df_knn_test = df_test.reset_index(drop=True)\n",
    "df_knn_test = df_knn_test[['target_class', 'latitude', 'longitude', 'n_guns_involved',\n",
    "       'group_Democrat', 'ohe_drug', 'ohe_officer', 'ohe_gang', 'ohe_accident',\n",
    "       'ohe_murder', 'ohe_suicide', 'ohe_arrest', 'ohe_brandishing',\n",
    "       'ohe_felon', 'ohe_drive', 'ohe_home_invasion', 'ohe_stolen', 'ohe_misc',\n",
    "       'ohe_drugs', 'ohe_car_jacking', 'ohe_defensive', 'ohe_robbery',\n",
    "       'ohe_family', 'ohe_institution', 'ohe_child', 'ohe_mass',\n",
    "       'ohe_domestic', 'suspect_age_group_Teen',\n",
    "       'suspect_age_group_Young Adult', 'suspect_age_group_Mid-Adult',\n",
    "       'suspect_age_group_Adult', 'suspect_age_group_Senior',\n",
    "       'region_East South Central', 'region_Middle Atlantic',\n",
    "       'region_Mountain', 'region_New England', 'region_Pacific',\n",
    "       'region_South Atlantic', 'region_West North Central',\n",
    "       'region_West South Central']]\n",
    "print(df_knn_test.head(5))\n",
    "\"\"\""
   ]
  },
  {
   "cell_type": "code",
   "execution_count": 63,
   "id": "69c28ee7-194e-42b6-ac65-a45e68865116",
   "metadata": {
    "tags": []
   },
   "outputs": [
    {
     "name": "stdout",
     "output_type": "stream",
     "text": [
      "Index(['latitude', 'longitude', 'n_guns_involved', 'group_Democrat',\n",
      "       'ohe_drug', 'ohe_officer', 'ohe_gang', 'ohe_accident', 'ohe_murder',\n",
      "       'ohe_suicide', 'ohe_arrest', 'ohe_brandishing', 'ohe_felon',\n",
      "       'ohe_drive', 'ohe_home_invasion', 'ohe_stolen', 'ohe_misc', 'ohe_drugs',\n",
      "       'ohe_car_jacking', 'ohe_defensive', 'ohe_robbery', 'ohe_family',\n",
      "       'ohe_institution', 'ohe_child', 'ohe_mass', 'ohe_domestic',\n",
      "       'suspect_age_group_Teen', 'suspect_age_group_Young Adult',\n",
      "       'suspect_age_group_Mid-Adult', 'suspect_age_group_Adult',\n",
      "       'suspect_age_group_Senior', 'region_East South Central',\n",
      "       'region_Middle Atlantic', 'region_Mountain', 'region_New England',\n",
      "       'region_Pacific', 'region_South Atlantic', 'region_West North Central',\n",
      "       'region_West South Central'],\n",
      "      dtype='object')\n"
     ]
    }
   ],
   "source": [
    "print(df_test.columns)"
   ]
  },
  {
   "cell_type": "code",
   "execution_count": 64,
   "id": "8af621f1-c05a-4215-a62c-39f20f6ca660",
   "metadata": {
    "tags": []
   },
   "outputs": [],
   "source": [
    "# Transfer Training Data to S3 bucket\n",
    "s3_client = boto3.client(\"s3\")\n",
    "BUCKET='sagemaker-us-east-1-898900188658'\n",
    "KEY='knn/test/test-April10.csv'\n",
    "\n",
    "with io.StringIO() as csv_buffer:\n",
    "    df_knn_test.to_csv(csv_buffer, index=False, header=False)\n",
    "\n",
    "    response = s3_client.put_object(\n",
    "        Bucket=BUCKET, Key=KEY, Body=csv_buffer.getvalue()\n",
    "    )"
   ]
  },
  {
   "cell_type": "code",
   "execution_count": 65,
   "id": "818aee7f-1969-4086-8334-70ad10b3a1ea",
   "metadata": {
    "tags": []
   },
   "outputs": [
    {
     "data": {
      "text/plain": [
       "'\\ns3_client = boto3.client(\"s3\")\\nBUCKET=\\'sagemaker-us-east-1-898900188658\\'\\nKEY=\\'raw_files/knn/training_dataset.csv\\'\\n#response = s3_client.get_object(Bucket=BUCKET, Key=KEY)\\n\\n#df_target = df_train[\\'target_class\\']\\n#df_knn_train = df_train.drop(\\'target_class\\', axis=1)\\n\\n\\n\\nwith io.StringIO() as csv_buffer:\\n    df_knn_train.to_csv(csv_buffer, index=False, header=False)\\n\\n    response = s3_client.put_object(\\n        Bucket=BUCKET, Key=KEY, Body=csv_buffer.getvalue()\\n    )\\n    '"
      ]
     },
     "execution_count": 65,
     "metadata": {},
     "output_type": "execute_result"
    }
   ],
   "source": [
    "\"\"\"\n",
    "s3_client = boto3.client(\"s3\")\n",
    "BUCKET='sagemaker-us-east-1-898900188658'\n",
    "KEY='raw_files/knn/training_dataset.csv'\n",
    "#response = s3_client.get_object(Bucket=BUCKET, Key=KEY)\n",
    "\n",
    "#df_target = df_train['target_class']\n",
    "#df_knn_train = df_train.drop('target_class', axis=1)\n",
    "\n",
    "\n",
    "\n",
    "with io.StringIO() as csv_buffer:\n",
    "    df_knn_train.to_csv(csv_buffer, index=False, header=False)\n",
    "\n",
    "    response = s3_client.put_object(\n",
    "        Bucket=BUCKET, Key=KEY, Body=csv_buffer.getvalue()\n",
    "    )\n",
    "    \"\"\""
   ]
  },
  {
   "cell_type": "code",
   "execution_count": 66,
   "id": "c8409a3c-fe21-499d-8324-bd42cdfe5a6c",
   "metadata": {},
   "outputs": [],
   "source": [
    "import matplotlib.pyplot as plt\n",
    "import sagemaker\n",
    "from sagemaker import get_execution_role\n",
    "from sagemaker.serializers import CSVSerializer\n",
    "from sagemaker.deserializers import JSONDeserializer\n",
    "from sagemaker.amazon.amazon_estimator import get_image_uri\n",
    "\n",
    "\n",
    "def trained_estimator_from_hyperparams(s3_train_data, hyperparams, output_path, s3_test_data=None):\n",
    "    \"\"\"\n",
    "    Create an Estimator from the given hyperparams, fit to training data,\n",
    "    and return a deployed predictor\n",
    "\n",
    "    \"\"\"\n",
    "    # set up the estimator\n",
    "    knn = sagemaker.estimator.Estimator(\n",
    "        get_image_uri(boto3.Session().region_name, \"knn\"),\n",
    "        get_execution_role(),\n",
    "        instance_count=1,\n",
    "        instance_type=\"ml.m5.2xlarge\",\n",
    "        output_path=output_path,\n",
    "        sagemaker_session=sagemaker.Session(),\n",
    "    )\n",
    "    knn.set_hyperparameters(**hyperparams)\n",
    "\n",
    "    # train a model. fit_input contains the locations of the train and test data\n",
    "    fit_input = {\"train\": s3_train_data}\n",
    "    if s3_test_data is not None:\n",
    "        fit_input[\"test\"] = s3_test_data\n",
    "    knn.fit(fit_input)\n",
    "    return knn"
   ]
  },
  {
   "cell_type": "code",
   "execution_count": 67,
   "id": "62c2b284-11e1-4e2d-a9c7-1fe7c6bac7a2",
   "metadata": {
    "tags": []
   },
   "outputs": [],
   "source": [
    "# input training parameters\n",
    "s3_input_train = sagemaker.inputs.TrainingInput(s3_data=\\\n",
    "        's3://{}/knn/train/'.format(bucket), content_type='csv')"
   ]
  },
  {
   "cell_type": "code",
   "execution_count": 68,
   "id": "5bdc2ddc-0552-4f58-8b05-2044d65226ac",
   "metadata": {
    "tags": []
   },
   "outputs": [],
   "source": [
    "# input training parameters\n",
    "s3_input_test = sagemaker.inputs.TrainingInput(s3_data=\\\n",
    "        's3://{}/knn/test/'.format(bucket), content_type='csv')"
   ]
  },
  {
   "cell_type": "code",
   "execution_count": 69,
   "id": "48b9ed28-f0fd-4ecd-941f-bd948bdc3b72",
   "metadata": {
    "tags": []
   },
   "outputs": [
    {
     "name": "stdout",
     "output_type": "stream",
     "text": [
      "Index(['latitude', 'longitude', 'n_guns_involved', 'group_Democrat',\n",
      "       'ohe_drug', 'ohe_officer', 'ohe_gang', 'ohe_accident', 'ohe_murder',\n",
      "       'ohe_suicide', 'ohe_arrest', 'ohe_brandishing', 'ohe_felon',\n",
      "       'ohe_drive', 'ohe_home_invasion', 'ohe_stolen', 'ohe_misc', 'ohe_drugs',\n",
      "       'ohe_car_jacking', 'ohe_defensive', 'ohe_robbery', 'ohe_family',\n",
      "       'ohe_institution', 'ohe_child', 'ohe_mass', 'ohe_domestic',\n",
      "       'suspect_age_group_Teen', 'suspect_age_group_Young Adult',\n",
      "       'suspect_age_group_Mid-Adult', 'suspect_age_group_Adult',\n",
      "       'suspect_age_group_Senior', 'region_East South Central',\n",
      "       'region_Middle Atlantic', 'region_Mountain', 'region_New England',\n",
      "       'region_Pacific', 'region_South Atlantic', 'region_West North Central',\n",
      "       'region_West South Central'],\n",
      "      dtype='object')\n"
     ]
    }
   ],
   "source": [
    "print(df_test.columns)\n"
   ]
  },
  {
   "cell_type": "code",
   "execution_count": 70,
   "id": "a458cbfd-d520-49be-9af5-f7015c259817",
   "metadata": {},
   "outputs": [
    {
     "name": "stderr",
     "output_type": "stream",
     "text": [
      "The method get_image_uri has been renamed in sagemaker>=2.\n",
      "See: https://sagemaker.readthedocs.io/en/stable/v2.html for details.\n",
      "INFO:sagemaker:Creating training-job with name: knn-2023-04-10-22-49-06-277\n"
     ]
    },
    {
     "ename": "ClientError",
     "evalue": "An error occurred (AccessDeniedException) when calling the CreateTrainingJob operation: User: arn:aws:sts::898900188658:assumed-role/LabRole/SageMaker is not authorized to perform: sagemaker:CreateTrainingJob on resource: arn:aws:sagemaker:us-east-1:898900188658:training-job/knn-2023-04-10-22-49-06-277 with an explicit deny in an identity-based policy",
     "output_type": "error",
     "traceback": [
      "\u001b[0;31m---------------------------------------------------------------------------\u001b[0m",
      "\u001b[0;31mClientError\u001b[0m                               Traceback (most recent call last)",
      "\u001b[0;32m<ipython-input-70-f26ebefe54ae>\u001b[0m in \u001b[0;36m<module>\u001b[0;34m\u001b[0m\n\u001b[1;32m      9\u001b[0m \"\"\"\n\u001b[1;32m     10\u001b[0m knn_estimator = trained_estimator_from_hyperparams(\n\u001b[0;32m---> 11\u001b[0;31m     \u001b[0ms3_input_train\u001b[0m\u001b[0;34m,\u001b[0m \u001b[0mhyperparams\u001b[0m\u001b[0;34m,\u001b[0m \u001b[0moutput_path\u001b[0m\u001b[0;34m,\u001b[0m \u001b[0ms3_test_data\u001b[0m\u001b[0;34m=\u001b[0m\u001b[0ms3_input_test\u001b[0m\u001b[0;34m\u001b[0m\u001b[0;34m\u001b[0m\u001b[0m\n\u001b[0m\u001b[1;32m     12\u001b[0m )\n",
      "\u001b[0;32m<ipython-input-66-d0ad64768671>\u001b[0m in \u001b[0;36mtrained_estimator_from_hyperparams\u001b[0;34m(s3_train_data, hyperparams, output_path, s3_test_data)\u001b[0m\n\u001b[1;32m     28\u001b[0m     \u001b[0;32mif\u001b[0m \u001b[0ms3_test_data\u001b[0m \u001b[0;32mis\u001b[0m \u001b[0;32mnot\u001b[0m \u001b[0;32mNone\u001b[0m\u001b[0;34m:\u001b[0m\u001b[0;34m\u001b[0m\u001b[0;34m\u001b[0m\u001b[0m\n\u001b[1;32m     29\u001b[0m         \u001b[0mfit_input\u001b[0m\u001b[0;34m[\u001b[0m\u001b[0;34m\"test\"\u001b[0m\u001b[0;34m]\u001b[0m \u001b[0;34m=\u001b[0m \u001b[0ms3_test_data\u001b[0m\u001b[0;34m\u001b[0m\u001b[0;34m\u001b[0m\u001b[0m\n\u001b[0;32m---> 30\u001b[0;31m     \u001b[0mknn\u001b[0m\u001b[0;34m.\u001b[0m\u001b[0mfit\u001b[0m\u001b[0;34m(\u001b[0m\u001b[0mfit_input\u001b[0m\u001b[0;34m)\u001b[0m\u001b[0;34m\u001b[0m\u001b[0;34m\u001b[0m\u001b[0m\n\u001b[0m\u001b[1;32m     31\u001b[0m     \u001b[0;32mreturn\u001b[0m \u001b[0mknn\u001b[0m\u001b[0;34m\u001b[0m\u001b[0;34m\u001b[0m\u001b[0m\n",
      "\u001b[0;32m/opt/conda/lib/python3.7/site-packages/sagemaker/workflow/pipeline_context.py\u001b[0m in \u001b[0;36mwrapper\u001b[0;34m(*args, **kwargs)\u001b[0m\n\u001b[1;32m    282\u001b[0m             \u001b[0;32mreturn\u001b[0m \u001b[0m_StepArguments\u001b[0m\u001b[0;34m(\u001b[0m\u001b[0mretrieve_caller_name\u001b[0m\u001b[0;34m(\u001b[0m\u001b[0mself_instance\u001b[0m\u001b[0;34m)\u001b[0m\u001b[0;34m,\u001b[0m \u001b[0mrun_func\u001b[0m\u001b[0;34m,\u001b[0m \u001b[0;34m*\u001b[0m\u001b[0margs\u001b[0m\u001b[0;34m,\u001b[0m \u001b[0;34m**\u001b[0m\u001b[0mkwargs\u001b[0m\u001b[0;34m)\u001b[0m\u001b[0;34m\u001b[0m\u001b[0;34m\u001b[0m\u001b[0m\n\u001b[1;32m    283\u001b[0m \u001b[0;34m\u001b[0m\u001b[0m\n\u001b[0;32m--> 284\u001b[0;31m         \u001b[0;32mreturn\u001b[0m \u001b[0mrun_func\u001b[0m\u001b[0;34m(\u001b[0m\u001b[0;34m*\u001b[0m\u001b[0margs\u001b[0m\u001b[0;34m,\u001b[0m \u001b[0;34m**\u001b[0m\u001b[0mkwargs\u001b[0m\u001b[0;34m)\u001b[0m\u001b[0;34m\u001b[0m\u001b[0;34m\u001b[0m\u001b[0m\n\u001b[0m\u001b[1;32m    285\u001b[0m \u001b[0;34m\u001b[0m\u001b[0m\n\u001b[1;32m    286\u001b[0m     \u001b[0;32mreturn\u001b[0m \u001b[0mwrapper\u001b[0m\u001b[0;34m\u001b[0m\u001b[0;34m\u001b[0m\u001b[0m\n",
      "\u001b[0;32m/opt/conda/lib/python3.7/site-packages/sagemaker/estimator.py\u001b[0m in \u001b[0;36mfit\u001b[0;34m(self, inputs, wait, logs, job_name, experiment_config)\u001b[0m\n\u001b[1;32m   1193\u001b[0m \u001b[0;34m\u001b[0m\u001b[0m\n\u001b[1;32m   1194\u001b[0m         \u001b[0mexperiment_config\u001b[0m \u001b[0;34m=\u001b[0m \u001b[0mcheck_and_get_run_experiment_config\u001b[0m\u001b[0;34m(\u001b[0m\u001b[0mexperiment_config\u001b[0m\u001b[0;34m)\u001b[0m\u001b[0;34m\u001b[0m\u001b[0;34m\u001b[0m\u001b[0m\n\u001b[0;32m-> 1195\u001b[0;31m         \u001b[0mself\u001b[0m\u001b[0;34m.\u001b[0m\u001b[0mlatest_training_job\u001b[0m \u001b[0;34m=\u001b[0m \u001b[0m_TrainingJob\u001b[0m\u001b[0;34m.\u001b[0m\u001b[0mstart_new\u001b[0m\u001b[0;34m(\u001b[0m\u001b[0mself\u001b[0m\u001b[0;34m,\u001b[0m \u001b[0minputs\u001b[0m\u001b[0;34m,\u001b[0m \u001b[0mexperiment_config\u001b[0m\u001b[0;34m)\u001b[0m\u001b[0;34m\u001b[0m\u001b[0;34m\u001b[0m\u001b[0m\n\u001b[0m\u001b[1;32m   1196\u001b[0m         \u001b[0mself\u001b[0m\u001b[0;34m.\u001b[0m\u001b[0mjobs\u001b[0m\u001b[0;34m.\u001b[0m\u001b[0mappend\u001b[0m\u001b[0;34m(\u001b[0m\u001b[0mself\u001b[0m\u001b[0;34m.\u001b[0m\u001b[0mlatest_training_job\u001b[0m\u001b[0;34m)\u001b[0m\u001b[0;34m\u001b[0m\u001b[0;34m\u001b[0m\u001b[0m\n\u001b[1;32m   1197\u001b[0m         \u001b[0;32mif\u001b[0m \u001b[0mwait\u001b[0m\u001b[0;34m:\u001b[0m\u001b[0;34m\u001b[0m\u001b[0;34m\u001b[0m\u001b[0m\n",
      "\u001b[0;32m/opt/conda/lib/python3.7/site-packages/sagemaker/estimator.py\u001b[0m in \u001b[0;36mstart_new\u001b[0;34m(cls, estimator, inputs, experiment_config)\u001b[0m\n\u001b[1;32m   2125\u001b[0m         \u001b[0mtrain_args\u001b[0m \u001b[0;34m=\u001b[0m \u001b[0mcls\u001b[0m\u001b[0;34m.\u001b[0m\u001b[0m_get_train_args\u001b[0m\u001b[0;34m(\u001b[0m\u001b[0mestimator\u001b[0m\u001b[0;34m,\u001b[0m \u001b[0minputs\u001b[0m\u001b[0;34m,\u001b[0m \u001b[0mexperiment_config\u001b[0m\u001b[0;34m)\u001b[0m\u001b[0;34m\u001b[0m\u001b[0;34m\u001b[0m\u001b[0m\n\u001b[1;32m   2126\u001b[0m \u001b[0;34m\u001b[0m\u001b[0m\n\u001b[0;32m-> 2127\u001b[0;31m         \u001b[0mestimator\u001b[0m\u001b[0;34m.\u001b[0m\u001b[0msagemaker_session\u001b[0m\u001b[0;34m.\u001b[0m\u001b[0mtrain\u001b[0m\u001b[0;34m(\u001b[0m\u001b[0;34m**\u001b[0m\u001b[0mtrain_args\u001b[0m\u001b[0;34m)\u001b[0m\u001b[0;34m\u001b[0m\u001b[0;34m\u001b[0m\u001b[0m\n\u001b[0m\u001b[1;32m   2128\u001b[0m \u001b[0;34m\u001b[0m\u001b[0m\n\u001b[1;32m   2129\u001b[0m         \u001b[0;32mreturn\u001b[0m \u001b[0mcls\u001b[0m\u001b[0;34m(\u001b[0m\u001b[0mestimator\u001b[0m\u001b[0;34m.\u001b[0m\u001b[0msagemaker_session\u001b[0m\u001b[0;34m,\u001b[0m \u001b[0mestimator\u001b[0m\u001b[0;34m.\u001b[0m\u001b[0m_current_job_name\u001b[0m\u001b[0;34m)\u001b[0m\u001b[0;34m\u001b[0m\u001b[0;34m\u001b[0m\u001b[0m\n",
      "\u001b[0;32m/opt/conda/lib/python3.7/site-packages/sagemaker/session.py\u001b[0m in \u001b[0;36mtrain\u001b[0;34m(self, input_mode, input_config, role, job_name, output_config, resource_config, vpc_config, hyperparameters, stop_condition, tags, metric_definitions, enable_network_isolation, image_uri, training_image_config, algorithm_arn, encrypt_inter_container_traffic, use_spot_instances, checkpoint_s3_uri, checkpoint_local_path, experiment_config, debugger_rule_configs, debugger_hook_config, tensorboard_output_config, enable_sagemaker_metrics, profiler_rule_configs, profiler_config, environment, retry_strategy)\u001b[0m\n\u001b[1;32m    845\u001b[0m             \u001b[0mself\u001b[0m\u001b[0;34m.\u001b[0m\u001b[0msagemaker_client\u001b[0m\u001b[0;34m.\u001b[0m\u001b[0mcreate_training_job\u001b[0m\u001b[0;34m(\u001b[0m\u001b[0;34m**\u001b[0m\u001b[0mrequest\u001b[0m\u001b[0;34m)\u001b[0m\u001b[0;34m\u001b[0m\u001b[0;34m\u001b[0m\u001b[0m\n\u001b[1;32m    846\u001b[0m \u001b[0;34m\u001b[0m\u001b[0m\n\u001b[0;32m--> 847\u001b[0;31m         \u001b[0mself\u001b[0m\u001b[0;34m.\u001b[0m\u001b[0m_intercept_create_request\u001b[0m\u001b[0;34m(\u001b[0m\u001b[0mtrain_request\u001b[0m\u001b[0;34m,\u001b[0m \u001b[0msubmit\u001b[0m\u001b[0;34m,\u001b[0m \u001b[0mself\u001b[0m\u001b[0;34m.\u001b[0m\u001b[0mtrain\u001b[0m\u001b[0;34m.\u001b[0m\u001b[0m__name__\u001b[0m\u001b[0;34m)\u001b[0m\u001b[0;34m\u001b[0m\u001b[0;34m\u001b[0m\u001b[0m\n\u001b[0m\u001b[1;32m    848\u001b[0m \u001b[0;34m\u001b[0m\u001b[0m\n\u001b[1;32m    849\u001b[0m     def _get_train_request(  # noqa: C901\n",
      "\u001b[0;32m/opt/conda/lib/python3.7/site-packages/sagemaker/session.py\u001b[0m in \u001b[0;36m_intercept_create_request\u001b[0;34m(self, request, create, func_name)\u001b[0m\n\u001b[1;32m   5263\u001b[0m             \u001b[0mfunc_name\u001b[0m \u001b[0;34m(\u001b[0m\u001b[0mstr\u001b[0m\u001b[0;34m)\u001b[0m\u001b[0;34m:\u001b[0m \u001b[0mthe\u001b[0m \u001b[0mname\u001b[0m \u001b[0mof\u001b[0m \u001b[0mthe\u001b[0m \u001b[0mfunction\u001b[0m \u001b[0mneeded\u001b[0m \u001b[0mintercepting\u001b[0m\u001b[0;34m\u001b[0m\u001b[0;34m\u001b[0m\u001b[0m\n\u001b[1;32m   5264\u001b[0m         \"\"\"\n\u001b[0;32m-> 5265\u001b[0;31m         \u001b[0;32mreturn\u001b[0m \u001b[0mcreate\u001b[0m\u001b[0;34m(\u001b[0m\u001b[0mrequest\u001b[0m\u001b[0;34m)\u001b[0m\u001b[0;34m\u001b[0m\u001b[0;34m\u001b[0m\u001b[0m\n\u001b[0m\u001b[1;32m   5266\u001b[0m \u001b[0;34m\u001b[0m\u001b[0m\n\u001b[1;32m   5267\u001b[0m     def _create_inference_recommendations_job_request(\n",
      "\u001b[0;32m/opt/conda/lib/python3.7/site-packages/sagemaker/session.py\u001b[0m in \u001b[0;36msubmit\u001b[0;34m(request)\u001b[0m\n\u001b[1;32m    843\u001b[0m             \u001b[0mLOGGER\u001b[0m\u001b[0;34m.\u001b[0m\u001b[0minfo\u001b[0m\u001b[0;34m(\u001b[0m\u001b[0;34m\"Creating training-job with name: %s\"\u001b[0m\u001b[0;34m,\u001b[0m \u001b[0mjob_name\u001b[0m\u001b[0;34m)\u001b[0m\u001b[0;34m\u001b[0m\u001b[0;34m\u001b[0m\u001b[0m\n\u001b[1;32m    844\u001b[0m             \u001b[0mLOGGER\u001b[0m\u001b[0;34m.\u001b[0m\u001b[0mdebug\u001b[0m\u001b[0;34m(\u001b[0m\u001b[0;34m\"train request: %s\"\u001b[0m\u001b[0;34m,\u001b[0m \u001b[0mjson\u001b[0m\u001b[0;34m.\u001b[0m\u001b[0mdumps\u001b[0m\u001b[0;34m(\u001b[0m\u001b[0mrequest\u001b[0m\u001b[0;34m,\u001b[0m \u001b[0mindent\u001b[0m\u001b[0;34m=\u001b[0m\u001b[0;36m4\u001b[0m\u001b[0;34m)\u001b[0m\u001b[0;34m)\u001b[0m\u001b[0;34m\u001b[0m\u001b[0;34m\u001b[0m\u001b[0m\n\u001b[0;32m--> 845\u001b[0;31m             \u001b[0mself\u001b[0m\u001b[0;34m.\u001b[0m\u001b[0msagemaker_client\u001b[0m\u001b[0;34m.\u001b[0m\u001b[0mcreate_training_job\u001b[0m\u001b[0;34m(\u001b[0m\u001b[0;34m**\u001b[0m\u001b[0mrequest\u001b[0m\u001b[0;34m)\u001b[0m\u001b[0;34m\u001b[0m\u001b[0;34m\u001b[0m\u001b[0m\n\u001b[0m\u001b[1;32m    846\u001b[0m \u001b[0;34m\u001b[0m\u001b[0m\n\u001b[1;32m    847\u001b[0m         \u001b[0mself\u001b[0m\u001b[0;34m.\u001b[0m\u001b[0m_intercept_create_request\u001b[0m\u001b[0;34m(\u001b[0m\u001b[0mtrain_request\u001b[0m\u001b[0;34m,\u001b[0m \u001b[0msubmit\u001b[0m\u001b[0;34m,\u001b[0m \u001b[0mself\u001b[0m\u001b[0;34m.\u001b[0m\u001b[0mtrain\u001b[0m\u001b[0;34m.\u001b[0m\u001b[0m__name__\u001b[0m\u001b[0;34m)\u001b[0m\u001b[0;34m\u001b[0m\u001b[0;34m\u001b[0m\u001b[0m\n",
      "\u001b[0;32m/opt/conda/lib/python3.7/site-packages/botocore/client.py\u001b[0m in \u001b[0;36m_api_call\u001b[0;34m(self, *args, **kwargs)\u001b[0m\n\u001b[1;32m    528\u001b[0m                 )\n\u001b[1;32m    529\u001b[0m             \u001b[0;31m# The \"self\" in this scope is referring to the BaseClient.\u001b[0m\u001b[0;34m\u001b[0m\u001b[0;34m\u001b[0m\u001b[0;34m\u001b[0m\u001b[0m\n\u001b[0;32m--> 530\u001b[0;31m             \u001b[0;32mreturn\u001b[0m \u001b[0mself\u001b[0m\u001b[0;34m.\u001b[0m\u001b[0m_make_api_call\u001b[0m\u001b[0;34m(\u001b[0m\u001b[0moperation_name\u001b[0m\u001b[0;34m,\u001b[0m \u001b[0mkwargs\u001b[0m\u001b[0;34m)\u001b[0m\u001b[0;34m\u001b[0m\u001b[0;34m\u001b[0m\u001b[0m\n\u001b[0m\u001b[1;32m    531\u001b[0m \u001b[0;34m\u001b[0m\u001b[0m\n\u001b[1;32m    532\u001b[0m         \u001b[0m_api_call\u001b[0m\u001b[0;34m.\u001b[0m\u001b[0m__name__\u001b[0m \u001b[0;34m=\u001b[0m \u001b[0mstr\u001b[0m\u001b[0;34m(\u001b[0m\u001b[0mpy_operation_name\u001b[0m\u001b[0;34m)\u001b[0m\u001b[0;34m\u001b[0m\u001b[0;34m\u001b[0m\u001b[0m\n",
      "\u001b[0;32m/opt/conda/lib/python3.7/site-packages/botocore/client.py\u001b[0m in \u001b[0;36m_make_api_call\u001b[0;34m(self, operation_name, api_params)\u001b[0m\n\u001b[1;32m    958\u001b[0m             \u001b[0merror_code\u001b[0m \u001b[0;34m=\u001b[0m \u001b[0mparsed_response\u001b[0m\u001b[0;34m.\u001b[0m\u001b[0mget\u001b[0m\u001b[0;34m(\u001b[0m\u001b[0;34m\"Error\"\u001b[0m\u001b[0;34m,\u001b[0m \u001b[0;34m{\u001b[0m\u001b[0;34m}\u001b[0m\u001b[0;34m)\u001b[0m\u001b[0;34m.\u001b[0m\u001b[0mget\u001b[0m\u001b[0;34m(\u001b[0m\u001b[0;34m\"Code\"\u001b[0m\u001b[0;34m)\u001b[0m\u001b[0;34m\u001b[0m\u001b[0;34m\u001b[0m\u001b[0m\n\u001b[1;32m    959\u001b[0m             \u001b[0merror_class\u001b[0m \u001b[0;34m=\u001b[0m \u001b[0mself\u001b[0m\u001b[0;34m.\u001b[0m\u001b[0mexceptions\u001b[0m\u001b[0;34m.\u001b[0m\u001b[0mfrom_code\u001b[0m\u001b[0;34m(\u001b[0m\u001b[0merror_code\u001b[0m\u001b[0;34m)\u001b[0m\u001b[0;34m\u001b[0m\u001b[0;34m\u001b[0m\u001b[0m\n\u001b[0;32m--> 960\u001b[0;31m             \u001b[0;32mraise\u001b[0m \u001b[0merror_class\u001b[0m\u001b[0;34m(\u001b[0m\u001b[0mparsed_response\u001b[0m\u001b[0;34m,\u001b[0m \u001b[0moperation_name\u001b[0m\u001b[0;34m)\u001b[0m\u001b[0;34m\u001b[0m\u001b[0;34m\u001b[0m\u001b[0m\n\u001b[0m\u001b[1;32m    961\u001b[0m         \u001b[0;32melse\u001b[0m\u001b[0;34m:\u001b[0m\u001b[0;34m\u001b[0m\u001b[0;34m\u001b[0m\u001b[0m\n\u001b[1;32m    962\u001b[0m             \u001b[0;32mreturn\u001b[0m \u001b[0mparsed_response\u001b[0m\u001b[0;34m\u001b[0m\u001b[0;34m\u001b[0m\u001b[0m\n",
      "\u001b[0;31mClientError\u001b[0m: An error occurred (AccessDeniedException) when calling the CreateTrainingJob operation: User: arn:aws:sts::898900188658:assumed-role/LabRole/SageMaker is not authorized to perform: sagemaker:CreateTrainingJob on resource: arn:aws:sagemaker:us-east-1:898900188658:training-job/knn-2023-04-10-22-49-06-277 with an explicit deny in an identity-based policy"
     ]
    }
   ],
   "source": [
    "# run actual training job\n",
    "prefix = 'raw_files/train'\n",
    "hyperparams = {\"feature_dim\": 54, \"k\": 10, \"sample_size\": 200000, \"predictor_type\": \"classifier\"}\n",
    "output_path = f\"s3://{bucket}/{prefix}\"\n",
    "\"\"\"\n",
    "knn_estimator = trained_estimator_from_hyperparams(\n",
    "    s3_train_data, hyperparams, output_path, s3_test_data=s3_test_data\n",
    ")\n",
    "\"\"\"\n",
    "knn_estimator = trained_estimator_from_hyperparams(\n",
    "    s3_input_train, hyperparams, output_path, s3_test_data=s3_input_test\n",
    ")"
   ]
  },
  {
   "cell_type": "code",
   "execution_count": null,
   "id": "5a995e33-02a6-4938-9428-7336b993e7a4",
   "metadata": {},
   "outputs": [],
   "source": [
    "def predictor_from_estimator(knn_estimator, estimator_name, instance_type, endpoint_name=None):\n",
    "    knn_predictor = knn_estimator.deploy(\n",
    "        initial_instance_count=1, instance_type=instance_type, endpoint_name=endpoint_name\n",
    "    )\n",
    "    knn_predictor.serializer = CSVSerializer()\n",
    "    knn_predictor.deserializer = JSONDeserializer()\n",
    "    return knn_predictor"
   ]
  },
  {
   "cell_type": "code",
   "execution_count": null,
   "id": "43c803a6-8eb0-48fd-81b7-8d008fd9df4c",
   "metadata": {},
   "outputs": [],
   "source": [
    "import time\n",
    "\n",
    "instance_type = \"ml.m4.xlarge\"\n",
    "model_name = \"knn_%s\" % instance_type\n",
    "endpoint_name = \"knn-ml-m4-xlarge-%s\" % (str(time.time()).replace(\".\", \"-\"))\n",
    "print(\"setting up the endpoint..\")\n",
    "predictor = predictor_from_estimator(\n",
    "    knn_estimator, model_name, instance_type, endpoint_name=endpoint_name\n",
    ")"
   ]
  },
  {
   "cell_type": "code",
   "execution_count": null,
   "id": "f98e114d-1af9-4a86-a19f-9fe1edcd6f9f",
   "metadata": {},
   "outputs": [],
   "source": []
  },
  {
   "cell_type": "markdown",
   "id": "08ddcbd0-d690-4cd6-b6bf-c3af1e6c0ea1",
   "metadata": {},
   "source": [
    "## Neural Network"
   ]
  },
  {
   "cell_type": "code",
   "execution_count": null,
   "id": "0f0c57da-76f0-4ae1-ae03-bde87cb86aeb",
   "metadata": {},
   "outputs": [],
   "source": []
  },
  {
   "cell_type": "code",
   "execution_count": null,
   "id": "fd4db9a0-fdd1-4c95-bc9a-770dcb5f087a",
   "metadata": {},
   "outputs": [],
   "source": []
  },
  {
   "cell_type": "code",
   "execution_count": null,
   "id": "1c1c8d96-e725-4a86-9564-fa815e7cb92f",
   "metadata": {},
   "outputs": [],
   "source": []
  }
 ],
 "metadata": {
  "availableInstances": [
   {
    "_defaultOrder": 0,
    "_isFastLaunch": true,
    "category": "General purpose",
    "gpuNum": 0,
    "hideHardwareSpecs": false,
    "memoryGiB": 4,
    "name": "ml.t3.medium",
    "vcpuNum": 2
   },
   {
    "_defaultOrder": 1,
    "_isFastLaunch": false,
    "category": "General purpose",
    "gpuNum": 0,
    "hideHardwareSpecs": false,
    "memoryGiB": 8,
    "name": "ml.t3.large",
    "vcpuNum": 2
   },
   {
    "_defaultOrder": 2,
    "_isFastLaunch": false,
    "category": "General purpose",
    "gpuNum": 0,
    "hideHardwareSpecs": false,
    "memoryGiB": 16,
    "name": "ml.t3.xlarge",
    "vcpuNum": 4
   },
   {
    "_defaultOrder": 3,
    "_isFastLaunch": false,
    "category": "General purpose",
    "gpuNum": 0,
    "hideHardwareSpecs": false,
    "memoryGiB": 32,
    "name": "ml.t3.2xlarge",
    "vcpuNum": 8
   },
   {
    "_defaultOrder": 4,
    "_isFastLaunch": true,
    "category": "General purpose",
    "gpuNum": 0,
    "hideHardwareSpecs": false,
    "memoryGiB": 8,
    "name": "ml.m5.large",
    "vcpuNum": 2
   },
   {
    "_defaultOrder": 5,
    "_isFastLaunch": false,
    "category": "General purpose",
    "gpuNum": 0,
    "hideHardwareSpecs": false,
    "memoryGiB": 16,
    "name": "ml.m5.xlarge",
    "vcpuNum": 4
   },
   {
    "_defaultOrder": 6,
    "_isFastLaunch": false,
    "category": "General purpose",
    "gpuNum": 0,
    "hideHardwareSpecs": false,
    "memoryGiB": 32,
    "name": "ml.m5.2xlarge",
    "vcpuNum": 8
   },
   {
    "_defaultOrder": 7,
    "_isFastLaunch": false,
    "category": "General purpose",
    "gpuNum": 0,
    "hideHardwareSpecs": false,
    "memoryGiB": 64,
    "name": "ml.m5.4xlarge",
    "vcpuNum": 16
   },
   {
    "_defaultOrder": 8,
    "_isFastLaunch": false,
    "category": "General purpose",
    "gpuNum": 0,
    "hideHardwareSpecs": false,
    "memoryGiB": 128,
    "name": "ml.m5.8xlarge",
    "vcpuNum": 32
   },
   {
    "_defaultOrder": 9,
    "_isFastLaunch": false,
    "category": "General purpose",
    "gpuNum": 0,
    "hideHardwareSpecs": false,
    "memoryGiB": 192,
    "name": "ml.m5.12xlarge",
    "vcpuNum": 48
   },
   {
    "_defaultOrder": 10,
    "_isFastLaunch": false,
    "category": "General purpose",
    "gpuNum": 0,
    "hideHardwareSpecs": false,
    "memoryGiB": 256,
    "name": "ml.m5.16xlarge",
    "vcpuNum": 64
   },
   {
    "_defaultOrder": 11,
    "_isFastLaunch": false,
    "category": "General purpose",
    "gpuNum": 0,
    "hideHardwareSpecs": false,
    "memoryGiB": 384,
    "name": "ml.m5.24xlarge",
    "vcpuNum": 96
   },
   {
    "_defaultOrder": 12,
    "_isFastLaunch": false,
    "category": "General purpose",
    "gpuNum": 0,
    "hideHardwareSpecs": false,
    "memoryGiB": 8,
    "name": "ml.m5d.large",
    "vcpuNum": 2
   },
   {
    "_defaultOrder": 13,
    "_isFastLaunch": false,
    "category": "General purpose",
    "gpuNum": 0,
    "hideHardwareSpecs": false,
    "memoryGiB": 16,
    "name": "ml.m5d.xlarge",
    "vcpuNum": 4
   },
   {
    "_defaultOrder": 14,
    "_isFastLaunch": false,
    "category": "General purpose",
    "gpuNum": 0,
    "hideHardwareSpecs": false,
    "memoryGiB": 32,
    "name": "ml.m5d.2xlarge",
    "vcpuNum": 8
   },
   {
    "_defaultOrder": 15,
    "_isFastLaunch": false,
    "category": "General purpose",
    "gpuNum": 0,
    "hideHardwareSpecs": false,
    "memoryGiB": 64,
    "name": "ml.m5d.4xlarge",
    "vcpuNum": 16
   },
   {
    "_defaultOrder": 16,
    "_isFastLaunch": false,
    "category": "General purpose",
    "gpuNum": 0,
    "hideHardwareSpecs": false,
    "memoryGiB": 128,
    "name": "ml.m5d.8xlarge",
    "vcpuNum": 32
   },
   {
    "_defaultOrder": 17,
    "_isFastLaunch": false,
    "category": "General purpose",
    "gpuNum": 0,
    "hideHardwareSpecs": false,
    "memoryGiB": 192,
    "name": "ml.m5d.12xlarge",
    "vcpuNum": 48
   },
   {
    "_defaultOrder": 18,
    "_isFastLaunch": false,
    "category": "General purpose",
    "gpuNum": 0,
    "hideHardwareSpecs": false,
    "memoryGiB": 256,
    "name": "ml.m5d.16xlarge",
    "vcpuNum": 64
   },
   {
    "_defaultOrder": 19,
    "_isFastLaunch": false,
    "category": "General purpose",
    "gpuNum": 0,
    "hideHardwareSpecs": false,
    "memoryGiB": 384,
    "name": "ml.m5d.24xlarge",
    "vcpuNum": 96
   },
   {
    "_defaultOrder": 20,
    "_isFastLaunch": false,
    "category": "General purpose",
    "gpuNum": 0,
    "hideHardwareSpecs": true,
    "memoryGiB": 0,
    "name": "ml.geospatial.interactive",
    "supportedImageNames": [
     "sagemaker-geospatial-v1-0"
    ],
    "vcpuNum": 0
   },
   {
    "_defaultOrder": 21,
    "_isFastLaunch": true,
    "category": "Compute optimized",
    "gpuNum": 0,
    "hideHardwareSpecs": false,
    "memoryGiB": 4,
    "name": "ml.c5.large",
    "vcpuNum": 2
   },
   {
    "_defaultOrder": 22,
    "_isFastLaunch": false,
    "category": "Compute optimized",
    "gpuNum": 0,
    "hideHardwareSpecs": false,
    "memoryGiB": 8,
    "name": "ml.c5.xlarge",
    "vcpuNum": 4
   },
   {
    "_defaultOrder": 23,
    "_isFastLaunch": false,
    "category": "Compute optimized",
    "gpuNum": 0,
    "hideHardwareSpecs": false,
    "memoryGiB": 16,
    "name": "ml.c5.2xlarge",
    "vcpuNum": 8
   },
   {
    "_defaultOrder": 24,
    "_isFastLaunch": false,
    "category": "Compute optimized",
    "gpuNum": 0,
    "hideHardwareSpecs": false,
    "memoryGiB": 32,
    "name": "ml.c5.4xlarge",
    "vcpuNum": 16
   },
   {
    "_defaultOrder": 25,
    "_isFastLaunch": false,
    "category": "Compute optimized",
    "gpuNum": 0,
    "hideHardwareSpecs": false,
    "memoryGiB": 72,
    "name": "ml.c5.9xlarge",
    "vcpuNum": 36
   },
   {
    "_defaultOrder": 26,
    "_isFastLaunch": false,
    "category": "Compute optimized",
    "gpuNum": 0,
    "hideHardwareSpecs": false,
    "memoryGiB": 96,
    "name": "ml.c5.12xlarge",
    "vcpuNum": 48
   },
   {
    "_defaultOrder": 27,
    "_isFastLaunch": false,
    "category": "Compute optimized",
    "gpuNum": 0,
    "hideHardwareSpecs": false,
    "memoryGiB": 144,
    "name": "ml.c5.18xlarge",
    "vcpuNum": 72
   },
   {
    "_defaultOrder": 28,
    "_isFastLaunch": false,
    "category": "Compute optimized",
    "gpuNum": 0,
    "hideHardwareSpecs": false,
    "memoryGiB": 192,
    "name": "ml.c5.24xlarge",
    "vcpuNum": 96
   },
   {
    "_defaultOrder": 29,
    "_isFastLaunch": true,
    "category": "Accelerated computing",
    "gpuNum": 1,
    "hideHardwareSpecs": false,
    "memoryGiB": 16,
    "name": "ml.g4dn.xlarge",
    "vcpuNum": 4
   },
   {
    "_defaultOrder": 30,
    "_isFastLaunch": false,
    "category": "Accelerated computing",
    "gpuNum": 1,
    "hideHardwareSpecs": false,
    "memoryGiB": 32,
    "name": "ml.g4dn.2xlarge",
    "vcpuNum": 8
   },
   {
    "_defaultOrder": 31,
    "_isFastLaunch": false,
    "category": "Accelerated computing",
    "gpuNum": 1,
    "hideHardwareSpecs": false,
    "memoryGiB": 64,
    "name": "ml.g4dn.4xlarge",
    "vcpuNum": 16
   },
   {
    "_defaultOrder": 32,
    "_isFastLaunch": false,
    "category": "Accelerated computing",
    "gpuNum": 1,
    "hideHardwareSpecs": false,
    "memoryGiB": 128,
    "name": "ml.g4dn.8xlarge",
    "vcpuNum": 32
   },
   {
    "_defaultOrder": 33,
    "_isFastLaunch": false,
    "category": "Accelerated computing",
    "gpuNum": 4,
    "hideHardwareSpecs": false,
    "memoryGiB": 192,
    "name": "ml.g4dn.12xlarge",
    "vcpuNum": 48
   },
   {
    "_defaultOrder": 34,
    "_isFastLaunch": false,
    "category": "Accelerated computing",
    "gpuNum": 1,
    "hideHardwareSpecs": false,
    "memoryGiB": 256,
    "name": "ml.g4dn.16xlarge",
    "vcpuNum": 64
   },
   {
    "_defaultOrder": 35,
    "_isFastLaunch": false,
    "category": "Accelerated computing",
    "gpuNum": 1,
    "hideHardwareSpecs": false,
    "memoryGiB": 61,
    "name": "ml.p3.2xlarge",
    "vcpuNum": 8
   },
   {
    "_defaultOrder": 36,
    "_isFastLaunch": false,
    "category": "Accelerated computing",
    "gpuNum": 4,
    "hideHardwareSpecs": false,
    "memoryGiB": 244,
    "name": "ml.p3.8xlarge",
    "vcpuNum": 32
   },
   {
    "_defaultOrder": 37,
    "_isFastLaunch": false,
    "category": "Accelerated computing",
    "gpuNum": 8,
    "hideHardwareSpecs": false,
    "memoryGiB": 488,
    "name": "ml.p3.16xlarge",
    "vcpuNum": 64
   },
   {
    "_defaultOrder": 38,
    "_isFastLaunch": false,
    "category": "Accelerated computing",
    "gpuNum": 8,
    "hideHardwareSpecs": false,
    "memoryGiB": 768,
    "name": "ml.p3dn.24xlarge",
    "vcpuNum": 96
   },
   {
    "_defaultOrder": 39,
    "_isFastLaunch": false,
    "category": "Memory Optimized",
    "gpuNum": 0,
    "hideHardwareSpecs": false,
    "memoryGiB": 16,
    "name": "ml.r5.large",
    "vcpuNum": 2
   },
   {
    "_defaultOrder": 40,
    "_isFastLaunch": false,
    "category": "Memory Optimized",
    "gpuNum": 0,
    "hideHardwareSpecs": false,
    "memoryGiB": 32,
    "name": "ml.r5.xlarge",
    "vcpuNum": 4
   },
   {
    "_defaultOrder": 41,
    "_isFastLaunch": false,
    "category": "Memory Optimized",
    "gpuNum": 0,
    "hideHardwareSpecs": false,
    "memoryGiB": 64,
    "name": "ml.r5.2xlarge",
    "vcpuNum": 8
   },
   {
    "_defaultOrder": 42,
    "_isFastLaunch": false,
    "category": "Memory Optimized",
    "gpuNum": 0,
    "hideHardwareSpecs": false,
    "memoryGiB": 128,
    "name": "ml.r5.4xlarge",
    "vcpuNum": 16
   },
   {
    "_defaultOrder": 43,
    "_isFastLaunch": false,
    "category": "Memory Optimized",
    "gpuNum": 0,
    "hideHardwareSpecs": false,
    "memoryGiB": 256,
    "name": "ml.r5.8xlarge",
    "vcpuNum": 32
   },
   {
    "_defaultOrder": 44,
    "_isFastLaunch": false,
    "category": "Memory Optimized",
    "gpuNum": 0,
    "hideHardwareSpecs": false,
    "memoryGiB": 384,
    "name": "ml.r5.12xlarge",
    "vcpuNum": 48
   },
   {
    "_defaultOrder": 45,
    "_isFastLaunch": false,
    "category": "Memory Optimized",
    "gpuNum": 0,
    "hideHardwareSpecs": false,
    "memoryGiB": 512,
    "name": "ml.r5.16xlarge",
    "vcpuNum": 64
   },
   {
    "_defaultOrder": 46,
    "_isFastLaunch": false,
    "category": "Memory Optimized",
    "gpuNum": 0,
    "hideHardwareSpecs": false,
    "memoryGiB": 768,
    "name": "ml.r5.24xlarge",
    "vcpuNum": 96
   },
   {
    "_defaultOrder": 47,
    "_isFastLaunch": false,
    "category": "Accelerated computing",
    "gpuNum": 1,
    "hideHardwareSpecs": false,
    "memoryGiB": 16,
    "name": "ml.g5.xlarge",
    "vcpuNum": 4
   },
   {
    "_defaultOrder": 48,
    "_isFastLaunch": false,
    "category": "Accelerated computing",
    "gpuNum": 1,
    "hideHardwareSpecs": false,
    "memoryGiB": 32,
    "name": "ml.g5.2xlarge",
    "vcpuNum": 8
   },
   {
    "_defaultOrder": 49,
    "_isFastLaunch": false,
    "category": "Accelerated computing",
    "gpuNum": 1,
    "hideHardwareSpecs": false,
    "memoryGiB": 64,
    "name": "ml.g5.4xlarge",
    "vcpuNum": 16
   },
   {
    "_defaultOrder": 50,
    "_isFastLaunch": false,
    "category": "Accelerated computing",
    "gpuNum": 1,
    "hideHardwareSpecs": false,
    "memoryGiB": 128,
    "name": "ml.g5.8xlarge",
    "vcpuNum": 32
   },
   {
    "_defaultOrder": 51,
    "_isFastLaunch": false,
    "category": "Accelerated computing",
    "gpuNum": 1,
    "hideHardwareSpecs": false,
    "memoryGiB": 256,
    "name": "ml.g5.16xlarge",
    "vcpuNum": 64
   },
   {
    "_defaultOrder": 52,
    "_isFastLaunch": false,
    "category": "Accelerated computing",
    "gpuNum": 4,
    "hideHardwareSpecs": false,
    "memoryGiB": 192,
    "name": "ml.g5.12xlarge",
    "vcpuNum": 48
   },
   {
    "_defaultOrder": 53,
    "_isFastLaunch": false,
    "category": "Accelerated computing",
    "gpuNum": 4,
    "hideHardwareSpecs": false,
    "memoryGiB": 384,
    "name": "ml.g5.24xlarge",
    "vcpuNum": 96
   },
   {
    "_defaultOrder": 54,
    "_isFastLaunch": false,
    "category": "Accelerated computing",
    "gpuNum": 8,
    "hideHardwareSpecs": false,
    "memoryGiB": 768,
    "name": "ml.g5.48xlarge",
    "vcpuNum": 192
   }
  ],
  "instance_type": "ml.t3.medium",
  "kernelspec": {
   "display_name": "Python 3 (Data Science)",
   "language": "python",
   "name": "python3__SAGEMAKER_INTERNAL__arn:aws:sagemaker:us-east-1:081325390199:image/datascience-1.0"
  },
  "language_info": {
   "codemirror_mode": {
    "name": "ipython",
    "version": 3
   },
   "file_extension": ".py",
   "mimetype": "text/x-python",
   "name": "python",
   "nbconvert_exporter": "python",
   "pygments_lexer": "ipython3",
   "version": "3.7.10"
  }
 },
 "nbformat": 4,
 "nbformat_minor": 5
}
