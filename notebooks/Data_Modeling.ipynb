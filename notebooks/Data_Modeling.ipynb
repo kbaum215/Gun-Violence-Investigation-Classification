{
 "cells": [
  {
   "cell_type": "markdown",
   "id": "39ea8077-3237-4556-9ad0-afac1f4470e4",
   "metadata": {},
   "source": [
    "## Import Libraries"
   ]
  },
  {
   "cell_type": "code",
   "execution_count": 2,
   "id": "eaa6032a-09dc-4b03-979e-76ce4be1eaa4",
   "metadata": {
    "tags": []
   },
   "outputs": [
    {
     "name": "stdout",
     "output_type": "stream",
     "text": [
      "\u001b[33mWARNING: The directory '/root/.cache/pip' or its parent directory is not owned or is not writable by the current user. The cache has been disabled. Check the permissions and owner of that directory. If executing pip with sudo, you should use sudo's -H flag.\u001b[0m\u001b[33m\n",
      "\u001b[0mRequirement already satisfied: xgboost in /opt/conda/lib/python3.7/site-packages (1.6.2)\n",
      "Requirement already satisfied: scipy in /opt/conda/lib/python3.7/site-packages (from xgboost) (1.4.1)\n",
      "Requirement already satisfied: numpy in /opt/conda/lib/python3.7/site-packages (from xgboost) (1.21.6)\n",
      "\u001b[33mWARNING: Running pip as the 'root' user can result in broken permissions and conflicting behaviour with the system package manager. It is recommended to use a virtual environment instead: https://pip.pypa.io/warnings/venv\u001b[0m\u001b[33m\n",
      "\u001b[0m\u001b[33mWARNING: The directory '/root/.cache/pip' or its parent directory is not owned or is not writable by the current user. The cache has been disabled. Check the permissions and owner of that directory. If executing pip with sudo, you should use sudo's -H flag.\u001b[0m\u001b[33m\n",
      "\u001b[0m\u001b[33mWARNING: Running pip as the 'root' user can result in broken permissions and conflicting behaviour with the system package manager. It is recommended to use a virtual environment instead: https://pip.pypa.io/warnings/venv\u001b[0m\u001b[33m\n",
      "\u001b[0m"
     ]
    }
   ],
   "source": [
    "import boto3\n",
    "import sagemaker\n",
    "import time\n",
    "import io\n",
    "from sklearn.neighbors import KNeighborsClassifier\n",
    "from time import gmtime, strftime\n",
    "from sklearn.model_selection import train_test_split\n",
    "from sklearn.model_selection import GridSearchCV\n",
    "from sklearn.neural_network import MLPClassifier\n",
    "!pip install xgboost\n",
    "import xgboost as xgb\n",
    "from sklearn.metrics import confusion_matrix, classification_report, roc_curve, roc_auc_score, plot_confusion_matrix, accuracy_score\n",
    "import pandas as pd\n",
    "import numpy as np\n",
    "!pip install --disable-pip-version-check -q PyAthena==2.1.0\n",
    "from pyathena import connect\n",
    "from tqdm import tqdm  "
   ]
  },
  {
   "cell_type": "markdown",
   "id": "70a983fb-8b23-4414-a0b0-c732025c39dd",
   "metadata": {},
   "source": [
    "## Setup SageMaker Boto3 Connection"
   ]
  },
  {
   "cell_type": "code",
   "execution_count": 3,
   "id": "4df9f3d3-a5fe-4990-9a07-03af2c28f3b9",
   "metadata": {
    "tags": []
   },
   "outputs": [],
   "source": [
    "region = boto3.Session().region_name\n",
    "session = boto3.session.Session()\n",
    "\n",
    "ec2 = boto3.Session().client(service_name=\"ec2\", region_name=region)\n",
    "sm = boto3.Session().client(service_name=\"sagemaker\", region_name=region)"
   ]
  },
  {
   "cell_type": "code",
   "execution_count": 4,
   "id": "fe81a7de-fc8a-4ed2-b4f0-6aa8bda96c4c",
   "metadata": {
    "tags": []
   },
   "outputs": [],
   "source": [
    "sagemaker_session = sagemaker.Session()\n",
    "role = sagemaker.get_execution_role()\n",
    "bucket = sagemaker_session.default_bucket()\n",
    "region = boto3.Session().region_name\n",
    "\n",
    "from botocore.config import Config\n",
    "\n",
    "config = Config(retries={\"max_attempts\": 10, \"mode\": \"adaptive\"})\n",
    "\n",
    "iam = boto3.client(\"iam\", config=config)"
   ]
  },
  {
   "cell_type": "code",
   "execution_count": 5,
   "id": "accbced0-49d3-45d6-b6ad-f7c4ec187755",
   "metadata": {
    "tags": []
   },
   "outputs": [
    {
     "name": "stdout",
     "output_type": "stream",
     "text": [
      "Role name: LabRole\n"
     ]
    }
   ],
   "source": [
    "role_name = role.split(\"/\")[-1]\n",
    "\n",
    "print(\"Role name: {}\".format(role_name))"
   ]
  },
  {
   "cell_type": "code",
   "execution_count": 6,
   "id": "1bf1a35d-ee36-4476-b429-d4e9bb144515",
   "metadata": {
    "tags": []
   },
   "outputs": [
    {
     "data": {
      "text/plain": [
       "'sagemaker-us-east-1-458903497716'"
      ]
     },
     "execution_count": 6,
     "metadata": {},
     "output_type": "execute_result"
    }
   ],
   "source": [
    "sess = sagemaker.Session()\n",
    "bucket = '{}'.format(bucket)\n",
    "role = sagemaker.get_execution_role()\n",
    "region = boto3.Session().region_name\n",
    "bucket"
   ]
  },
  {
   "cell_type": "code",
   "execution_count": 7,
   "id": "4dd63ed3-0962-4e30-91b9-32516573dd01",
   "metadata": {
    "tags": []
   },
   "outputs": [],
   "source": [
    "# Assign database name\n",
    "database_name = \"ads508\""
   ]
  },
  {
   "cell_type": "code",
   "execution_count": 8,
   "id": "3aab204d-0b15-49ed-9e56-0f48e06a2942",
   "metadata": {
    "tags": []
   },
   "outputs": [],
   "source": [
    "# Set S3 staging directory -- this is a temporary directory used for Athena queries\n",
    "s3_staging_dir = \"s3://{0}/athena/staging\".format(bucket)"
   ]
  },
  {
   "cell_type": "code",
   "execution_count": 9,
   "id": "03803e08-ae58-432b-97b1-5487c6a931c3",
   "metadata": {
    "tags": []
   },
   "outputs": [],
   "source": [
    "conn = connect(region_name=region, s3_staging_dir=s3_staging_dir)"
   ]
  },
  {
   "cell_type": "code",
   "execution_count": 10,
   "id": "35c123d4-7c06-4c0e-a8eb-58ecb0ee661f",
   "metadata": {
    "tags": []
   },
   "outputs": [
    {
     "data": {
      "text/html": [
       "<div>\n",
       "<style scoped>\n",
       "    .dataframe tbody tr th:only-of-type {\n",
       "        vertical-align: middle;\n",
       "    }\n",
       "\n",
       "    .dataframe tbody tr th {\n",
       "        vertical-align: top;\n",
       "    }\n",
       "\n",
       "    .dataframe thead th {\n",
       "        text-align: right;\n",
       "    }\n",
       "</style>\n",
       "<table border=\"1\" class=\"dataframe\">\n",
       "  <thead>\n",
       "    <tr style=\"text-align: right;\">\n",
       "      <th></th>\n",
       "    </tr>\n",
       "  </thead>\n",
       "  <tbody>\n",
       "  </tbody>\n",
       "</table>\n",
       "</div>"
      ],
      "text/plain": [
       "Empty DataFrame\n",
       "Columns: []\n",
       "Index: []"
      ]
     },
     "execution_count": 10,
     "metadata": {},
     "output_type": "execute_result"
    }
   ],
   "source": [
    "# Create new database 'ads508'\n",
    "statement = \"CREATE DATABASE IF NOT EXISTS {}\".format(database_name)\n",
    "create_db = pd.read_sql(statement, conn)\n",
    "create_db"
   ]
  },
  {
   "cell_type": "code",
   "execution_count": 11,
   "id": "a72aba22-8a5a-4e12-ab65-0b5827f5683d",
   "metadata": {
    "tags": []
   },
   "outputs": [
    {
     "data": {
      "text/html": [
       "<div>\n",
       "<style scoped>\n",
       "    .dataframe tbody tr th:only-of-type {\n",
       "        vertical-align: middle;\n",
       "    }\n",
       "\n",
       "    .dataframe tbody tr th {\n",
       "        vertical-align: top;\n",
       "    }\n",
       "\n",
       "    .dataframe thead th {\n",
       "        text-align: right;\n",
       "    }\n",
       "</style>\n",
       "<table border=\"1\" class=\"dataframe\">\n",
       "  <thead>\n",
       "    <tr style=\"text-align: right;\">\n",
       "      <th></th>\n",
       "      <th>database_name</th>\n",
       "    </tr>\n",
       "  </thead>\n",
       "  <tbody>\n",
       "    <tr>\n",
       "      <th>0</th>\n",
       "      <td>ads508</td>\n",
       "    </tr>\n",
       "    <tr>\n",
       "      <th>1</th>\n",
       "      <td>default</td>\n",
       "    </tr>\n",
       "    <tr>\n",
       "      <th>2</th>\n",
       "      <td>dsoaws</td>\n",
       "    </tr>\n",
       "    <tr>\n",
       "      <th>3</th>\n",
       "      <td>sagemaker_featurestore</td>\n",
       "    </tr>\n",
       "  </tbody>\n",
       "</table>\n",
       "</div>"
      ],
      "text/plain": [
       "            database_name\n",
       "0                  ads508\n",
       "1                 default\n",
       "2                  dsoaws\n",
       "3  sagemaker_featurestore"
      ]
     },
     "execution_count": 11,
     "metadata": {},
     "output_type": "execute_result"
    }
   ],
   "source": [
    "# Verify database creation\n",
    "q = \"SHOW DATABASES\"\n",
    "db_show = pd.read_sql(q, conn)\n",
    "db_show"
   ]
  },
  {
   "cell_type": "code",
   "execution_count": 12,
   "id": "0807c6ce-9de7-470d-bb11-14cc83bee92d",
   "metadata": {
    "tags": []
   },
   "outputs": [
    {
     "name": "stdout",
     "output_type": "stream",
     "text": [
      "https://raw.githubusercontent.com/vivianndo/ads508_gunviolence/main/generated_data/data_for_modeling.csv\n"
     ]
    }
   ],
   "source": [
    "# Set Athena parameters\n",
    "database_name = \"ads508\"\n",
    "model_table_name_csv = \"modeling\"\n",
    "model_s3_path = \"s3://{}/modeling_data\".format(bucket)\n",
    "model_s3_path=\"s3://sagemaker-studio-458903497716-h2kl4ff3dz/modeling/data_for_modeling.csv\"\n",
    "model_s3_path =\"https://raw.githubusercontent.com/vivianndo/ads508_gunviolence/main/generated_data/data_for_modeling.csv\"\n",
    "print(model_s3_path)"
   ]
  },
  {
   "cell_type": "code",
   "execution_count": 13,
   "id": "3213323e-5c83-47d1-b964-217a10e1af7e",
   "metadata": {
    "tags": []
   },
   "outputs": [
    {
     "data": {
      "text/html": [
       "<div>\n",
       "<style scoped>\n",
       "    .dataframe tbody tr th:only-of-type {\n",
       "        vertical-align: middle;\n",
       "    }\n",
       "\n",
       "    .dataframe tbody tr th {\n",
       "        vertical-align: top;\n",
       "    }\n",
       "\n",
       "    .dataframe thead th {\n",
       "        text-align: right;\n",
       "    }\n",
       "</style>\n",
       "<table border=\"1\" class=\"dataframe\">\n",
       "  <thead>\n",
       "    <tr style=\"text-align: right;\">\n",
       "      <th></th>\n",
       "      <th>latitude</th>\n",
       "      <th>longitude</th>\n",
       "      <th>n_guns_involved</th>\n",
       "      <th>target_class</th>\n",
       "      <th>group_Democrat</th>\n",
       "      <th>suspect_age</th>\n",
       "      <th>ohe_drug</th>\n",
       "      <th>ohe_officer</th>\n",
       "      <th>ohe_gang</th>\n",
       "      <th>ohe_accident</th>\n",
       "      <th>...</th>\n",
       "      <th>suspect_age_group_Adult</th>\n",
       "      <th>suspect_age_group_Senior</th>\n",
       "      <th>region_East South Central</th>\n",
       "      <th>region_Middle Atlantic</th>\n",
       "      <th>region_Mountain</th>\n",
       "      <th>region_New England</th>\n",
       "      <th>region_Pacific</th>\n",
       "      <th>region_South Atlantic</th>\n",
       "      <th>region_West North Central</th>\n",
       "      <th>region_West South Central</th>\n",
       "    </tr>\n",
       "  </thead>\n",
       "  <tbody>\n",
       "    <tr>\n",
       "      <th>0</th>\n",
       "      <td>40.3467</td>\n",
       "      <td>-79.8559</td>\n",
       "      <td>1.0</td>\n",
       "      <td>1</td>\n",
       "      <td>1</td>\n",
       "      <td>Adult 18+</td>\n",
       "      <td>0</td>\n",
       "      <td>0</td>\n",
       "      <td>0</td>\n",
       "      <td>0</td>\n",
       "      <td>...</td>\n",
       "      <td>0</td>\n",
       "      <td>0</td>\n",
       "      <td>0</td>\n",
       "      <td>1</td>\n",
       "      <td>0</td>\n",
       "      <td>0</td>\n",
       "      <td>0</td>\n",
       "      <td>0</td>\n",
       "      <td>0</td>\n",
       "      <td>0</td>\n",
       "    </tr>\n",
       "    <tr>\n",
       "      <th>1</th>\n",
       "      <td>40.4555</td>\n",
       "      <td>-79.8970</td>\n",
       "      <td>1.0</td>\n",
       "      <td>1</td>\n",
       "      <td>1</td>\n",
       "      <td>NaN</td>\n",
       "      <td>0</td>\n",
       "      <td>0</td>\n",
       "      <td>0</td>\n",
       "      <td>1</td>\n",
       "      <td>...</td>\n",
       "      <td>0</td>\n",
       "      <td>0</td>\n",
       "      <td>0</td>\n",
       "      <td>1</td>\n",
       "      <td>0</td>\n",
       "      <td>0</td>\n",
       "      <td>0</td>\n",
       "      <td>0</td>\n",
       "      <td>0</td>\n",
       "      <td>0</td>\n",
       "    </tr>\n",
       "    <tr>\n",
       "      <th>2</th>\n",
       "      <td>33.9090</td>\n",
       "      <td>-118.3330</td>\n",
       "      <td>1.0</td>\n",
       "      <td>1</td>\n",
       "      <td>1</td>\n",
       "      <td>NaN</td>\n",
       "      <td>0</td>\n",
       "      <td>0</td>\n",
       "      <td>1</td>\n",
       "      <td>1</td>\n",
       "      <td>...</td>\n",
       "      <td>0</td>\n",
       "      <td>0</td>\n",
       "      <td>0</td>\n",
       "      <td>0</td>\n",
       "      <td>0</td>\n",
       "      <td>0</td>\n",
       "      <td>1</td>\n",
       "      <td>0</td>\n",
       "      <td>0</td>\n",
       "      <td>0</td>\n",
       "    </tr>\n",
       "    <tr>\n",
       "      <th>3</th>\n",
       "      <td>33.8447</td>\n",
       "      <td>-118.3070</td>\n",
       "      <td>1.0</td>\n",
       "      <td>1</td>\n",
       "      <td>1</td>\n",
       "      <td>Adult 18+</td>\n",
       "      <td>0</td>\n",
       "      <td>0</td>\n",
       "      <td>0</td>\n",
       "      <td>1</td>\n",
       "      <td>...</td>\n",
       "      <td>0</td>\n",
       "      <td>0</td>\n",
       "      <td>0</td>\n",
       "      <td>0</td>\n",
       "      <td>0</td>\n",
       "      <td>0</td>\n",
       "      <td>1</td>\n",
       "      <td>0</td>\n",
       "      <td>0</td>\n",
       "      <td>0</td>\n",
       "    </tr>\n",
       "    <tr>\n",
       "      <th>4</th>\n",
       "      <td>33.9454</td>\n",
       "      <td>-118.3990</td>\n",
       "      <td>1.0</td>\n",
       "      <td>1</td>\n",
       "      <td>1</td>\n",
       "      <td>NaN</td>\n",
       "      <td>0</td>\n",
       "      <td>0</td>\n",
       "      <td>0</td>\n",
       "      <td>1</td>\n",
       "      <td>...</td>\n",
       "      <td>0</td>\n",
       "      <td>0</td>\n",
       "      <td>0</td>\n",
       "      <td>0</td>\n",
       "      <td>0</td>\n",
       "      <td>0</td>\n",
       "      <td>1</td>\n",
       "      <td>0</td>\n",
       "      <td>0</td>\n",
       "      <td>0</td>\n",
       "    </tr>\n",
       "  </tbody>\n",
       "</table>\n",
       "<p>5 rows × 41 columns</p>\n",
       "</div>"
      ],
      "text/plain": [
       "   latitude  longitude  n_guns_involved  target_class  group_Democrat  \\\n",
       "0   40.3467   -79.8559              1.0             1               1   \n",
       "1   40.4555   -79.8970              1.0             1               1   \n",
       "2   33.9090  -118.3330              1.0             1               1   \n",
       "3   33.8447  -118.3070              1.0             1               1   \n",
       "4   33.9454  -118.3990              1.0             1               1   \n",
       "\n",
       "  suspect_age  ohe_drug  ohe_officer  ohe_gang  ohe_accident  ...  \\\n",
       "0   Adult 18+         0            0         0             0  ...   \n",
       "1         NaN         0            0         0             1  ...   \n",
       "2         NaN         0            0         1             1  ...   \n",
       "3   Adult 18+         0            0         0             1  ...   \n",
       "4         NaN         0            0         0             1  ...   \n",
       "\n",
       "   suspect_age_group_Adult  suspect_age_group_Senior  \\\n",
       "0                        0                         0   \n",
       "1                        0                         0   \n",
       "2                        0                         0   \n",
       "3                        0                         0   \n",
       "4                        0                         0   \n",
       "\n",
       "   region_East South Central  region_Middle Atlantic  region_Mountain  \\\n",
       "0                          0                       1                0   \n",
       "1                          0                       1                0   \n",
       "2                          0                       0                0   \n",
       "3                          0                       0                0   \n",
       "4                          0                       0                0   \n",
       "\n",
       "   region_New England  region_Pacific  region_South Atlantic  \\\n",
       "0                   0               0                      0   \n",
       "1                   0               0                      0   \n",
       "2                   0               1                      0   \n",
       "3                   0               1                      0   \n",
       "4                   0               1                      0   \n",
       "\n",
       "   region_West North Central  region_West South Central  \n",
       "0                          0                          0  \n",
       "1                          0                          0  \n",
       "2                          0                          0  \n",
       "3                          0                          0  \n",
       "4                          0                          0  \n",
       "\n",
       "[5 rows x 41 columns]"
      ]
     },
     "execution_count": 13,
     "metadata": {},
     "output_type": "execute_result"
    }
   ],
   "source": [
    "#df = pd.read_csv(\"{}/data_for_modeling.csv\".format(model_s3_path))\n",
    "#df = pd.read_csv(\"s3://sagemaker-studio-458903497716-h2kl4ff3dz/modeling/data_for_modeling.csv\")\n",
    "df = pd.read_csv(model_s3_path)\n",
    "df = df.drop(columns=['Unnamed: 0'])\n",
    "df.head()"
   ]
  },
  {
   "cell_type": "code",
   "execution_count": 14,
   "id": "1c1ed9f0-22bf-40b1-8954-44ebaeddba0d",
   "metadata": {
    "tags": []
   },
   "outputs": [],
   "source": [
    "# Drop suspect age\n",
    "df = df.drop(columns=['suspect_age'])\n",
    "# Drop all rows containing nan\n",
    "df = df.dropna()"
   ]
  },
  {
   "cell_type": "code",
   "execution_count": 15,
   "id": "eb4fa96a-479e-4ebd-a053-a8e22522f9b7",
   "metadata": {
    "tags": []
   },
   "outputs": [],
   "source": [
    "# drop all rows containing nan\n",
    "df_knn = df.dropna()"
   ]
  },
  {
   "cell_type": "markdown",
   "id": "e3de7ec3-6f56-4867-a294-930c524f1ba5",
   "metadata": {},
   "source": [
    "### Splitting the train, test, and validation first so that when the balancing takes place next, the validation and test datasets are not affected."
   ]
  },
  {
   "cell_type": "code",
   "execution_count": 16,
   "id": "4f720209-0236-477b-824c-96065a6c9c95",
   "metadata": {
    "tags": []
   },
   "outputs": [],
   "source": [
    "from sklearn.model_selection import train_test_split\n",
    "\n",
    "# Splitting all data into 90% train and 10% holdout\n",
    "df_train, df_holdout = train_test_split(\n",
    "        df,\n",
    "        test_size=0.10,\n",
    "    stratify=df['target_class'])\n",
    "\n",
    "# Splitting holdout data into 50% validation and 50% test\n",
    "df_validation, df_test = train_test_split(\n",
    "        df_holdout,\n",
    "        test_size=0.50,\n",
    "        stratify=df_holdout['target_class'])"
   ]
  },
  {
   "cell_type": "markdown",
   "id": "7d1fc513-278a-4f37-ab33-15a437668ef0",
   "metadata": {},
   "source": [
    "### Creating files for each subsection of the data: train, test, and output"
   ]
  },
  {
   "cell_type": "code",
   "execution_count": 17,
   "id": "06321eb4-ce6d-4a98-a22a-b1c1b9ca4ad3",
   "metadata": {
    "tags": []
   },
   "outputs": [],
   "source": [
    "# specifying the output file path\n",
    "df_train_output = \"../generated_data/df_train.csv\"\n",
    "df_test_output = \"../generated_data/df_test.csv\"\n",
    "df_validation_output = \"../generated_data/df_validation.csv\"\n",
    "\n",
    "# saving the DataFrame to a CSV file\n",
    "df_train.to_csv(df_train_output, index=False)\n",
    "df_test.to_csv(df_test_output, index=False)\n",
    "df_validation.to_csv(df_validation_output, index=False)\n"
   ]
  },
  {
   "cell_type": "markdown",
   "id": "e93c146f-3729-4e2a-9b4f-a62fc7c4adaa",
   "metadata": {},
   "source": [
    "### Displaying the initial count of the target class variable in the training dataset.\n",
    "We find that the class of 1 - which indicates someone was either injured or killed - is the majority class."
   ]
  },
  {
   "cell_type": "code",
   "execution_count": 18,
   "id": "61c5855b-ce3d-4008-b736-b1f1f848ebae",
   "metadata": {
    "tags": []
   },
   "outputs": [
    {
     "name": "stdout",
     "output_type": "stream",
     "text": [
      "1    118400\n",
      "0     79909\n",
      "Name: target_class, dtype: int64\n"
     ]
    }
   ],
   "source": [
    "# count the number of 0s and 1s in the 'outcome' column\n",
    "value_counts = df_train['target_class'].value_counts()\n",
    "\n",
    "# print the results\n",
    "print(value_counts)"
   ]
  },
  {
   "cell_type": "markdown",
   "id": "1c8ffeab-4406-4be7-8f40-658be9253ac5",
   "metadata": {},
   "source": [
    "### Undersampling the majority target_class of '1' "
   ]
  },
  {
   "cell_type": "code",
   "execution_count": 19,
   "id": "a6cb507a-3613-4df7-93f6-89e946e3898d",
   "metadata": {
    "tags": []
   },
   "outputs": [],
   "source": [
    "df_grouped_by = df_train.groupby([\"target_class\"])\n",
    "df_balanced = df_grouped_by.apply(\n",
    "    lambda x: x.sample(df_grouped_by.size().min())\\\n",
    "    .reset_index(drop=True)\n",
    ")"
   ]
  },
  {
   "cell_type": "code",
   "execution_count": 20,
   "id": "a85ea71d-406b-4f79-ac67-cb54fd21cda3",
   "metadata": {
    "tags": []
   },
   "outputs": [
    {
     "name": "stdout",
     "output_type": "stream",
     "text": [
      "0    79909\n",
      "1    79909\n",
      "Name: target_class, dtype: int64\n"
     ]
    }
   ],
   "source": [
    "# showing the balanced value counts of the newly created dataframe\n",
    "value_counts_balanced = df_balanced['target_class'].value_counts()\n",
    "\n",
    "# print the results\n",
    "print(value_counts_balanced)"
   ]
  },
  {
   "cell_type": "markdown",
   "id": "f225a5f6-8ec5-43b0-9b69-c675168a296e",
   "metadata": {
    "tags": []
   },
   "source": [
    "# Baseline Model "
   ]
  },
  {
   "cell_type": "code",
   "execution_count": 21,
   "id": "bb2fd6ab-ee54-4689-85b5-cbf928a952ef",
   "metadata": {
    "tags": []
   },
   "outputs": [
    {
     "data": {
      "text/plain": [
       "1    6578\n",
       "0    4440\n",
       "Name: target_class, dtype: int64"
      ]
     },
     "execution_count": 21,
     "metadata": {},
     "output_type": "execute_result"
    }
   ],
   "source": [
    "df_test['target_class'].value_counts()"
   ]
  },
  {
   "cell_type": "code",
   "execution_count": 46,
   "id": "79471f29-3ecf-4915-a365-ee3026100b4d",
   "metadata": {
    "tags": []
   },
   "outputs": [
    {
     "name": "stdout",
     "output_type": "stream",
     "text": [
      "Accuracy of All Negative Model: 40.30%\n",
      "Accuracy of All Positive Model: 59.70%\n"
     ]
    }
   ],
   "source": [
    "import pandas as pd\n",
    "from sklearn.metrics import accuracy_score\n",
    "\n",
    "## All Negative Model -- predict 0 for every instance\n",
    "# Create a DataFrame with the target column containing only 0s\n",
    "df_test_negative = pd.DataFrame({'target_class': [0]*len(df_test)})\n",
    "\n",
    "# Calculate the accuracy score by comparing the predicted values with the actual target values\n",
    "accuracy_neg = accuracy_score(df_test['target_class'], df_test_negative['target_class'])\n",
    "\n",
    "## All Positive Model -- predict 1 for every instance\n",
    "df_test_positive = pd.DataFrame({'target_class': [1]*len(df_test)})\n",
    "accuracy_pos = accuracy_score(df_test['target_class'], df_test_positive['target_class'])\n",
    "    \n",
    "# Print the accuracy score \n",
    "print(\"Accuracy of All Negative Model: {:.2f}%\".format(accuracy_neg*100))\n",
    "print(\"Accuracy of All Positive Model: {:.2f}%\".format(accuracy_pos*100))"
   ]
  },
  {
   "cell_type": "markdown",
   "id": "e03d1b32-f9c7-4ef9-a4db-a3a327886b66",
   "metadata": {},
   "source": [
    "## Neural Network"
   ]
  },
  {
   "cell_type": "code",
   "execution_count": 41,
   "id": "bc544507-7d33-401a-a592-c1df0c88843b",
   "metadata": {
    "tags": []
   },
   "outputs": [],
   "source": [
    "# Splitting all data into 90% train and 10% holdout\n",
    "df_knn_train, df_knn_holdout = train_test_split(\n",
    "        df_knn,\n",
    "        test_size=0.10,\n",
    "    stratify=df_knn['target_class'])\n",
    "\n",
    "# Splitting holdout data into 50% validation and 50% test\n",
    "df_knn_validation, df_knn_test = train_test_split(\n",
    "        df_knn_holdout,\n",
    "        test_size=0.50,\n",
    "        stratify=df_knn_holdout['target_class'])\n",
    "\n",
    "df_knn_grouped_by = df_knn_train.groupby([\"target_class\"])\n",
    "df_knn_balanced = df_knn_grouped_by.apply(\n",
    "    lambda x: x.sample(df_knn_grouped_by.size().min())\\\n",
    "    .reset_index(drop=True)\n",
    ")"
   ]
  },
  {
   "cell_type": "code",
   "execution_count": null,
   "id": "0493f4d1-a175-46c6-bb88-319b9ce0637a",
   "metadata": {},
   "outputs": [],
   "source": [
    "# Transfer Training Data to S3 bucket - exclude header and index\n",
    "s3_client = boto3.client(\"s3\")\n",
    "BUCKET='sagemaker-us-east-1-898900188658'\n",
    "BUCKET='sagemaker-us-east-1-346023323361'\n",
    "KEY='knn/train/train.csv'\n",
    "#response = s3_client.get_object(Bucket=BUCKET, Key=KEY)\n",
    "\n",
    "df_knn_y_train = df_knn_train['target_class']\n",
    "df_knn_features = df_knn_train.drop(columns=['target_class'])\n",
    "# df_knn_features = df_knn_features.drop(columns=['suspect_age'])\n",
    "\n",
    "# rearrange before uploading for AWS training job format\n",
    "df_knn_train = df_knn_train[['target_class', 'latitude', 'longitude', 'n_guns_involved', 'group_Democrat', 'ohe_drug', 'ohe_officer', 'ohe_gang',\n",
    "       'ohe_accident', 'ohe_murder', 'ohe_suicide', 'ohe_arrest', 'ohe_brandishing', 'ohe_felon', 'ohe_drive', 'ohe_home_invasion', 'ohe_stolen', 'ohe_misc', 'ohe_drugs', 'ohe_car_jacking',\n",
    "       'ohe_defensive', 'ohe_robbery', 'ohe_family', 'ohe_institution', 'ohe_child', 'ohe_mass', 'ohe_domestic', 'suspect_age_group_Teen', 'suspect_age_group_Young Adult', 'suspect_age_group_Mid-Adult',\n",
    "       'suspect_age_group_Adult', 'suspect_age_group_Senior', 'region_East South Central', 'region_Middle Atlantic', 'region_Mountain', 'region_New England', 'region_Pacific',\n",
    "       'region_South Atlantic', 'region_West North Central', 'region_West South Central']]\n",
    "\n",
    "#df_y_test = df_test['target_class']\n",
    "#df_test = df_test.drop(columns=['target_class'])\n",
    "df_knn_test = df_knn_test.drop(columns=['suspect_age'])\n",
    "df_knn_y_test = df_knn_test['target_class']\n",
    "df_knn_test = df_knn_test.drop(columns=['target_class'])\n",
    "\n",
    "with io.StringIO() as csv_buffer:\n",
    "    df_knn_train.to_csv(csv_buffer, index=False, header=False)\n",
    "\n",
    "    response = s3_client.put_object(\n",
    "        Bucket=BUCKET, Key=KEY, Body=csv_buffer.getvalue()\n",
    "    )"
   ]
  },
  {
   "cell_type": "code",
   "execution_count": null,
   "id": "55e6400d-dd29-48cf-817c-adeba43d5522",
   "metadata": {
    "tags": []
   },
   "outputs": [],
   "source": [
    "print(df_knn_features.shape)\n",
    "print(df_knn_y_train.shape)\n",
    "#print(df_features.columns)\n",
    "#print(df_features.head(5))\n",
    "#df_knn_features = df_knn_features.drop(columns=['suspect_age'])"
   ]
  },
  {
   "cell_type": "code",
   "execution_count": null,
   "id": "2c7877bd-4237-4071-be19-c527664cbdb5",
   "metadata": {
    "tags": []
   },
   "outputs": [],
   "source": [
    "parameters = {'solver':('adam', 'sgd'), 'activation':('relu', 'tanh'), \n",
    "              'hidden_layer_sizes':[2, 4], 'max_iter': [200, 400]} \n",
    "nn = GridSearchCV(MLPClassifier(), parameters) #finetune t find best parameters\n",
    "nn.fit(df_knn_features, df_knn_y_train)"
   ]
  },
  {
   "cell_type": "code",
   "execution_count": null,
   "id": "97939ca7-59b2-48b4-89b4-e499c0fab1a9",
   "metadata": {
    "tags": []
   },
   "outputs": [],
   "source": [
    "nn.best_params_ #best parameters"
   ]
  },
  {
   "cell_type": "code",
   "execution_count": null,
   "id": "301a119d-9bde-40ba-8fb8-0342103e9e12",
   "metadata": {
    "tags": []
   },
   "outputs": [],
   "source": [
    "nn.best_score_ #best score"
   ]
  },
  {
   "cell_type": "code",
   "execution_count": null,
   "id": "f901078c-0e20-4c59-812a-cb6939198c3e",
   "metadata": {
    "tags": []
   },
   "outputs": [],
   "source": [
    "y = df_knn_validation['target_class']\n",
    "X = df_knn_validation.drop(columns=['target_class', 'suspect_age'])\n",
    "\n",
    "y_pred = nn.best_estimator_.predict(X)\n",
    "#print(confusion_matrix(y, y_pred))\n",
    "acc_nn  = accuracy_score(y, y_pred)\n",
    "print(acc_nn)"
   ]
  },
  {
   "cell_type": "markdown",
   "id": "5d20f247-78b4-4730-967e-7855e9e8f85f",
   "metadata": {},
   "source": [
    "# KNN"
   ]
  },
  {
   "cell_type": "code",
   "execution_count": null,
   "id": "48f8b87a-a6ce-4401-9f4f-eea8ed2a369d",
   "metadata": {
    "tags": []
   },
   "outputs": [],
   "source": [
    "knn = KNeighborsClassifier(n_neighbors=7)\n",
    "knn.fit(df_knn_features, df_knn_y_train)"
   ]
  },
  {
   "cell_type": "code",
   "execution_count": null,
   "id": "cf0a8599-42c9-448e-a48d-c948088269d6",
   "metadata": {
    "tags": []
   },
   "outputs": [],
   "source": [
    "print(knn.predict(df_knn_test))\n",
    "print(knn.score(df_knn_test, df_knn_y_test))"
   ]
  },
  {
   "cell_type": "code",
   "execution_count": null,
   "id": "cf2e6cc1-5ca8-46a5-a514-9f72d5add178",
   "metadata": {
    "tags": []
   },
   "outputs": [],
   "source": [
    "y = df_knn_validation['target_class']\n",
    "#X = df_knn_validation.drop(columns=['target_class', 'suspect_age'])\n",
    "#print(confusion_matrix(y, y_pred))\n",
    "acc_knn = accuracy_score(y, y_pred)\n",
    "print(acc_knn)"
   ]
  },
  {
   "cell_type": "markdown",
   "id": "50c040ef-139f-4f3d-b41c-22a477b0501d",
   "metadata": {},
   "source": [
    "# XGBoost"
   ]
  },
  {
   "cell_type": "code",
   "execution_count": 33,
   "id": "9f3f6f09-f3ee-4fa5-b2ca-0cbd7c74bcf6",
   "metadata": {
    "tags": []
   },
   "outputs": [],
   "source": [
    "# Separate features and labels for each set\n",
    "X_train, y_train = df_train.drop('target_class', axis=1), df_train['target_class']\n",
    "X_validation, y_validation = df_validation.drop('target_class', axis=1), df_validation['target_class']\n",
    "X_test, y_test = df_test.drop('target_class', axis=1), df_test['target_class']"
   ]
  },
  {
   "cell_type": "code",
   "execution_count": 34,
   "id": "9944c6f5-b4d0-4152-921e-459172c4be22",
   "metadata": {
    "tags": []
   },
   "outputs": [],
   "source": [
    "# Need to drop suspect_age column as the model does not accept data type\n",
    "#X_train = X_train.drop('suspect_age', axis=1)\n",
    "#X_validation = X_validation.drop('suspect_age', axis=1)\n",
    "#X_test = X_test.drop('suspect_age', axis=1)"
   ]
  },
  {
   "cell_type": "code",
   "execution_count": 35,
   "id": "ae05b4a4-e557-4e37-a972-e6b33a625af5",
   "metadata": {
    "tags": []
   },
   "outputs": [],
   "source": [
    "# Convert the datasets to DMatrix format\n",
    "dtrain = xgb.DMatrix(X_train, label=y_train)\n",
    "dvalidation = xgb.DMatrix(X_validation, label=y_validation)\n",
    "dtest = xgb.DMatrix(X_test, label=y_test)"
   ]
  },
  {
   "cell_type": "code",
   "execution_count": 36,
   "id": "d541bcea-8762-4506-9b1c-e23dd17cf765",
   "metadata": {
    "tags": []
   },
   "outputs": [],
   "source": [
    "# Set up the XGBoost parameters\n",
    "params = {\n",
    "    'objective': 'multi:softmax',\n",
    "    'num_class': 3,\n",
    "    'max_depth': 3,\n",
    "    'learning_rate': 0.1,\n",
    "    'n_estimators': 100,\n",
    "}"
   ]
  },
  {
   "cell_type": "code",
   "execution_count": 37,
   "id": "daecf681-2900-4098-ad5c-5923ad9b9928",
   "metadata": {
    "tags": []
   },
   "outputs": [],
   "source": [
    "# Add a watchlist to monitor the performance on the validation set\n",
    "watchlist = [(dtrain, 'train'), (dvalidation, 'validation')]"
   ]
  },
  {
   "cell_type": "code",
   "execution_count": 38,
   "id": "e0e3922e-f156-4f5c-91fb-3dacd949b76c",
   "metadata": {
    "tags": []
   },
   "outputs": [
    {
     "name": "stdout",
     "output_type": "stream",
     "text": [
      "[12:28:05] WARNING: ../src/learner.cc:627: \n",
      "Parameters: { \"n_estimators\" } might not be used.\n",
      "\n",
      "  This could be a false alarm, with some parameters getting used by language bindings but\n",
      "  then being mistakenly passed down to XGBoost core, or some parameter actually being used\n",
      "  but getting flagged wrongly here. Please open an issue if you find any such cases.\n",
      "\n",
      "\n",
      "[0]\ttrain-mlogloss:1.02952\tvalidation-mlogloss:1.02986\n",
      "[1]\ttrain-mlogloss:0.97109\tvalidation-mlogloss:0.97160\n",
      "[2]\ttrain-mlogloss:0.92133\tvalidation-mlogloss:0.92212\n",
      "[3]\ttrain-mlogloss:0.87837\tvalidation-mlogloss:0.87941\n",
      "[4]\ttrain-mlogloss:0.84079\tvalidation-mlogloss:0.84185\n",
      "[5]\ttrain-mlogloss:0.80767\tvalidation-mlogloss:0.80882\n",
      "[6]\ttrain-mlogloss:0.77858\tvalidation-mlogloss:0.77973\n",
      "[7]\ttrain-mlogloss:0.75231\tvalidation-mlogloss:0.75364\n",
      "[8]\ttrain-mlogloss:0.72922\tvalidation-mlogloss:0.73073\n",
      "[9]\ttrain-mlogloss:0.70856\tvalidation-mlogloss:0.71014\n",
      "[10]\ttrain-mlogloss:0.69007\tvalidation-mlogloss:0.69171\n",
      "[11]\ttrain-mlogloss:0.67344\tvalidation-mlogloss:0.67516\n",
      "[12]\ttrain-mlogloss:0.65779\tvalidation-mlogloss:0.65941\n",
      "[13]\ttrain-mlogloss:0.64384\tvalidation-mlogloss:0.64537\n",
      "[14]\ttrain-mlogloss:0.63118\tvalidation-mlogloss:0.63264\n",
      "[15]\ttrain-mlogloss:0.61968\tvalidation-mlogloss:0.62114\n",
      "[16]\ttrain-mlogloss:0.60922\tvalidation-mlogloss:0.61066\n",
      "[17]\ttrain-mlogloss:0.59959\tvalidation-mlogloss:0.60107\n",
      "[18]\ttrain-mlogloss:0.59079\tvalidation-mlogloss:0.59227\n",
      "[19]\ttrain-mlogloss:0.58272\tvalidation-mlogloss:0.58427\n",
      "[20]\ttrain-mlogloss:0.57483\tvalidation-mlogloss:0.57649\n",
      "[21]\ttrain-mlogloss:0.56794\tvalidation-mlogloss:0.56956\n",
      "[22]\ttrain-mlogloss:0.56144\tvalidation-mlogloss:0.56312\n",
      "[23]\ttrain-mlogloss:0.55514\tvalidation-mlogloss:0.55697\n",
      "[24]\ttrain-mlogloss:0.54965\tvalidation-mlogloss:0.55148\n",
      "[25]\ttrain-mlogloss:0.54447\tvalidation-mlogloss:0.54648\n",
      "[26]\ttrain-mlogloss:0.53925\tvalidation-mlogloss:0.54115\n",
      "[27]\ttrain-mlogloss:0.53444\tvalidation-mlogloss:0.53634\n",
      "[28]\ttrain-mlogloss:0.53002\tvalidation-mlogloss:0.53203\n",
      "[29]\ttrain-mlogloss:0.52557\tvalidation-mlogloss:0.52768\n",
      "[30]\ttrain-mlogloss:0.52181\tvalidation-mlogloss:0.52394\n",
      "[31]\ttrain-mlogloss:0.51808\tvalidation-mlogloss:0.52017\n",
      "[32]\ttrain-mlogloss:0.51490\tvalidation-mlogloss:0.51706\n",
      "[33]\ttrain-mlogloss:0.51142\tvalidation-mlogloss:0.51356\n",
      "[34]\ttrain-mlogloss:0.50803\tvalidation-mlogloss:0.51027\n",
      "[35]\ttrain-mlogloss:0.50519\tvalidation-mlogloss:0.50748\n",
      "[36]\ttrain-mlogloss:0.50240\tvalidation-mlogloss:0.50463\n",
      "[37]\ttrain-mlogloss:0.50001\tvalidation-mlogloss:0.50232\n",
      "[38]\ttrain-mlogloss:0.49721\tvalidation-mlogloss:0.49951\n",
      "[39]\ttrain-mlogloss:0.49499\tvalidation-mlogloss:0.49722\n",
      "[40]\ttrain-mlogloss:0.49251\tvalidation-mlogloss:0.49481\n",
      "[41]\ttrain-mlogloss:0.49057\tvalidation-mlogloss:0.49289\n",
      "[42]\ttrain-mlogloss:0.48854\tvalidation-mlogloss:0.49089\n",
      "[43]\ttrain-mlogloss:0.48642\tvalidation-mlogloss:0.48869\n",
      "[44]\ttrain-mlogloss:0.48472\tvalidation-mlogloss:0.48699\n",
      "[45]\ttrain-mlogloss:0.48321\tvalidation-mlogloss:0.48548\n",
      "[46]\ttrain-mlogloss:0.48137\tvalidation-mlogloss:0.48354\n",
      "[47]\ttrain-mlogloss:0.47975\tvalidation-mlogloss:0.48190\n",
      "[48]\ttrain-mlogloss:0.47792\tvalidation-mlogloss:0.48002\n",
      "[49]\ttrain-mlogloss:0.47655\tvalidation-mlogloss:0.47867\n",
      "[50]\ttrain-mlogloss:0.47527\tvalidation-mlogloss:0.47740\n",
      "[51]\ttrain-mlogloss:0.47367\tvalidation-mlogloss:0.47581\n",
      "[52]\ttrain-mlogloss:0.47260\tvalidation-mlogloss:0.47479\n",
      "[53]\ttrain-mlogloss:0.47116\tvalidation-mlogloss:0.47328\n",
      "[54]\ttrain-mlogloss:0.46993\tvalidation-mlogloss:0.47224\n",
      "[55]\ttrain-mlogloss:0.46897\tvalidation-mlogloss:0.47130\n",
      "[56]\ttrain-mlogloss:0.46787\tvalidation-mlogloss:0.47030\n",
      "[57]\ttrain-mlogloss:0.46689\tvalidation-mlogloss:0.46923\n",
      "[58]\ttrain-mlogloss:0.46612\tvalidation-mlogloss:0.46848\n",
      "[59]\ttrain-mlogloss:0.46533\tvalidation-mlogloss:0.46781\n",
      "[60]\ttrain-mlogloss:0.46424\tvalidation-mlogloss:0.46667\n",
      "[61]\ttrain-mlogloss:0.46320\tvalidation-mlogloss:0.46560\n",
      "[62]\ttrain-mlogloss:0.46232\tvalidation-mlogloss:0.46480\n",
      "[63]\ttrain-mlogloss:0.46150\tvalidation-mlogloss:0.46401\n",
      "[64]\ttrain-mlogloss:0.46049\tvalidation-mlogloss:0.46301\n",
      "[65]\ttrain-mlogloss:0.45956\tvalidation-mlogloss:0.46206\n",
      "[66]\ttrain-mlogloss:0.45895\tvalidation-mlogloss:0.46149\n",
      "[67]\ttrain-mlogloss:0.45824\tvalidation-mlogloss:0.46077\n",
      "[68]\ttrain-mlogloss:0.45763\tvalidation-mlogloss:0.46018\n",
      "[69]\ttrain-mlogloss:0.45714\tvalidation-mlogloss:0.45966\n",
      "[70]\ttrain-mlogloss:0.45650\tvalidation-mlogloss:0.45901\n",
      "[71]\ttrain-mlogloss:0.45602\tvalidation-mlogloss:0.45860\n",
      "[72]\ttrain-mlogloss:0.45542\tvalidation-mlogloss:0.45805\n",
      "[73]\ttrain-mlogloss:0.45453\tvalidation-mlogloss:0.45718\n",
      "[74]\ttrain-mlogloss:0.45392\tvalidation-mlogloss:0.45655\n",
      "[75]\ttrain-mlogloss:0.45345\tvalidation-mlogloss:0.45604\n",
      "[76]\ttrain-mlogloss:0.45306\tvalidation-mlogloss:0.45571\n",
      "[77]\ttrain-mlogloss:0.45263\tvalidation-mlogloss:0.45535\n",
      "[78]\ttrain-mlogloss:0.45199\tvalidation-mlogloss:0.45479\n",
      "[79]\ttrain-mlogloss:0.45159\tvalidation-mlogloss:0.45435\n",
      "[80]\ttrain-mlogloss:0.45124\tvalidation-mlogloss:0.45402\n",
      "[81]\ttrain-mlogloss:0.45089\tvalidation-mlogloss:0.45373\n",
      "[82]\ttrain-mlogloss:0.45037\tvalidation-mlogloss:0.45318\n",
      "[83]\ttrain-mlogloss:0.44962\tvalidation-mlogloss:0.45252\n",
      "[84]\ttrain-mlogloss:0.44910\tvalidation-mlogloss:0.45207\n",
      "[85]\ttrain-mlogloss:0.44866\tvalidation-mlogloss:0.45160\n",
      "[86]\ttrain-mlogloss:0.44836\tvalidation-mlogloss:0.45131\n",
      "[87]\ttrain-mlogloss:0.44811\tvalidation-mlogloss:0.45106\n",
      "[88]\ttrain-mlogloss:0.44766\tvalidation-mlogloss:0.45066\n",
      "[89]\ttrain-mlogloss:0.44741\tvalidation-mlogloss:0.45051\n",
      "[90]\ttrain-mlogloss:0.44696\tvalidation-mlogloss:0.45004\n",
      "[91]\ttrain-mlogloss:0.44659\tvalidation-mlogloss:0.44980\n",
      "[92]\ttrain-mlogloss:0.44629\tvalidation-mlogloss:0.44948\n",
      "[93]\ttrain-mlogloss:0.44598\tvalidation-mlogloss:0.44921\n",
      "[94]\ttrain-mlogloss:0.44564\tvalidation-mlogloss:0.44884\n",
      "[95]\ttrain-mlogloss:0.44542\tvalidation-mlogloss:0.44870\n",
      "[96]\ttrain-mlogloss:0.44518\tvalidation-mlogloss:0.44848\n",
      "[97]\ttrain-mlogloss:0.44499\tvalidation-mlogloss:0.44836\n",
      "[98]\ttrain-mlogloss:0.44462\tvalidation-mlogloss:0.44794\n",
      "[99]\ttrain-mlogloss:0.44440\tvalidation-mlogloss:0.44772\n"
     ]
    }
   ],
   "source": [
    "# Train the model with early stopping\n",
    "bst = xgb.train(params, dtrain, num_boost_round=100, evals=watchlist, early_stopping_rounds=10)"
   ]
  },
  {
   "cell_type": "code",
   "execution_count": 39,
   "id": "b0d26007-49e3-49c1-bc9e-52daef977092",
   "metadata": {
    "tags": []
   },
   "outputs": [],
   "source": [
    "# Make predictions using the trained model\n",
    "y_pred = bst.predict(dtest)"
   ]
  },
  {
   "cell_type": "code",
   "execution_count": 40,
   "id": "09e873fd-eea5-4680-be13-110e9b17f8e9",
   "metadata": {
    "tags": []
   },
   "outputs": [
    {
     "name": "stdout",
     "output_type": "stream",
     "text": [
      "Accuracy: 0.7859865674351062\n",
      "Confusion Matrix:\n",
      " [[2879 1561]\n",
      " [ 797 5781]]\n"
     ]
    }
   ],
   "source": [
    "# Evaluate the model's performance\n",
    "accuracy = accuracy_score(y_test, y_pred)\n",
    "confusion_mat = confusion_matrix(y_test, y_pred)\n",
    "\n",
    "print(\"Accuracy:\", accuracy)\n",
    "print(\"Confusion Matrix:\\n\", confusion_mat)"
   ]
  },
  {
   "cell_type": "markdown",
   "id": "dd71ac14-875e-4b1c-883f-f459234b84ec",
   "metadata": {},
   "source": [
    "# Random Forest"
   ]
  },
  {
   "cell_type": "code",
   "execution_count": 22,
   "id": "02ac9d25-8340-41c1-b737-18905eaf25c2",
   "metadata": {
    "tags": []
   },
   "outputs": [],
   "source": [
    "# Import libraries\n",
    "import statsmodels.tools.tools as stattools\n",
    "from sklearn.tree import DecisionTreeClassifier, export_graphviz\n",
    "from sklearn.ensemble import RandomForestClassifier"
   ]
  },
  {
   "cell_type": "code",
   "execution_count": 23,
   "id": "a12b8880-a388-47b2-8c28-fed7a6e74c9c",
   "metadata": {
    "tags": []
   },
   "outputs": [],
   "source": [
    "# Separate predictor variables and target class\n",
    "# Training data\n",
    "x_dt= df_balanced[['latitude', 'longitude', 'n_guns_involved', 'group_Democrat', 'ohe_drug', 'ohe_officer', 'ohe_gang',\n",
    "       'ohe_accident', 'ohe_murder', 'ohe_suicide', 'ohe_arrest', 'ohe_brandishing', 'ohe_felon', 'ohe_drive', 'ohe_home_invasion', 'ohe_stolen', 'ohe_misc', 'ohe_drugs', 'ohe_car_jacking',\n",
    "       'ohe_defensive', 'ohe_robbery', 'ohe_family', 'ohe_institution', 'ohe_child', 'ohe_mass', 'ohe_domestic', 'suspect_age_group_Teen', 'suspect_age_group_Young Adult', 'suspect_age_group_Mid-Adult',\n",
    "       'suspect_age_group_Adult', 'suspect_age_group_Senior', 'region_East South Central', 'region_Middle Atlantic', 'region_Mountain', 'region_New England', 'region_Pacific',\n",
    "       'region_South Atlantic', 'region_West North Central', 'region_West South Central']]\n",
    "y_dt= df_balanced['target_class']\n",
    "\n",
    "# Test data\n",
    "x_test_dt = df_test[['latitude', 'longitude', 'n_guns_involved', 'group_Democrat', 'ohe_drug', 'ohe_officer', 'ohe_gang',\n",
    "       'ohe_accident', 'ohe_murder', 'ohe_suicide', 'ohe_arrest', 'ohe_brandishing', 'ohe_felon', 'ohe_drive', 'ohe_home_invasion', 'ohe_stolen', 'ohe_misc', 'ohe_drugs', 'ohe_car_jacking',\n",
    "       'ohe_defensive', 'ohe_robbery', 'ohe_family', 'ohe_institution', 'ohe_child', 'ohe_mass', 'ohe_domestic', 'suspect_age_group_Teen', 'suspect_age_group_Young Adult', 'suspect_age_group_Mid-Adult',\n",
    "       'suspect_age_group_Adult', 'suspect_age_group_Senior', 'region_East South Central', 'region_Middle Atlantic', 'region_Mountain', 'region_New England', 'region_Pacific',\n",
    "       'region_South Atlantic', 'region_West North Central', 'region_West South Central']]\n",
    "y_test_dt = df_test['target_class']"
   ]
  },
  {
   "cell_type": "code",
   "execution_count": 24,
   "id": "41ad6115-0952-44a1-a32c-3854992667c4",
   "metadata": {
    "tags": []
   },
   "outputs": [],
   "source": [
    "# Create response variable formatted as a 1D array as required by Python RF command\n",
    "rfy = np.ravel(y_dt)"
   ]
  },
  {
   "cell_type": "code",
   "execution_count": 25,
   "id": "c80192a6-6131-4a7c-b8f4-921a18808d47",
   "metadata": {
    "tags": []
   },
   "outputs": [],
   "source": [
    "# Run RandomForestClassifier command to create the random forest model using the Gini index criterion \n",
    "rf01 = RandomForestClassifier (n_estimators= 100, criterion=\"gini\").fit(x_dt, y_dt)\n",
    "\n",
    "# To see classifications \n",
    "rf_predict = rf01.predict(x_test_dt)"
   ]
  },
  {
   "cell_type": "code",
   "execution_count": 26,
   "id": "5b407d85-e943-47dd-839e-38367b998ea1",
   "metadata": {
    "tags": []
   },
   "outputs": [
    {
     "name": "stdout",
     "output_type": "stream",
     "text": [
      "Accuracy: 0.7895262298057724\n"
     ]
    }
   ],
   "source": [
    "# Evaluate the model's performance\n",
    "accuracy = accuracy_score(y_test_dt, rf_predict)\n",
    "print(\"Accuracy:\", accuracy)"
   ]
  },
  {
   "cell_type": "code",
   "execution_count": 27,
   "id": "5a2d948c-f4e9-4ef9-aa23-4cb2851baea8",
   "metadata": {
    "tags": []
   },
   "outputs": [
    {
     "data": {
      "text/html": [
       "<div>\n",
       "<style scoped>\n",
       "    .dataframe tbody tr th:only-of-type {\n",
       "        vertical-align: middle;\n",
       "    }\n",
       "\n",
       "    .dataframe tbody tr th {\n",
       "        vertical-align: top;\n",
       "    }\n",
       "\n",
       "    .dataframe thead th {\n",
       "        text-align: right;\n",
       "    }\n",
       "</style>\n",
       "<table border=\"1\" class=\"dataframe\">\n",
       "  <thead>\n",
       "    <tr style=\"text-align: right;\">\n",
       "      <th>Predicted</th>\n",
       "      <th>0</th>\n",
       "      <th>1</th>\n",
       "      <th>All</th>\n",
       "    </tr>\n",
       "    <tr>\n",
       "      <th>Actual</th>\n",
       "      <th></th>\n",
       "      <th></th>\n",
       "      <th></th>\n",
       "    </tr>\n",
       "  </thead>\n",
       "  <tbody>\n",
       "    <tr>\n",
       "      <th>0</th>\n",
       "      <td>3533</td>\n",
       "      <td>907</td>\n",
       "      <td>4440</td>\n",
       "    </tr>\n",
       "    <tr>\n",
       "      <th>1</th>\n",
       "      <td>1412</td>\n",
       "      <td>5166</td>\n",
       "      <td>6578</td>\n",
       "    </tr>\n",
       "    <tr>\n",
       "      <th>All</th>\n",
       "      <td>4945</td>\n",
       "      <td>6073</td>\n",
       "      <td>11018</td>\n",
       "    </tr>\n",
       "  </tbody>\n",
       "</table>\n",
       "</div>"
      ],
      "text/plain": [
       "Predicted     0     1    All\n",
       "Actual                      \n",
       "0          3533   907   4440\n",
       "1          1412  5166   6578\n",
       "All        4945  6073  11018"
      ]
     },
     "execution_count": 27,
     "metadata": {},
     "output_type": "execute_result"
    }
   ],
   "source": [
    "conf_mat_rf=pd.crosstab(df_test['target_class'], rf_predict,\n",
    "                             rownames = ['Actual'],\n",
    "                             colnames = ['Predicted'],\n",
    "                             margins = True)\n",
    "conf_mat_rf"
   ]
  },
  {
   "cell_type": "markdown",
   "id": "c99d0e4e-092d-451c-9cb1-b803295824cc",
   "metadata": {},
   "source": [
    "# C5.0 Decision Tree"
   ]
  },
  {
   "cell_type": "code",
   "execution_count": 28,
   "id": "2092ed3e-441e-4568-8c2a-75727fa651cf",
   "metadata": {
    "tags": []
   },
   "outputs": [
    {
     "name": "stdout",
     "output_type": "stream",
     "text": [
      "Accuracy: 0.7166454891994918\n"
     ]
    }
   ],
   "source": [
    "# Run C5.0 decision tree\n",
    "c50 = DecisionTreeClassifier (criterion = \"entropy\", max_leaf_nodes =5).fit(x_dt, y_dt)\n",
    "c50_predict=c50.predict(x_test_dt)\n",
    "\n",
    "# Evaluate the model's performance\n",
    "accuracy = accuracy_score(y_test_dt, c50_predict)\n",
    "print(\"Accuracy:\", accuracy)"
   ]
  },
  {
   "cell_type": "code",
   "execution_count": 29,
   "id": "136b6b8e-7d2f-46e0-9d94-e286bd35fc5c",
   "metadata": {
    "tags": []
   },
   "outputs": [
    {
     "data": {
      "text/html": [
       "<div>\n",
       "<style scoped>\n",
       "    .dataframe tbody tr th:only-of-type {\n",
       "        vertical-align: middle;\n",
       "    }\n",
       "\n",
       "    .dataframe tbody tr th {\n",
       "        vertical-align: top;\n",
       "    }\n",
       "\n",
       "    .dataframe thead th {\n",
       "        text-align: right;\n",
       "    }\n",
       "</style>\n",
       "<table border=\"1\" class=\"dataframe\">\n",
       "  <thead>\n",
       "    <tr style=\"text-align: right;\">\n",
       "      <th>Predicted</th>\n",
       "      <th>0</th>\n",
       "      <th>1</th>\n",
       "      <th>All</th>\n",
       "    </tr>\n",
       "    <tr>\n",
       "      <th>Actual</th>\n",
       "      <th></th>\n",
       "      <th></th>\n",
       "      <th></th>\n",
       "    </tr>\n",
       "  </thead>\n",
       "  <tbody>\n",
       "    <tr>\n",
       "      <th>0</th>\n",
       "      <td>3186</td>\n",
       "      <td>1254</td>\n",
       "      <td>4440</td>\n",
       "    </tr>\n",
       "    <tr>\n",
       "      <th>1</th>\n",
       "      <td>1868</td>\n",
       "      <td>4710</td>\n",
       "      <td>6578</td>\n",
       "    </tr>\n",
       "    <tr>\n",
       "      <th>All</th>\n",
       "      <td>5054</td>\n",
       "      <td>5964</td>\n",
       "      <td>11018</td>\n",
       "    </tr>\n",
       "  </tbody>\n",
       "</table>\n",
       "</div>"
      ],
      "text/plain": [
       "Predicted     0     1    All\n",
       "Actual                      \n",
       "0          3186  1254   4440\n",
       "1          1868  4710   6578\n",
       "All        5054  5964  11018"
      ]
     },
     "execution_count": 29,
     "metadata": {},
     "output_type": "execute_result"
    }
   ],
   "source": [
    "conf_mat_c50=pd.crosstab(df_test['target_class'], c50_predict,\n",
    "                             rownames = ['Actual'],\n",
    "                             colnames = ['Predicted'],\n",
    "                             margins = True)\n",
    "conf_mat_c50"
   ]
  },
  {
   "cell_type": "markdown",
   "id": "00124e33-c95b-4192-9105-91710bd619be",
   "metadata": {},
   "source": [
    "# CART Decision Tree"
   ]
  },
  {
   "cell_type": "code",
   "execution_count": 31,
   "id": "231873e0-2475-4cc0-89f8-03f11b1c0996",
   "metadata": {
    "tags": []
   },
   "outputs": [
    {
     "name": "stdout",
     "output_type": "stream",
     "text": [
      "Accuracy: 0.7284443637683791\n"
     ]
    }
   ],
   "source": [
    "cart = DecisionTreeClassifier(criterion=\"gini\", max_leaf_nodes=5).fit(x_dt, y_dt)\n",
    "cart_predict=cart.predict(x_test_dt)\n",
    "\n",
    "# Evaluate the model's performance\n",
    "accuracy = accuracy_score(y_test_dt, cart_predict)\n",
    "print(\"Accuracy:\", accuracy)"
   ]
  },
  {
   "cell_type": "code",
   "execution_count": 32,
   "id": "632256d2-01c4-403d-9ce9-e047669aa169",
   "metadata": {
    "tags": []
   },
   "outputs": [
    {
     "data": {
      "text/html": [
       "<div>\n",
       "<style scoped>\n",
       "    .dataframe tbody tr th:only-of-type {\n",
       "        vertical-align: middle;\n",
       "    }\n",
       "\n",
       "    .dataframe tbody tr th {\n",
       "        vertical-align: top;\n",
       "    }\n",
       "\n",
       "    .dataframe thead th {\n",
       "        text-align: right;\n",
       "    }\n",
       "</style>\n",
       "<table border=\"1\" class=\"dataframe\">\n",
       "  <thead>\n",
       "    <tr style=\"text-align: right;\">\n",
       "      <th>Predicted</th>\n",
       "      <th>0</th>\n",
       "      <th>1</th>\n",
       "      <th>All</th>\n",
       "    </tr>\n",
       "    <tr>\n",
       "      <th>Actual</th>\n",
       "      <th></th>\n",
       "      <th></th>\n",
       "      <th></th>\n",
       "    </tr>\n",
       "  </thead>\n",
       "  <tbody>\n",
       "    <tr>\n",
       "      <th>0</th>\n",
       "      <td>3148</td>\n",
       "      <td>1292</td>\n",
       "      <td>4440</td>\n",
       "    </tr>\n",
       "    <tr>\n",
       "      <th>1</th>\n",
       "      <td>1700</td>\n",
       "      <td>4878</td>\n",
       "      <td>6578</td>\n",
       "    </tr>\n",
       "    <tr>\n",
       "      <th>All</th>\n",
       "      <td>4848</td>\n",
       "      <td>6170</td>\n",
       "      <td>11018</td>\n",
       "    </tr>\n",
       "  </tbody>\n",
       "</table>\n",
       "</div>"
      ],
      "text/plain": [
       "Predicted     0     1    All\n",
       "Actual                      \n",
       "0          3148  1292   4440\n",
       "1          1700  4878   6578\n",
       "All        4848  6170  11018"
      ]
     },
     "execution_count": 32,
     "metadata": {},
     "output_type": "execute_result"
    }
   ],
   "source": [
    "conf_mat_cart=pd.crosstab(df_test['target_class'], cart_predict,\n",
    "                             rownames = ['Actual'],\n",
    "                             colnames = ['Predicted'],\n",
    "                             margins = True)\n",
    "conf_mat_cart"
   ]
  },
  {
   "cell_type": "code",
   "execution_count": null,
   "id": "07d55abc-4099-4d46-b298-8ae3f29c4823",
   "metadata": {},
   "outputs": [],
   "source": []
  }
 ],
 "metadata": {
  "availableInstances": [
   {
    "_defaultOrder": 0,
    "_isFastLaunch": true,
    "category": "General purpose",
    "gpuNum": 0,
    "hideHardwareSpecs": false,
    "memoryGiB": 4,
    "name": "ml.t3.medium",
    "vcpuNum": 2
   },
   {
    "_defaultOrder": 1,
    "_isFastLaunch": false,
    "category": "General purpose",
    "gpuNum": 0,
    "hideHardwareSpecs": false,
    "memoryGiB": 8,
    "name": "ml.t3.large",
    "vcpuNum": 2
   },
   {
    "_defaultOrder": 2,
    "_isFastLaunch": false,
    "category": "General purpose",
    "gpuNum": 0,
    "hideHardwareSpecs": false,
    "memoryGiB": 16,
    "name": "ml.t3.xlarge",
    "vcpuNum": 4
   },
   {
    "_defaultOrder": 3,
    "_isFastLaunch": false,
    "category": "General purpose",
    "gpuNum": 0,
    "hideHardwareSpecs": false,
    "memoryGiB": 32,
    "name": "ml.t3.2xlarge",
    "vcpuNum": 8
   },
   {
    "_defaultOrder": 4,
    "_isFastLaunch": true,
    "category": "General purpose",
    "gpuNum": 0,
    "hideHardwareSpecs": false,
    "memoryGiB": 8,
    "name": "ml.m5.large",
    "vcpuNum": 2
   },
   {
    "_defaultOrder": 5,
    "_isFastLaunch": false,
    "category": "General purpose",
    "gpuNum": 0,
    "hideHardwareSpecs": false,
    "memoryGiB": 16,
    "name": "ml.m5.xlarge",
    "vcpuNum": 4
   },
   {
    "_defaultOrder": 6,
    "_isFastLaunch": false,
    "category": "General purpose",
    "gpuNum": 0,
    "hideHardwareSpecs": false,
    "memoryGiB": 32,
    "name": "ml.m5.2xlarge",
    "vcpuNum": 8
   },
   {
    "_defaultOrder": 7,
    "_isFastLaunch": false,
    "category": "General purpose",
    "gpuNum": 0,
    "hideHardwareSpecs": false,
    "memoryGiB": 64,
    "name": "ml.m5.4xlarge",
    "vcpuNum": 16
   },
   {
    "_defaultOrder": 8,
    "_isFastLaunch": false,
    "category": "General purpose",
    "gpuNum": 0,
    "hideHardwareSpecs": false,
    "memoryGiB": 128,
    "name": "ml.m5.8xlarge",
    "vcpuNum": 32
   },
   {
    "_defaultOrder": 9,
    "_isFastLaunch": false,
    "category": "General purpose",
    "gpuNum": 0,
    "hideHardwareSpecs": false,
    "memoryGiB": 192,
    "name": "ml.m5.12xlarge",
    "vcpuNum": 48
   },
   {
    "_defaultOrder": 10,
    "_isFastLaunch": false,
    "category": "General purpose",
    "gpuNum": 0,
    "hideHardwareSpecs": false,
    "memoryGiB": 256,
    "name": "ml.m5.16xlarge",
    "vcpuNum": 64
   },
   {
    "_defaultOrder": 11,
    "_isFastLaunch": false,
    "category": "General purpose",
    "gpuNum": 0,
    "hideHardwareSpecs": false,
    "memoryGiB": 384,
    "name": "ml.m5.24xlarge",
    "vcpuNum": 96
   },
   {
    "_defaultOrder": 12,
    "_isFastLaunch": false,
    "category": "General purpose",
    "gpuNum": 0,
    "hideHardwareSpecs": false,
    "memoryGiB": 8,
    "name": "ml.m5d.large",
    "vcpuNum": 2
   },
   {
    "_defaultOrder": 13,
    "_isFastLaunch": false,
    "category": "General purpose",
    "gpuNum": 0,
    "hideHardwareSpecs": false,
    "memoryGiB": 16,
    "name": "ml.m5d.xlarge",
    "vcpuNum": 4
   },
   {
    "_defaultOrder": 14,
    "_isFastLaunch": false,
    "category": "General purpose",
    "gpuNum": 0,
    "hideHardwareSpecs": false,
    "memoryGiB": 32,
    "name": "ml.m5d.2xlarge",
    "vcpuNum": 8
   },
   {
    "_defaultOrder": 15,
    "_isFastLaunch": false,
    "category": "General purpose",
    "gpuNum": 0,
    "hideHardwareSpecs": false,
    "memoryGiB": 64,
    "name": "ml.m5d.4xlarge",
    "vcpuNum": 16
   },
   {
    "_defaultOrder": 16,
    "_isFastLaunch": false,
    "category": "General purpose",
    "gpuNum": 0,
    "hideHardwareSpecs": false,
    "memoryGiB": 128,
    "name": "ml.m5d.8xlarge",
    "vcpuNum": 32
   },
   {
    "_defaultOrder": 17,
    "_isFastLaunch": false,
    "category": "General purpose",
    "gpuNum": 0,
    "hideHardwareSpecs": false,
    "memoryGiB": 192,
    "name": "ml.m5d.12xlarge",
    "vcpuNum": 48
   },
   {
    "_defaultOrder": 18,
    "_isFastLaunch": false,
    "category": "General purpose",
    "gpuNum": 0,
    "hideHardwareSpecs": false,
    "memoryGiB": 256,
    "name": "ml.m5d.16xlarge",
    "vcpuNum": 64
   },
   {
    "_defaultOrder": 19,
    "_isFastLaunch": false,
    "category": "General purpose",
    "gpuNum": 0,
    "hideHardwareSpecs": false,
    "memoryGiB": 384,
    "name": "ml.m5d.24xlarge",
    "vcpuNum": 96
   },
   {
    "_defaultOrder": 20,
    "_isFastLaunch": false,
    "category": "General purpose",
    "gpuNum": 0,
    "hideHardwareSpecs": true,
    "memoryGiB": 0,
    "name": "ml.geospatial.interactive",
    "supportedImageNames": [
     "sagemaker-geospatial-v1-0"
    ],
    "vcpuNum": 0
   },
   {
    "_defaultOrder": 21,
    "_isFastLaunch": true,
    "category": "Compute optimized",
    "gpuNum": 0,
    "hideHardwareSpecs": false,
    "memoryGiB": 4,
    "name": "ml.c5.large",
    "vcpuNum": 2
   },
   {
    "_defaultOrder": 22,
    "_isFastLaunch": false,
    "category": "Compute optimized",
    "gpuNum": 0,
    "hideHardwareSpecs": false,
    "memoryGiB": 8,
    "name": "ml.c5.xlarge",
    "vcpuNum": 4
   },
   {
    "_defaultOrder": 23,
    "_isFastLaunch": false,
    "category": "Compute optimized",
    "gpuNum": 0,
    "hideHardwareSpecs": false,
    "memoryGiB": 16,
    "name": "ml.c5.2xlarge",
    "vcpuNum": 8
   },
   {
    "_defaultOrder": 24,
    "_isFastLaunch": false,
    "category": "Compute optimized",
    "gpuNum": 0,
    "hideHardwareSpecs": false,
    "memoryGiB": 32,
    "name": "ml.c5.4xlarge",
    "vcpuNum": 16
   },
   {
    "_defaultOrder": 25,
    "_isFastLaunch": false,
    "category": "Compute optimized",
    "gpuNum": 0,
    "hideHardwareSpecs": false,
    "memoryGiB": 72,
    "name": "ml.c5.9xlarge",
    "vcpuNum": 36
   },
   {
    "_defaultOrder": 26,
    "_isFastLaunch": false,
    "category": "Compute optimized",
    "gpuNum": 0,
    "hideHardwareSpecs": false,
    "memoryGiB": 96,
    "name": "ml.c5.12xlarge",
    "vcpuNum": 48
   },
   {
    "_defaultOrder": 27,
    "_isFastLaunch": false,
    "category": "Compute optimized",
    "gpuNum": 0,
    "hideHardwareSpecs": false,
    "memoryGiB": 144,
    "name": "ml.c5.18xlarge",
    "vcpuNum": 72
   },
   {
    "_defaultOrder": 28,
    "_isFastLaunch": false,
    "category": "Compute optimized",
    "gpuNum": 0,
    "hideHardwareSpecs": false,
    "memoryGiB": 192,
    "name": "ml.c5.24xlarge",
    "vcpuNum": 96
   },
   {
    "_defaultOrder": 29,
    "_isFastLaunch": true,
    "category": "Accelerated computing",
    "gpuNum": 1,
    "hideHardwareSpecs": false,
    "memoryGiB": 16,
    "name": "ml.g4dn.xlarge",
    "vcpuNum": 4
   },
   {
    "_defaultOrder": 30,
    "_isFastLaunch": false,
    "category": "Accelerated computing",
    "gpuNum": 1,
    "hideHardwareSpecs": false,
    "memoryGiB": 32,
    "name": "ml.g4dn.2xlarge",
    "vcpuNum": 8
   },
   {
    "_defaultOrder": 31,
    "_isFastLaunch": false,
    "category": "Accelerated computing",
    "gpuNum": 1,
    "hideHardwareSpecs": false,
    "memoryGiB": 64,
    "name": "ml.g4dn.4xlarge",
    "vcpuNum": 16
   },
   {
    "_defaultOrder": 32,
    "_isFastLaunch": false,
    "category": "Accelerated computing",
    "gpuNum": 1,
    "hideHardwareSpecs": false,
    "memoryGiB": 128,
    "name": "ml.g4dn.8xlarge",
    "vcpuNum": 32
   },
   {
    "_defaultOrder": 33,
    "_isFastLaunch": false,
    "category": "Accelerated computing",
    "gpuNum": 4,
    "hideHardwareSpecs": false,
    "memoryGiB": 192,
    "name": "ml.g4dn.12xlarge",
    "vcpuNum": 48
   },
   {
    "_defaultOrder": 34,
    "_isFastLaunch": false,
    "category": "Accelerated computing",
    "gpuNum": 1,
    "hideHardwareSpecs": false,
    "memoryGiB": 256,
    "name": "ml.g4dn.16xlarge",
    "vcpuNum": 64
   },
   {
    "_defaultOrder": 35,
    "_isFastLaunch": false,
    "category": "Accelerated computing",
    "gpuNum": 1,
    "hideHardwareSpecs": false,
    "memoryGiB": 61,
    "name": "ml.p3.2xlarge",
    "vcpuNum": 8
   },
   {
    "_defaultOrder": 36,
    "_isFastLaunch": false,
    "category": "Accelerated computing",
    "gpuNum": 4,
    "hideHardwareSpecs": false,
    "memoryGiB": 244,
    "name": "ml.p3.8xlarge",
    "vcpuNum": 32
   },
   {
    "_defaultOrder": 37,
    "_isFastLaunch": false,
    "category": "Accelerated computing",
    "gpuNum": 8,
    "hideHardwareSpecs": false,
    "memoryGiB": 488,
    "name": "ml.p3.16xlarge",
    "vcpuNum": 64
   },
   {
    "_defaultOrder": 38,
    "_isFastLaunch": false,
    "category": "Accelerated computing",
    "gpuNum": 8,
    "hideHardwareSpecs": false,
    "memoryGiB": 768,
    "name": "ml.p3dn.24xlarge",
    "vcpuNum": 96
   },
   {
    "_defaultOrder": 39,
    "_isFastLaunch": false,
    "category": "Memory Optimized",
    "gpuNum": 0,
    "hideHardwareSpecs": false,
    "memoryGiB": 16,
    "name": "ml.r5.large",
    "vcpuNum": 2
   },
   {
    "_defaultOrder": 40,
    "_isFastLaunch": false,
    "category": "Memory Optimized",
    "gpuNum": 0,
    "hideHardwareSpecs": false,
    "memoryGiB": 32,
    "name": "ml.r5.xlarge",
    "vcpuNum": 4
   },
   {
    "_defaultOrder": 41,
    "_isFastLaunch": false,
    "category": "Memory Optimized",
    "gpuNum": 0,
    "hideHardwareSpecs": false,
    "memoryGiB": 64,
    "name": "ml.r5.2xlarge",
    "vcpuNum": 8
   },
   {
    "_defaultOrder": 42,
    "_isFastLaunch": false,
    "category": "Memory Optimized",
    "gpuNum": 0,
    "hideHardwareSpecs": false,
    "memoryGiB": 128,
    "name": "ml.r5.4xlarge",
    "vcpuNum": 16
   },
   {
    "_defaultOrder": 43,
    "_isFastLaunch": false,
    "category": "Memory Optimized",
    "gpuNum": 0,
    "hideHardwareSpecs": false,
    "memoryGiB": 256,
    "name": "ml.r5.8xlarge",
    "vcpuNum": 32
   },
   {
    "_defaultOrder": 44,
    "_isFastLaunch": false,
    "category": "Memory Optimized",
    "gpuNum": 0,
    "hideHardwareSpecs": false,
    "memoryGiB": 384,
    "name": "ml.r5.12xlarge",
    "vcpuNum": 48
   },
   {
    "_defaultOrder": 45,
    "_isFastLaunch": false,
    "category": "Memory Optimized",
    "gpuNum": 0,
    "hideHardwareSpecs": false,
    "memoryGiB": 512,
    "name": "ml.r5.16xlarge",
    "vcpuNum": 64
   },
   {
    "_defaultOrder": 46,
    "_isFastLaunch": false,
    "category": "Memory Optimized",
    "gpuNum": 0,
    "hideHardwareSpecs": false,
    "memoryGiB": 768,
    "name": "ml.r5.24xlarge",
    "vcpuNum": 96
   },
   {
    "_defaultOrder": 47,
    "_isFastLaunch": false,
    "category": "Accelerated computing",
    "gpuNum": 1,
    "hideHardwareSpecs": false,
    "memoryGiB": 16,
    "name": "ml.g5.xlarge",
    "vcpuNum": 4
   },
   {
    "_defaultOrder": 48,
    "_isFastLaunch": false,
    "category": "Accelerated computing",
    "gpuNum": 1,
    "hideHardwareSpecs": false,
    "memoryGiB": 32,
    "name": "ml.g5.2xlarge",
    "vcpuNum": 8
   },
   {
    "_defaultOrder": 49,
    "_isFastLaunch": false,
    "category": "Accelerated computing",
    "gpuNum": 1,
    "hideHardwareSpecs": false,
    "memoryGiB": 64,
    "name": "ml.g5.4xlarge",
    "vcpuNum": 16
   },
   {
    "_defaultOrder": 50,
    "_isFastLaunch": false,
    "category": "Accelerated computing",
    "gpuNum": 1,
    "hideHardwareSpecs": false,
    "memoryGiB": 128,
    "name": "ml.g5.8xlarge",
    "vcpuNum": 32
   },
   {
    "_defaultOrder": 51,
    "_isFastLaunch": false,
    "category": "Accelerated computing",
    "gpuNum": 1,
    "hideHardwareSpecs": false,
    "memoryGiB": 256,
    "name": "ml.g5.16xlarge",
    "vcpuNum": 64
   },
   {
    "_defaultOrder": 52,
    "_isFastLaunch": false,
    "category": "Accelerated computing",
    "gpuNum": 4,
    "hideHardwareSpecs": false,
    "memoryGiB": 192,
    "name": "ml.g5.12xlarge",
    "vcpuNum": 48
   },
   {
    "_defaultOrder": 53,
    "_isFastLaunch": false,
    "category": "Accelerated computing",
    "gpuNum": 4,
    "hideHardwareSpecs": false,
    "memoryGiB": 384,
    "name": "ml.g5.24xlarge",
    "vcpuNum": 96
   },
   {
    "_defaultOrder": 54,
    "_isFastLaunch": false,
    "category": "Accelerated computing",
    "gpuNum": 8,
    "hideHardwareSpecs": false,
    "memoryGiB": 768,
    "name": "ml.g5.48xlarge",
    "vcpuNum": 192
   }
  ],
  "kernelspec": {
   "display_name": "Python 3 (Data Science)",
   "language": "python",
   "name": "python3__SAGEMAKER_INTERNAL__arn:aws:sagemaker:us-east-1:081325390199:image/datascience-1.0"
  },
  "language_info": {
   "codemirror_mode": {
    "name": "ipython",
    "version": 3
   },
   "file_extension": ".py",
   "mimetype": "text/x-python",
   "name": "python",
   "nbconvert_exporter": "python",
   "pygments_lexer": "ipython3",
   "version": "3.7.10"
  }
 },
 "nbformat": 4,
 "nbformat_minor": 5
}
