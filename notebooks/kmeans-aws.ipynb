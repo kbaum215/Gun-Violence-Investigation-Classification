{
 "cells": [
  {
   "cell_type": "code",
   "execution_count": 3,
   "metadata": {},
   "outputs": [],
   "source": [
    "%matplotlib inline"
   ]
  },
  {
   "cell_type": "code",
   "execution_count": 15,
   "metadata": {
    "isConfigCell": true
   },
   "outputs": [],
   "source": [
    "from sagemaker import get_execution_role\n",
    "from sagemaker.session import Session\n",
    "import sagemaker\n",
    "import boto3\n",
    "\n",
    "role = get_execution_role()\n",
    "bucket = Session().default_bucket()"
   ]
  },
  {
   "cell_type": "code",
   "execution_count": 4,
   "metadata": {},
   "outputs": [],
   "source": [
    "import pickle, gzip, numpy, boto3, json\n",
    "\n",
    "# Load the dataset\n",
    "region = boto3.Session().region_name\n",
    "s3 = boto3.client(\"s3\")\n",
    "s3.download_file(f\"sagemaker-sample-data-{region}\", \"algorithms/kmeans/mnist/mnist.pkl.gz\", \"mnist.pkl.gz\")\n",
    "with gzip.open(\"mnist.pkl.gz\", \"rb\") as f:\n",
    "    train_set, valid_set, test_set = pickle.load(f, encoding=\"latin1\")\n",
    "    \n",
    "df = pd.read_csv( 's3://sagemaker-us-east-1-346023323361/knn/train/train.csv')\n",
    "df.to_pickle()\n",
    "#df.to_pickle('.pkl')\n",
    "train_data = 's3://sagemaker-us-east-1-346023323361/knn/train/train.csv'\n",
    "train_channel = sagemaker.session.s3_input(train_data, content_type='text/csv')\n",
    "valid_channel = sagemaker.session.s3_input(validation_data, content_type='text/csv')\n",
    "data_channels = {'train': train_channel, 'validation': valid_channel}"
   ]
  },
  {
   "cell_type": "code",
   "execution_count": 21,
   "metadata": {
    "tags": []
   },
   "outputs": [],
   "source": [
    "train_data = 's3://sagemaker-us-east-1-346023323361/knn/train/train.csv'\n",
    "validation_data = 's3://sagemaker-us-east-1-346023323361/knn/valid/valid.csv'\n",
    "train_set =  sagemaker.inputs.TrainingInput(train_data, content_type='text/csv')\n",
    "valid_set = sagemaker.inputs.TrainingInput(validation_data, content_type='text/csv')\n",
    "data_channels = {'train': train_set, 'validation': valid_set}"
   ]
  },
  {
   "cell_type": "markdown",
   "metadata": {},
   "source": [
    "## Training the K-Means model\n",
    "\n",
    "Once we have the data preprocessed and available in the correct format for training, the next step is to actually train the model using the data. Since this data is relatively small, it isn't meant to show off the performance of the k-means training algorithm.  But Amazon SageMaker's k-means has been tested on, and scales well with, multi-terabyte datasets.\n",
    "\n",
    "After setting training parameters, we kick off training, and poll for status until training is completed, which in this example, takes around 4 minutes."
   ]
  },
  {
   "cell_type": "code",
   "execution_count": 22,
   "metadata": {},
   "outputs": [
    {
     "name": "stdout",
     "output_type": "stream",
     "text": [
      "training data will be uploaded to: s3://sagemaker-us-east-1-346023323361/knn/kmeans-output\n",
      "training artifacts will be uploaded to: s3://sagemaker-us-east-1-346023323361/kmeans_example/output\n"
     ]
    }
   ],
   "source": [
    "from sagemaker import KMeans\n",
    "\n",
    "data_location =f\"s3://sagemaker-us-east-1-346023323361/knn/kmeans-output\"\n",
    "output_location = f\"s3://{bucket}/kmeans_example/output\"\n",
    "\n",
    "print(f\"training data will be uploaded to: {data_location}\")\n",
    "print(f\"training artifacts will be uploaded to: {output_location}\")\n",
    "\n",
    "kmeans = KMeans(\n",
    "    role=role,\n",
    "    instance_count=2,\n",
    "    instance_type=\"ml.c4.xlarge\",\n",
    "    output_path=output_location,\n",
    "    k=10,\n",
    "    data_location=data_location,\n",
    ")"
   ]
  },
  {
   "cell_type": "code",
   "execution_count": 28,
   "metadata": {},
   "outputs": [
    {
     "name": "stderr",
     "output_type": "stream",
     "text": [
      "INFO:sagemaker.image_uris:Same images used for training and inference. Defaulting to image scope: inference.\n",
      "INFO:sagemaker.image_uris:Ignoring unnecessary instance type: None.\n",
      "INFO:sagemaker:Creating training-job with name: jumpstart-example-kmeans-2023-04-16-04-22-06\n"
     ]
    },
    {
     "name": "stdout",
     "output_type": "stream",
     "text": [
      "2023-04-16 04:22:10 Starting - Starting the training job...\n",
      "2023-04-16 04:22:33 Starting - Preparing the instances for training......\n",
      "2023-04-16 04:23:25 Downloading - Downloading input data...\n",
      "2023-04-16 04:23:50 Training - Downloading the training image......\n",
      "2023-04-16 04:25:06 Training - Training image download completed. Training in progress..\u001b[34mDocker entrypoint called with argument(s): train\u001b[0m\n",
      "\u001b[34mRunning default environment configuration script\u001b[0m\n",
      "\u001b[34m[04/16/2023 04:25:15 INFO 140652233082688] Reading default configuration from /opt/amazon/lib/python3.7/site-packages/algorithm/resources/default-input.json: {'init_method': 'random', 'mini_batch_size': '5000', 'epochs': '1', 'extra_center_factor': 'auto', 'local_lloyd_max_iter': '300', 'local_lloyd_tol': '0.0001', 'local_lloyd_init_method': 'kmeans++', 'local_lloyd_num_trials': 'auto', 'half_life_time_size': '0', 'eval_metrics': '[\"msd\"]', 'force_dense': 'true', '_disable_wait_to_read': 'false', '_enable_profiler': 'false', '_kvstore': 'auto', '_log_level': 'info', '_num_gpus': 'auto', '_num_kv_servers': '1', '_num_slices': '1', '_tuning_objective_metric': ''}\u001b[0m\n",
      "\u001b[34m[04/16/2023 04:25:15 INFO 140652233082688] Merging with provided configuration from /opt/ml/input/config/hyperparameters.json: {'feature_dim': '40', 'force_dense': 'True', 'k': '10'}\u001b[0m\n",
      "\u001b[34m[04/16/2023 04:25:15 INFO 140652233082688] Final configuration: {'init_method': 'random', 'mini_batch_size': '5000', 'epochs': '1', 'extra_center_factor': 'auto', 'local_lloyd_max_iter': '300', 'local_lloyd_tol': '0.0001', 'local_lloyd_init_method': 'kmeans++', 'local_lloyd_num_trials': 'auto', 'half_life_time_size': '0', 'eval_metrics': '[\"msd\"]', 'force_dense': 'True', '_disable_wait_to_read': 'false', '_enable_profiler': 'false', '_kvstore': 'auto', '_log_level': 'info', '_num_gpus': 'auto', '_num_kv_servers': '1', '_num_slices': '1', '_tuning_objective_metric': '', 'feature_dim': '40', 'k': '10'}\u001b[0m\n",
      "\u001b[35mDocker entrypoint called with argument(s): train\u001b[0m\n",
      "\u001b[35mRunning default environment configuration script\u001b[0m\n",
      "\u001b[35m[04/16/2023 04:25:15 INFO 140001322174272] Reading default configuration from /opt/amazon/lib/python3.7/site-packages/algorithm/resources/default-input.json: {'init_method': 'random', 'mini_batch_size': '5000', 'epochs': '1', 'extra_center_factor': 'auto', 'local_lloyd_max_iter': '300', 'local_lloyd_tol': '0.0001', 'local_lloyd_init_method': 'kmeans++', 'local_lloyd_num_trials': 'auto', 'half_life_time_size': '0', 'eval_metrics': '[\"msd\"]', 'force_dense': 'true', '_disable_wait_to_read': 'false', '_enable_profiler': 'false', '_kvstore': 'auto', '_log_level': 'info', '_num_gpus': 'auto', '_num_kv_servers': '1', '_num_slices': '1', '_tuning_objective_metric': ''}\u001b[0m\n",
      "\u001b[35m[04/16/2023 04:25:15 INFO 140001322174272] Merging with provided configuration from /opt/ml/input/config/hyperparameters.json: {'feature_dim': '40', 'force_dense': 'True', 'k': '10'}\u001b[0m\n",
      "\u001b[35m[04/16/2023 04:25:15 INFO 140001322174272] Final configuration: {'init_method': 'random', 'mini_batch_size': '5000', 'epochs': '1', 'extra_center_factor': 'auto', 'local_lloyd_max_iter': '300', 'local_lloyd_tol': '0.0001', 'local_lloyd_init_method': 'kmeans++', 'local_lloyd_num_trials': 'auto', 'half_life_time_size': '0', 'eval_metrics': '[\"msd\"]', 'force_dense': 'True', '_disable_wait_to_read': 'false', '_enable_profiler': 'false', '_kvstore': 'auto', '_log_level': 'info', '_num_gpus': 'auto', '_num_kv_servers': '1', '_num_slices': '1', '_tuning_objective_metric': '', 'feature_dim': '40', 'k': '10'}\u001b[0m\n",
      "\u001b[34m[04/16/2023 04:25:17 WARNING 140652233082688] Loggers have already been setup.\u001b[0m\n",
      "\u001b[34m[04/16/2023 04:25:17 INFO 140652233082688] Final configuration: {'init_method': 'random', 'mini_batch_size': '5000', 'epochs': '1', 'extra_center_factor': 'auto', 'local_lloyd_max_iter': '300', 'local_lloyd_tol': '0.0001', 'local_lloyd_init_method': 'kmeans++', 'local_lloyd_num_trials': 'auto', 'half_life_time_size': '0', 'eval_metrics': '[\"msd\"]', 'force_dense': 'True', '_disable_wait_to_read': 'false', '_enable_profiler': 'false', '_kvstore': 'auto', '_log_level': 'info', '_num_gpus': 'auto', '_num_kv_servers': '1', '_num_slices': '1', '_tuning_objective_metric': '', 'feature_dim': '40', 'k': '10'}\u001b[0m\n",
      "\u001b[34m[04/16/2023 04:25:17 WARNING 140652233082688] Loggers have already been setup.\u001b[0m\n",
      "\u001b[34m[04/16/2023 04:25:17 INFO 140652233082688] Launching parameter server for role scheduler\u001b[0m\n",
      "\u001b[34m[04/16/2023 04:25:17 INFO 140652233082688] {'ENVROOT': '/opt/amazon', 'PROTOCOL_BUFFERS_PYTHON_IMPLEMENTATION': 'cpp', 'HOSTNAME': 'ip-10-0-69-243.ec2.internal', 'TRAINING_JOB_NAME': 'jumpstart-example-kmeans-2023-04-16-04-22-06', 'NVIDIA_REQUIRE_CUDA': 'cuda>=9.0', 'TRAINING_JOB_ARN': 'arn:aws:sagemaker:us-east-1:346023323361:training-job/jumpstart-example-kmeans-2023-04-16-04-22-06', 'AWS_CONTAINER_CREDENTIALS_RELATIVE_URI': '/v2/credentials/proxy-1cd15aff32dc9c624a8d0ebf832911278241b5d924bd96843c54617f4d1e09da-customer', 'CANONICAL_ENVROOT': '/opt/amazon', 'PYTHONUNBUFFERED': 'TRUE', 'NVIDIA_VISIBLE_DEVICES': 'all', 'LD_LIBRARY_PATH': '/opt/amazon/lib/python3.7/site-packages/cv2/../../../../lib:/usr/local/nvidia/lib64:/opt/amazon/lib', 'MXNET_KVSTORE_BIGARRAY_BOUND': '400000000', 'NVIDIA_DRIVER_CAPABILITIES': 'compute,utility', 'PATH': '/opt/amazon/bin:/usr/local/nvidia/bin:/usr/local/sbin:/usr/local/bin:/usr/sbin:/usr/bin:/sbin:/bin', 'PWD': '/', 'LANG': 'en_US.utf8', 'AWS_REGION': 'us-east-1', 'SAGEMAKER_METRICS_DIRECTORY': '/opt/ml/output/metrics/sagemaker', 'CUDA_VERSION': '11.1', 'HOME': '/root', 'SHLVL': '1', 'CUDA_COMPAT_NDRIVER_SUPPORTED_VERSION': '455.32.00', 'PROTOCOL_BUFFERS_PYTHON_IMPLEMENTATION_VERSION': '2', 'OMP_NUM_THREADS': '2', 'DMLC_INTERFACE': 'eth0', 'SAGEMAKER_HTTP_PORT': '8080', 'SAGEMAKER_DATA_PATH': '/opt/ml'}\u001b[0m\n",
      "\u001b[34m[04/16/2023 04:25:17 INFO 140652233082688] envs={'ENVROOT': '/opt/amazon', 'PROTOCOL_BUFFERS_PYTHON_IMPLEMENTATION': 'cpp', 'HOSTNAME': 'ip-10-0-69-243.ec2.internal', 'TRAINING_JOB_NAME': 'jumpstart-example-kmeans-2023-04-16-04-22-06', 'NVIDIA_REQUIRE_CUDA': 'cuda>=9.0', 'TRAINING_JOB_ARN': 'arn:aws:sagemaker:us-east-1:346023323361:training-job/jumpstart-example-kmeans-2023-04-16-04-22-06', 'AWS_CONTAINER_CREDENTIALS_RELATIVE_URI': '/v2/credentials/proxy-1cd15aff32dc9c624a8d0ebf832911278241b5d924bd96843c54617f4d1e09da-customer', 'CANONICAL_ENVROOT': '/opt/amazon', 'PYTHONUNBUFFERED': 'TRUE', 'NVIDIA_VISIBLE_DEVICES': 'all', 'LD_LIBRARY_PATH': '/opt/amazon/lib/python3.7/site-packages/cv2/../../../../lib:/usr/local/nvidia/lib64:/opt/amazon/lib', 'MXNET_KVSTORE_BIGARRAY_BOUND': '400000000', 'NVIDIA_DRIVER_CAPABILITIES': 'compute,utility', 'PATH': '/opt/amazon/bin:/usr/local/nvidia/bin:/usr/local/sbin:/usr/local/bin:/usr/sbin:/usr/bin:/sbin:/bin', 'PWD': '/', 'LANG': 'en_US.utf8', 'AWS_REGION': 'us-east-1', 'SAGEMAKER_METRICS_DIRECTORY': '/opt/ml/output/metrics/sagemaker', 'CUDA_VERSION': '11.1', 'HOME': '/root', 'SHLVL': '1', 'CUDA_COMPAT_NDRIVER_SUPPORTED_VERSION': '455.32.00', 'PROTOCOL_BUFFERS_PYTHON_IMPLEMENTATION_VERSION': '2', 'OMP_NUM_THREADS': '2', 'DMLC_INTERFACE': 'eth0', 'SAGEMAKER_HTTP_PORT': '8080', 'SAGEMAKER_DATA_PATH': '/opt/ml', 'DMLC_ROLE': 'scheduler', 'DMLC_PS_ROOT_URI': '10.0.69.243', 'DMLC_PS_ROOT_PORT': '9000', 'DMLC_NUM_SERVER': '1', 'DMLC_NUM_WORKER': '2'}\u001b[0m\n",
      "\u001b[34m[04/16/2023 04:25:17 INFO 140652233082688] Launching parameter server for role server\u001b[0m\n",
      "\u001b[34m[04/16/2023 04:25:17 INFO 140652233082688] {'ENVROOT': '/opt/amazon', 'PROTOCOL_BUFFERS_PYTHON_IMPLEMENTATION': 'cpp', 'HOSTNAME': 'ip-10-0-69-243.ec2.internal', 'TRAINING_JOB_NAME': 'jumpstart-example-kmeans-2023-04-16-04-22-06', 'NVIDIA_REQUIRE_CUDA': 'cuda>=9.0', 'TRAINING_JOB_ARN': 'arn:aws:sagemaker:us-east-1:346023323361:training-job/jumpstart-example-kmeans-2023-04-16-04-22-06', 'AWS_CONTAINER_CREDENTIALS_RELATIVE_URI': '/v2/credentials/proxy-1cd15aff32dc9c624a8d0ebf832911278241b5d924bd96843c54617f4d1e09da-customer', 'CANONICAL_ENVROOT': '/opt/amazon', 'PYTHONUNBUFFERED': 'TRUE', 'NVIDIA_VISIBLE_DEVICES': 'all', 'LD_LIBRARY_PATH': '/opt/amazon/lib/python3.7/site-packages/cv2/../../../../lib:/usr/local/nvidia/lib64:/opt/amazon/lib', 'MXNET_KVSTORE_BIGARRAY_BOUND': '400000000', 'NVIDIA_DRIVER_CAPABILITIES': 'compute,utility', 'PATH': '/opt/amazon/bin:/usr/local/nvidia/bin:/usr/local/sbin:/usr/local/bin:/usr/sbin:/usr/bin:/sbin:/bin', 'PWD': '/', 'LANG': 'en_US.utf8', 'AWS_REGION': 'us-east-1', 'SAGEMAKER_METRICS_DIRECTORY': '/opt/ml/output/metrics/sagemaker', 'CUDA_VERSION': '11.1', 'HOME': '/root', 'SHLVL': '1', 'CUDA_COMPAT_NDRIVER_SUPPORTED_VERSION': '455.32.00', 'PROTOCOL_BUFFERS_PYTHON_IMPLEMENTATION_VERSION': '2', 'OMP_NUM_THREADS': '2', 'DMLC_INTERFACE': 'eth0', 'SAGEMAKER_HTTP_PORT': '8080', 'SAGEMAKER_DATA_PATH': '/opt/ml'}\u001b[0m\n",
      "\u001b[34m[04/16/2023 04:25:17 INFO 140652233082688] envs={'ENVROOT': '/opt/amazon', 'PROTOCOL_BUFFERS_PYTHON_IMPLEMENTATION': 'cpp', 'HOSTNAME': 'ip-10-0-69-243.ec2.internal', 'TRAINING_JOB_NAME': 'jumpstart-example-kmeans-2023-04-16-04-22-06', 'NVIDIA_REQUIRE_CUDA': 'cuda>=9.0', 'TRAINING_JOB_ARN': 'arn:aws:sagemaker:us-east-1:346023323361:training-job/jumpstart-example-kmeans-2023-04-16-04-22-06', 'AWS_CONTAINER_CREDENTIALS_RELATIVE_URI': '/v2/credentials/proxy-1cd15aff32dc9c624a8d0ebf832911278241b5d924bd96843c54617f4d1e09da-customer', 'CANONICAL_ENVROOT': '/opt/amazon', 'PYTHONUNBUFFERED': 'TRUE', 'NVIDIA_VISIBLE_DEVICES': 'all', 'LD_LIBRARY_PATH': '/opt/amazon/lib/python3.7/site-packages/cv2/../../../../lib:/usr/local/nvidia/lib64:/opt/amazon/lib', 'MXNET_KVSTORE_BIGARRAY_BOUND': '400000000', 'NVIDIA_DRIVER_CAPABILITIES': 'compute,utility', 'PATH': '/opt/amazon/bin:/usr/local/nvidia/bin:/usr/local/sbin:/usr/local/bin:/usr/sbin:/usr/bin:/sbin:/bin', 'PWD': '/', 'LANG': 'en_US.utf8', 'AWS_REGION': 'us-east-1', 'SAGEMAKER_METRICS_DIRECTORY': '/opt/ml/output/metrics/sagemaker', 'CUDA_VERSION': '11.1', 'HOME': '/root', 'SHLVL': '1', 'CUDA_COMPAT_NDRIVER_SUPPORTED_VERSION': '455.32.00', 'PROTOCOL_BUFFERS_PYTHON_IMPLEMENTATION_VERSION': '2', 'OMP_NUM_THREADS': '2', 'DMLC_INTERFACE': 'eth0', 'SAGEMAKER_HTTP_PORT': '8080', 'SAGEMAKER_DATA_PATH': '/opt/ml', 'DMLC_ROLE': 'server', 'DMLC_PS_ROOT_URI': '10.0.69.243', 'DMLC_PS_ROOT_PORT': '9000', 'DMLC_NUM_SERVER': '1', 'DMLC_NUM_WORKER': '2'}\u001b[0m\n",
      "\u001b[34m[04/16/2023 04:25:17 INFO 140652233082688] Environment: {'ENVROOT': '/opt/amazon', 'PROTOCOL_BUFFERS_PYTHON_IMPLEMENTATION': 'cpp', 'HOSTNAME': 'ip-10-0-69-243.ec2.internal', 'TRAINING_JOB_NAME': 'jumpstart-example-kmeans-2023-04-16-04-22-06', 'NVIDIA_REQUIRE_CUDA': 'cuda>=9.0', 'TRAINING_JOB_ARN': 'arn:aws:sagemaker:us-east-1:346023323361:training-job/jumpstart-example-kmeans-2023-04-16-04-22-06', 'AWS_CONTAINER_CREDENTIALS_RELATIVE_URI': '/v2/credentials/proxy-1cd15aff32dc9c624a8d0ebf832911278241b5d924bd96843c54617f4d1e09da-customer', 'CANONICAL_ENVROOT': '/opt/amazon', 'PYTHONUNBUFFERED': 'TRUE', 'NVIDIA_VISIBLE_DEVICES': 'all', 'LD_LIBRARY_PATH': '/opt/amazon/lib/python3.7/site-packages/cv2/../../../../lib:/usr/local/nvidia/lib64:/opt/amazon/lib', 'MXNET_KVSTORE_BIGARRAY_BOUND': '400000000', 'NVIDIA_DRIVER_CAPABILITIES': 'compute,utility', 'PATH': '/opt/amazon/bin:/usr/local/nvidia/bin:/usr/local/sbin:/usr/local/bin:/usr/sbin:/usr/bin:/sbin:/bin', 'PWD': '/', 'LANG': 'en_US.utf8', 'AWS_REGION': 'us-east-1', 'SAGEMAKER_METRICS_DIRECTORY': '/opt/ml/output/metrics/sagemaker', 'CUDA_VERSION': '11.1', 'HOME': '/root', 'SHLVL': '1', 'CUDA_COMPAT_NDRIVER_SUPPORTED_VERSION': '455.32.00', 'PROTOCOL_BUFFERS_PYTHON_IMPLEMENTATION_VERSION': '2', 'OMP_NUM_THREADS': '2', 'DMLC_INTERFACE': 'eth0', 'SAGEMAKER_HTTP_PORT': '8080', 'SAGEMAKER_DATA_PATH': '/opt/ml', 'DMLC_ROLE': 'worker', 'DMLC_PS_ROOT_URI': '10.0.69.243', 'DMLC_PS_ROOT_PORT': '9000', 'DMLC_NUM_SERVER': '1', 'DMLC_NUM_WORKER': '2'}\u001b[0m\n",
      "\u001b[34mProcess 35 is a shell:scheduler.\u001b[0m\n",
      "\u001b[34mProcess 44 is a shell:server.\u001b[0m\n",
      "\u001b[34mProcess 7 is a worker.\u001b[0m\n",
      "\u001b[34m[04/16/2023 04:25:17 INFO 140652233082688] Using default worker.\u001b[0m\n",
      "\u001b[34m[04/16/2023 04:25:17 INFO 140652233082688] Loaded iterator creator application/x-recordio-protobuf for content type ('application/x-recordio-protobuf', '1.0')\u001b[0m\n",
      "\u001b[34m[04/16/2023 04:25:17 INFO 140652233082688] Create Store: dist_async\u001b[0m\n",
      "\u001b[35m[04/16/2023 04:25:17 WARNING 140001322174272] Loggers have already been setup.\u001b[0m\n",
      "\u001b[35m[04/16/2023 04:25:17 INFO 140001322174272] Final configuration: {'init_method': 'random', 'mini_batch_size': '5000', 'epochs': '1', 'extra_center_factor': 'auto', 'local_lloyd_max_iter': '300', 'local_lloyd_tol': '0.0001', 'local_lloyd_init_method': 'kmeans++', 'local_lloyd_num_trials': 'auto', 'half_life_time_size': '0', 'eval_metrics': '[\"msd\"]', 'force_dense': 'True', '_disable_wait_to_read': 'false', '_enable_profiler': 'false', '_kvstore': 'auto', '_log_level': 'info', '_num_gpus': 'auto', '_num_kv_servers': '1', '_num_slices': '1', '_tuning_objective_metric': '', 'feature_dim': '40', 'k': '10'}\u001b[0m\n",
      "\u001b[35m[04/16/2023 04:25:17 WARNING 140001322174272] Loggers have already been setup.\u001b[0m\n",
      "\u001b[35m[04/16/2023 04:25:17 INFO 140001322174272] Environment: {'ENVROOT': '/opt/amazon', 'PROTOCOL_BUFFERS_PYTHON_IMPLEMENTATION': 'cpp', 'HOSTNAME': 'ip-10-0-101-21.ec2.internal', 'TRAINING_JOB_NAME': 'jumpstart-example-kmeans-2023-04-16-04-22-06', 'NVIDIA_REQUIRE_CUDA': 'cuda>=9.0', 'TRAINING_JOB_ARN': 'arn:aws:sagemaker:us-east-1:346023323361:training-job/jumpstart-example-kmeans-2023-04-16-04-22-06', 'AWS_CONTAINER_CREDENTIALS_RELATIVE_URI': '/v2/credentials/proxy-1cd15aff32dc9c624a8d0ebf832911278241b5d924bd96843c54617f4d1e09da-customer', 'CANONICAL_ENVROOT': '/opt/amazon', 'PYTHONUNBUFFERED': 'TRUE', 'NVIDIA_VISIBLE_DEVICES': 'all', 'LD_LIBRARY_PATH': '/opt/amazon/lib/python3.7/site-packages/cv2/../../../../lib:/usr/local/nvidia/lib64:/opt/amazon/lib', 'MXNET_KVSTORE_BIGARRAY_BOUND': '400000000', 'NVIDIA_DRIVER_CAPABILITIES': 'compute,utility', 'PATH': '/opt/amazon/bin:/usr/local/nvidia/bin:/usr/local/sbin:/usr/local/bin:/usr/sbin:/usr/bin:/sbin:/bin', 'PWD': '/', 'LANG': 'en_US.utf8', 'AWS_REGION': 'us-east-1', 'SAGEMAKER_METRICS_DIRECTORY': '/opt/ml/output/metrics/sagemaker', 'CUDA_VERSION': '11.1', 'HOME': '/root', 'SHLVL': '1', 'CUDA_COMPAT_NDRIVER_SUPPORTED_VERSION': '455.32.00', 'PROTOCOL_BUFFERS_PYTHON_IMPLEMENTATION_VERSION': '2', 'OMP_NUM_THREADS': '2', 'DMLC_INTERFACE': 'eth0', 'SAGEMAKER_HTTP_PORT': '8080', 'SAGEMAKER_DATA_PATH': '/opt/ml', 'DMLC_ROLE': 'worker', 'DMLC_PS_ROOT_URI': '10.0.69.243', 'DMLC_PS_ROOT_PORT': '9000', 'DMLC_NUM_SERVER': '1', 'DMLC_NUM_WORKER': '2'}\u001b[0m\n",
      "\u001b[35mProcess 6 is a worker.\u001b[0m\n",
      "\u001b[35m[04/16/2023 04:25:17 INFO 140001322174272] Using default worker.\u001b[0m\n",
      "\u001b[35m[04/16/2023 04:25:17 INFO 140001322174272] Loaded iterator creator application/x-recordio-protobuf for content type ('application/x-recordio-protobuf', '1.0')\u001b[0m\n",
      "\u001b[35m[04/16/2023 04:25:17 INFO 140001322174272] Create Store: dist_async\u001b[0m\n",
      "\u001b[34m[04/16/2023 04:25:18 INFO 140652233082688] nvidia-smi: took 0.031 seconds to run.\u001b[0m\n",
      "\u001b[34m[04/16/2023 04:25:18 INFO 140652233082688] nvidia-smi identified 0 GPUs.\u001b[0m\n",
      "\u001b[34m[04/16/2023 04:25:18 INFO 140652233082688] Number of GPUs being used: 0\u001b[0m\n",
      "\u001b[34m[04/16/2023 04:25:18 INFO 140652233082688] Checkpoint loading and saving are disabled.\u001b[0m\n",
      "\u001b[34m[04/16/2023 04:25:18 INFO 140652233082688] Setting up with params: {'init_method': 'random', 'mini_batch_size': '5000', 'epochs': '1', 'extra_center_factor': 'auto', 'local_lloyd_max_iter': '300', 'local_lloyd_tol': '0.0001', 'local_lloyd_init_method': 'kmeans++', 'local_lloyd_num_trials': 'auto', 'half_life_time_size': '0', 'eval_metrics': '[\"msd\"]', 'force_dense': 'True', '_disable_wait_to_read': 'false', '_enable_profiler': 'false', '_kvstore': 'auto', '_log_level': 'info', '_num_gpus': 'auto', '_num_kv_servers': '1', '_num_slices': '1', '_tuning_objective_metric': '', 'feature_dim': '40', 'k': '10'}\u001b[0m\n",
      "\u001b[34m[04/16/2023 04:25:18 INFO 140652233082688] 'extra_center_factor' was set to 'auto', evaluated to 10.\u001b[0m\n",
      "\u001b[34m[04/16/2023 04:25:18 INFO 140652233082688] Number of GPUs being used: 0\u001b[0m\n",
      "\u001b[34m[04/16/2023 04:25:18 INFO 140652233082688] number of center slices 1\u001b[0m\n",
      "\u001b[34m#metrics {\"StartTime\": 1681619118.1903672, \"EndTime\": 1681619118.1904197, \"Dimensions\": {\"Algorithm\": \"AWS/KMeansWebscale\", \"Host\": \"algo-1\", \"Operation\": \"training\", \"Meta\": \"init_train_data_iter\"}, \"Metrics\": {\"Total Records Seen\": {\"sum\": 5000.0, \"count\": 1, \"min\": 5000, \"max\": 5000}, \"Total Batches Seen\": {\"sum\": 1.0, \"count\": 1, \"min\": 1, \"max\": 1}, \"Max Records Seen Between Resets\": {\"sum\": 5000.0, \"count\": 1, \"min\": 5000, \"max\": 5000}, \"Max Batches Seen Between Resets\": {\"sum\": 1.0, \"count\": 1, \"min\": 1, \"max\": 1}, \"Reset Count\": {\"sum\": 0.0, \"count\": 1, \"min\": 0, \"max\": 0}, \"Number of Records Since Last Reset\": {\"sum\": 5000.0, \"count\": 1, \"min\": 5000, \"max\": 5000}, \"Number of Batches Since Last Reset\": {\"sum\": 1.0, \"count\": 1, \"min\": 1, \"max\": 1}}}\u001b[0m\n",
      "\u001b[34m[2023-04-16 04:25:18.191] [tensorio] [info] epoch_stats={\"data_pipeline\": \"/opt/ml/input/data/train\", \"epoch\": 0, \"duration\": 49, \"num_examples\": 1, \"num_bytes\": 940000}\u001b[0m\n",
      "\u001b[34m[04/16/2023 04:25:18 INFO 140652233082688] Iter 10: Short term msd 11.359693. Long term msd 12.096136\u001b[0m\n",
      "\u001b[34m[2023-04-16 04:25:18.368] [tensorio] [info] epoch_stats={\"data_pipeline\": \"/opt/ml/input/data/train\", \"epoch\": 1, \"duration\": 176, \"num_examples\": 11, \"num_bytes\": 9413912}\u001b[0m\n",
      "\u001b[34m[04/16/2023 04:25:18 INFO 140652233082688] processed a total of 50074 examples\u001b[0m\n",
      "\u001b[34m[04/16/2023 04:25:18 INFO 140652233082688] #progress_metric: host=algo-1, completed 100.0 % of epochs\u001b[0m\n",
      "\u001b[34m#metrics {\"StartTime\": 1681619118.1915627, \"EndTime\": 1681619118.3692038, \"Dimensions\": {\"Algorithm\": \"AWS/KMeansWebscale\", \"Host\": \"algo-1\", \"Operation\": \"training\", \"epoch\": 0, \"Meta\": \"training_data_iter\"}, \"Metrics\": {\"Total Records Seen\": {\"sum\": 55074.0, \"count\": 1, \"min\": 55074, \"max\": 55074}, \"Total Batches Seen\": {\"sum\": 12.0, \"count\": 1, \"min\": 12, \"max\": 12}, \"Max Records Seen Between Resets\": {\"sum\": 50074.0, \"count\": 1, \"min\": 50074, \"max\": 50074}, \"Max Batches Seen Between Resets\": {\"sum\": 11.0, \"count\": 1, \"min\": 11, \"max\": 11}, \"Reset Count\": {\"sum\": 1.0, \"count\": 1, \"min\": 1, \"max\": 1}, \"Number of Records Since Last Reset\": {\"sum\": 50074.0, \"count\": 1, \"min\": 50074, \"max\": 50074}, \"Number of Batches Since Last Reset\": {\"sum\": 11.0, \"count\": 1, \"min\": 11, \"max\": 11}}}\u001b[0m\n",
      "\u001b[34m[04/16/2023 04:25:18 INFO 140652233082688] #throughput_metric: host=algo-1, train throughput=281569.97501840035 records/second\u001b[0m\n",
      "\u001b[34m[04/16/2023 04:25:18 INFO 140652233082688] shrinking 100 centers into 10\u001b[0m\n",
      "\u001b[34m[04/16/2023 04:25:18 INFO 140652233082688] local kmeans attempt #0. Current mean square distance 15.781926\u001b[0m\n",
      "\u001b[34m[04/16/2023 04:25:18 INFO 140652233082688] local kmeans attempt #1. Current mean square distance 15.175096\u001b[0m\n",
      "\u001b[34m[04/16/2023 04:25:18 INFO 140652233082688] local kmeans attempt #2. Current mean square distance 16.532724\u001b[0m\n",
      "\u001b[34m[04/16/2023 04:25:18 INFO 140652233082688] local kmeans attempt #3. Current mean square distance 16.666388\u001b[0m\n",
      "\u001b[35m[04/16/2023 04:25:18 INFO 140001322174272] nvidia-smi: took 0.030 seconds to run.\u001b[0m\n",
      "\u001b[35m[04/16/2023 04:25:18 INFO 140001322174272] nvidia-smi identified 0 GPUs.\u001b[0m\n",
      "\u001b[35m[04/16/2023 04:25:18 INFO 140001322174272] Number of GPUs being used: 0\u001b[0m\n",
      "\u001b[35m[04/16/2023 04:25:18 INFO 140001322174272] Checkpoint loading and saving are disabled.\u001b[0m\n",
      "\u001b[35m[04/16/2023 04:25:18 INFO 140001322174272] Setting up with params: {'init_method': 'random', 'mini_batch_size': '5000', 'epochs': '1', 'extra_center_factor': 'auto', 'local_lloyd_max_iter': '300', 'local_lloyd_tol': '0.0001', 'local_lloyd_init_method': 'kmeans++', 'local_lloyd_num_trials': 'auto', 'half_life_time_size': '0', 'eval_metrics': '[\"msd\"]', 'force_dense': 'True', '_disable_wait_to_read': 'false', '_enable_profiler': 'false', '_kvstore': 'auto', '_log_level': 'info', '_num_gpus': 'auto', '_num_kv_servers': '1', '_num_slices': '1', '_tuning_objective_metric': '', 'feature_dim': '40', 'k': '10'}\u001b[0m\n",
      "\u001b[35m[04/16/2023 04:25:18 INFO 140001322174272] 'extra_center_factor' was set to 'auto', evaluated to 10.\u001b[0m\n",
      "\u001b[35m[04/16/2023 04:25:18 INFO 140001322174272] Number of GPUs being used: 0\u001b[0m\n",
      "\u001b[35m[04/16/2023 04:25:18 INFO 140001322174272] number of center slices 1\u001b[0m\n",
      "\u001b[35m#metrics {\"StartTime\": 1681619118.1906753, \"EndTime\": 1681619118.1907072, \"Dimensions\": {\"Algorithm\": \"AWS/KMeansWebscale\", \"Host\": \"algo-2\", \"Operation\": \"training\", \"Meta\": \"init_train_data_iter\"}, \"Metrics\": {\"Total Records Seen\": {\"sum\": 5000.0, \"count\": 1, \"min\": 5000, \"max\": 5000}, \"Total Batches Seen\": {\"sum\": 1.0, \"count\": 1, \"min\": 1, \"max\": 1}, \"Max Records Seen Between Resets\": {\"sum\": 5000.0, \"count\": 1, \"min\": 5000, \"max\": 5000}, \"Max Batches Seen Between Resets\": {\"sum\": 1.0, \"count\": 1, \"min\": 1, \"max\": 1}, \"Reset Count\": {\"sum\": 0.0, \"count\": 1, \"min\": 0, \"max\": 0}, \"Number of Records Since Last Reset\": {\"sum\": 5000.0, \"count\": 1, \"min\": 5000, \"max\": 5000}, \"Number of Batches Since Last Reset\": {\"sum\": 1.0, \"count\": 1, \"min\": 1, \"max\": 1}}}\u001b[0m\n",
      "\u001b[35m[2023-04-16 04:25:18.194] [tensorio] [info] epoch_stats={\"data_pipeline\": \"/opt/ml/input/data/train\", \"epoch\": 0, \"duration\": 53, \"num_examples\": 1, \"num_bytes\": 940000}\u001b[0m\n",
      "\u001b[35m[04/16/2023 04:25:18 INFO 140001322174272] Iter 10: Short term msd 6.312607. Long term msd 7.239142\u001b[0m\n",
      "\u001b[35m[2023-04-16 04:25:18.378] [tensorio] [info] epoch_stats={\"data_pipeline\": \"/opt/ml/input/data/train\", \"epoch\": 1, \"duration\": 183, \"num_examples\": 11, \"num_bytes\": 9414100}\u001b[0m\n",
      "\u001b[35m[04/16/2023 04:25:18 INFO 140001322174272] processed a total of 50075 examples\u001b[0m\n",
      "\u001b[35m[04/16/2023 04:25:18 INFO 140001322174272] #progress_metric: host=algo-2, completed 100.0 % of epochs\u001b[0m\n",
      "\u001b[35m#metrics {\"StartTime\": 1681619118.1945493, \"EndTime\": 1681619118.3796027, \"Dimensions\": {\"Algorithm\": \"AWS/KMeansWebscale\", \"Host\": \"algo-2\", \"Operation\": \"training\", \"epoch\": 0, \"Meta\": \"training_data_iter\"}, \"Metrics\": {\"Total Records Seen\": {\"sum\": 55075.0, \"count\": 1, \"min\": 55075, \"max\": 55075}, \"Total Batches Seen\": {\"sum\": 12.0, \"count\": 1, \"min\": 12, \"max\": 12}, \"Max Records Seen Between Resets\": {\"sum\": 50075.0, \"count\": 1, \"min\": 50075, \"max\": 50075}, \"Max Batches Seen Between Resets\": {\"sum\": 11.0, \"count\": 1, \"min\": 11, \"max\": 11}, \"Reset Count\": {\"sum\": 1.0, \"count\": 1, \"min\": 1, \"max\": 1}, \"Number of Records Since Last Reset\": {\"sum\": 50075.0, \"count\": 1, \"min\": 50075, \"max\": 50075}, \"Number of Batches Since Last Reset\": {\"sum\": 11.0, \"count\": 1, \"min\": 11, \"max\": 11}}}\u001b[0m\n",
      "\u001b[35m[04/16/2023 04:25:18 INFO 140001322174272] #throughput_metric: host=algo-2, train throughput=270376.442994059 records/second\u001b[0m\n",
      "\u001b[35m[04/16/2023 04:25:18 INFO 140001322174272] shrinking 100 centers into 10\u001b[0m\n",
      "\u001b[35m[04/16/2023 04:25:18 INFO 140001322174272] local kmeans attempt #0. Current mean square distance 15.306510\u001b[0m\n",
      "\u001b[35m[04/16/2023 04:25:18 INFO 140001322174272] local kmeans attempt #1. Current mean square distance 16.898281\u001b[0m\n",
      "\u001b[35m[04/16/2023 04:25:18 INFO 140001322174272] local kmeans attempt #2. Current mean square distance 16.045229\u001b[0m\n",
      "\u001b[35m[04/16/2023 04:25:18 INFO 140001322174272] local kmeans attempt #3. Current mean square distance 15.750039\u001b[0m\n",
      "\u001b[35m[04/16/2023 04:25:18 INFO 140001322174272] local kmeans attempt #4. Current mean square distance 16.418335\u001b[0m\n",
      "\u001b[35m[04/16/2023 04:25:18 INFO 140001322174272] local kmeans attempt #5. Current mean square distance 14.572967\u001b[0m\n",
      "\u001b[35m[04/16/2023 04:25:18 INFO 140001322174272] local kmeans attempt #6. Current mean square distance 14.772613\u001b[0m\n",
      "\u001b[35m[04/16/2023 04:25:18 INFO 140001322174272] local kmeans attempt #7. Current mean square distance 15.590643\u001b[0m\n",
      "\u001b[34m[04/16/2023 04:25:18 INFO 140652233082688] local kmeans attempt #4. Current mean square distance 17.284555\u001b[0m\n",
      "\u001b[34m[04/16/2023 04:25:18 INFO 140652233082688] local kmeans attempt #5. Current mean square distance 15.105407\u001b[0m\n",
      "\u001b[34m[04/16/2023 04:25:18 INFO 140652233082688] local kmeans attempt #6. Current mean square distance 15.809955\u001b[0m\n",
      "\u001b[34m[04/16/2023 04:25:18 INFO 140652233082688] local kmeans attempt #7. Current mean square distance 15.653717\u001b[0m\n",
      "\u001b[34m[04/16/2023 04:25:18 INFO 140652233082688] local kmeans attempt #8. Current mean square distance 15.320545\u001b[0m\n",
      "\u001b[34m[04/16/2023 04:25:18 INFO 140652233082688] local kmeans attempt #9. Current mean square distance 16.076338\u001b[0m\n",
      "\u001b[34m[04/16/2023 04:25:18 INFO 140652233082688] finished shrinking process. Mean Square Distance = 15\u001b[0m\n",
      "\u001b[34m[04/16/2023 04:25:18 INFO 140652233082688] #quality_metric: host=algo-1, train msd <loss>=15.105406761169434\u001b[0m\n",
      "\u001b[34m[04/16/2023 04:25:18 INFO 140652233082688] predict compute msd took: 25.7923%, (0.048067 secs)\u001b[0m\n",
      "\u001b[34m[04/16/2023 04:25:18 INFO 140652233082688] compute all data-center distances: inner product took: 16.5534%, (0.030849 secs)\u001b[0m\n",
      "\u001b[34m[04/16/2023 04:25:18 INFO 140652233082688] gradient: cluster size  took: 13.0631%, (0.024344 secs)\u001b[0m\n",
      "\u001b[34m[04/16/2023 04:25:18 INFO 140652233082688] collect from kv store took: 10.0765%, (0.018779 secs)\u001b[0m\n",
      "\u001b[34m[04/16/2023 04:25:18 INFO 140652233082688] batch data loading with context took: 9.0883%, (0.016937 secs)\u001b[0m\n",
      "\u001b[34m[04/16/2023 04:25:18 INFO 140652233082688] compute all data-center distances: point norm took: 7.3629%, (0.013721 secs)\u001b[0m\n",
      "\u001b[34m[04/16/2023 04:25:18 INFO 140652233082688] splitting centers key-value pair took: 7.0067%, (0.013058 secs)\u001b[0m\n",
      "\u001b[34m[04/16/2023 04:25:18 INFO 140652233082688] gradient: cluster center took: 5.8145%, (0.010836 secs)\u001b[0m\n",
      "\u001b[34m[04/16/2023 04:25:18 INFO 140652233082688] update state and report convergance took: 1.8676%, (0.003480 secs)\u001b[0m\n",
      "\u001b[34m[04/16/2023 04:25:18 INFO 140652233082688] gradient: one_hot took: 1.7263%, (0.003217 secs)\u001b[0m\n",
      "\u001b[34m[04/16/2023 04:25:18 INFO 140652233082688] compute all data-center distances: center norm took: 1.1677%, (0.002176 secs)\u001b[0m\n",
      "\u001b[34m[04/16/2023 04:25:18 INFO 140652233082688] predict minus dist took: 0.3554%, (0.000662 secs)\u001b[0m\n",
      "\u001b[34m[04/16/2023 04:25:18 INFO 140652233082688] update set-up time took: 0.1252%, (0.000233 secs)\u001b[0m\n",
      "\u001b[34m[04/16/2023 04:25:18 INFO 140652233082688] TOTAL took: 0.18636012077331543\u001b[0m\n",
      "\u001b[34m[04/16/2023 04:25:18 INFO 140652233082688] Number of GPUs being used: 0\u001b[0m\n",
      "\u001b[34m#metrics {\"StartTime\": 1681619118.141309, \"EndTime\": 1681619118.726993, \"Dimensions\": {\"Algorithm\": \"AWS/KMeansWebscale\", \"Host\": \"algo-1\", \"Operation\": \"training\"}, \"Metrics\": {\"initialize.time\": {\"sum\": 42.725324630737305, \"count\": 1, \"min\": 42.725324630737305, \"max\": 42.725324630737305}, \"epochs\": {\"sum\": 1.0, \"count\": 1, \"min\": 1, \"max\": 1}, \"update.time\": {\"sum\": 177.38676071166992, \"count\": 1, \"min\": 177.38676071166992, \"max\": 177.38676071166992}, \"_shrink.time\": {\"sum\": 343.80078315734863, \"count\": 1, \"min\": 343.80078315734863, \"max\": 343.80078315734863}, \"finalize.time\": {\"sum\": 346.33469581604004, \"count\": 1, \"min\": 346.33469581604004, \"max\": 346.33469581604004}, \"model.serialize.time\": {\"sum\": 0.19669532775878906, \"count\": 1, \"min\": 0.19669532775878906, \"max\": 0.19669532775878906}}}\u001b[0m\n",
      "\u001b[34m[04/16/2023 04:25:18 INFO 140652233082688] Test data is not provided.\u001b[0m\n",
      "\u001b[34m#metrics {\"StartTime\": 1681619118.7270882, \"EndTime\": 1681619118.7273705, \"Dimensions\": {\"Algorithm\": \"AWS/KMeansWebscale\", \"Host\": \"algo-1\", \"Operation\": \"training\"}, \"Metrics\": {\"setuptime\": {\"sum\": 32.19127655029297, \"count\": 1, \"min\": 32.19127655029297, \"max\": 32.19127655029297}, \"totaltime\": {\"sum\": 1558.8462352752686, \"count\": 1, \"min\": 1558.8462352752686, \"max\": 1558.8462352752686}}}\u001b[0m\n",
      "\u001b[35m[04/16/2023 04:25:18 INFO 140001322174272] local kmeans attempt #8. Current mean square distance 15.260889\u001b[0m\n",
      "\u001b[35m[04/16/2023 04:25:18 INFO 140001322174272] local kmeans attempt #9. Current mean square distance 15.527822\u001b[0m\n",
      "\u001b[35m[04/16/2023 04:25:18 INFO 140001322174272] finished shrinking process. Mean Square Distance = 15\u001b[0m\n",
      "\u001b[35m[04/16/2023 04:25:18 INFO 140001322174272] #quality_metric: host=algo-2, train msd <loss>=14.572966575622559\u001b[0m\n",
      "\u001b[35m[04/16/2023 04:25:18 INFO 140001322174272] predict compute msd took: 28.7232%, (0.054444 secs)\u001b[0m\n",
      "\u001b[35m[04/16/2023 04:25:18 INFO 140001322174272] compute all data-center distances: inner product took: 17.6134%, (0.033386 secs)\u001b[0m\n",
      "\u001b[35m[04/16/2023 04:25:18 INFO 140001322174272] gradient: cluster size  took: 15.7893%, (0.029928 secs)\u001b[0m\n",
      "\u001b[35m[04/16/2023 04:25:18 INFO 140001322174272] collect from kv store took: 11.2456%, (0.021316 secs)\u001b[0m\n",
      "\u001b[35m[04/16/2023 04:25:18 INFO 140001322174272] compute all data-center distances: point norm took: 7.3087%, (0.013854 secs)\u001b[0m\n",
      "\u001b[35m[04/16/2023 04:25:18 INFO 140001322174272] gradient: cluster center took: 5.3228%, (0.010089 secs)\u001b[0m\n",
      "\u001b[35m[04/16/2023 04:25:18 INFO 140001322174272] batch data loading with context took: 5.0613%, (0.009593 secs)\u001b[0m\n",
      "\u001b[35m[04/16/2023 04:25:18 INFO 140001322174272] splitting centers key-value pair took: 4.3547%, (0.008254 secs)\u001b[0m\n",
      "\u001b[35m[04/16/2023 04:25:18 INFO 140001322174272] update state and report convergance took: 1.6596%, (0.003146 secs)\u001b[0m\n",
      "\u001b[35m[04/16/2023 04:25:18 INFO 140001322174272] gradient: one_hot took: 1.6149%, (0.003061 secs)\u001b[0m\n",
      "\u001b[35m[04/16/2023 04:25:18 INFO 140001322174272] compute all data-center distances: center norm took: 1.0439%, (0.001979 secs)\u001b[0m\n",
      "\u001b[35m[04/16/2023 04:25:18 INFO 140001322174272] update set-up time took: 0.1337%, (0.000253 secs)\u001b[0m\n",
      "\u001b[35m[04/16/2023 04:25:18 INFO 140001322174272] predict minus dist took: 0.1289%, (0.000244 secs)\u001b[0m\n",
      "\u001b[35m[04/16/2023 04:25:18 INFO 140001322174272] TOTAL took: 0.18954753875732422\u001b[0m\n",
      "\u001b[35m[04/16/2023 04:25:18 INFO 140001322174272] Number of GPUs being used: 0\u001b[0m\n",
      "\u001b[35m[04/16/2023 04:25:18 INFO 140001322174272] No model is serialized on a non-master node\u001b[0m\n",
      "\u001b[35m#metrics {\"StartTime\": 1681619118.1407707, \"EndTime\": 1681619118.750583, \"Dimensions\": {\"Algorithm\": \"AWS/KMeansWebscale\", \"Host\": \"algo-2\", \"Operation\": \"training\"}, \"Metrics\": {\"initialize.time\": {\"sum\": 40.85516929626465, \"count\": 1, \"min\": 40.85516929626465, \"max\": 40.85516929626465}, \"epochs\": {\"sum\": 1.0, \"count\": 1, \"min\": 1, \"max\": 1}, \"update.time\": {\"sum\": 184.83233451843262, \"count\": 1, \"min\": 184.83233451843262, \"max\": 184.83233451843262}, \"_shrink.time\": {\"sum\": 367.33126640319824, \"count\": 1, \"min\": 367.33126640319824, \"max\": 367.33126640319824}, \"finalize.time\": {\"sum\": 369.92835998535156, \"count\": 1, \"min\": 369.92835998535156, \"max\": 369.92835998535156}, \"model.serialize.time\": {\"sum\": 0.11849403381347656, \"count\": 1, \"min\": 0.11849403381347656, \"max\": 0.11849403381347656}}}\u001b[0m\n",
      "\u001b[35m[04/16/2023 04:25:18 INFO 140001322174272] Test data is not provided.\u001b[0m\n",
      "\u001b[35m#metrics {\"StartTime\": 1681619118.7507312, \"EndTime\": 1681619118.7510252, \"Dimensions\": {\"Algorithm\": \"AWS/KMeansWebscale\", \"Host\": \"algo-2\", \"Operation\": \"training\"}, \"Metrics\": {\"setuptime\": {\"sum\": 11.455535888671875, \"count\": 1, \"min\": 11.455535888671875, \"max\": 11.455535888671875}, \"totaltime\": {\"sum\": 1670.1087951660156, \"count\": 1, \"min\": 1670.1087951660156, \"max\": 1670.1087951660156}}}\u001b[0m\n",
      "\n",
      "2023-04-16 04:25:37 Uploading - Uploading generated training model\n",
      "2023-04-16 04:25:37 Completed - Training job completed\n",
      "Training seconds: 264\n",
      "Billable seconds: 264\n",
      "CPU times: user 2.97 s, sys: 197 ms, total: 3.16 s\n",
      "Wall time: 3min 58s\n"
     ]
    }
   ],
   "source": [
    "%%time\n",
    "from time import gmtime, strftime\n",
    "import pandas as pd\n",
    "import numpy as np\n",
    "\n",
    "df_train = pd.read_csv( 's3://sagemaker-us-east-1-346023323361/knn/train/train.csv')\n",
    "#np_array = df_train.to_numpy()\n",
    "np_array = np.array(df_train.values, dtype=np.float32)\n",
    "job_name = f'jumpstart-example-kmeans-{strftime(\"%Y-%m-%d-%H-%M-%S\", gmtime())}'\n",
    "kmeans.fit(kmeans.record_set(np_array), job_name = job_name)"
   ]
  },
  {
   "cell_type": "markdown",
   "metadata": {},
   "source": [
    "## Set up hosting for the model\n",
    "Now, we can deploy the model we just trained behind a real-time hosted endpoint.  This next step can take, on average, 7 to 11 minutes to complete."
   ]
  },
  {
   "cell_type": "code",
   "execution_count": 29,
   "metadata": {},
   "outputs": [
    {
     "name": "stderr",
     "output_type": "stream",
     "text": [
      "INFO:sagemaker.image_uris:Same images used for training and inference. Defaulting to image scope: inference.\n",
      "INFO:sagemaker.image_uris:Ignoring unnecessary instance type: None.\n",
      "INFO:sagemaker:Creating model with name: kmeans-2023-04-16-04-26-13-179\n",
      "INFO:sagemaker:Creating endpoint-config with name jumpstart-example-kmeans-2023-04-16-04-26-13\n",
      "INFO:sagemaker:Creating endpoint with name jumpstart-example-kmeans-2023-04-16-04-26-13\n"
     ]
    },
    {
     "name": "stdout",
     "output_type": "stream",
     "text": [
      "---------!CPU times: user 212 ms, sys: 13.8 ms, total: 226 ms\n",
      "Wall time: 5min 2s\n"
     ]
    }
   ],
   "source": [
    "%%time\n",
    "\n",
    "endpoint_name = f'jumpstart-example-kmeans-{strftime(\"%Y-%m-%d-%H-%M-%S\", gmtime())}'\n",
    "kmeans_predictor = kmeans.deploy(initial_instance_count=1, instance_type=\"ml.m4.xlarge\", endpoint_name = endpoint_name)"
   ]
  },
  {
   "cell_type": "markdown",
   "metadata": {},
   "source": [
    "## Validate the model for use\n",
    "Finally, we'll validate the model for use. Let's generate a classification for a single observation from the trained model using the endpoint we just created."
   ]
  },
  {
   "cell_type": "code",
   "execution_count": 49,
   "metadata": {},
   "outputs": [
    {
     "ename": "AttributeError",
     "evalue": "'TrainingInput' object has no attribute 'head'",
     "output_type": "error",
     "traceback": [
      "\u001b[0;31m---------------------------------------------------------------------------\u001b[0m",
      "\u001b[0;31mAttributeError\u001b[0m                            Traceback (most recent call last)",
      "\u001b[0;32m<ipython-input-49-d0b3a25bbf8d>\u001b[0m in \u001b[0;36m<module>\u001b[0;34m\u001b[0m\n\u001b[0;32m----> 1\u001b[0;31m \u001b[0mresult\u001b[0m \u001b[0;34m=\u001b[0m \u001b[0mkmeans_predictor\u001b[0m\u001b[0;34m.\u001b[0m\u001b[0mpredict\u001b[0m\u001b[0;34m(\u001b[0m\u001b[0mtrain_set\u001b[0m\u001b[0;34m.\u001b[0m\u001b[0mhead\u001b[0m\u001b[0;34m(\u001b[0m\u001b[0;36m1\u001b[0m\u001b[0;34m)\u001b[0m\u001b[0;34m)\u001b[0m\u001b[0;34m\u001b[0m\u001b[0;34m\u001b[0m\u001b[0m\n\u001b[0m\u001b[1;32m      2\u001b[0m                                   \u001b[0;31m#[0][30:31])\u001b[0m\u001b[0;34m\u001b[0m\u001b[0;34m\u001b[0m\u001b[0;34m\u001b[0m\u001b[0m\n\u001b[1;32m      3\u001b[0m \u001b[0mprint\u001b[0m\u001b[0;34m(\u001b[0m\u001b[0mresult\u001b[0m\u001b[0;34m)\u001b[0m\u001b[0;34m\u001b[0m\u001b[0;34m\u001b[0m\u001b[0m\n",
      "\u001b[0;31mAttributeError\u001b[0m: 'TrainingInput' object has no attribute 'head'"
     ]
    }
   ],
   "source": [
    "result = kmeans_predictor.predict(train_set.head(1))\n",
    "                                  #[0][30:31])\n",
    "print(result)"
   ]
  },
  {
   "cell_type": "markdown",
   "metadata": {},
   "source": [
    "OK, a single prediction works.\n",
    "\n",
    "Let's do a whole batch and see how well the clustering works."
   ]
  },
  {
   "cell_type": "markdown",
   "metadata": {},
   "source": [
    "## Predict on Validation Set"
   ]
  },
  {
   "cell_type": "code",
   "execution_count": 67,
   "metadata": {},
   "outputs": [
    {
     "name": "stdout",
     "output_type": "stream",
     "text": [
      "CPU times: user 614 ms, sys: 4.4 ms, total: 618 ms\n",
      "Wall time: 975 ms\n"
     ]
    }
   ],
   "source": [
    "%%time \n",
    "\n",
    "df_valid = pd.read_csv( 's3://sagemaker-us-east-1-346023323361/knn/valid/valid.csv')\n",
    "np_array = np.array(df_valid.values, dtype=np.float32)\n",
    "\n",
    "# returns \n",
    "result = kmeans_predictor.predict(np_array)\n",
    "\n",
    "# this returns the closest cluster that the particular row of data in the validation set\n",
    "clusters = [r.label[\"closest_cluster\"].float32_tensor.values[0] for r in result]\n",
    "df_valid['label'] = clusters"
   ]
  },
  {
   "cell_type": "code",
   "execution_count": 64,
   "metadata": {
    "tags": []
   },
   "outputs": [
    {
     "name": "stdout",
     "output_type": "stream",
     "text": [
      "5563\n",
      "5563\n",
      "5563\n"
     ]
    }
   ],
   "source": [
    "print(len(result))\n",
    "print(len(clusters))\n",
    "print(len(df_valid))"
   ]
  },
  {
   "cell_type": "code",
   "execution_count": 68,
   "metadata": {
    "tags": []
   },
   "outputs": [
    {
     "name": "stdout",
     "output_type": "stream",
     "text": [
      "              0    35.1088    -106.533        1.0         1  0.1       0.2  \\\n",
      "label                                                                        \n",
      "0.0    0.362292  40.917964  -74.250503   1.254159  0.759704  0.0  0.079482   \n",
      "1.0    0.580982  32.059584  -93.616420   1.125392  0.334378  0.0  0.113898   \n",
      "2.0    0.479381  39.202546 -120.207368   1.317869  0.721649  0.0  0.187285   \n",
      "3.0    0.518703  28.262854  -81.866735   1.144638  0.381546  0.0  0.137157   \n",
      "4.0    0.554360  34.521437  -82.660040   1.107643  0.331539  0.0  0.097955   \n",
      "5.0    0.460203  40.868700  -90.392587   1.254703  0.529667  0.0  0.128799   \n",
      "6.0    0.609053  36.642981 -107.932765   1.168724  0.390947  0.0  0.242798   \n",
      "7.0    0.000000  37.318522  -94.665367  41.666667  0.444444  0.0  0.111111   \n",
      "8.0    0.416667  20.792475 -157.117500   1.000000  1.000000  0.0  0.250000   \n",
      "9.0    0.526636  40.568290  -83.338041   1.280061  0.467275  0.0  0.124810   \n",
      "\n",
      "            0.3       0.4       0.5  ...      0.21      0.22      0.23  \\\n",
      "label                                ...                                 \n",
      "0.0    0.015712  0.110906  0.093346  ...  0.160813  0.011091  0.000000   \n",
      "1.0    0.012539  0.221526  0.200627  ...  0.170324  0.015674  0.173459   \n",
      "2.0    0.084192  0.228522  0.202749  ...  0.218213  0.020619  0.000000   \n",
      "3.0    0.014963  0.209476  0.182045  ...  0.189526  0.034913  0.004988   \n",
      "4.0    0.011841  0.187298  0.170075  ...  0.179763  0.005382  0.290635   \n",
      "5.0    0.046310  0.172214  0.151954  ...  0.172214  0.013025  0.049204   \n",
      "6.0    0.012346  0.316872  0.271605  ...  0.185185  0.008230  0.000000   \n",
      "7.0    0.000000  0.000000  0.000000  ...  0.444444  0.000000  0.222222   \n",
      "8.0    0.000000  0.166667  0.083333  ...  0.250000  0.000000  0.000000   \n",
      "9.0    0.016743  0.199391  0.173516  ...  0.156773  0.013699  0.101979   \n",
      "\n",
      "           0.24       1.6      0.25      0.26      0.27      0.28      0.29  \n",
      "label                                                                        \n",
      "0.0    0.476895  0.000000  0.334566  0.000000  0.188540  0.000000  0.000000  \n",
      "1.0    0.000000  0.000000  0.000000  0.000000  0.000000  0.037618  0.788924  \n",
      "2.0    0.000000  0.092784  0.000000  0.907216  0.000000  0.000000  0.000000  \n",
      "3.0    0.000000  0.000000  0.000000  0.000000  0.995012  0.000000  0.000000  \n",
      "4.0    0.000000  0.000000  0.000000  0.000000  0.709365  0.000000  0.000000  \n",
      "5.0    0.000000  0.000000  0.000000  0.000000  0.000000  0.429812  0.005789  \n",
      "6.0    0.000000  0.855967  0.000000  0.000000  0.000000  0.012346  0.131687  \n",
      "7.0    0.222222  0.111111  0.000000  0.111111  0.000000  0.111111  0.111111  \n",
      "8.0    0.000000  0.000000  0.000000  1.000000  0.000000  0.000000  0.000000  \n",
      "9.0    0.130898  0.000000  0.000000  0.000000  0.057839  0.000000  0.000000  \n",
      "\n",
      "[10 rows x 40 columns]\n"
     ]
    }
   ],
   "source": [
    "# Now we groupby the cluster and then take the mean for each column of each cluster and that will tell us\n",
    "# what is the characteristic of that particular cluster\n",
    "means = df_valid.groupby('label').mean()\n",
    "\n",
    "# gives you the mean for cluster2\n",
    "#print(means)\n",
    "means.to_csv('s3://sagemaker-us-east-1-346023323361/kmeans/means.csv')"
   ]
  },
  {
   "cell_type": "code",
   "execution_count": 69,
   "metadata": {
    "tags": []
   },
   "outputs": [
    {
     "name": "stdout",
     "output_type": "stream",
     "text": [
      "0.0    1082\n",
      "1.0     957\n",
      "4.0     929\n",
      "5.0     691\n",
      "9.0     657\n",
      "2.0     582\n",
      "3.0     401\n",
      "6.0     243\n",
      "8.0      12\n",
      "7.0       9\n",
      "Name: label, dtype: int64\n"
     ]
    }
   ],
   "source": [
    "print(df_valid['label'].value_counts())"
   ]
  },
  {
   "cell_type": "code",
   "execution_count": 57,
   "metadata": {},
   "outputs": [
    {
     "name": "stdout",
     "output_type": "stream",
     "text": [
      "{9.0: 657, 2.0: 582, 3.0: 401, 4.0: 929, 1.0: 957, 5.0: 691, 0.0: 1082, 6.0: 243, 8.0: 12, 7.0: 9}\n"
     ]
    }
   ],
   "source": [
    "    \"\"\"\n",
    "    for cluster in range(10):\n",
    "    print(f\"\\n\\n\\nCluster {int(cluster)}:\")\n",
    "    digits = [img for l, img in zip(clusters, valid_set[0]) if int(l) == cluster]\n",
    "    height = ((len(digits) - 1) // 5) + 1\n",
    "    width = 5\n",
    "    plt.rcParams[\"figure.figsize\"] = (width, height)\n",
    "    _, subplots = plt.subplots(height, width)\n",
    "    subplots = numpy.ndarray.flatten(subplots)\n",
    "    for subplot, image in zip(subplots, digits):\n",
    "        show_digit(image, subplot=subplot)\n",
    "    for subplot in subplots[len(digits) :]:\n",
    "        subplot.axis(\"off\")\n",
    "\n",
    "    plt.show()\n",
    "    \"\"\"\n",
    "#print(result)\n",
    "#print(clusters)\n",
    "from collections import Counter\n",
    "counts = dict(Counter(clusters))\n",
    "print(counts)"
   ]
  },
  {
   "cell_type": "markdown",
   "metadata": {},
   "source": [
    "## Analysis of Clusters - 10 in Total"
   ]
  },
  {
   "cell_type": "markdown",
   "metadata": {},
   "source": [
    "### The bottom line\n",
    "\n",
    "K-Means clustering is not the best algorithm for image analysis problems, but we do see pretty reasonable clusters being built."
   ]
  },
  {
   "cell_type": "markdown",
   "metadata": {},
   "source": [
    "## Cluster 1: Characteristics\n",
    "\n",
    "### This group centers around Westwood, New Jersey.  Mostly Democratic districts.  Stolen guns.  Not specific to any region.\n",
    "\n",
    "lat = 40.91\n",
    "long = -74.25   ---> Westwood, NJ  07675, United States\n",
    "guns_involved = 1.2541589648798521\t\n",
    "Democrat = 0.7597042513863216\t\n",
    "ohe_drug = 0.0\t\n",
    "ohe_officer = 0.07948243992606285\t\n",
    "ohe_gang = 0.015711645101663587\t\n",
    "ohe_accident = 0.11090573012939002\t\n",
    "ohe_murder = 0.0933456561922366\t\n",
    "ohe_suicide = 0.09704251386321626\t\n",
    "ohe_arrest = 0.29390018484288355\t\n",
    "ohe_brandishing = 0.11367837338262476\t\n",
    "ohe_felon = 0.17467652495378927\t\n",
    "ohe_drive = 0.022181146025878003\t\n",
    "ohe_home = 0.056377079482439925\t\n",
    "ohe_homeinvasion = 0.08872458410351201\t\n",
    "ohe_stolen = 0.7781885397412199\t\n",
    "ohe_misc = 0.24306839186691312\t\n",
    "ohe_drugs = 0.1534195933456562\t\n",
    "ohe_carjacking = 0.025878003696857672\t\n",
    "ohe_defensive = 0.06561922365988909\t\n",
    "ohe_robbery = 0.0009242144177449168\t\n",
    "ohe_family = 0.04805914972273567\t\n",
    "ohe_institution = 0.0027726432532347504\t\n",
    "ohe_child = 0.0018484288354898336\t\n",
    "ohe_mass = 0.06377079482439926\t\n",
    "ohe_domestic = 0.07208872458410351\t\n",
    "suspect_age = 0.28188539741219965\t\n",
    "Young Adult = 0.47412199630314233\t\n",
    "Mid-Adult = 0.16081330868761554\t\n",
    "Adult = 0.011090573012939002\t\n",
    "Senior = 0.0\t\n",
    "East_south_Central = 0.47689463955637706\t\n",
    "Mid-Atlantic = 0.0\t\n",
    "Mountain = 0.3345656192236599\t\n",
    "Western = 0.0\t\n",
    "South-Atlantic = 0.18853974121996303\t\n",
    "West_NorthEastern = 0.0\t\n",
    "South_Central = 0.0"
   ]
  },
  {
   "cell_type": "markdown",
   "metadata": {},
   "source": [
    "## Cluster 2 - Characteristics\n",
    "\n",
    "South Central Region.  Logansport, LA  71049, United States.  1 gun involved.  Stolen gun.\n",
    "\n",
    "\n",
    "0.58098223615465\t\n",
    "32.059583594566355\t\n",
    "-93.6164198537095\t\n",
    "1.1253918495297806\t\n",
    "0.3343782654127482\t\n",
    "0.0\t\n",
    "0.11389759665621735\t\n",
    "0.012539184952978056\t\n",
    "0.22152560083594566\n",
    "0.2006269592476489\t\n",
    "0.2027168234064786\t\n",
    "0.08881922675026123\t\n",
    "0.10553814002089865\t\n",
    "0.0877742946708464\t\n",
    "0.042842215256008356\t\n",
    "0.05956112852664577\t\n",
    "0.055381400208986416\t\n",
    "0.722048066875653\t\n",
    "0.0877742946708464\t\n",
    "0.1922675026123302\t\n",
    "0.07210031347962383\t\n",
    "0.12539184952978055\t\n",
    "0.003134796238244514\t\n",
    "0.05747126436781609\t\n",
    "0.008359456635318705\t\n",
    "0.0073145245559038665\t\n",
    "0.07523510971786834\t\n",
    "0.05956112852664577\t\n",
    "0.19017763845350052\t\n",
    "0.5600835945663531\t\n",
    "0.1703239289446186\t\n",
    "0.01567398119122257\t\n",
    "0.17345872518286312\t\n",
    "0.0\t\n",
    "0.0\t\n",
    "0.0\t\n",
    "0.0\t\n",
    "0.0\t\n",
    "0.03761755485893417\t\n",
    "0.7889237199582028"
   ]
  },
  {
   "cell_type": "markdown",
   "metadata": {},
   "source": [
    "## Cluster 3 - Characteristics\n",
    "\n",
    "Pacific Region. 1 gun involved and gun stolen.\n",
    "\n",
    "0.4793814432989691\t\n",
    "39.202546048109966\t\n",
    "-120.20736769759449\t\n",
    "1.3178694158075601\t\n",
    "0.7216494845360825\t- 1 gun involved\n",
    "0.0\t\n",
    "0.1872852233676976\t\n",
    "0.08419243986254296\t\n",
    "0.22852233676975944\t\n",
    "0.2027491408934708\t\n",
    "0.20618556701030927\t\n",
    "0.12886597938144329\t\n",
    "0.12199312714776632\t\n",
    "0.17353951890034364\t\n",
    "0.029209621993127148\t\n",
    "0.03264604810996564\t\n",
    "0.06013745704467354\t\n",
    "0.8127147766323024\t-- gun stolen\n",
    "0.140893470790378\t\n",
    "0.18384879725085912\t\n",
    "0.05326460481099656\t\n",
    "0.08762886597938144\t\n",
    "0.0\t\n",
    "0.05154639175257732\t\n",
    "0.00859106529209622\t\n",
    "0.003436426116838488\t\n",
    "0.06701030927835051\t\n",
    "0.04982817869415808\t\n",
    "0.17010309278350516\t\n",
    "0.5378006872852233\t\n",
    "0.218213058419244\t\n",
    "0.020618556701030927\t\n",
    "0.0\t\n",
    "0.0\t\n",
    "0.09278350515463918\t\n",
    "0.0\t\n",
    "0.9072164948453608\t--> Pacific Region\n",
    "0.0\t\n",
    "0.0\t\n",
    "0.0"
   ]
  },
  {
   "cell_type": "markdown",
   "metadata": {},
   "source": [
    "Most clusters had 1 gun involved.  Cluster 8 had a mean of 41 guns involved.\n",
    "Every cluster had a gun stolen attribute.\n",
    "\n",
    "Cluster 7 Mountain Region\n",
    "\n",
    "Cluster 5 and 6   South Atlantic\n",
    "\n",
    "\n",
    "\n"
   ]
  },
  {
   "cell_type": "code",
   "execution_count": null,
   "metadata": {},
   "outputs": [],
   "source": []
  },
  {
   "cell_type": "code",
   "execution_count": null,
   "metadata": {},
   "outputs": [],
   "source": []
  },
  {
   "cell_type": "code",
   "execution_count": null,
   "metadata": {},
   "outputs": [],
   "source": []
  },
  {
   "cell_type": "markdown",
   "metadata": {},
   "source": [
    "### (Optional) Delete the Endpoint\n",
    "If you're ready to be done with this notebook, make sure run the cell below.  This will remove the hosted endpoint you created and avoid any charges from a stray instance being left on."
   ]
  },
  {
   "cell_type": "code",
   "execution_count": 12,
   "metadata": {},
   "outputs": [
    {
     "name": "stderr",
     "output_type": "stream",
     "text": [
      "WARNING:sagemaker.deprecations:The endpoint attribute has been renamed in sagemaker>=2.\n",
      "See: https://sagemaker.readthedocs.io/en/stable/v2.html for details.\n"
     ]
    },
    {
     "name": "stdout",
     "output_type": "stream",
     "text": [
      "jumpstart-example-kmeans-2023-04-14-16-23-06\n"
     ]
    }
   ],
   "source": [
    "print(kmeans_predictor.endpoint)"
   ]
  },
  {
   "cell_type": "code",
   "execution_count": 13,
   "metadata": {},
   "outputs": [
    {
     "name": "stderr",
     "output_type": "stream",
     "text": [
      "WARNING:sagemaker.deprecations:The endpoint attribute has been renamed in sagemaker>=2.\n",
      "See: https://sagemaker.readthedocs.io/en/stable/v2.html for details.\n",
      "INFO:sagemaker:Deleting endpoint with name: jumpstart-example-kmeans-2023-04-14-16-23-06\n"
     ]
    }
   ],
   "source": [
    "import sagemaker\n",
    "\n",
    "sagemaker.Session().delete_endpoint(kmeans_predictor.endpoint)"
   ]
  }
 ],
 "metadata": {
  "availableInstances": [
   {
    "_defaultOrder": 0,
    "_isFastLaunch": true,
    "category": "General purpose",
    "gpuNum": 0,
    "hideHardwareSpecs": false,
    "memoryGiB": 4,
    "name": "ml.t3.medium",
    "vcpuNum": 2
   },
   {
    "_defaultOrder": 1,
    "_isFastLaunch": false,
    "category": "General purpose",
    "gpuNum": 0,
    "hideHardwareSpecs": false,
    "memoryGiB": 8,
    "name": "ml.t3.large",
    "vcpuNum": 2
   },
   {
    "_defaultOrder": 2,
    "_isFastLaunch": false,
    "category": "General purpose",
    "gpuNum": 0,
    "hideHardwareSpecs": false,
    "memoryGiB": 16,
    "name": "ml.t3.xlarge",
    "vcpuNum": 4
   },
   {
    "_defaultOrder": 3,
    "_isFastLaunch": false,
    "category": "General purpose",
    "gpuNum": 0,
    "hideHardwareSpecs": false,
    "memoryGiB": 32,
    "name": "ml.t3.2xlarge",
    "vcpuNum": 8
   },
   {
    "_defaultOrder": 4,
    "_isFastLaunch": true,
    "category": "General purpose",
    "gpuNum": 0,
    "hideHardwareSpecs": false,
    "memoryGiB": 8,
    "name": "ml.m5.large",
    "vcpuNum": 2
   },
   {
    "_defaultOrder": 5,
    "_isFastLaunch": false,
    "category": "General purpose",
    "gpuNum": 0,
    "hideHardwareSpecs": false,
    "memoryGiB": 16,
    "name": "ml.m5.xlarge",
    "vcpuNum": 4
   },
   {
    "_defaultOrder": 6,
    "_isFastLaunch": false,
    "category": "General purpose",
    "gpuNum": 0,
    "hideHardwareSpecs": false,
    "memoryGiB": 32,
    "name": "ml.m5.2xlarge",
    "vcpuNum": 8
   },
   {
    "_defaultOrder": 7,
    "_isFastLaunch": false,
    "category": "General purpose",
    "gpuNum": 0,
    "hideHardwareSpecs": false,
    "memoryGiB": 64,
    "name": "ml.m5.4xlarge",
    "vcpuNum": 16
   },
   {
    "_defaultOrder": 8,
    "_isFastLaunch": false,
    "category": "General purpose",
    "gpuNum": 0,
    "hideHardwareSpecs": false,
    "memoryGiB": 128,
    "name": "ml.m5.8xlarge",
    "vcpuNum": 32
   },
   {
    "_defaultOrder": 9,
    "_isFastLaunch": false,
    "category": "General purpose",
    "gpuNum": 0,
    "hideHardwareSpecs": false,
    "memoryGiB": 192,
    "name": "ml.m5.12xlarge",
    "vcpuNum": 48
   },
   {
    "_defaultOrder": 10,
    "_isFastLaunch": false,
    "category": "General purpose",
    "gpuNum": 0,
    "hideHardwareSpecs": false,
    "memoryGiB": 256,
    "name": "ml.m5.16xlarge",
    "vcpuNum": 64
   },
   {
    "_defaultOrder": 11,
    "_isFastLaunch": false,
    "category": "General purpose",
    "gpuNum": 0,
    "hideHardwareSpecs": false,
    "memoryGiB": 384,
    "name": "ml.m5.24xlarge",
    "vcpuNum": 96
   },
   {
    "_defaultOrder": 12,
    "_isFastLaunch": false,
    "category": "General purpose",
    "gpuNum": 0,
    "hideHardwareSpecs": false,
    "memoryGiB": 8,
    "name": "ml.m5d.large",
    "vcpuNum": 2
   },
   {
    "_defaultOrder": 13,
    "_isFastLaunch": false,
    "category": "General purpose",
    "gpuNum": 0,
    "hideHardwareSpecs": false,
    "memoryGiB": 16,
    "name": "ml.m5d.xlarge",
    "vcpuNum": 4
   },
   {
    "_defaultOrder": 14,
    "_isFastLaunch": false,
    "category": "General purpose",
    "gpuNum": 0,
    "hideHardwareSpecs": false,
    "memoryGiB": 32,
    "name": "ml.m5d.2xlarge",
    "vcpuNum": 8
   },
   {
    "_defaultOrder": 15,
    "_isFastLaunch": false,
    "category": "General purpose",
    "gpuNum": 0,
    "hideHardwareSpecs": false,
    "memoryGiB": 64,
    "name": "ml.m5d.4xlarge",
    "vcpuNum": 16
   },
   {
    "_defaultOrder": 16,
    "_isFastLaunch": false,
    "category": "General purpose",
    "gpuNum": 0,
    "hideHardwareSpecs": false,
    "memoryGiB": 128,
    "name": "ml.m5d.8xlarge",
    "vcpuNum": 32
   },
   {
    "_defaultOrder": 17,
    "_isFastLaunch": false,
    "category": "General purpose",
    "gpuNum": 0,
    "hideHardwareSpecs": false,
    "memoryGiB": 192,
    "name": "ml.m5d.12xlarge",
    "vcpuNum": 48
   },
   {
    "_defaultOrder": 18,
    "_isFastLaunch": false,
    "category": "General purpose",
    "gpuNum": 0,
    "hideHardwareSpecs": false,
    "memoryGiB": 256,
    "name": "ml.m5d.16xlarge",
    "vcpuNum": 64
   },
   {
    "_defaultOrder": 19,
    "_isFastLaunch": false,
    "category": "General purpose",
    "gpuNum": 0,
    "hideHardwareSpecs": false,
    "memoryGiB": 384,
    "name": "ml.m5d.24xlarge",
    "vcpuNum": 96
   },
   {
    "_defaultOrder": 20,
    "_isFastLaunch": false,
    "category": "General purpose",
    "gpuNum": 0,
    "hideHardwareSpecs": true,
    "memoryGiB": 0,
    "name": "ml.geospatial.interactive",
    "supportedImageNames": [
     "sagemaker-geospatial-v1-0"
    ],
    "vcpuNum": 0
   },
   {
    "_defaultOrder": 21,
    "_isFastLaunch": true,
    "category": "Compute optimized",
    "gpuNum": 0,
    "hideHardwareSpecs": false,
    "memoryGiB": 4,
    "name": "ml.c5.large",
    "vcpuNum": 2
   },
   {
    "_defaultOrder": 22,
    "_isFastLaunch": false,
    "category": "Compute optimized",
    "gpuNum": 0,
    "hideHardwareSpecs": false,
    "memoryGiB": 8,
    "name": "ml.c5.xlarge",
    "vcpuNum": 4
   },
   {
    "_defaultOrder": 23,
    "_isFastLaunch": false,
    "category": "Compute optimized",
    "gpuNum": 0,
    "hideHardwareSpecs": false,
    "memoryGiB": 16,
    "name": "ml.c5.2xlarge",
    "vcpuNum": 8
   },
   {
    "_defaultOrder": 24,
    "_isFastLaunch": false,
    "category": "Compute optimized",
    "gpuNum": 0,
    "hideHardwareSpecs": false,
    "memoryGiB": 32,
    "name": "ml.c5.4xlarge",
    "vcpuNum": 16
   },
   {
    "_defaultOrder": 25,
    "_isFastLaunch": false,
    "category": "Compute optimized",
    "gpuNum": 0,
    "hideHardwareSpecs": false,
    "memoryGiB": 72,
    "name": "ml.c5.9xlarge",
    "vcpuNum": 36
   },
   {
    "_defaultOrder": 26,
    "_isFastLaunch": false,
    "category": "Compute optimized",
    "gpuNum": 0,
    "hideHardwareSpecs": false,
    "memoryGiB": 96,
    "name": "ml.c5.12xlarge",
    "vcpuNum": 48
   },
   {
    "_defaultOrder": 27,
    "_isFastLaunch": false,
    "category": "Compute optimized",
    "gpuNum": 0,
    "hideHardwareSpecs": false,
    "memoryGiB": 144,
    "name": "ml.c5.18xlarge",
    "vcpuNum": 72
   },
   {
    "_defaultOrder": 28,
    "_isFastLaunch": false,
    "category": "Compute optimized",
    "gpuNum": 0,
    "hideHardwareSpecs": false,
    "memoryGiB": 192,
    "name": "ml.c5.24xlarge",
    "vcpuNum": 96
   },
   {
    "_defaultOrder": 29,
    "_isFastLaunch": true,
    "category": "Accelerated computing",
    "gpuNum": 1,
    "hideHardwareSpecs": false,
    "memoryGiB": 16,
    "name": "ml.g4dn.xlarge",
    "vcpuNum": 4
   },
   {
    "_defaultOrder": 30,
    "_isFastLaunch": false,
    "category": "Accelerated computing",
    "gpuNum": 1,
    "hideHardwareSpecs": false,
    "memoryGiB": 32,
    "name": "ml.g4dn.2xlarge",
    "vcpuNum": 8
   },
   {
    "_defaultOrder": 31,
    "_isFastLaunch": false,
    "category": "Accelerated computing",
    "gpuNum": 1,
    "hideHardwareSpecs": false,
    "memoryGiB": 64,
    "name": "ml.g4dn.4xlarge",
    "vcpuNum": 16
   },
   {
    "_defaultOrder": 32,
    "_isFastLaunch": false,
    "category": "Accelerated computing",
    "gpuNum": 1,
    "hideHardwareSpecs": false,
    "memoryGiB": 128,
    "name": "ml.g4dn.8xlarge",
    "vcpuNum": 32
   },
   {
    "_defaultOrder": 33,
    "_isFastLaunch": false,
    "category": "Accelerated computing",
    "gpuNum": 4,
    "hideHardwareSpecs": false,
    "memoryGiB": 192,
    "name": "ml.g4dn.12xlarge",
    "vcpuNum": 48
   },
   {
    "_defaultOrder": 34,
    "_isFastLaunch": false,
    "category": "Accelerated computing",
    "gpuNum": 1,
    "hideHardwareSpecs": false,
    "memoryGiB": 256,
    "name": "ml.g4dn.16xlarge",
    "vcpuNum": 64
   },
   {
    "_defaultOrder": 35,
    "_isFastLaunch": false,
    "category": "Accelerated computing",
    "gpuNum": 1,
    "hideHardwareSpecs": false,
    "memoryGiB": 61,
    "name": "ml.p3.2xlarge",
    "vcpuNum": 8
   },
   {
    "_defaultOrder": 36,
    "_isFastLaunch": false,
    "category": "Accelerated computing",
    "gpuNum": 4,
    "hideHardwareSpecs": false,
    "memoryGiB": 244,
    "name": "ml.p3.8xlarge",
    "vcpuNum": 32
   },
   {
    "_defaultOrder": 37,
    "_isFastLaunch": false,
    "category": "Accelerated computing",
    "gpuNum": 8,
    "hideHardwareSpecs": false,
    "memoryGiB": 488,
    "name": "ml.p3.16xlarge",
    "vcpuNum": 64
   },
   {
    "_defaultOrder": 38,
    "_isFastLaunch": false,
    "category": "Accelerated computing",
    "gpuNum": 8,
    "hideHardwareSpecs": false,
    "memoryGiB": 768,
    "name": "ml.p3dn.24xlarge",
    "vcpuNum": 96
   },
   {
    "_defaultOrder": 39,
    "_isFastLaunch": false,
    "category": "Memory Optimized",
    "gpuNum": 0,
    "hideHardwareSpecs": false,
    "memoryGiB": 16,
    "name": "ml.r5.large",
    "vcpuNum": 2
   },
   {
    "_defaultOrder": 40,
    "_isFastLaunch": false,
    "category": "Memory Optimized",
    "gpuNum": 0,
    "hideHardwareSpecs": false,
    "memoryGiB": 32,
    "name": "ml.r5.xlarge",
    "vcpuNum": 4
   },
   {
    "_defaultOrder": 41,
    "_isFastLaunch": false,
    "category": "Memory Optimized",
    "gpuNum": 0,
    "hideHardwareSpecs": false,
    "memoryGiB": 64,
    "name": "ml.r5.2xlarge",
    "vcpuNum": 8
   },
   {
    "_defaultOrder": 42,
    "_isFastLaunch": false,
    "category": "Memory Optimized",
    "gpuNum": 0,
    "hideHardwareSpecs": false,
    "memoryGiB": 128,
    "name": "ml.r5.4xlarge",
    "vcpuNum": 16
   },
   {
    "_defaultOrder": 43,
    "_isFastLaunch": false,
    "category": "Memory Optimized",
    "gpuNum": 0,
    "hideHardwareSpecs": false,
    "memoryGiB": 256,
    "name": "ml.r5.8xlarge",
    "vcpuNum": 32
   },
   {
    "_defaultOrder": 44,
    "_isFastLaunch": false,
    "category": "Memory Optimized",
    "gpuNum": 0,
    "hideHardwareSpecs": false,
    "memoryGiB": 384,
    "name": "ml.r5.12xlarge",
    "vcpuNum": 48
   },
   {
    "_defaultOrder": 45,
    "_isFastLaunch": false,
    "category": "Memory Optimized",
    "gpuNum": 0,
    "hideHardwareSpecs": false,
    "memoryGiB": 512,
    "name": "ml.r5.16xlarge",
    "vcpuNum": 64
   },
   {
    "_defaultOrder": 46,
    "_isFastLaunch": false,
    "category": "Memory Optimized",
    "gpuNum": 0,
    "hideHardwareSpecs": false,
    "memoryGiB": 768,
    "name": "ml.r5.24xlarge",
    "vcpuNum": 96
   },
   {
    "_defaultOrder": 47,
    "_isFastLaunch": false,
    "category": "Accelerated computing",
    "gpuNum": 1,
    "hideHardwareSpecs": false,
    "memoryGiB": 16,
    "name": "ml.g5.xlarge",
    "vcpuNum": 4
   },
   {
    "_defaultOrder": 48,
    "_isFastLaunch": false,
    "category": "Accelerated computing",
    "gpuNum": 1,
    "hideHardwareSpecs": false,
    "memoryGiB": 32,
    "name": "ml.g5.2xlarge",
    "vcpuNum": 8
   },
   {
    "_defaultOrder": 49,
    "_isFastLaunch": false,
    "category": "Accelerated computing",
    "gpuNum": 1,
    "hideHardwareSpecs": false,
    "memoryGiB": 64,
    "name": "ml.g5.4xlarge",
    "vcpuNum": 16
   },
   {
    "_defaultOrder": 50,
    "_isFastLaunch": false,
    "category": "Accelerated computing",
    "gpuNum": 1,
    "hideHardwareSpecs": false,
    "memoryGiB": 128,
    "name": "ml.g5.8xlarge",
    "vcpuNum": 32
   },
   {
    "_defaultOrder": 51,
    "_isFastLaunch": false,
    "category": "Accelerated computing",
    "gpuNum": 1,
    "hideHardwareSpecs": false,
    "memoryGiB": 256,
    "name": "ml.g5.16xlarge",
    "vcpuNum": 64
   },
   {
    "_defaultOrder": 52,
    "_isFastLaunch": false,
    "category": "Accelerated computing",
    "gpuNum": 4,
    "hideHardwareSpecs": false,
    "memoryGiB": 192,
    "name": "ml.g5.12xlarge",
    "vcpuNum": 48
   },
   {
    "_defaultOrder": 53,
    "_isFastLaunch": false,
    "category": "Accelerated computing",
    "gpuNum": 4,
    "hideHardwareSpecs": false,
    "memoryGiB": 384,
    "name": "ml.g5.24xlarge",
    "vcpuNum": 96
   },
   {
    "_defaultOrder": 54,
    "_isFastLaunch": false,
    "category": "Accelerated computing",
    "gpuNum": 8,
    "hideHardwareSpecs": false,
    "memoryGiB": 768,
    "name": "ml.g5.48xlarge",
    "vcpuNum": 192
   }
  ],
  "instance_type": "ml.t3.medium",
  "kernelspec": {
   "display_name": "Python 3 (Data Science)",
   "language": "python",
   "name": "python3__SAGEMAKER_INTERNAL__arn:aws:sagemaker:us-east-1:081325390199:image/datascience-1.0"
  },
  "language_info": {
   "codemirror_mode": {
    "name": "ipython",
    "version": 3
   },
   "file_extension": ".py",
   "mimetype": "text/x-python",
   "name": "python",
   "nbconvert_exporter": "python",
   "pygments_lexer": "ipython3",
   "version": "3.7.10"
  },
  "notice": "Copyright 2017 Amazon.com, Inc. or its affiliates. All Rights Reserved.  Licensed under the Apache License, Version 2.0 (the \"License\"). You may not use this file except in compliance with the License. A copy of the License is located at http://aws.amazon.com/apache2.0/ or in the \"license\" file accompanying this file. This file is distributed on an \"AS IS\" BASIS, WITHOUT WARRANTIES OR CONDITIONS OF ANY KIND, either express or implied. See the License for the specific language governing permissions and limitations under the License.",
  "pycharm": {
   "stem_cell": {
    "cell_type": "raw",
    "metadata": {
     "collapsed": false
    },
    "source": []
   }
  }
 },
 "nbformat": 4,
 "nbformat_minor": 4
}
