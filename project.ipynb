{
 "cells": [
  {
   "cell_type": "markdown",
   "id": "544b6a22-7da0-4d75-a74c-1b6dfd6ba5a0",
   "metadata": {},
   "source": [
    "# Set up \n",
    "\n",
    "## Check Environment "
   ]
  },
  {
   "cell_type": "code",
   "execution_count": 5,
   "id": "b4ae9065-6964-4078-971d-819cb3123697",
   "metadata": {
    "tags": []
   },
   "outputs": [],
   "source": [
    "import boto3\n",
    "\n",
    "region = boto3.Session().region_name\n",
    "session = boto3.session.Session()\n",
    "\n",
    "ec2 = boto3.Session().client(service_name=\"ec2\", region_name=region)\n",
    "sm = boto3.Session().client(service_name=\"sagemaker\", region_name=region)"
   ]
  },
  {
   "cell_type": "markdown",
   "id": "f2679010-3b8e-4843-8118-63eaf45bb0bd",
   "metadata": {},
   "source": [
    "## Update IAM Roles and Policies"
   ]
  },
  {
   "cell_type": "code",
   "execution_count": 6,
   "id": "7a5705df-9505-4f0f-a2d4-fd9244caa68d",
   "metadata": {
    "tags": []
   },
   "outputs": [],
   "source": [
    "import sagemaker\n",
    "import time\n",
    "from time import gmtime, strftime\n",
    "\n",
    "sagemaker_session = sagemaker.Session()\n",
    "role = sagemaker.get_execution_role()\n",
    "bucket = 'sagemaker-studio-458903497716-h2kl4ff3dz'\n",
    "region = boto3.Session().region_name\n",
    "\n",
    "from botocore.config import Config\n",
    "\n",
    "config = Config(retries={\"max_attempts\": 10, \"mode\": \"adaptive\"})\n",
    "\n",
    "iam = boto3.client(\"iam\", config=config)"
   ]
  },
  {
   "cell_type": "code",
   "execution_count": 7,
   "id": "dfc59837-b3bc-4335-bf7e-80b9d866bcfd",
   "metadata": {
    "tags": []
   },
   "outputs": [
    {
     "name": "stdout",
     "output_type": "stream",
     "text": [
      "Role name: LabRole\n"
     ]
    }
   ],
   "source": [
    "role_name = role.split(\"/\")[-1]\n",
    "\n",
    "print(\"Role name: {}\".format(role_name))"
   ]
  },
  {
   "cell_type": "markdown",
   "id": "bfbe1100-813c-43f5-ad87-3f43471a5f4b",
   "metadata": {},
   "source": [
    "## Import Libraries"
   ]
  },
  {
   "cell_type": "code",
   "execution_count": 83,
   "id": "1fbe1a06-146a-4836-93fb-4230808a40a5",
   "metadata": {
    "tags": []
   },
   "outputs": [
    {
     "name": "stdout",
     "output_type": "stream",
     "text": [
      "Collecting descartes\n",
      "  Downloading descartes-1.1.0-py3-none-any.whl (5.8 kB)\n",
      "Requirement already satisfied: matplotlib in /opt/conda/lib/python3.7/site-packages (from descartes) (3.1.3)\n",
      "Requirement already satisfied: python-dateutil>=2.1 in /opt/conda/lib/python3.7/site-packages (from matplotlib->descartes) (2.8.2)\n",
      "Requirement already satisfied: cycler>=0.10 in /opt/conda/lib/python3.7/site-packages (from matplotlib->descartes) (0.10.0)\n",
      "Requirement already satisfied: pyparsing!=2.0.4,!=2.1.2,!=2.1.6,>=2.0.1 in /opt/conda/lib/python3.7/site-packages (from matplotlib->descartes) (2.4.6)\n",
      "Requirement already satisfied: numpy>=1.11 in /opt/conda/lib/python3.7/site-packages (from matplotlib->descartes) (1.21.6)\n",
      "Requirement already satisfied: kiwisolver>=1.0.1 in /opt/conda/lib/python3.7/site-packages (from matplotlib->descartes) (1.1.0)\n",
      "Requirement already satisfied: six in /opt/conda/lib/python3.7/site-packages (from cycler>=0.10->matplotlib->descartes) (1.14.0)\n",
      "Requirement already satisfied: setuptools in /opt/conda/lib/python3.7/site-packages (from kiwisolver>=1.0.1->matplotlib->descartes) (65.7.0)\n",
      "Installing collected packages: descartes\n",
      "Successfully installed descartes-1.1.0\n",
      "\u001b[33mWARNING: Running pip as the 'root' user can result in broken permissions and conflicting behaviour with the system package manager. It is recommended to use a virtual environment instead: https://pip.pypa.io/warnings/venv\u001b[0m\u001b[33m\n",
      "\u001b[0m"
     ]
    }
   ],
   "source": [
    "import pandas as pd\n",
    "import matplotlib.pyplot as plt\n",
    "! pip install descartes\n",
    "import geopandas as gpd\n",
    "from geopandas import GeoDataFrame, points_from_xy"
   ]
  },
  {
   "cell_type": "markdown",
   "id": "1978a323-fe9e-4c5c-b448-fb42a6f47c0a",
   "metadata": {},
   "source": [
    "# Create Database Schema in Athena"
   ]
  },
  {
   "cell_type": "code",
   "execution_count": 9,
   "id": "fbfdde23-e09d-482d-93be-b7361eff135c",
   "metadata": {
    "tags": []
   },
   "outputs": [],
   "source": [
    "import boto3\n",
    "import sagemaker\n",
    "\n",
    "sess = sagemaker.Session()\n",
    "bucket = 'sagemaker-studio-458903497716-h2kl4ff3dz'\n",
    "role = sagemaker.get_execution_role()\n",
    "region = boto3.Session().region_name"
   ]
  },
  {
   "cell_type": "code",
   "execution_count": 10,
   "id": "c0857710-cb0c-47b6-9b72-a92a9ec6fb3d",
   "metadata": {
    "tags": []
   },
   "outputs": [
    {
     "name": "stdout",
     "output_type": "stream",
     "text": [
      "sagemaker-studio-458903497716-h2kl4ff3dz\n"
     ]
    }
   ],
   "source": [
    "print(bucket)"
   ]
  },
  {
   "cell_type": "code",
   "execution_count": 11,
   "id": "8042c816-1eac-4ff3-b5a9-30a781887cd6",
   "metadata": {
    "tags": []
   },
   "outputs": [
    {
     "name": "stdout",
     "output_type": "stream",
     "text": [
      "\u001b[33mWARNING: Running pip as the 'root' user can result in broken permissions and conflicting behaviour with the system package manager. It is recommended to use a virtual environment instead: https://pip.pypa.io/warnings/venv\u001b[0m\u001b[33m\n",
      "\u001b[0m"
     ]
    }
   ],
   "source": [
    "!pip install --disable-pip-version-check -q PyAthena==2.1.0\n",
    "from pyathena import connect"
   ]
  },
  {
   "cell_type": "code",
   "execution_count": 12,
   "id": "f9a285fe-a778-4e37-a27f-c87ddc30237e",
   "metadata": {
    "tags": []
   },
   "outputs": [],
   "source": [
    "#assign database name\n",
    "database_name = \"ads508\""
   ]
  },
  {
   "cell_type": "code",
   "execution_count": 13,
   "id": "5a8cd20c-a4d5-4e19-8494-5325227171a3",
   "metadata": {
    "tags": []
   },
   "outputs": [],
   "source": [
    "# Set S3 staging directory -- this is a temporary directory used for Athena queries\n",
    "s3_staging_dir = \"s3://{0}/athena/staging\".format(bucket)"
   ]
  },
  {
   "cell_type": "code",
   "execution_count": 14,
   "id": "c0172f60-9813-4944-b1b6-c1a6f9309a79",
   "metadata": {
    "tags": []
   },
   "outputs": [],
   "source": [
    "conn = connect(region_name=region, s3_staging_dir=s3_staging_dir)"
   ]
  },
  {
   "cell_type": "code",
   "execution_count": 15,
   "id": "57d73501-30f2-4995-8c4a-fbf0e6e27d2a",
   "metadata": {
    "tags": []
   },
   "outputs": [
    {
     "data": {
      "text/html": [
       "<div>\n",
       "<style scoped>\n",
       "    .dataframe tbody tr th:only-of-type {\n",
       "        vertical-align: middle;\n",
       "    }\n",
       "\n",
       "    .dataframe tbody tr th {\n",
       "        vertical-align: top;\n",
       "    }\n",
       "\n",
       "    .dataframe thead th {\n",
       "        text-align: right;\n",
       "    }\n",
       "</style>\n",
       "<table border=\"1\" class=\"dataframe\">\n",
       "  <thead>\n",
       "    <tr style=\"text-align: right;\">\n",
       "      <th></th>\n",
       "    </tr>\n",
       "  </thead>\n",
       "  <tbody>\n",
       "  </tbody>\n",
       "</table>\n",
       "</div>"
      ],
      "text/plain": [
       "Empty DataFrame\n",
       "Columns: []\n",
       "Index: []"
      ]
     },
     "execution_count": 15,
     "metadata": {},
     "output_type": "execute_result"
    }
   ],
   "source": [
    "#create new database 'ads508'\n",
    "statement = \"CREATE DATABASE IF NOT EXISTS {}\".format(database_name)\n",
    "create_db = pd.read_sql(statement, conn)\n",
    "create_db"
   ]
  },
  {
   "cell_type": "code",
   "execution_count": 16,
   "id": "05142a70-27d6-4788-817b-3dd82d10743f",
   "metadata": {
    "tags": []
   },
   "outputs": [
    {
     "data": {
      "text/html": [
       "<div>\n",
       "<style scoped>\n",
       "    .dataframe tbody tr th:only-of-type {\n",
       "        vertical-align: middle;\n",
       "    }\n",
       "\n",
       "    .dataframe tbody tr th {\n",
       "        vertical-align: top;\n",
       "    }\n",
       "\n",
       "    .dataframe thead th {\n",
       "        text-align: right;\n",
       "    }\n",
       "</style>\n",
       "<table border=\"1\" class=\"dataframe\">\n",
       "  <thead>\n",
       "    <tr style=\"text-align: right;\">\n",
       "      <th></th>\n",
       "      <th>database_name</th>\n",
       "    </tr>\n",
       "  </thead>\n",
       "  <tbody>\n",
       "    <tr>\n",
       "      <th>0</th>\n",
       "      <td>ads508</td>\n",
       "    </tr>\n",
       "    <tr>\n",
       "      <th>1</th>\n",
       "      <td>default</td>\n",
       "    </tr>\n",
       "    <tr>\n",
       "      <th>2</th>\n",
       "      <td>dsoaws</td>\n",
       "    </tr>\n",
       "  </tbody>\n",
       "</table>\n",
       "</div>"
      ],
      "text/plain": [
       "  database_name\n",
       "0        ads508\n",
       "1       default\n",
       "2        dsoaws"
      ]
     },
     "execution_count": 16,
     "metadata": {},
     "output_type": "execute_result"
    }
   ],
   "source": [
    "#verify database creation\n",
    "q = \"SHOW DATABASES\"\n",
    "db_show = pd.read_sql(q, conn)\n",
    "db_show"
   ]
  },
  {
   "cell_type": "markdown",
   "id": "e4d154cc-0e38-46b3-9560-23c211acdeff",
   "metadata": {},
   "source": [
    "## Create Athena Table"
   ]
  },
  {
   "cell_type": "code",
   "execution_count": 17,
   "id": "655c904c-62c9-401f-96d5-c8feacae6e76",
   "metadata": {
    "tags": []
   },
   "outputs": [],
   "source": [
    "# Set Athena parameters\n",
    "database_name = \"ads508\"\n",
    "table_name_csv = \"gun_violence\"\n",
    "s3_path = \"s3://{}/gun_violence.csv\".format(bucket)"
   ]
  },
  {
   "cell_type": "code",
   "execution_count": 18,
   "id": "9809b4c6-fa1a-4d24-b567-f301287efa6a",
   "metadata": {
    "tags": []
   },
   "outputs": [
    {
     "data": {
      "text/html": [
       "<div>\n",
       "<style scoped>\n",
       "    .dataframe tbody tr th:only-of-type {\n",
       "        vertical-align: middle;\n",
       "    }\n",
       "\n",
       "    .dataframe tbody tr th {\n",
       "        vertical-align: top;\n",
       "    }\n",
       "\n",
       "    .dataframe thead th {\n",
       "        text-align: right;\n",
       "    }\n",
       "</style>\n",
       "<table border=\"1\" class=\"dataframe\">\n",
       "  <thead>\n",
       "    <tr style=\"text-align: right;\">\n",
       "      <th></th>\n",
       "    </tr>\n",
       "  </thead>\n",
       "  <tbody>\n",
       "  </tbody>\n",
       "</table>\n",
       "</div>"
      ],
      "text/plain": [
       "Empty DataFrame\n",
       "Columns: []\n",
       "Index: []"
      ]
     },
     "execution_count": 18,
     "metadata": {},
     "output_type": "execute_result"
    }
   ],
   "source": [
    "# SQL statement to execute\n",
    "statement = \"\"\"CREATE EXTERNAL TABLE IF NOT EXISTS {}.{}(\n",
    "         incident_id int,\n",
    "         date date,\n",
    "         state string,\n",
    "         city_or_county string,\n",
    "         address string,\n",
    "         n_killed int,\n",
    "         n_injured int,\n",
    "         incident_url string,\n",
    "         source_url string,\n",
    "         incident_url_fields_missing string,\n",
    "         congressional_district int,\n",
    "         gun_stolen string,\n",
    "         gun_type string,\n",
    "         incident_characteristics string,\n",
    "         latitude int,\n",
    "         location_description string,\n",
    "         longitude int,\n",
    "         n_guns_involved int,\n",
    "         notes string,\n",
    "         participant_age string,\n",
    "         participant_age_group string,\n",
    "         participant_gender string,\n",
    "         participant_name string,\n",
    "         participant_relationship string,\n",
    "         participant_status string,\n",
    "         participant_type string,\n",
    "         sources string,\n",
    "         state_house_district int,\n",
    "         state_senate_district int\n",
    ") ROW FORMAT DELIMITED FIELDS TERMINATED BY ',' LINES TERMINATED BY '\\\\n' LOCATION '{}'\n",
    "TBLPROPERTIES ('skip.header.line.count'='1')\"\"\".format(\n",
    "    database_name, table_name_csv, s3_path\n",
    ")\n",
    "\n",
    "create_table = pd.read_sql(statement, conn)\n",
    "create_table"
   ]
  },
  {
   "cell_type": "code",
   "execution_count": 19,
   "id": "83822cde-5e68-4f10-91d6-cbc6639eca29",
   "metadata": {
    "tags": []
   },
   "outputs": [
    {
     "data": {
      "text/html": [
       "<div>\n",
       "<style scoped>\n",
       "    .dataframe tbody tr th:only-of-type {\n",
       "        vertical-align: middle;\n",
       "    }\n",
       "\n",
       "    .dataframe tbody tr th {\n",
       "        vertical-align: top;\n",
       "    }\n",
       "\n",
       "    .dataframe thead th {\n",
       "        text-align: right;\n",
       "    }\n",
       "</style>\n",
       "<table border=\"1\" class=\"dataframe\">\n",
       "  <thead>\n",
       "    <tr style=\"text-align: right;\">\n",
       "      <th></th>\n",
       "      <th>tab_name</th>\n",
       "    </tr>\n",
       "  </thead>\n",
       "  <tbody>\n",
       "    <tr>\n",
       "      <th>0</th>\n",
       "      <td>gun_violence</td>\n",
       "    </tr>\n",
       "  </tbody>\n",
       "</table>\n",
       "</div>"
      ],
      "text/plain": [
       "       tab_name\n",
       "0  gun_violence"
      ]
     },
     "execution_count": 19,
     "metadata": {},
     "output_type": "execute_result"
    }
   ],
   "source": [
    "statement = \"SHOW TABLES in ads508\"\n",
    "tables = pd.read_sql(statement, conn)\n",
    "tables"
   ]
  },
  {
   "cell_type": "code",
   "execution_count": 20,
   "id": "2af401ce-8436-4e9a-9d9f-41f2f70e7e4d",
   "metadata": {
    "tags": []
   },
   "outputs": [
    {
     "data": {
      "text/html": [
       "<div>\n",
       "<style scoped>\n",
       "    .dataframe tbody tr th:only-of-type {\n",
       "        vertical-align: middle;\n",
       "    }\n",
       "\n",
       "    .dataframe tbody tr th {\n",
       "        vertical-align: top;\n",
       "    }\n",
       "\n",
       "    .dataframe thead th {\n",
       "        text-align: right;\n",
       "    }\n",
       "</style>\n",
       "<table border=\"1\" class=\"dataframe\">\n",
       "  <thead>\n",
       "    <tr style=\"text-align: right;\">\n",
       "      <th></th>\n",
       "      <th>incident_id</th>\n",
       "      <th>date</th>\n",
       "      <th>state</th>\n",
       "      <th>city_or_county</th>\n",
       "      <th>address</th>\n",
       "      <th>n_killed</th>\n",
       "      <th>n_injured</th>\n",
       "      <th>incident_url</th>\n",
       "      <th>source_url</th>\n",
       "      <th>incident_url_fields_missing</th>\n",
       "      <th>...</th>\n",
       "      <th>participant_age</th>\n",
       "      <th>participant_age_group</th>\n",
       "      <th>participant_gender</th>\n",
       "      <th>participant_name</th>\n",
       "      <th>participant_relationship</th>\n",
       "      <th>participant_status</th>\n",
       "      <th>participant_type</th>\n",
       "      <th>sources</th>\n",
       "      <th>state_house_district</th>\n",
       "      <th>state_senate_district</th>\n",
       "    </tr>\n",
       "  </thead>\n",
       "  <tbody>\n",
       "  </tbody>\n",
       "</table>\n",
       "<p>0 rows × 29 columns</p>\n",
       "</div>"
      ],
      "text/plain": [
       "Empty DataFrame\n",
       "Columns: [incident_id, date, state, city_or_county, address, n_killed, n_injured, incident_url, source_url, incident_url_fields_missing, congressional_district, gun_stolen, gun_type, incident_characteristics, latitude, location_description, longitude, n_guns_involved, notes, participant_age, participant_age_group, participant_gender, participant_name, participant_relationship, participant_status, participant_type, sources, state_house_district, state_senate_district]\n",
       "Index: []\n",
       "\n",
       "[0 rows x 29 columns]"
      ]
     },
     "execution_count": 20,
     "metadata": {},
     "output_type": "execute_result"
    }
   ],
   "source": [
    "statement = \"SELECT * from ads508.gun_violence\"\n",
    "df = pd.read_sql(statement, conn)\n",
    "df.head(5)"
   ]
  },
  {
   "cell_type": "markdown",
   "id": "32bde790-e6c1-4733-926a-e51d69433d4a",
   "metadata": {},
   "source": [
    "# Insert Dataset into Pandas Dataframe"
   ]
  },
  {
   "cell_type": "code",
   "execution_count": 22,
   "id": "9f21490b-1c10-46b3-9ea0-5a46af541a98",
   "metadata": {},
   "outputs": [
    {
     "data": {
      "text/html": [
       "<div>\n",
       "<style scoped>\n",
       "    .dataframe tbody tr th:only-of-type {\n",
       "        vertical-align: middle;\n",
       "    }\n",
       "\n",
       "    .dataframe tbody tr th {\n",
       "        vertical-align: top;\n",
       "    }\n",
       "\n",
       "    .dataframe thead th {\n",
       "        text-align: right;\n",
       "    }\n",
       "</style>\n",
       "<table border=\"1\" class=\"dataframe\">\n",
       "  <thead>\n",
       "    <tr style=\"text-align: right;\">\n",
       "      <th></th>\n",
       "      <th>incident_id</th>\n",
       "      <th>date</th>\n",
       "      <th>state</th>\n",
       "      <th>city_or_county</th>\n",
       "      <th>address</th>\n",
       "      <th>n_killed</th>\n",
       "      <th>n_injured</th>\n",
       "      <th>incident_url</th>\n",
       "      <th>source_url</th>\n",
       "      <th>incident_url_fields_missing</th>\n",
       "      <th>...</th>\n",
       "      <th>participant_age</th>\n",
       "      <th>participant_age_group</th>\n",
       "      <th>participant_gender</th>\n",
       "      <th>participant_name</th>\n",
       "      <th>participant_relationship</th>\n",
       "      <th>participant_status</th>\n",
       "      <th>participant_type</th>\n",
       "      <th>sources</th>\n",
       "      <th>state_house_district</th>\n",
       "      <th>state_senate_district</th>\n",
       "    </tr>\n",
       "  </thead>\n",
       "  <tbody>\n",
       "    <tr>\n",
       "      <th>0</th>\n",
       "      <td>461105</td>\n",
       "      <td>2013-01-01</td>\n",
       "      <td>Pennsylvania</td>\n",
       "      <td>Mckeesport</td>\n",
       "      <td>1506 Versailles Avenue and Coursin Street</td>\n",
       "      <td>0</td>\n",
       "      <td>4</td>\n",
       "      <td>http://www.gunviolencearchive.org/incident/461105</td>\n",
       "      <td>http://www.post-gazette.com/local/south/2013/0...</td>\n",
       "      <td>False</td>\n",
       "      <td>...</td>\n",
       "      <td>0::20</td>\n",
       "      <td>0::Adult 18+||1::Adult 18+||2::Adult 18+||3::A...</td>\n",
       "      <td>0::Male||1::Male||3::Male||4::Female</td>\n",
       "      <td>0::Julian Sims</td>\n",
       "      <td>NaN</td>\n",
       "      <td>0::Arrested||1::Injured||2::Injured||3::Injure...</td>\n",
       "      <td>0::Victim||1::Victim||2::Victim||3::Victim||4:...</td>\n",
       "      <td>http://pittsburgh.cbslocal.com/2013/01/01/4-pe...</td>\n",
       "      <td>NaN</td>\n",
       "      <td>NaN</td>\n",
       "    </tr>\n",
       "    <tr>\n",
       "      <th>1</th>\n",
       "      <td>460726</td>\n",
       "      <td>2013-01-01</td>\n",
       "      <td>California</td>\n",
       "      <td>Hawthorne</td>\n",
       "      <td>13500 block of Cerise Avenue</td>\n",
       "      <td>1</td>\n",
       "      <td>3</td>\n",
       "      <td>http://www.gunviolencearchive.org/incident/460726</td>\n",
       "      <td>http://www.dailybulletin.com/article/zz/201301...</td>\n",
       "      <td>False</td>\n",
       "      <td>...</td>\n",
       "      <td>0::20</td>\n",
       "      <td>0::Adult 18+||1::Adult 18+||2::Adult 18+||3::A...</td>\n",
       "      <td>0::Male</td>\n",
       "      <td>0::Bernard Gillis</td>\n",
       "      <td>NaN</td>\n",
       "      <td>0::Killed||1::Injured||2::Injured||3::Injured</td>\n",
       "      <td>0::Victim||1::Victim||2::Victim||3::Victim||4:...</td>\n",
       "      <td>http://losangeles.cbslocal.com/2013/01/01/man-...</td>\n",
       "      <td>62.0</td>\n",
       "      <td>35.0</td>\n",
       "    </tr>\n",
       "    <tr>\n",
       "      <th>2</th>\n",
       "      <td>478855</td>\n",
       "      <td>2013-01-01</td>\n",
       "      <td>Ohio</td>\n",
       "      <td>Lorain</td>\n",
       "      <td>1776 East 28th Street</td>\n",
       "      <td>1</td>\n",
       "      <td>3</td>\n",
       "      <td>http://www.gunviolencearchive.org/incident/478855</td>\n",
       "      <td>http://chronicle.northcoastnow.com/2013/02/14/...</td>\n",
       "      <td>False</td>\n",
       "      <td>...</td>\n",
       "      <td>0::25||1::31||2::33||3::34||4::33</td>\n",
       "      <td>0::Adult 18+||1::Adult 18+||2::Adult 18+||3::A...</td>\n",
       "      <td>0::Male||1::Male||2::Male||3::Male||4::Male</td>\n",
       "      <td>0::Damien Bell||1::Desmen Noble||2::Herman Sea...</td>\n",
       "      <td>NaN</td>\n",
       "      <td>0::Injured, Unharmed, Arrested||1::Unharmed, A...</td>\n",
       "      <td>0::Subject-Suspect||1::Subject-Suspect||2::Vic...</td>\n",
       "      <td>http://www.morningjournal.com/general-news/201...</td>\n",
       "      <td>56.0</td>\n",
       "      <td>13.0</td>\n",
       "    </tr>\n",
       "    <tr>\n",
       "      <th>3</th>\n",
       "      <td>478925</td>\n",
       "      <td>2013-01-05</td>\n",
       "      <td>Colorado</td>\n",
       "      <td>Aurora</td>\n",
       "      <td>16000 block of East Ithaca Place</td>\n",
       "      <td>4</td>\n",
       "      <td>0</td>\n",
       "      <td>http://www.gunviolencearchive.org/incident/478925</td>\n",
       "      <td>http://www.dailydemocrat.com/20130106/aurora-s...</td>\n",
       "      <td>False</td>\n",
       "      <td>...</td>\n",
       "      <td>0::29||1::33||2::56||3::33</td>\n",
       "      <td>0::Adult 18+||1::Adult 18+||2::Adult 18+||3::A...</td>\n",
       "      <td>0::Female||1::Male||2::Male||3::Male</td>\n",
       "      <td>0::Stacie Philbrook||1::Christopher Ratliffe||...</td>\n",
       "      <td>NaN</td>\n",
       "      <td>0::Killed||1::Killed||2::Killed||3::Killed</td>\n",
       "      <td>0::Victim||1::Victim||2::Victim||3::Subject-Su...</td>\n",
       "      <td>http://denver.cbslocal.com/2013/01/06/officer-...</td>\n",
       "      <td>40.0</td>\n",
       "      <td>28.0</td>\n",
       "    </tr>\n",
       "    <tr>\n",
       "      <th>4</th>\n",
       "      <td>478959</td>\n",
       "      <td>2013-01-07</td>\n",
       "      <td>North Carolina</td>\n",
       "      <td>Greensboro</td>\n",
       "      <td>307 Mourning Dove Terrace</td>\n",
       "      <td>2</td>\n",
       "      <td>2</td>\n",
       "      <td>http://www.gunviolencearchive.org/incident/478959</td>\n",
       "      <td>http://www.journalnow.com/news/local/article_d...</td>\n",
       "      <td>False</td>\n",
       "      <td>...</td>\n",
       "      <td>0::18||1::46||2::14||3::47</td>\n",
       "      <td>0::Adult 18+||1::Adult 18+||2::Teen 12-17||3::...</td>\n",
       "      <td>0::Female||1::Male||2::Male||3::Female</td>\n",
       "      <td>0::Danielle Imani Jameison||1::Maurice Eugene ...</td>\n",
       "      <td>3::Family</td>\n",
       "      <td>0::Injured||1::Injured||2::Killed||3::Killed</td>\n",
       "      <td>0::Victim||1::Victim||2::Victim||3::Subject-Su...</td>\n",
       "      <td>http://myfox8.com/2013/01/08/update-mother-sho...</td>\n",
       "      <td>62.0</td>\n",
       "      <td>27.0</td>\n",
       "    </tr>\n",
       "    <tr>\n",
       "      <th>...</th>\n",
       "      <td>...</td>\n",
       "      <td>...</td>\n",
       "      <td>...</td>\n",
       "      <td>...</td>\n",
       "      <td>...</td>\n",
       "      <td>...</td>\n",
       "      <td>...</td>\n",
       "      <td>...</td>\n",
       "      <td>...</td>\n",
       "      <td>...</td>\n",
       "      <td>...</td>\n",
       "      <td>...</td>\n",
       "      <td>...</td>\n",
       "      <td>...</td>\n",
       "      <td>...</td>\n",
       "      <td>...</td>\n",
       "      <td>...</td>\n",
       "      <td>...</td>\n",
       "      <td>...</td>\n",
       "      <td>...</td>\n",
       "      <td>...</td>\n",
       "    </tr>\n",
       "    <tr>\n",
       "      <th>239672</th>\n",
       "      <td>1083142</td>\n",
       "      <td>2018-03-31</td>\n",
       "      <td>Louisiana</td>\n",
       "      <td>Rayne</td>\n",
       "      <td>North Riceland Road and Highway 90</td>\n",
       "      <td>0</td>\n",
       "      <td>0</td>\n",
       "      <td>http://www.gunviolencearchive.org/incident/108...</td>\n",
       "      <td>http://www.klfy.com/news/local/rayne-woman-cha...</td>\n",
       "      <td>False</td>\n",
       "      <td>...</td>\n",
       "      <td>0::25</td>\n",
       "      <td>0::Adult 18+</td>\n",
       "      <td>0::Female</td>\n",
       "      <td>0::Jhkeya Tezeno</td>\n",
       "      <td>NaN</td>\n",
       "      <td>0::Unharmed, Arrested</td>\n",
       "      <td>0::Subject-Suspect</td>\n",
       "      <td>http://www.klfy.com/news/local/rayne-woman-cha...</td>\n",
       "      <td>NaN</td>\n",
       "      <td>NaN</td>\n",
       "    </tr>\n",
       "    <tr>\n",
       "      <th>239673</th>\n",
       "      <td>1083139</td>\n",
       "      <td>2018-03-31</td>\n",
       "      <td>Louisiana</td>\n",
       "      <td>Natchitoches</td>\n",
       "      <td>247 Keyser Ave</td>\n",
       "      <td>1</td>\n",
       "      <td>0</td>\n",
       "      <td>http://www.gunviolencearchive.org/incident/108...</td>\n",
       "      <td>http://www.ksla.com/story/37854648/man-wanted-...</td>\n",
       "      <td>False</td>\n",
       "      <td>...</td>\n",
       "      <td>1::21</td>\n",
       "      <td>0::Adult 18+||1::Adult 18+</td>\n",
       "      <td>0::Male||1::Male</td>\n",
       "      <td>0::Jamal Haskett||1::Jaquarious Tyjuan Ardison</td>\n",
       "      <td>NaN</td>\n",
       "      <td>0::Killed||1::Unharmed, Arrested</td>\n",
       "      <td>0::Victim||1::Subject-Suspect</td>\n",
       "      <td>http://www.ksla.com/story/37854648/man-wanted-...</td>\n",
       "      <td>23.0</td>\n",
       "      <td>31.0</td>\n",
       "    </tr>\n",
       "    <tr>\n",
       "      <th>239674</th>\n",
       "      <td>1083151</td>\n",
       "      <td>2018-03-31</td>\n",
       "      <td>Louisiana</td>\n",
       "      <td>Gretna</td>\n",
       "      <td>1300 block of Cook Street</td>\n",
       "      <td>0</td>\n",
       "      <td>1</td>\n",
       "      <td>http://www.gunviolencearchive.org/incident/108...</td>\n",
       "      <td>http://www.nola.com/crime/index.ssf/2018/04/sh...</td>\n",
       "      <td>False</td>\n",
       "      <td>...</td>\n",
       "      <td>0::21</td>\n",
       "      <td>0::Adult 18+</td>\n",
       "      <td>0::Male</td>\n",
       "      <td>NaN</td>\n",
       "      <td>NaN</td>\n",
       "      <td>0::Injured</td>\n",
       "      <td>0::Victim</td>\n",
       "      <td>http://www.nola.com/crime/index.ssf/2018/04/sh...</td>\n",
       "      <td>85.0</td>\n",
       "      <td>7.0</td>\n",
       "    </tr>\n",
       "    <tr>\n",
       "      <th>239675</th>\n",
       "      <td>1082514</td>\n",
       "      <td>2018-03-31</td>\n",
       "      <td>Texas</td>\n",
       "      <td>Houston</td>\n",
       "      <td>12630 Ashford Point Dr</td>\n",
       "      <td>1</td>\n",
       "      <td>0</td>\n",
       "      <td>http://www.gunviolencearchive.org/incident/108...</td>\n",
       "      <td>https://www.chron.com/news/houston-texas/houst...</td>\n",
       "      <td>False</td>\n",
       "      <td>...</td>\n",
       "      <td>0::42</td>\n",
       "      <td>0::Adult 18+</td>\n",
       "      <td>0::Male</td>\n",
       "      <td>0::Leroy Ellis</td>\n",
       "      <td>NaN</td>\n",
       "      <td>0::Killed</td>\n",
       "      <td>0::Victim</td>\n",
       "      <td>http://www.khou.com/article/news/hpd-investiga...</td>\n",
       "      <td>149.0</td>\n",
       "      <td>17.0</td>\n",
       "    </tr>\n",
       "    <tr>\n",
       "      <th>239676</th>\n",
       "      <td>1081940</td>\n",
       "      <td>2018-03-31</td>\n",
       "      <td>Maine</td>\n",
       "      <td>Norridgewock</td>\n",
       "      <td>434 Skowhegan Rd</td>\n",
       "      <td>2</td>\n",
       "      <td>0</td>\n",
       "      <td>http://www.gunviolencearchive.org/incident/108...</td>\n",
       "      <td>https://www.centralmaine.com/2018/03/31/police...</td>\n",
       "      <td>False</td>\n",
       "      <td>...</td>\n",
       "      <td>0::58||1::62</td>\n",
       "      <td>0::Adult 18+||1::Adult 18+</td>\n",
       "      <td>0::Female||1::Male</td>\n",
       "      <td>0::Marie Lancaster Hale||1::William Hale</td>\n",
       "      <td>1::Significant others - current or former</td>\n",
       "      <td>0::Killed||1::Killed</td>\n",
       "      <td>0::Victim||1::Subject-Suspect</td>\n",
       "      <td>https://www.centralmaine.com/2018/03/31/police...</td>\n",
       "      <td>111.0</td>\n",
       "      <td>3.0</td>\n",
       "    </tr>\n",
       "  </tbody>\n",
       "</table>\n",
       "<p>239677 rows × 29 columns</p>\n",
       "</div>"
      ],
      "text/plain": [
       "        incident_id        date           state city_or_county  \\\n",
       "0            461105  2013-01-01    Pennsylvania     Mckeesport   \n",
       "1            460726  2013-01-01      California      Hawthorne   \n",
       "2            478855  2013-01-01            Ohio         Lorain   \n",
       "3            478925  2013-01-05        Colorado         Aurora   \n",
       "4            478959  2013-01-07  North Carolina     Greensboro   \n",
       "...             ...         ...             ...            ...   \n",
       "239672      1083142  2018-03-31       Louisiana          Rayne   \n",
       "239673      1083139  2018-03-31       Louisiana   Natchitoches   \n",
       "239674      1083151  2018-03-31       Louisiana         Gretna   \n",
       "239675      1082514  2018-03-31           Texas        Houston   \n",
       "239676      1081940  2018-03-31           Maine   Norridgewock   \n",
       "\n",
       "                                          address  n_killed  n_injured  \\\n",
       "0       1506 Versailles Avenue and Coursin Street         0          4   \n",
       "1                    13500 block of Cerise Avenue         1          3   \n",
       "2                           1776 East 28th Street         1          3   \n",
       "3                16000 block of East Ithaca Place         4          0   \n",
       "4                       307 Mourning Dove Terrace         2          2   \n",
       "...                                           ...       ...        ...   \n",
       "239672         North Riceland Road and Highway 90         0          0   \n",
       "239673                             247 Keyser Ave         1          0   \n",
       "239674                  1300 block of Cook Street         0          1   \n",
       "239675                     12630 Ashford Point Dr         1          0   \n",
       "239676                           434 Skowhegan Rd         2          0   \n",
       "\n",
       "                                             incident_url  \\\n",
       "0       http://www.gunviolencearchive.org/incident/461105   \n",
       "1       http://www.gunviolencearchive.org/incident/460726   \n",
       "2       http://www.gunviolencearchive.org/incident/478855   \n",
       "3       http://www.gunviolencearchive.org/incident/478925   \n",
       "4       http://www.gunviolencearchive.org/incident/478959   \n",
       "...                                                   ...   \n",
       "239672  http://www.gunviolencearchive.org/incident/108...   \n",
       "239673  http://www.gunviolencearchive.org/incident/108...   \n",
       "239674  http://www.gunviolencearchive.org/incident/108...   \n",
       "239675  http://www.gunviolencearchive.org/incident/108...   \n",
       "239676  http://www.gunviolencearchive.org/incident/108...   \n",
       "\n",
       "                                               source_url  \\\n",
       "0       http://www.post-gazette.com/local/south/2013/0...   \n",
       "1       http://www.dailybulletin.com/article/zz/201301...   \n",
       "2       http://chronicle.northcoastnow.com/2013/02/14/...   \n",
       "3       http://www.dailydemocrat.com/20130106/aurora-s...   \n",
       "4       http://www.journalnow.com/news/local/article_d...   \n",
       "...                                                   ...   \n",
       "239672  http://www.klfy.com/news/local/rayne-woman-cha...   \n",
       "239673  http://www.ksla.com/story/37854648/man-wanted-...   \n",
       "239674  http://www.nola.com/crime/index.ssf/2018/04/sh...   \n",
       "239675  https://www.chron.com/news/houston-texas/houst...   \n",
       "239676  https://www.centralmaine.com/2018/03/31/police...   \n",
       "\n",
       "        incident_url_fields_missing  ...                    participant_age  \\\n",
       "0                             False  ...                              0::20   \n",
       "1                             False  ...                              0::20   \n",
       "2                             False  ...  0::25||1::31||2::33||3::34||4::33   \n",
       "3                             False  ...         0::29||1::33||2::56||3::33   \n",
       "4                             False  ...         0::18||1::46||2::14||3::47   \n",
       "...                             ...  ...                                ...   \n",
       "239672                        False  ...                              0::25   \n",
       "239673                        False  ...                              1::21   \n",
       "239674                        False  ...                              0::21   \n",
       "239675                        False  ...                              0::42   \n",
       "239676                        False  ...                       0::58||1::62   \n",
       "\n",
       "                                    participant_age_group  \\\n",
       "0       0::Adult 18+||1::Adult 18+||2::Adult 18+||3::A...   \n",
       "1       0::Adult 18+||1::Adult 18+||2::Adult 18+||3::A...   \n",
       "2       0::Adult 18+||1::Adult 18+||2::Adult 18+||3::A...   \n",
       "3       0::Adult 18+||1::Adult 18+||2::Adult 18+||3::A...   \n",
       "4       0::Adult 18+||1::Adult 18+||2::Teen 12-17||3::...   \n",
       "...                                                   ...   \n",
       "239672                                       0::Adult 18+   \n",
       "239673                         0::Adult 18+||1::Adult 18+   \n",
       "239674                                       0::Adult 18+   \n",
       "239675                                       0::Adult 18+   \n",
       "239676                         0::Adult 18+||1::Adult 18+   \n",
       "\n",
       "                                 participant_gender  \\\n",
       "0              0::Male||1::Male||3::Male||4::Female   \n",
       "1                                           0::Male   \n",
       "2       0::Male||1::Male||2::Male||3::Male||4::Male   \n",
       "3              0::Female||1::Male||2::Male||3::Male   \n",
       "4            0::Female||1::Male||2::Male||3::Female   \n",
       "...                                             ...   \n",
       "239672                                    0::Female   \n",
       "239673                             0::Male||1::Male   \n",
       "239674                                      0::Male   \n",
       "239675                                      0::Male   \n",
       "239676                           0::Female||1::Male   \n",
       "\n",
       "                                         participant_name  \\\n",
       "0                                          0::Julian Sims   \n",
       "1                                       0::Bernard Gillis   \n",
       "2       0::Damien Bell||1::Desmen Noble||2::Herman Sea...   \n",
       "3       0::Stacie Philbrook||1::Christopher Ratliffe||...   \n",
       "4       0::Danielle Imani Jameison||1::Maurice Eugene ...   \n",
       "...                                                   ...   \n",
       "239672                                   0::Jhkeya Tezeno   \n",
       "239673     0::Jamal Haskett||1::Jaquarious Tyjuan Ardison   \n",
       "239674                                                NaN   \n",
       "239675                                     0::Leroy Ellis   \n",
       "239676           0::Marie Lancaster Hale||1::William Hale   \n",
       "\n",
       "                         participant_relationship  \\\n",
       "0                                             NaN   \n",
       "1                                             NaN   \n",
       "2                                             NaN   \n",
       "3                                             NaN   \n",
       "4                                       3::Family   \n",
       "...                                           ...   \n",
       "239672                                        NaN   \n",
       "239673                                        NaN   \n",
       "239674                                        NaN   \n",
       "239675                                        NaN   \n",
       "239676  1::Significant others - current or former   \n",
       "\n",
       "                                       participant_status  \\\n",
       "0       0::Arrested||1::Injured||2::Injured||3::Injure...   \n",
       "1           0::Killed||1::Injured||2::Injured||3::Injured   \n",
       "2       0::Injured, Unharmed, Arrested||1::Unharmed, A...   \n",
       "3              0::Killed||1::Killed||2::Killed||3::Killed   \n",
       "4            0::Injured||1::Injured||2::Killed||3::Killed   \n",
       "...                                                   ...   \n",
       "239672                              0::Unharmed, Arrested   \n",
       "239673                   0::Killed||1::Unharmed, Arrested   \n",
       "239674                                         0::Injured   \n",
       "239675                                          0::Killed   \n",
       "239676                               0::Killed||1::Killed   \n",
       "\n",
       "                                         participant_type  \\\n",
       "0       0::Victim||1::Victim||2::Victim||3::Victim||4:...   \n",
       "1       0::Victim||1::Victim||2::Victim||3::Victim||4:...   \n",
       "2       0::Subject-Suspect||1::Subject-Suspect||2::Vic...   \n",
       "3       0::Victim||1::Victim||2::Victim||3::Subject-Su...   \n",
       "4       0::Victim||1::Victim||2::Victim||3::Subject-Su...   \n",
       "...                                                   ...   \n",
       "239672                                 0::Subject-Suspect   \n",
       "239673                      0::Victim||1::Subject-Suspect   \n",
       "239674                                          0::Victim   \n",
       "239675                                          0::Victim   \n",
       "239676                      0::Victim||1::Subject-Suspect   \n",
       "\n",
       "                                                  sources  \\\n",
       "0       http://pittsburgh.cbslocal.com/2013/01/01/4-pe...   \n",
       "1       http://losangeles.cbslocal.com/2013/01/01/man-...   \n",
       "2       http://www.morningjournal.com/general-news/201...   \n",
       "3       http://denver.cbslocal.com/2013/01/06/officer-...   \n",
       "4       http://myfox8.com/2013/01/08/update-mother-sho...   \n",
       "...                                                   ...   \n",
       "239672  http://www.klfy.com/news/local/rayne-woman-cha...   \n",
       "239673  http://www.ksla.com/story/37854648/man-wanted-...   \n",
       "239674  http://www.nola.com/crime/index.ssf/2018/04/sh...   \n",
       "239675  http://www.khou.com/article/news/hpd-investiga...   \n",
       "239676  https://www.centralmaine.com/2018/03/31/police...   \n",
       "\n",
       "       state_house_district state_senate_district  \n",
       "0                       NaN                   NaN  \n",
       "1                      62.0                  35.0  \n",
       "2                      56.0                  13.0  \n",
       "3                      40.0                  28.0  \n",
       "4                      62.0                  27.0  \n",
       "...                     ...                   ...  \n",
       "239672                  NaN                   NaN  \n",
       "239673                 23.0                  31.0  \n",
       "239674                 85.0                   7.0  \n",
       "239675                149.0                  17.0  \n",
       "239676                111.0                   3.0  \n",
       "\n",
       "[239677 rows x 29 columns]"
      ]
     },
     "execution_count": 22,
     "metadata": {},
     "output_type": "execute_result"
    }
   ],
   "source": [
    "df = pd.read_csv(s3_path)\n",
    "df"
   ]
  },
  {
   "cell_type": "markdown",
   "id": "a4f7aeb3-2e79-42c4-b65d-e50075aed404",
   "metadata": {},
   "source": [
    "## The dataset contains 23,9677 rows and 29 attributes. "
   ]
  },
  {
   "cell_type": "code",
   "execution_count": 56,
   "id": "56cc345c-13e3-44fd-827b-3377043ee0ce",
   "metadata": {
    "tags": []
   },
   "outputs": [
    {
     "name": "stdout",
     "output_type": "stream",
     "text": [
      "(239677, 29)\n"
     ]
    }
   ],
   "source": [
    "print(df.shape)"
   ]
  },
  {
   "cell_type": "markdown",
   "id": "8ea3d85e-92d4-4be5-8a39-51596678a7fb",
   "metadata": {
    "tags": []
   },
   "source": [
    "## Show null values"
   ]
  },
  {
   "cell_type": "code",
   "execution_count": 57,
   "id": "140825f5-6aa8-4431-8958-ec78aee2fd5a",
   "metadata": {
    "tags": []
   },
   "outputs": [
    {
     "data": {
      "text/plain": [
       "incident_id                         0\n",
       "date                                0\n",
       "state                               0\n",
       "city_or_county                      0\n",
       "address                         16497\n",
       "n_killed                            0\n",
       "n_injured                           0\n",
       "incident_url                        0\n",
       "source_url                        468\n",
       "incident_url_fields_missing         0\n",
       "congressional_district          11944\n",
       "gun_stolen                      99498\n",
       "gun_type                        99451\n",
       "incident_characteristics          326\n",
       "latitude                         7923\n",
       "location_description           197588\n",
       "longitude                        7923\n",
       "n_guns_involved                 99451\n",
       "notes                           81017\n",
       "participant_age                 92298\n",
       "participant_age_group           42119\n",
       "participant_gender              36362\n",
       "participant_name               122253\n",
       "participant_relationship       223903\n",
       "participant_status              27626\n",
       "participant_type                24863\n",
       "sources                           609\n",
       "state_house_district            38772\n",
       "state_senate_district           32335\n",
       "dtype: int64"
      ]
     },
     "execution_count": 57,
     "metadata": {},
     "output_type": "execute_result"
    }
   ],
   "source": [
    "df.isnull().sum()"
   ]
  },
  {
   "cell_type": "markdown",
   "id": "c275ac39-6678-4e35-85f3-9666a351892f",
   "metadata": {},
   "source": [
    "## Show percentage of null values"
   ]
  },
  {
   "cell_type": "code",
   "execution_count": 55,
   "id": "2e0c570d-55ee-456f-9e3a-92356d638ed3",
   "metadata": {
    "tags": []
   },
   "outputs": [
    {
     "name": "stdout",
     "output_type": "stream",
     "text": [
      "address: 6.88%\n",
      "source_url: 0.2%\n",
      "congressional district: 4.98%\n",
      "gun_stolen: 41.51%\n",
      "gun_type: 41.49%\n",
      "incident_characteristics: 0.14%\n",
      "latitude: 3.31%\n",
      "location_description: 82.44%\n",
      "longitude: 3.31%\n",
      "n_guns_involved: 41.49%\n",
      "notes: 33.8%\n",
      "participant_age: 38.51%\n",
      "participant_age_group: 17.57%\n",
      "participant_gender: 15.17%\n",
      "participant_name: 51.01%\n",
      "participant_relationship: 93.42%\n",
      "participant_status: 11.53%\n",
      "participant_type: 10.37%\n",
      "sources: 0.25%\n",
      "state_house_district: 16.18%\n",
      "state_senate_district: 13.49%\n"
     ]
    }
   ],
   "source": [
    "rows = len(df.index)\n",
    "print (\"address: \" + str(round(((16497/rows)*100),2)) + \"%\")\n",
    "print (\"source_url: \" + str(round(((468/rows)*100),2)) + \"%\")\n",
    "print (\"congressional district: \" + str(round(((11944/rows)*100),2)) + \"%\")\n",
    "print (\"gun_stolen: \" + str(round(((99498/rows)*100),2)) + \"%\")\n",
    "print (\"gun_type: \" + str(round(((99451/rows)*100),2)) + \"%\")\n",
    "print (\"incident_characteristics: \" + str(round(((326/rows)*100),2)) + \"%\")\n",
    "print (\"latitude: \" + str(round(((7923/rows)*100),2)) + \"%\")\n",
    "print (\"location_description: \" + str(round(((197588/rows)*100),2)) + \"%\")\n",
    "print (\"longitude: \" + str(round(((7923/rows)*100),2)) + \"%\")\n",
    "print (\"n_guns_involved: \" + str(round(((99451/rows)*100),2)) + \"%\")\n",
    "print (\"notes: \" + str(round(((81017/rows)*100),2)) + \"%\")\n",
    "print (\"participant_age: \" + str(round(((92298/rows)*100),2)) + \"%\")\n",
    "print (\"participant_age_group: \" + str(round(((42119/rows)*100),2)) + \"%\")\n",
    "print (\"participant_gender: \" + str(round(((36362/rows)*100),2)) + \"%\")\n",
    "print (\"participant_name: \" + str(round(((122253/rows)*100),2)) + \"%\")\n",
    "print (\"participant_relationship: \" + str(round(((223903/rows)*100),2)) + \"%\")\n",
    "print (\"participant_status: \" + str(round(((27626/rows)*100),2)) + \"%\")\n",
    "print (\"participant_type: \" + str(round(((24863/rows)*100),2)) + \"%\")\n",
    "print (\"sources: \" + str(round(((609/rows)*100),2)) + \"%\")\n",
    "print (\"state_house_district: \" + str(round(((38772/rows)*100),2)) + \"%\")\n",
    "print (\"state_senate_district: \" + str(round(((32335/rows)*100),2)) + \"%\")\n"
   ]
  },
  {
   "cell_type": "markdown",
   "id": "d492bcdf-da57-4b82-be79-4ba8828765e3",
   "metadata": {},
   "source": [
    "## Show data types"
   ]
  },
  {
   "cell_type": "code",
   "execution_count": 29,
   "id": "3b5d455c-c968-4f52-9a6c-6cb47dd631e9",
   "metadata": {
    "tags": []
   },
   "outputs": [
    {
     "data": {
      "text/plain": [
       "incident_id                      int64\n",
       "date                            object\n",
       "state                           object\n",
       "city_or_county                  object\n",
       "address                         object\n",
       "n_killed                         int64\n",
       "n_injured                        int64\n",
       "incident_url                    object\n",
       "source_url                      object\n",
       "incident_url_fields_missing       bool\n",
       "congressional_district         float64\n",
       "gun_stolen                      object\n",
       "gun_type                        object\n",
       "incident_characteristics        object\n",
       "latitude                       float64\n",
       "location_description            object\n",
       "longitude                      float64\n",
       "n_guns_involved                float64\n",
       "notes                           object\n",
       "participant_age                 object\n",
       "participant_age_group           object\n",
       "participant_gender              object\n",
       "participant_name                object\n",
       "participant_relationship        object\n",
       "participant_status              object\n",
       "participant_type                object\n",
       "sources                         object\n",
       "state_house_district           float64\n",
       "state_senate_district          float64\n",
       "dtype: object"
      ]
     },
     "execution_count": 29,
     "metadata": {},
     "output_type": "execute_result"
    }
   ],
   "source": [
    "df.dtypes"
   ]
  },
  {
   "cell_type": "markdown",
   "id": "2073bcf7-6dbf-4e3e-901c-b5f9338330fa",
   "metadata": {
    "tags": []
   },
   "source": [
    "# Use GeoPandas to map all gun violence incidences"
   ]
  },
  {
   "cell_type": "code",
   "execution_count": 76,
   "id": "d600198c-fdab-42a5-acce-5041ffa30bc9",
   "metadata": {
    "tags": []
   },
   "outputs": [
    {
     "data": {
      "text/html": [
       "<div>\n",
       "<style scoped>\n",
       "    .dataframe tbody tr th:only-of-type {\n",
       "        vertical-align: middle;\n",
       "    }\n",
       "\n",
       "    .dataframe tbody tr th {\n",
       "        vertical-align: top;\n",
       "    }\n",
       "\n",
       "    .dataframe thead th {\n",
       "        text-align: right;\n",
       "    }\n",
       "</style>\n",
       "<table border=\"1\" class=\"dataframe\">\n",
       "  <thead>\n",
       "    <tr style=\"text-align: right;\">\n",
       "      <th></th>\n",
       "      <th>pop_est</th>\n",
       "      <th>continent</th>\n",
       "      <th>name</th>\n",
       "      <th>iso_a3</th>\n",
       "      <th>gdp_md_est</th>\n",
       "      <th>geometry</th>\n",
       "    </tr>\n",
       "  </thead>\n",
       "  <tbody>\n",
       "    <tr>\n",
       "      <th>0</th>\n",
       "      <td>920938</td>\n",
       "      <td>Oceania</td>\n",
       "      <td>Fiji</td>\n",
       "      <td>FJI</td>\n",
       "      <td>8374.0</td>\n",
       "      <td>MULTIPOLYGON (((180.00000 -16.06713, 180.00000...</td>\n",
       "    </tr>\n",
       "    <tr>\n",
       "      <th>1</th>\n",
       "      <td>53950935</td>\n",
       "      <td>Africa</td>\n",
       "      <td>Tanzania</td>\n",
       "      <td>TZA</td>\n",
       "      <td>150600.0</td>\n",
       "      <td>POLYGON ((33.90371 -0.95000, 34.07262 -1.05982...</td>\n",
       "    </tr>\n",
       "    <tr>\n",
       "      <th>2</th>\n",
       "      <td>603253</td>\n",
       "      <td>Africa</td>\n",
       "      <td>W. Sahara</td>\n",
       "      <td>ESH</td>\n",
       "      <td>906.5</td>\n",
       "      <td>POLYGON ((-8.66559 27.65643, -8.66512 27.58948...</td>\n",
       "    </tr>\n",
       "    <tr>\n",
       "      <th>3</th>\n",
       "      <td>35623680</td>\n",
       "      <td>North America</td>\n",
       "      <td>Canada</td>\n",
       "      <td>CAN</td>\n",
       "      <td>1674000.0</td>\n",
       "      <td>MULTIPOLYGON (((-122.84000 49.00000, -122.9742...</td>\n",
       "    </tr>\n",
       "    <tr>\n",
       "      <th>4</th>\n",
       "      <td>326625791</td>\n",
       "      <td>North America</td>\n",
       "      <td>United States of America</td>\n",
       "      <td>USA</td>\n",
       "      <td>18560000.0</td>\n",
       "      <td>MULTIPOLYGON (((-122.84000 49.00000, -120.0000...</td>\n",
       "    </tr>\n",
       "  </tbody>\n",
       "</table>\n",
       "</div>"
      ],
      "text/plain": [
       "     pop_est      continent                      name iso_a3  gdp_md_est  \\\n",
       "0     920938        Oceania                      Fiji    FJI      8374.0   \n",
       "1   53950935         Africa                  Tanzania    TZA    150600.0   \n",
       "2     603253         Africa                 W. Sahara    ESH       906.5   \n",
       "3   35623680  North America                    Canada    CAN   1674000.0   \n",
       "4  326625791  North America  United States of America    USA  18560000.0   \n",
       "\n",
       "                                            geometry  \n",
       "0  MULTIPOLYGON (((180.00000 -16.06713, 180.00000...  \n",
       "1  POLYGON ((33.90371 -0.95000, 34.07262 -1.05982...  \n",
       "2  POLYGON ((-8.66559 27.65643, -8.66512 27.58948...  \n",
       "3  MULTIPOLYGON (((-122.84000 49.00000, -122.9742...  \n",
       "4  MULTIPOLYGON (((-122.84000 49.00000, -120.0000...  "
      ]
     },
     "execution_count": 76,
     "metadata": {},
     "output_type": "execute_result"
    }
   ],
   "source": [
    "countries = gpd.read_file(gpd.datasets.get_path(\"naturalearth_lowres\"))\n",
    "countries.head()"
   ]
  },
  {
   "cell_type": "code",
   "execution_count": 88,
   "id": "d2e075aa-6f92-4be8-ad98-0a418e491ce7",
   "metadata": {
    "tags": []
   },
   "outputs": [
    {
     "data": {
      "text/html": [
       "<div>\n",
       "<style scoped>\n",
       "    .dataframe tbody tr th:only-of-type {\n",
       "        vertical-align: middle;\n",
       "    }\n",
       "\n",
       "    .dataframe tbody tr th {\n",
       "        vertical-align: top;\n",
       "    }\n",
       "\n",
       "    .dataframe thead th {\n",
       "        text-align: right;\n",
       "    }\n",
       "</style>\n",
       "<table border=\"1\" class=\"dataframe\">\n",
       "  <thead>\n",
       "    <tr style=\"text-align: right;\">\n",
       "      <th></th>\n",
       "      <th>incident_id</th>\n",
       "      <th>date</th>\n",
       "      <th>state</th>\n",
       "      <th>city_or_county</th>\n",
       "      <th>address</th>\n",
       "      <th>n_killed</th>\n",
       "      <th>n_injured</th>\n",
       "      <th>incident_url</th>\n",
       "      <th>source_url</th>\n",
       "      <th>incident_url_fields_missing</th>\n",
       "      <th>...</th>\n",
       "      <th>participant_age_group</th>\n",
       "      <th>participant_gender</th>\n",
       "      <th>participant_name</th>\n",
       "      <th>participant_relationship</th>\n",
       "      <th>participant_status</th>\n",
       "      <th>participant_type</th>\n",
       "      <th>sources</th>\n",
       "      <th>state_house_district</th>\n",
       "      <th>state_senate_district</th>\n",
       "      <th>geometry</th>\n",
       "    </tr>\n",
       "  </thead>\n",
       "  <tbody>\n",
       "    <tr>\n",
       "      <th>0</th>\n",
       "      <td>461105</td>\n",
       "      <td>2013-01-01</td>\n",
       "      <td>Pennsylvania</td>\n",
       "      <td>Mckeesport</td>\n",
       "      <td>1506 Versailles Avenue and Coursin Street</td>\n",
       "      <td>0</td>\n",
       "      <td>4</td>\n",
       "      <td>http://www.gunviolencearchive.org/incident/461105</td>\n",
       "      <td>http://www.post-gazette.com/local/south/2013/0...</td>\n",
       "      <td>False</td>\n",
       "      <td>...</td>\n",
       "      <td>0::Adult 18+||1::Adult 18+||2::Adult 18+||3::A...</td>\n",
       "      <td>0::Male||1::Male||3::Male||4::Female</td>\n",
       "      <td>0::Julian Sims</td>\n",
       "      <td>NaN</td>\n",
       "      <td>0::Arrested||1::Injured||2::Injured||3::Injure...</td>\n",
       "      <td>0::Victim||1::Victim||2::Victim||3::Victim||4:...</td>\n",
       "      <td>http://pittsburgh.cbslocal.com/2013/01/01/4-pe...</td>\n",
       "      <td>NaN</td>\n",
       "      <td>NaN</td>\n",
       "      <td>POINT (-79.85590 40.34670)</td>\n",
       "    </tr>\n",
       "    <tr>\n",
       "      <th>1</th>\n",
       "      <td>460726</td>\n",
       "      <td>2013-01-01</td>\n",
       "      <td>California</td>\n",
       "      <td>Hawthorne</td>\n",
       "      <td>13500 block of Cerise Avenue</td>\n",
       "      <td>1</td>\n",
       "      <td>3</td>\n",
       "      <td>http://www.gunviolencearchive.org/incident/460726</td>\n",
       "      <td>http://www.dailybulletin.com/article/zz/201301...</td>\n",
       "      <td>False</td>\n",
       "      <td>...</td>\n",
       "      <td>0::Adult 18+||1::Adult 18+||2::Adult 18+||3::A...</td>\n",
       "      <td>0::Male</td>\n",
       "      <td>0::Bernard Gillis</td>\n",
       "      <td>NaN</td>\n",
       "      <td>0::Killed||1::Injured||2::Injured||3::Injured</td>\n",
       "      <td>0::Victim||1::Victim||2::Victim||3::Victim||4:...</td>\n",
       "      <td>http://losangeles.cbslocal.com/2013/01/01/man-...</td>\n",
       "      <td>62.0</td>\n",
       "      <td>35.0</td>\n",
       "      <td>POINT (-118.33300 33.90900)</td>\n",
       "    </tr>\n",
       "    <tr>\n",
       "      <th>2</th>\n",
       "      <td>478855</td>\n",
       "      <td>2013-01-01</td>\n",
       "      <td>Ohio</td>\n",
       "      <td>Lorain</td>\n",
       "      <td>1776 East 28th Street</td>\n",
       "      <td>1</td>\n",
       "      <td>3</td>\n",
       "      <td>http://www.gunviolencearchive.org/incident/478855</td>\n",
       "      <td>http://chronicle.northcoastnow.com/2013/02/14/...</td>\n",
       "      <td>False</td>\n",
       "      <td>...</td>\n",
       "      <td>0::Adult 18+||1::Adult 18+||2::Adult 18+||3::A...</td>\n",
       "      <td>0::Male||1::Male||2::Male||3::Male||4::Male</td>\n",
       "      <td>0::Damien Bell||1::Desmen Noble||2::Herman Sea...</td>\n",
       "      <td>NaN</td>\n",
       "      <td>0::Injured, Unharmed, Arrested||1::Unharmed, A...</td>\n",
       "      <td>0::Subject-Suspect||1::Subject-Suspect||2::Vic...</td>\n",
       "      <td>http://www.morningjournal.com/general-news/201...</td>\n",
       "      <td>56.0</td>\n",
       "      <td>13.0</td>\n",
       "      <td>POINT (-82.13770 41.44550)</td>\n",
       "    </tr>\n",
       "    <tr>\n",
       "      <th>3</th>\n",
       "      <td>478925</td>\n",
       "      <td>2013-01-05</td>\n",
       "      <td>Colorado</td>\n",
       "      <td>Aurora</td>\n",
       "      <td>16000 block of East Ithaca Place</td>\n",
       "      <td>4</td>\n",
       "      <td>0</td>\n",
       "      <td>http://www.gunviolencearchive.org/incident/478925</td>\n",
       "      <td>http://www.dailydemocrat.com/20130106/aurora-s...</td>\n",
       "      <td>False</td>\n",
       "      <td>...</td>\n",
       "      <td>0::Adult 18+||1::Adult 18+||2::Adult 18+||3::A...</td>\n",
       "      <td>0::Female||1::Male||2::Male||3::Male</td>\n",
       "      <td>0::Stacie Philbrook||1::Christopher Ratliffe||...</td>\n",
       "      <td>NaN</td>\n",
       "      <td>0::Killed||1::Killed||2::Killed||3::Killed</td>\n",
       "      <td>0::Victim||1::Victim||2::Victim||3::Subject-Su...</td>\n",
       "      <td>http://denver.cbslocal.com/2013/01/06/officer-...</td>\n",
       "      <td>40.0</td>\n",
       "      <td>28.0</td>\n",
       "      <td>POINT (-104.80200 39.65180)</td>\n",
       "    </tr>\n",
       "    <tr>\n",
       "      <th>4</th>\n",
       "      <td>478959</td>\n",
       "      <td>2013-01-07</td>\n",
       "      <td>North Carolina</td>\n",
       "      <td>Greensboro</td>\n",
       "      <td>307 Mourning Dove Terrace</td>\n",
       "      <td>2</td>\n",
       "      <td>2</td>\n",
       "      <td>http://www.gunviolencearchive.org/incident/478959</td>\n",
       "      <td>http://www.journalnow.com/news/local/article_d...</td>\n",
       "      <td>False</td>\n",
       "      <td>...</td>\n",
       "      <td>0::Adult 18+||1::Adult 18+||2::Teen 12-17||3::...</td>\n",
       "      <td>0::Female||1::Male||2::Male||3::Female</td>\n",
       "      <td>0::Danielle Imani Jameison||1::Maurice Eugene ...</td>\n",
       "      <td>3::Family</td>\n",
       "      <td>0::Injured||1::Injured||2::Killed||3::Killed</td>\n",
       "      <td>0::Victim||1::Victim||2::Victim||3::Subject-Su...</td>\n",
       "      <td>http://myfox8.com/2013/01/08/update-mother-sho...</td>\n",
       "      <td>62.0</td>\n",
       "      <td>27.0</td>\n",
       "      <td>POINT (-79.95690 36.11400)</td>\n",
       "    </tr>\n",
       "  </tbody>\n",
       "</table>\n",
       "<p>5 rows × 30 columns</p>\n",
       "</div>"
      ],
      "text/plain": [
       "   incident_id        date           state city_or_county  \\\n",
       "0       461105  2013-01-01    Pennsylvania     Mckeesport   \n",
       "1       460726  2013-01-01      California      Hawthorne   \n",
       "2       478855  2013-01-01            Ohio         Lorain   \n",
       "3       478925  2013-01-05        Colorado         Aurora   \n",
       "4       478959  2013-01-07  North Carolina     Greensboro   \n",
       "\n",
       "                                     address  n_killed  n_injured  \\\n",
       "0  1506 Versailles Avenue and Coursin Street         0          4   \n",
       "1               13500 block of Cerise Avenue         1          3   \n",
       "2                      1776 East 28th Street         1          3   \n",
       "3           16000 block of East Ithaca Place         4          0   \n",
       "4                  307 Mourning Dove Terrace         2          2   \n",
       "\n",
       "                                        incident_url  \\\n",
       "0  http://www.gunviolencearchive.org/incident/461105   \n",
       "1  http://www.gunviolencearchive.org/incident/460726   \n",
       "2  http://www.gunviolencearchive.org/incident/478855   \n",
       "3  http://www.gunviolencearchive.org/incident/478925   \n",
       "4  http://www.gunviolencearchive.org/incident/478959   \n",
       "\n",
       "                                          source_url  \\\n",
       "0  http://www.post-gazette.com/local/south/2013/0...   \n",
       "1  http://www.dailybulletin.com/article/zz/201301...   \n",
       "2  http://chronicle.northcoastnow.com/2013/02/14/...   \n",
       "3  http://www.dailydemocrat.com/20130106/aurora-s...   \n",
       "4  http://www.journalnow.com/news/local/article_d...   \n",
       "\n",
       "   incident_url_fields_missing  ...  \\\n",
       "0                        False  ...   \n",
       "1                        False  ...   \n",
       "2                        False  ...   \n",
       "3                        False  ...   \n",
       "4                        False  ...   \n",
       "\n",
       "                               participant_age_group  \\\n",
       "0  0::Adult 18+||1::Adult 18+||2::Adult 18+||3::A...   \n",
       "1  0::Adult 18+||1::Adult 18+||2::Adult 18+||3::A...   \n",
       "2  0::Adult 18+||1::Adult 18+||2::Adult 18+||3::A...   \n",
       "3  0::Adult 18+||1::Adult 18+||2::Adult 18+||3::A...   \n",
       "4  0::Adult 18+||1::Adult 18+||2::Teen 12-17||3::...   \n",
       "\n",
       "                            participant_gender  \\\n",
       "0         0::Male||1::Male||3::Male||4::Female   \n",
       "1                                      0::Male   \n",
       "2  0::Male||1::Male||2::Male||3::Male||4::Male   \n",
       "3         0::Female||1::Male||2::Male||3::Male   \n",
       "4       0::Female||1::Male||2::Male||3::Female   \n",
       "\n",
       "                                    participant_name participant_relationship  \\\n",
       "0                                     0::Julian Sims                      NaN   \n",
       "1                                  0::Bernard Gillis                      NaN   \n",
       "2  0::Damien Bell||1::Desmen Noble||2::Herman Sea...                      NaN   \n",
       "3  0::Stacie Philbrook||1::Christopher Ratliffe||...                      NaN   \n",
       "4  0::Danielle Imani Jameison||1::Maurice Eugene ...                3::Family   \n",
       "\n",
       "                                  participant_status  \\\n",
       "0  0::Arrested||1::Injured||2::Injured||3::Injure...   \n",
       "1      0::Killed||1::Injured||2::Injured||3::Injured   \n",
       "2  0::Injured, Unharmed, Arrested||1::Unharmed, A...   \n",
       "3         0::Killed||1::Killed||2::Killed||3::Killed   \n",
       "4       0::Injured||1::Injured||2::Killed||3::Killed   \n",
       "\n",
       "                                    participant_type  \\\n",
       "0  0::Victim||1::Victim||2::Victim||3::Victim||4:...   \n",
       "1  0::Victim||1::Victim||2::Victim||3::Victim||4:...   \n",
       "2  0::Subject-Suspect||1::Subject-Suspect||2::Vic...   \n",
       "3  0::Victim||1::Victim||2::Victim||3::Subject-Su...   \n",
       "4  0::Victim||1::Victim||2::Victim||3::Subject-Su...   \n",
       "\n",
       "                                             sources  state_house_district  \\\n",
       "0  http://pittsburgh.cbslocal.com/2013/01/01/4-pe...                   NaN   \n",
       "1  http://losangeles.cbslocal.com/2013/01/01/man-...                  62.0   \n",
       "2  http://www.morningjournal.com/general-news/201...                  56.0   \n",
       "3  http://denver.cbslocal.com/2013/01/06/officer-...                  40.0   \n",
       "4  http://myfox8.com/2013/01/08/update-mother-sho...                  62.0   \n",
       "\n",
       "  state_senate_district                     geometry  \n",
       "0                   NaN   POINT (-79.85590 40.34670)  \n",
       "1                  35.0  POINT (-118.33300 33.90900)  \n",
       "2                  13.0   POINT (-82.13770 41.44550)  \n",
       "3                  28.0  POINT (-104.80200 39.65180)  \n",
       "4                  27.0   POINT (-79.95690 36.11400)  \n",
       "\n",
       "[5 rows x 30 columns]"
      ]
     },
     "execution_count": 88,
     "metadata": {},
     "output_type": "execute_result"
    }
   ],
   "source": [
    "# wrap df w/ a GeoDataFrame by creating a geometry attribute\n",
    "df_geo = GeoDataFrame(df, geometry=points_from_xy(df.longitude, df.latitude))\n",
    "df_geo.head()"
   ]
  },
  {
   "cell_type": "code",
   "execution_count": 87,
   "id": "b1bc4bc2-41a7-4f11-a987-bbc831d57926",
   "metadata": {
    "tags": []
   },
   "outputs": [
    {
     "data": {
      "image/png": "[encoded data removed]",
      "text/plain": [
       "<Figure size 1900x1200 with 1 Axes>"
      ]
     },
     "metadata": {},
     "output_type": "display_data"
    }
   ],
   "source": [
    "plt.rcParams['figure.figsize'] = [19, 12]\n",
    "df_geo.plot(color='red')\n",
    "plt.show()"
   ]
  },
  {
   "cell_type": "code",
   "execution_count": null,
   "id": "78a87b66-381a-42ae-aff0-b60927da27ef",
   "metadata": {},
   "outputs": [],
   "source": []
  }
 ],
 "metadata": {
  "availableInstances": [
   {
    "_defaultOrder": 0,
    "_isFastLaunch": true,
    "category": "General purpose",
    "gpuNum": 0,
    "memoryGiB": 4,
    "name": "ml.t3.medium",
    "vcpuNum": 2
   },
   {
    "_defaultOrder": 1,
    "_isFastLaunch": false,
    "category": "General purpose",
    "gpuNum": 0,
    "memoryGiB": 8,
    "name": "ml.t3.large",
    "vcpuNum": 2
   },
   {
    "_defaultOrder": 2,
    "_isFastLaunch": false,
    "category": "General purpose",
    "gpuNum": 0,
    "memoryGiB": 16,
    "name": "ml.t3.xlarge",
    "vcpuNum": 4
   },
   {
    "_defaultOrder": 3,
    "_isFastLaunch": false,
    "category": "General purpose",
    "gpuNum": 0,
    "memoryGiB": 32,
    "name": "ml.t3.2xlarge",
    "vcpuNum": 8
   },
   {
    "_defaultOrder": 4,
    "_isFastLaunch": true,
    "category": "General purpose",
    "gpuNum": 0,
    "memoryGiB": 8,
    "name": "ml.m5.large",
    "vcpuNum": 2
   },
   {
    "_defaultOrder": 5,
    "_isFastLaunch": false,
    "category": "General purpose",
    "gpuNum": 0,
    "memoryGiB": 16,
    "name": "ml.m5.xlarge",
    "vcpuNum": 4
   },
   {
    "_defaultOrder": 6,
    "_isFastLaunch": false,
    "category": "General purpose",
    "gpuNum": 0,
    "memoryGiB": 32,
    "name": "ml.m5.2xlarge",
    "vcpuNum": 8
   },
   {
    "_defaultOrder": 7,
    "_isFastLaunch": false,
    "category": "General purpose",
    "gpuNum": 0,
    "memoryGiB": 64,
    "name": "ml.m5.4xlarge",
    "vcpuNum": 16
   },
   {
    "_defaultOrder": 8,
    "_isFastLaunch": false,
    "category": "General purpose",
    "gpuNum": 0,
    "memoryGiB": 128,
    "name": "ml.m5.8xlarge",
    "vcpuNum": 32
   },
   {
    "_defaultOrder": 9,
    "_isFastLaunch": false,
    "category": "General purpose",
    "gpuNum": 0,
    "memoryGiB": 192,
    "name": "ml.m5.12xlarge",
    "vcpuNum": 48
   },
   {
    "_defaultOrder": 10,
    "_isFastLaunch": false,
    "category": "General purpose",
    "gpuNum": 0,
    "memoryGiB": 256,
    "name": "ml.m5.16xlarge",
    "vcpuNum": 64
   },
   {
    "_defaultOrder": 11,
    "_isFastLaunch": false,
    "category": "General purpose",
    "gpuNum": 0,
    "memoryGiB": 384,
    "name": "ml.m5.24xlarge",
    "vcpuNum": 96
   },
   {
    "_defaultOrder": 12,
    "_isFastLaunch": false,
    "category": "General purpose",
    "gpuNum": 0,
    "memoryGiB": 8,
    "name": "ml.m5d.large",
    "vcpuNum": 2
   },
   {
    "_defaultOrder": 13,
    "_isFastLaunch": false,
    "category": "General purpose",
    "gpuNum": 0,
    "memoryGiB": 16,
    "name": "ml.m5d.xlarge",
    "vcpuNum": 4
   },
   {
    "_defaultOrder": 14,
    "_isFastLaunch": false,
    "category": "General purpose",
    "gpuNum": 0,
    "memoryGiB": 32,
    "name": "ml.m5d.2xlarge",
    "vcpuNum": 8
   },
   {
    "_defaultOrder": 15,
    "_isFastLaunch": false,
    "category": "General purpose",
    "gpuNum": 0,
    "memoryGiB": 64,
    "name": "ml.m5d.4xlarge",
    "vcpuNum": 16
   },
   {
    "_defaultOrder": 16,
    "_isFastLaunch": false,
    "category": "General purpose",
    "gpuNum": 0,
    "memoryGiB": 128,
    "name": "ml.m5d.8xlarge",
    "vcpuNum": 32
   },
   {
    "_defaultOrder": 17,
    "_isFastLaunch": false,
    "category": "General purpose",
    "gpuNum": 0,
    "memoryGiB": 192,
    "name": "ml.m5d.12xlarge",
    "vcpuNum": 48
   },
   {
    "_defaultOrder": 18,
    "_isFastLaunch": false,
    "category": "General purpose",
    "gpuNum": 0,
    "memoryGiB": 256,
    "name": "ml.m5d.16xlarge",
    "vcpuNum": 64
   },
   {
    "_defaultOrder": 19,
    "_isFastLaunch": false,
    "category": "General purpose",
    "gpuNum": 0,
    "memoryGiB": 384,
    "name": "ml.m5d.24xlarge",
    "vcpuNum": 96
   },
   {
    "_defaultOrder": 20,
    "_isFastLaunch": true,
    "category": "Compute optimized",
    "gpuNum": 0,
    "memoryGiB": 4,
    "name": "ml.c5.large",
    "vcpuNum": 2
   },
   {
    "_defaultOrder": 21,
    "_isFastLaunch": false,
    "category": "Compute optimized",
    "gpuNum": 0,
    "memoryGiB": 8,
    "name": "ml.c5.xlarge",
    "vcpuNum": 4
   },
   {
    "_defaultOrder": 22,
    "_isFastLaunch": false,
    "category": "Compute optimized",
    "gpuNum": 0,
    "memoryGiB": 16,
    "name": "ml.c5.2xlarge",
    "vcpuNum": 8
   },
   {
    "_defaultOrder": 23,
    "_isFastLaunch": false,
    "category": "Compute optimized",
    "gpuNum": 0,
    "memoryGiB": 32,
    "name": "ml.c5.4xlarge",
    "vcpuNum": 16
   },
   {
    "_defaultOrder": 24,
    "_isFastLaunch": false,
    "category": "Compute optimized",
    "gpuNum": 0,
    "memoryGiB": 72,
    "name": "ml.c5.9xlarge",
    "vcpuNum": 36
   },
   {
    "_defaultOrder": 25,
    "_isFastLaunch": false,
    "category": "Compute optimized",
    "gpuNum": 0,
    "memoryGiB": 96,
    "name": "ml.c5.12xlarge",
    "vcpuNum": 48
   },
   {
    "_defaultOrder": 26,
    "_isFastLaunch": false,
    "category": "Compute optimized",
    "gpuNum": 0,
    "memoryGiB": 144,
    "name": "ml.c5.18xlarge",
    "vcpuNum": 72
   },
   {
    "_defaultOrder": 27,
    "_isFastLaunch": false,
    "category": "Compute optimized",
    "gpuNum": 0,
    "memoryGiB": 192,
    "name": "ml.c5.24xlarge",
    "vcpuNum": 96
   },
   {
    "_defaultOrder": 28,
    "_isFastLaunch": true,
    "category": "Accelerated computing",
    "gpuNum": 1,
    "memoryGiB": 16,
    "name": "ml.g4dn.xlarge",
    "vcpuNum": 4
   },
   {
    "_defaultOrder": 29,
    "_isFastLaunch": false,
    "category": "Accelerated computing",
    "gpuNum": 1,
    "memoryGiB": 32,
    "name": "ml.g4dn.2xlarge",
    "vcpuNum": 8
   },
   {
    "_defaultOrder": 30,
    "_isFastLaunch": false,
    "category": "Accelerated computing",
    "gpuNum": 1,
    "memoryGiB": 64,
    "name": "ml.g4dn.4xlarge",
    "vcpuNum": 16
   },
   {
    "_defaultOrder": 31,
    "_isFastLaunch": false,
    "category": "Accelerated computing",
    "gpuNum": 1,
    "memoryGiB": 128,
    "name": "ml.g4dn.8xlarge",
    "vcpuNum": 32
   },
   {
    "_defaultOrder": 32,
    "_isFastLaunch": false,
    "category": "Accelerated computing",
    "gpuNum": 4,
    "memoryGiB": 192,
    "name": "ml.g4dn.12xlarge",
    "vcpuNum": 48
   },
   {
    "_defaultOrder": 33,
    "_isFastLaunch": false,
    "category": "Accelerated computing",
    "gpuNum": 1,
    "memoryGiB": 256,
    "name": "ml.g4dn.16xlarge",
    "vcpuNum": 64
   },
   {
    "_defaultOrder": 34,
    "_isFastLaunch": false,
    "category": "Accelerated computing",
    "gpuNum": 1,
    "memoryGiB": 61,
    "name": "ml.p3.2xlarge",
    "vcpuNum": 8
   },
   {
    "_defaultOrder": 35,
    "_isFastLaunch": false,
    "category": "Accelerated computing",
    "gpuNum": 4,
    "memoryGiB": 244,
    "name": "ml.p3.8xlarge",
    "vcpuNum": 32
   },
   {
    "_defaultOrder": 36,
    "_isFastLaunch": false,
    "category": "Accelerated computing",
    "gpuNum": 8,
    "memoryGiB": 488,
    "name": "ml.p3.16xlarge",
    "vcpuNum": 64
   },
   {
    "_defaultOrder": 37,
    "_isFastLaunch": false,
    "category": "Accelerated computing",
    "gpuNum": 8,
    "memoryGiB": 768,
    "name": "ml.p3dn.24xlarge",
    "vcpuNum": 96
   },
   {
    "_defaultOrder": 38,
    "_isFastLaunch": false,
    "category": "Memory Optimized",
    "gpuNum": 0,
    "memoryGiB": 16,
    "name": "ml.r5.large",
    "vcpuNum": 2
   },
   {
    "_defaultOrder": 39,
    "_isFastLaunch": false,
    "category": "Memory Optimized",
    "gpuNum": 0,
    "memoryGiB": 32,
    "name": "ml.r5.xlarge",
    "vcpuNum": 4
   },
   {
    "_defaultOrder": 40,
    "_isFastLaunch": false,
    "category": "Memory Optimized",
    "gpuNum": 0,
    "memoryGiB": 64,
    "name": "ml.r5.2xlarge",
    "vcpuNum": 8
   },
   {
    "_defaultOrder": 41,
    "_isFastLaunch": false,
    "category": "Memory Optimized",
    "gpuNum": 0,
    "memoryGiB": 128,
    "name": "ml.r5.4xlarge",
    "vcpuNum": 16
   },
   {
    "_defaultOrder": 42,
    "_isFastLaunch": false,
    "category": "Memory Optimized",
    "gpuNum": 0,
    "memoryGiB": 256,
    "name": "ml.r5.8xlarge",
    "vcpuNum": 32
   },
   {
    "_defaultOrder": 43,
    "_isFastLaunch": false,
    "category": "Memory Optimized",
    "gpuNum": 0,
    "memoryGiB": 384,
    "name": "ml.r5.12xlarge",
    "vcpuNum": 48
   },
   {
    "_defaultOrder": 44,
    "_isFastLaunch": false,
    "category": "Memory Optimized",
    "gpuNum": 0,
    "memoryGiB": 512,
    "name": "ml.r5.16xlarge",
    "vcpuNum": 64
   },
   {
    "_defaultOrder": 45,
    "_isFastLaunch": false,
    "category": "Memory Optimized",
    "gpuNum": 0,
    "memoryGiB": 768,
    "name": "ml.r5.24xlarge",
    "vcpuNum": 96
   },
   {
    "_defaultOrder": 46,
    "_isFastLaunch": false,
    "category": "Accelerated computing",
    "gpuNum": 1,
    "memoryGiB": 16,
    "name": "ml.g5.xlarge",
    "vcpuNum": 4
   },
   {
    "_defaultOrder": 47,
    "_isFastLaunch": false,
    "category": "Accelerated computing",
    "gpuNum": 1,
    "memoryGiB": 32,
    "name": "ml.g5.2xlarge",
    "vcpuNum": 8
   },
   {
    "_defaultOrder": 48,
    "_isFastLaunch": false,
    "category": "Accelerated computing",
    "gpuNum": 1,
    "memoryGiB": 64,
    "name": "ml.g5.4xlarge",
    "vcpuNum": 16
   },
   {
    "_defaultOrder": 49,
    "_isFastLaunch": false,
    "category": "Accelerated computing",
    "gpuNum": 1,
    "memoryGiB": 128,
    "name": "ml.g5.8xlarge",
    "vcpuNum": 32
   },
   {
    "_defaultOrder": 50,
    "_isFastLaunch": false,
    "category": "Accelerated computing",
    "gpuNum": 1,
    "memoryGiB": 256,
    "name": "ml.g5.16xlarge",
    "vcpuNum": 64
   },
   {
    "_defaultOrder": 51,
    "_isFastLaunch": false,
    "category": "Accelerated computing",
    "gpuNum": 4,
    "memoryGiB": 192,
    "name": "ml.g5.12xlarge",
    "vcpuNum": 48
   },
   {
    "_defaultOrder": 52,
    "_isFastLaunch": false,
    "category": "Accelerated computing",
    "gpuNum": 4,
    "memoryGiB": 384,
    "name": "ml.g5.24xlarge",
    "vcpuNum": 96
   },
   {
    "_defaultOrder": 53,
    "_isFastLaunch": false,
    "category": "Accelerated computing",
    "gpuNum": 8,
    "memoryGiB": 768,
    "name": "ml.g5.48xlarge",
    "vcpuNum": 192
   }
  ],
  "instance_type": "ml.t3.medium",
  "kernelspec": {
   "display_name": "Python 3 (Data Science)",
   "language": "python",
   "name": "python3__SAGEMAKER_INTERNAL__arn:aws:sagemaker:us-east-1:081325390199:image/datascience-1.0"
  },
  "language_info": {
   "codemirror_mode": {
    "name": "ipython",
    "version": 3
   },
   "file_extension": ".py",
   "mimetype": "text/x-python",
   "name": "python",
   "nbconvert_exporter": "python",
   "pygments_lexer": "ipython3",
   "version": "3.7.10"
  }
 },
 "nbformat": 4,
 "nbformat_minor": 5
}
