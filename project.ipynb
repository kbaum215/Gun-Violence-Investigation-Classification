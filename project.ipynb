{
 "cells": [
  {
   "cell_type": "markdown",
   "id": "544b6a22-7da0-4d75-a74c-1b6dfd6ba5a0",
   "metadata": {},
   "source": [
    "# Set up \n",
    "\n",
    "## Check Environment "
   ]
  },
  {
   "cell_type": "code",
   "execution_count": 175,
   "id": "b4ae9065-6964-4078-971d-819cb3123697",
   "metadata": {
    "tags": []
   },
   "outputs": [],
   "source": [
    "import boto3\n",
    "\n",
    "region = boto3.Session().region_name\n",
    "session = boto3.session.Session()\n",
    "\n",
    "ec2 = boto3.Session().client(service_name=\"ec2\", region_name=region)\n",
    "sm = boto3.Session().client(service_name=\"sagemaker\", region_name=region)"
   ]
  },
  {
   "cell_type": "markdown",
   "id": "f2679010-3b8e-4843-8118-63eaf45bb0bd",
   "metadata": {},
   "source": [
    "## Update IAM Roles and Policies"
   ]
  },
  {
   "cell_type": "code",
   "execution_count": 176,
   "id": "7a5705df-9505-4f0f-a2d4-fd9244caa68d",
   "metadata": {
    "tags": []
   },
   "outputs": [],
   "source": [
    "import sagemaker\n",
    "import time\n",
    "from time import gmtime, strftime\n",
    "\n",
    "sagemaker_session = sagemaker.Session()\n",
    "role = sagemaker.get_execution_role()\n",
    "bucket = sagemaker_session.default_bucket()\n",
    "region = boto3.Session().region_name\n",
    "\n",
    "from botocore.config import Config\n",
    "\n",
    "config = Config(retries={\"max_attempts\": 10, \"mode\": \"adaptive\"})\n",
    "\n",
    "iam = boto3.client(\"iam\", config=config)"
   ]
  },
  {
   "cell_type": "code",
   "execution_count": 177,
   "id": "dfc59837-b3bc-4335-bf7e-80b9d866bcfd",
   "metadata": {
    "tags": []
   },
   "outputs": [
    {
     "name": "stdout",
     "output_type": "stream",
     "text": [
      "Role name: LabRole\n"
     ]
    }
   ],
   "source": [
    "role_name = role.split(\"/\")[-1]\n",
    "\n",
    "print(\"Role name: {}\".format(role_name))"
   ]
  },
  {
   "cell_type": "markdown",
   "id": "bfbe1100-813c-43f5-ad87-3f43471a5f4b",
   "metadata": {},
   "source": [
    "## Import Libraries"
   ]
  },
  {
   "cell_type": "code",
   "execution_count": 178,
   "id": "1fbe1a06-146a-4836-93fb-4230808a40a5",
   "metadata": {
    "tags": []
   },
   "outputs": [
    {
     "name": "stdout",
     "output_type": "stream",
     "text": [
      "Requirement already satisfied: descartes in /opt/conda/lib/python3.7/site-packages (1.1.0)\n",
      "Requirement already satisfied: matplotlib in /opt/conda/lib/python3.7/site-packages (from descartes) (3.1.3)\n",
      "Requirement already satisfied: numpy>=1.11 in /opt/conda/lib/python3.7/site-packages (from matplotlib->descartes) (1.21.6)\n",
      "Requirement already satisfied: cycler>=0.10 in /opt/conda/lib/python3.7/site-packages (from matplotlib->descartes) (0.10.0)\n",
      "Requirement already satisfied: kiwisolver>=1.0.1 in /opt/conda/lib/python3.7/site-packages (from matplotlib->descartes) (1.1.0)\n",
      "Requirement already satisfied: python-dateutil>=2.1 in /opt/conda/lib/python3.7/site-packages (from matplotlib->descartes) (2.8.2)\n",
      "Requirement already satisfied: pyparsing!=2.0.4,!=2.1.2,!=2.1.6,>=2.0.1 in /opt/conda/lib/python3.7/site-packages (from matplotlib->descartes) (2.4.6)\n",
      "Requirement already satisfied: six in /opt/conda/lib/python3.7/site-packages (from cycler>=0.10->matplotlib->descartes) (1.14.0)\n",
      "Requirement already satisfied: setuptools in /opt/conda/lib/python3.7/site-packages (from kiwisolver>=1.0.1->matplotlib->descartes) (59.3.0)\n",
      "\u001b[33mWARNING: Running pip as the 'root' user can result in broken permissions and conflicting behaviour with the system package manager. It is recommended to use a virtual environment instead: https://pip.pypa.io/warnings/venv\u001b[0m\u001b[33m\n",
      "\u001b[0mRequirement already satisfied: geopandas in /opt/conda/lib/python3.7/site-packages (0.10.2)\n",
      "Requirement already satisfied: shapely>=1.6 in /opt/conda/lib/python3.7/site-packages (from geopandas) (2.0.1)\n",
      "Requirement already satisfied: pandas>=0.25.0 in /opt/conda/lib/python3.7/site-packages (from geopandas) (1.3.5)\n",
      "Requirement already satisfied: pyproj>=2.2.0 in /opt/conda/lib/python3.7/site-packages (from geopandas) (3.2.1)\n",
      "Requirement already satisfied: fiona>=1.8 in /opt/conda/lib/python3.7/site-packages (from geopandas) (1.9.2)\n",
      "Requirement already satisfied: click~=8.0 in /opt/conda/lib/python3.7/site-packages (from fiona>=1.8->geopandas) (8.1.3)\n",
      "Requirement already satisfied: attrs>=19.2.0 in /opt/conda/lib/python3.7/site-packages (from fiona>=1.8->geopandas) (22.2.0)\n",
      "Requirement already satisfied: cligj>=0.5 in /opt/conda/lib/python3.7/site-packages (from fiona>=1.8->geopandas) (0.7.2)\n",
      "Requirement already satisfied: certifi in /opt/conda/lib/python3.7/site-packages (from fiona>=1.8->geopandas) (2022.12.7)\n",
      "Requirement already satisfied: importlib-metadata in /opt/conda/lib/python3.7/site-packages (from fiona>=1.8->geopandas) (6.1.0)\n",
      "Requirement already satisfied: click-plugins>=1.0 in /opt/conda/lib/python3.7/site-packages (from fiona>=1.8->geopandas) (1.1.1)\n",
      "Requirement already satisfied: munch>=2.3.2 in /opt/conda/lib/python3.7/site-packages (from fiona>=1.8->geopandas) (2.5.0)\n",
      "Requirement already satisfied: python-dateutil>=2.7.3 in /opt/conda/lib/python3.7/site-packages (from pandas>=0.25.0->geopandas) (2.8.2)\n",
      "Requirement already satisfied: numpy>=1.17.3 in /opt/conda/lib/python3.7/site-packages (from pandas>=0.25.0->geopandas) (1.21.6)\n",
      "Requirement already satisfied: pytz>=2017.3 in /opt/conda/lib/python3.7/site-packages (from pandas>=0.25.0->geopandas) (2019.3)\n",
      "Requirement already satisfied: six in /opt/conda/lib/python3.7/site-packages (from munch>=2.3.2->fiona>=1.8->geopandas) (1.14.0)\n",
      "Requirement already satisfied: typing-extensions>=3.6.4 in /opt/conda/lib/python3.7/site-packages (from importlib-metadata->fiona>=1.8->geopandas) (4.5.0)\n",
      "Requirement already satisfied: zipp>=0.5 in /opt/conda/lib/python3.7/site-packages (from importlib-metadata->fiona>=1.8->geopandas) (3.15.0)\n",
      "\u001b[33mWARNING: Running pip as the 'root' user can result in broken permissions and conflicting behaviour with the system package manager. It is recommended to use a virtual environment instead: https://pip.pypa.io/warnings/venv\u001b[0m\u001b[33m\n",
      "\u001b[0mRequirement already satisfied: wordcloud in /opt/conda/lib/python3.7/site-packages (1.8.2.2)\n",
      "Requirement already satisfied: matplotlib in /opt/conda/lib/python3.7/site-packages (from wordcloud) (3.1.3)\n",
      "Requirement already satisfied: numpy>=1.6.1 in /opt/conda/lib/python3.7/site-packages (from wordcloud) (1.21.6)\n",
      "Requirement already satisfied: pillow in /opt/conda/lib/python3.7/site-packages (from wordcloud) (9.4.0)\n",
      "Requirement already satisfied: python-dateutil>=2.1 in /opt/conda/lib/python3.7/site-packages (from matplotlib->wordcloud) (2.8.2)\n",
      "Requirement already satisfied: pyparsing!=2.0.4,!=2.1.2,!=2.1.6,>=2.0.1 in /opt/conda/lib/python3.7/site-packages (from matplotlib->wordcloud) (2.4.6)\n",
      "Requirement already satisfied: cycler>=0.10 in /opt/conda/lib/python3.7/site-packages (from matplotlib->wordcloud) (0.10.0)\n",
      "Requirement already satisfied: kiwisolver>=1.0.1 in /opt/conda/lib/python3.7/site-packages (from matplotlib->wordcloud) (1.1.0)\n",
      "Requirement already satisfied: six in /opt/conda/lib/python3.7/site-packages (from cycler>=0.10->matplotlib->wordcloud) (1.14.0)\n",
      "Requirement already satisfied: setuptools in /opt/conda/lib/python3.7/site-packages (from kiwisolver>=1.0.1->matplotlib->wordcloud) (59.3.0)\n",
      "\u001b[33mWARNING: Running pip as the 'root' user can result in broken permissions and conflicting behaviour with the system package manager. It is recommended to use a virtual environment instead: https://pip.pypa.io/warnings/venv\u001b[0m\u001b[33m\n",
      "\u001b[0m"
     ]
    }
   ],
   "source": [
    "import pandas as pd\n",
    "import numpy as np\n",
    "import matplotlib.pyplot as plt\n",
    "! pip install descartes\n",
    "! pip install geopandas\n",
    "!pip install wordcloud\n",
    "import geopandas as gpd\n",
    "from tqdm import tqdm  \n",
    "from geopandas import GeoDataFrame, points_from_xy\n",
    "from wordcloud import WordCloud"
   ]
  },
  {
   "cell_type": "code",
   "execution_count": 179,
   "id": "6dd9165a-6bb7-467a-ace0-fd0d22bf1ea7",
   "metadata": {},
   "outputs": [],
   "source": [
    "s3_public_path = \"s3://sagemaker-studio-458903497716-h2kl4ff3dz/data\""
   ]
  },
  {
   "cell_type": "code",
   "execution_count": 180,
   "id": "2513e31f-b8b4-45dd-8863-9440f786811c",
   "metadata": {},
   "outputs": [
    {
     "name": "stdout",
     "output_type": "stream",
     "text": [
      "Stored 's3_public_path' (str)\n"
     ]
    }
   ],
   "source": [
    "%store s3_public_path"
   ]
  },
  {
   "cell_type": "code",
   "execution_count": 181,
   "id": "b86852f1-3e52-4377-a42d-cc90da590804",
   "metadata": {},
   "outputs": [
    {
     "data": {
      "text/plain": [
       "'s3://sagemaker-us-east-1-705927414280/gunData'"
      ]
     },
     "execution_count": 181,
     "metadata": {},
     "output_type": "execute_result"
    }
   ],
   "source": [
    "s3_private_path = \"s3://{}/gunData\".format(bucket)\n",
    "s3_private_path"
   ]
  },
  {
   "cell_type": "code",
   "execution_count": 182,
   "id": "af9c6e3d-401c-4bea-b393-ebe8c7fe280c",
   "metadata": {},
   "outputs": [
    {
     "name": "stdout",
     "output_type": "stream",
     "text": [
      "Stored 's3_private_path' (str)\n"
     ]
    }
   ],
   "source": [
    "%store s3_private_path"
   ]
  },
  {
   "cell_type": "code",
   "execution_count": 183,
   "id": "9a7ffc10-6456-4acb-bbf0-4d23072cb4fd",
   "metadata": {},
   "outputs": [
    {
     "name": "stdout",
     "output_type": "stream",
     "text": [
      "copy: s3://sagemaker-studio-458903497716-h2kl4ff3dz/data/gun_violence.csv to s3://sagemaker-us-east-1-705927414280/gunData/gun_violence.csv\n"
     ]
    }
   ],
   "source": [
    "!aws s3 cp --recursive $s3_public_path/ $s3_private_path/ --include \"*\" "
   ]
  },
  {
   "cell_type": "markdown",
   "id": "1978a323-fe9e-4c5c-b448-fb42a6f47c0a",
   "metadata": {},
   "source": [
    "# Create Database Schema in Athena"
   ]
  },
  {
   "cell_type": "code",
   "execution_count": 184,
   "id": "fbfdde23-e09d-482d-93be-b7361eff135c",
   "metadata": {
    "tags": []
   },
   "outputs": [
    {
     "data": {
      "text/plain": [
       "'sagemaker-us-east-1-705927414280/gunData'"
      ]
     },
     "execution_count": 184,
     "metadata": {},
     "output_type": "execute_result"
    }
   ],
   "source": [
    "import boto3\n",
    "import sagemaker\n",
    "\n",
    "sess = sagemaker.Session()\n",
    "bucket = '{}/gunData'.format(bucket)\n",
    "role = sagemaker.get_execution_role()\n",
    "region = boto3.Session().region_name\n",
    "bucket"
   ]
  },
  {
   "cell_type": "code",
   "execution_count": 185,
   "id": "8042c816-1eac-4ff3-b5a9-30a781887cd6",
   "metadata": {
    "tags": []
   },
   "outputs": [
    {
     "name": "stdout",
     "output_type": "stream",
     "text": [
      "\u001b[33mWARNING: Running pip as the 'root' user can result in broken permissions and conflicting behaviour with the system package manager. It is recommended to use a virtual environment instead: https://pip.pypa.io/warnings/venv\u001b[0m\u001b[33m\n",
      "\u001b[0m"
     ]
    }
   ],
   "source": [
    "!pip install --disable-pip-version-check -q PyAthena==2.1.0\n",
    "from pyathena import connect"
   ]
  },
  {
   "cell_type": "code",
   "execution_count": 186,
   "id": "f9a285fe-a778-4e37-a27f-c87ddc30237e",
   "metadata": {
    "tags": []
   },
   "outputs": [],
   "source": [
    "#assign database name\n",
    "database_name = \"ads508\""
   ]
  },
  {
   "cell_type": "code",
   "execution_count": 187,
   "id": "5a8cd20c-a4d5-4e19-8494-5325227171a3",
   "metadata": {
    "tags": []
   },
   "outputs": [],
   "source": [
    "# Set S3 staging directory -- this is a temporary directory used for Athena queries\n",
    "s3_staging_dir = \"s3://{0}/athena/staging\".format(bucket)"
   ]
  },
  {
   "cell_type": "code",
   "execution_count": 188,
   "id": "c0172f60-9813-4944-b1b6-c1a6f9309a79",
   "metadata": {
    "tags": []
   },
   "outputs": [],
   "source": [
    "conn = connect(region_name=region, s3_staging_dir=s3_staging_dir)"
   ]
  },
  {
   "cell_type": "code",
   "execution_count": 189,
   "id": "57d73501-30f2-4995-8c4a-fbf0e6e27d2a",
   "metadata": {
    "tags": []
   },
   "outputs": [
    {
     "data": {
      "text/html": [
       "<div>\n",
       "<style scoped>\n",
       "    .dataframe tbody tr th:only-of-type {\n",
       "        vertical-align: middle;\n",
       "    }\n",
       "\n",
       "    .dataframe tbody tr th {\n",
       "        vertical-align: top;\n",
       "    }\n",
       "\n",
       "    .dataframe thead th {\n",
       "        text-align: right;\n",
       "    }\n",
       "</style>\n",
       "<table border=\"1\" class=\"dataframe\">\n",
       "  <thead>\n",
       "    <tr style=\"text-align: right;\">\n",
       "      <th></th>\n",
       "    </tr>\n",
       "  </thead>\n",
       "  <tbody>\n",
       "  </tbody>\n",
       "</table>\n",
       "</div>"
      ],
      "text/plain": [
       "Empty DataFrame\n",
       "Columns: []\n",
       "Index: []"
      ]
     },
     "execution_count": 189,
     "metadata": {},
     "output_type": "execute_result"
    }
   ],
   "source": [
    "#create new database 'ads508'\n",
    "statement = \"CREATE DATABASE IF NOT EXISTS {}\".format(database_name)\n",
    "create_db = pd.read_sql(statement, conn)\n",
    "create_db"
   ]
  },
  {
   "cell_type": "code",
   "execution_count": 190,
   "id": "05142a70-27d6-4788-817b-3dd82d10743f",
   "metadata": {
    "tags": []
   },
   "outputs": [
    {
     "data": {
      "text/html": [
       "<div>\n",
       "<style scoped>\n",
       "    .dataframe tbody tr th:only-of-type {\n",
       "        vertical-align: middle;\n",
       "    }\n",
       "\n",
       "    .dataframe tbody tr th {\n",
       "        vertical-align: top;\n",
       "    }\n",
       "\n",
       "    .dataframe thead th {\n",
       "        text-align: right;\n",
       "    }\n",
       "</style>\n",
       "<table border=\"1\" class=\"dataframe\">\n",
       "  <thead>\n",
       "    <tr style=\"text-align: right;\">\n",
       "      <th></th>\n",
       "      <th>database_name</th>\n",
       "    </tr>\n",
       "  </thead>\n",
       "  <tbody>\n",
       "    <tr>\n",
       "      <th>0</th>\n",
       "      <td>ads508</td>\n",
       "    </tr>\n",
       "    <tr>\n",
       "      <th>1</th>\n",
       "      <td>default</td>\n",
       "    </tr>\n",
       "    <tr>\n",
       "      <th>2</th>\n",
       "      <td>dsoaws</td>\n",
       "    </tr>\n",
       "  </tbody>\n",
       "</table>\n",
       "</div>"
      ],
      "text/plain": [
       "  database_name\n",
       "0        ads508\n",
       "1       default\n",
       "2        dsoaws"
      ]
     },
     "execution_count": 190,
     "metadata": {},
     "output_type": "execute_result"
    }
   ],
   "source": [
    "#verify database creation\n",
    "q = \"SHOW DATABASES\"\n",
    "db_show = pd.read_sql(q, conn)\n",
    "db_show"
   ]
  },
  {
   "cell_type": "markdown",
   "id": "e4d154cc-0e38-46b3-9560-23c211acdeff",
   "metadata": {},
   "source": [
    "## Create Athena Table"
   ]
  },
  {
   "cell_type": "code",
   "execution_count": 191,
   "id": "655c904c-62c9-401f-96d5-c8feacae6e76",
   "metadata": {
    "tags": []
   },
   "outputs": [
    {
     "name": "stdout",
     "output_type": "stream",
     "text": [
      "s3://sagemaker-us-east-1-705927414280/gunData\n"
     ]
    }
   ],
   "source": [
    "# Set Athena parameters\n",
    "database_name = \"ads508\"\n",
    "table_name_csv = \"gun_violence\"\n",
    "s3_path = \"s3://{}\".format(bucket)\n",
    "print(s3_path)"
   ]
  },
  {
   "cell_type": "code",
   "execution_count": 192,
   "id": "9809b4c6-fa1a-4d24-b567-f301287efa6a",
   "metadata": {
    "tags": []
   },
   "outputs": [
    {
     "data": {
      "text/html": [
       "<div>\n",
       "<style scoped>\n",
       "    .dataframe tbody tr th:only-of-type {\n",
       "        vertical-align: middle;\n",
       "    }\n",
       "\n",
       "    .dataframe tbody tr th {\n",
       "        vertical-align: top;\n",
       "    }\n",
       "\n",
       "    .dataframe thead th {\n",
       "        text-align: right;\n",
       "    }\n",
       "</style>\n",
       "<table border=\"1\" class=\"dataframe\">\n",
       "  <thead>\n",
       "    <tr style=\"text-align: right;\">\n",
       "      <th></th>\n",
       "    </tr>\n",
       "  </thead>\n",
       "  <tbody>\n",
       "  </tbody>\n",
       "</table>\n",
       "</div>"
      ],
      "text/plain": [
       "Empty DataFrame\n",
       "Columns: []\n",
       "Index: []"
      ]
     },
     "execution_count": 192,
     "metadata": {},
     "output_type": "execute_result"
    }
   ],
   "source": [
    "# SQL statement to execute\n",
    "statement = \"\"\"CREATE EXTERNAL TABLE IF NOT EXISTS {}.{}(\n",
    "         incident_id int,\n",
    "         date date,\n",
    "         state string,\n",
    "         city_or_county string,\n",
    "         address string,\n",
    "         n_killed int,\n",
    "         n_injured int,\n",
    "         incident_url string,\n",
    "         source_url string,\n",
    "         incident_url_fields_missing string,\n",
    "         congressional_district int,\n",
    "         gun_stolen string,\n",
    "         gun_type string,\n",
    "         incident_characteristics string,\n",
    "         latitude int,\n",
    "         location_description string,\n",
    "         longitude int,\n",
    "         n_guns_involved int,\n",
    "         notes string,\n",
    "         participant_age string,\n",
    "         participant_age_group string,\n",
    "         participant_gender string,\n",
    "         participant_name string,\n",
    "         participant_relationship string,\n",
    "         participant_status string,\n",
    "         participant_type string,\n",
    "         sources string,\n",
    "         state_house_district int,\n",
    "         state_senate_district int\n",
    ") ROW FORMAT DELIMITED FIELDS TERMINATED BY ',' LINES TERMINATED BY '\\\\n' LOCATION '{}'\n",
    "TBLPROPERTIES ('skip.header.line.count'='1')\"\"\".format(\n",
    "    database_name, table_name_csv, s3_path\n",
    ")\n",
    "\n",
    "create_table = pd.read_sql(statement, conn)\n",
    "create_table"
   ]
  },
  {
   "cell_type": "code",
   "execution_count": 193,
   "id": "83822cde-5e68-4f10-91d6-cbc6639eca29",
   "metadata": {
    "tags": []
   },
   "outputs": [
    {
     "data": {
      "text/html": [
       "<div>\n",
       "<style scoped>\n",
       "    .dataframe tbody tr th:only-of-type {\n",
       "        vertical-align: middle;\n",
       "    }\n",
       "\n",
       "    .dataframe tbody tr th {\n",
       "        vertical-align: top;\n",
       "    }\n",
       "\n",
       "    .dataframe thead th {\n",
       "        text-align: right;\n",
       "    }\n",
       "</style>\n",
       "<table border=\"1\" class=\"dataframe\">\n",
       "  <thead>\n",
       "    <tr style=\"text-align: right;\">\n",
       "      <th></th>\n",
       "      <th>tab_name</th>\n",
       "    </tr>\n",
       "  </thead>\n",
       "  <tbody>\n",
       "    <tr>\n",
       "      <th>0</th>\n",
       "      <td>gun_violence</td>\n",
       "    </tr>\n",
       "  </tbody>\n",
       "</table>\n",
       "</div>"
      ],
      "text/plain": [
       "       tab_name\n",
       "0  gun_violence"
      ]
     },
     "execution_count": 193,
     "metadata": {},
     "output_type": "execute_result"
    }
   ],
   "source": [
    "statement = \"SHOW TABLES in ads508\"\n",
    "tables = pd.read_sql(statement, conn)\n",
    "tables"
   ]
  },
  {
   "cell_type": "code",
   "execution_count": 194,
   "id": "2af401ce-8436-4e9a-9d9f-41f2f70e7e4d",
   "metadata": {
    "tags": []
   },
   "outputs": [
    {
     "data": {
      "text/html": [
       "<div>\n",
       "<style scoped>\n",
       "    .dataframe tbody tr th:only-of-type {\n",
       "        vertical-align: middle;\n",
       "    }\n",
       "\n",
       "    .dataframe tbody tr th {\n",
       "        vertical-align: top;\n",
       "    }\n",
       "\n",
       "    .dataframe thead th {\n",
       "        text-align: right;\n",
       "    }\n",
       "</style>\n",
       "<table border=\"1\" class=\"dataframe\">\n",
       "  <thead>\n",
       "    <tr style=\"text-align: right;\">\n",
       "      <th></th>\n",
       "      <th>incident_id</th>\n",
       "      <th>date</th>\n",
       "      <th>state</th>\n",
       "      <th>city_or_county</th>\n",
       "      <th>address</th>\n",
       "      <th>n_killed</th>\n",
       "      <th>n_injured</th>\n",
       "      <th>incident_url</th>\n",
       "      <th>source_url</th>\n",
       "      <th>incident_url_fields_missing</th>\n",
       "      <th>...</th>\n",
       "      <th>participant_age</th>\n",
       "      <th>participant_age_group</th>\n",
       "      <th>participant_gender</th>\n",
       "      <th>participant_name</th>\n",
       "      <th>participant_relationship</th>\n",
       "      <th>participant_status</th>\n",
       "      <th>participant_type</th>\n",
       "      <th>sources</th>\n",
       "      <th>state_house_district</th>\n",
       "      <th>state_senate_district</th>\n",
       "    </tr>\n",
       "  </thead>\n",
       "  <tbody>\n",
       "  </tbody>\n",
       "</table>\n",
       "<p>0 rows × 29 columns</p>\n",
       "</div>"
      ],
      "text/plain": [
       "Empty DataFrame\n",
       "Columns: [incident_id, date, state, city_or_county, address, n_killed, n_injured, incident_url, source_url, incident_url_fields_missing, congressional_district, gun_stolen, gun_type, incident_characteristics, latitude, location_description, longitude, n_guns_involved, notes, participant_age, participant_age_group, participant_gender, participant_name, participant_relationship, participant_status, participant_type, sources, state_house_district, state_senate_district]\n",
       "Index: []\n",
       "\n",
       "[0 rows x 29 columns]"
      ]
     },
     "execution_count": 194,
     "metadata": {},
     "output_type": "execute_result"
    }
   ],
   "source": [
    "statement = \"SELECT * from ads508.gun_violence LIMIT 100\"\n",
    "df = pd.read_sql(statement, conn)\n",
    "df.head(5)"
   ]
  },
  {
   "cell_type": "markdown",
   "id": "32bde790-e6c1-4733-926a-e51d69433d4a",
   "metadata": {},
   "source": [
    "# Insert Dataset into Pandas Dataframe"
   ]
  },
  {
   "cell_type": "code",
   "execution_count": 195,
   "id": "9f21490b-1c10-46b3-9ea0-5a46af541a98",
   "metadata": {},
   "outputs": [
    {
     "data": {
      "text/html": [
       "<div>\n",
       "<style scoped>\n",
       "    .dataframe tbody tr th:only-of-type {\n",
       "        vertical-align: middle;\n",
       "    }\n",
       "\n",
       "    .dataframe tbody tr th {\n",
       "        vertical-align: top;\n",
       "    }\n",
       "\n",
       "    .dataframe thead th {\n",
       "        text-align: right;\n",
       "    }\n",
       "</style>\n",
       "<table border=\"1\" class=\"dataframe\">\n",
       "  <thead>\n",
       "    <tr style=\"text-align: right;\">\n",
       "      <th></th>\n",
       "      <th>incident_id</th>\n",
       "      <th>date</th>\n",
       "      <th>state</th>\n",
       "      <th>city_or_county</th>\n",
       "      <th>address</th>\n",
       "      <th>n_killed</th>\n",
       "      <th>n_injured</th>\n",
       "      <th>incident_url</th>\n",
       "      <th>source_url</th>\n",
       "      <th>incident_url_fields_missing</th>\n",
       "      <th>...</th>\n",
       "      <th>participant_age</th>\n",
       "      <th>participant_age_group</th>\n",
       "      <th>participant_gender</th>\n",
       "      <th>participant_name</th>\n",
       "      <th>participant_relationship</th>\n",
       "      <th>participant_status</th>\n",
       "      <th>participant_type</th>\n",
       "      <th>sources</th>\n",
       "      <th>state_house_district</th>\n",
       "      <th>state_senate_district</th>\n",
       "    </tr>\n",
       "  </thead>\n",
       "  <tbody>\n",
       "    <tr>\n",
       "      <th>0</th>\n",
       "      <td>461105</td>\n",
       "      <td>2013-01-01</td>\n",
       "      <td>Pennsylvania</td>\n",
       "      <td>Mckeesport</td>\n",
       "      <td>1506 Versailles Avenue and Coursin Street</td>\n",
       "      <td>0</td>\n",
       "      <td>4</td>\n",
       "      <td>http://www.gunviolencearchive.org/incident/461105</td>\n",
       "      <td>http://www.post-gazette.com/local/south/2013/0...</td>\n",
       "      <td>False</td>\n",
       "      <td>...</td>\n",
       "      <td>0::20</td>\n",
       "      <td>0::Adult 18+||1::Adult 18+||2::Adult 18+||3::A...</td>\n",
       "      <td>0::Male||1::Male||3::Male||4::Female</td>\n",
       "      <td>0::Julian Sims</td>\n",
       "      <td>NaN</td>\n",
       "      <td>0::Arrested||1::Injured||2::Injured||3::Injure...</td>\n",
       "      <td>0::Victim||1::Victim||2::Victim||3::Victim||4:...</td>\n",
       "      <td>http://pittsburgh.cbslocal.com/2013/01/01/4-pe...</td>\n",
       "      <td>NaN</td>\n",
       "      <td>NaN</td>\n",
       "    </tr>\n",
       "    <tr>\n",
       "      <th>1</th>\n",
       "      <td>460726</td>\n",
       "      <td>2013-01-01</td>\n",
       "      <td>California</td>\n",
       "      <td>Hawthorne</td>\n",
       "      <td>13500 block of Cerise Avenue</td>\n",
       "      <td>1</td>\n",
       "      <td>3</td>\n",
       "      <td>http://www.gunviolencearchive.org/incident/460726</td>\n",
       "      <td>http://www.dailybulletin.com/article/zz/201301...</td>\n",
       "      <td>False</td>\n",
       "      <td>...</td>\n",
       "      <td>0::20</td>\n",
       "      <td>0::Adult 18+||1::Adult 18+||2::Adult 18+||3::A...</td>\n",
       "      <td>0::Male</td>\n",
       "      <td>0::Bernard Gillis</td>\n",
       "      <td>NaN</td>\n",
       "      <td>0::Killed||1::Injured||2::Injured||3::Injured</td>\n",
       "      <td>0::Victim||1::Victim||2::Victim||3::Victim||4:...</td>\n",
       "      <td>http://losangeles.cbslocal.com/2013/01/01/man-...</td>\n",
       "      <td>62.0</td>\n",
       "      <td>35.0</td>\n",
       "    </tr>\n",
       "    <tr>\n",
       "      <th>2</th>\n",
       "      <td>478855</td>\n",
       "      <td>2013-01-01</td>\n",
       "      <td>Ohio</td>\n",
       "      <td>Lorain</td>\n",
       "      <td>1776 East 28th Street</td>\n",
       "      <td>1</td>\n",
       "      <td>3</td>\n",
       "      <td>http://www.gunviolencearchive.org/incident/478855</td>\n",
       "      <td>http://chronicle.northcoastnow.com/2013/02/14/...</td>\n",
       "      <td>False</td>\n",
       "      <td>...</td>\n",
       "      <td>0::25||1::31||2::33||3::34||4::33</td>\n",
       "      <td>0::Adult 18+||1::Adult 18+||2::Adult 18+||3::A...</td>\n",
       "      <td>0::Male||1::Male||2::Male||3::Male||4::Male</td>\n",
       "      <td>0::Damien Bell||1::Desmen Noble||2::Herman Sea...</td>\n",
       "      <td>NaN</td>\n",
       "      <td>0::Injured, Unharmed, Arrested||1::Unharmed, A...</td>\n",
       "      <td>0::Subject-Suspect||1::Subject-Suspect||2::Vic...</td>\n",
       "      <td>http://www.morningjournal.com/general-news/201...</td>\n",
       "      <td>56.0</td>\n",
       "      <td>13.0</td>\n",
       "    </tr>\n",
       "    <tr>\n",
       "      <th>3</th>\n",
       "      <td>478925</td>\n",
       "      <td>2013-01-05</td>\n",
       "      <td>Colorado</td>\n",
       "      <td>Aurora</td>\n",
       "      <td>16000 block of East Ithaca Place</td>\n",
       "      <td>4</td>\n",
       "      <td>0</td>\n",
       "      <td>http://www.gunviolencearchive.org/incident/478925</td>\n",
       "      <td>http://www.dailydemocrat.com/20130106/aurora-s...</td>\n",
       "      <td>False</td>\n",
       "      <td>...</td>\n",
       "      <td>0::29||1::33||2::56||3::33</td>\n",
       "      <td>0::Adult 18+||1::Adult 18+||2::Adult 18+||3::A...</td>\n",
       "      <td>0::Female||1::Male||2::Male||3::Male</td>\n",
       "      <td>0::Stacie Philbrook||1::Christopher Ratliffe||...</td>\n",
       "      <td>NaN</td>\n",
       "      <td>0::Killed||1::Killed||2::Killed||3::Killed</td>\n",
       "      <td>0::Victim||1::Victim||2::Victim||3::Subject-Su...</td>\n",
       "      <td>http://denver.cbslocal.com/2013/01/06/officer-...</td>\n",
       "      <td>40.0</td>\n",
       "      <td>28.0</td>\n",
       "    </tr>\n",
       "    <tr>\n",
       "      <th>4</th>\n",
       "      <td>478959</td>\n",
       "      <td>2013-01-07</td>\n",
       "      <td>North Carolina</td>\n",
       "      <td>Greensboro</td>\n",
       "      <td>307 Mourning Dove Terrace</td>\n",
       "      <td>2</td>\n",
       "      <td>2</td>\n",
       "      <td>http://www.gunviolencearchive.org/incident/478959</td>\n",
       "      <td>http://www.journalnow.com/news/local/article_d...</td>\n",
       "      <td>False</td>\n",
       "      <td>...</td>\n",
       "      <td>0::18||1::46||2::14||3::47</td>\n",
       "      <td>0::Adult 18+||1::Adult 18+||2::Teen 12-17||3::...</td>\n",
       "      <td>0::Female||1::Male||2::Male||3::Female</td>\n",
       "      <td>0::Danielle Imani Jameison||1::Maurice Eugene ...</td>\n",
       "      <td>3::Family</td>\n",
       "      <td>0::Injured||1::Injured||2::Killed||3::Killed</td>\n",
       "      <td>0::Victim||1::Victim||2::Victim||3::Subject-Su...</td>\n",
       "      <td>http://myfox8.com/2013/01/08/update-mother-sho...</td>\n",
       "      <td>62.0</td>\n",
       "      <td>27.0</td>\n",
       "    </tr>\n",
       "  </tbody>\n",
       "</table>\n",
       "<p>5 rows × 29 columns</p>\n",
       "</div>"
      ],
      "text/plain": [
       "   incident_id        date           state city_or_county  \\\n",
       "0       461105  2013-01-01    Pennsylvania     Mckeesport   \n",
       "1       460726  2013-01-01      California      Hawthorne   \n",
       "2       478855  2013-01-01            Ohio         Lorain   \n",
       "3       478925  2013-01-05        Colorado         Aurora   \n",
       "4       478959  2013-01-07  North Carolina     Greensboro   \n",
       "\n",
       "                                     address  n_killed  n_injured  \\\n",
       "0  1506 Versailles Avenue and Coursin Street         0          4   \n",
       "1               13500 block of Cerise Avenue         1          3   \n",
       "2                      1776 East 28th Street         1          3   \n",
       "3           16000 block of East Ithaca Place         4          0   \n",
       "4                  307 Mourning Dove Terrace         2          2   \n",
       "\n",
       "                                        incident_url  \\\n",
       "0  http://www.gunviolencearchive.org/incident/461105   \n",
       "1  http://www.gunviolencearchive.org/incident/460726   \n",
       "2  http://www.gunviolencearchive.org/incident/478855   \n",
       "3  http://www.gunviolencearchive.org/incident/478925   \n",
       "4  http://www.gunviolencearchive.org/incident/478959   \n",
       "\n",
       "                                          source_url  \\\n",
       "0  http://www.post-gazette.com/local/south/2013/0...   \n",
       "1  http://www.dailybulletin.com/article/zz/201301...   \n",
       "2  http://chronicle.northcoastnow.com/2013/02/14/...   \n",
       "3  http://www.dailydemocrat.com/20130106/aurora-s...   \n",
       "4  http://www.journalnow.com/news/local/article_d...   \n",
       "\n",
       "   incident_url_fields_missing  ...                    participant_age  \\\n",
       "0                        False  ...                              0::20   \n",
       "1                        False  ...                              0::20   \n",
       "2                        False  ...  0::25||1::31||2::33||3::34||4::33   \n",
       "3                        False  ...         0::29||1::33||2::56||3::33   \n",
       "4                        False  ...         0::18||1::46||2::14||3::47   \n",
       "\n",
       "                               participant_age_group  \\\n",
       "0  0::Adult 18+||1::Adult 18+||2::Adult 18+||3::A...   \n",
       "1  0::Adult 18+||1::Adult 18+||2::Adult 18+||3::A...   \n",
       "2  0::Adult 18+||1::Adult 18+||2::Adult 18+||3::A...   \n",
       "3  0::Adult 18+||1::Adult 18+||2::Adult 18+||3::A...   \n",
       "4  0::Adult 18+||1::Adult 18+||2::Teen 12-17||3::...   \n",
       "\n",
       "                            participant_gender  \\\n",
       "0         0::Male||1::Male||3::Male||4::Female   \n",
       "1                                      0::Male   \n",
       "2  0::Male||1::Male||2::Male||3::Male||4::Male   \n",
       "3         0::Female||1::Male||2::Male||3::Male   \n",
       "4       0::Female||1::Male||2::Male||3::Female   \n",
       "\n",
       "                                    participant_name  \\\n",
       "0                                     0::Julian Sims   \n",
       "1                                  0::Bernard Gillis   \n",
       "2  0::Damien Bell||1::Desmen Noble||2::Herman Sea...   \n",
       "3  0::Stacie Philbrook||1::Christopher Ratliffe||...   \n",
       "4  0::Danielle Imani Jameison||1::Maurice Eugene ...   \n",
       "\n",
       "   participant_relationship  \\\n",
       "0                       NaN   \n",
       "1                       NaN   \n",
       "2                       NaN   \n",
       "3                       NaN   \n",
       "4                 3::Family   \n",
       "\n",
       "                                  participant_status  \\\n",
       "0  0::Arrested||1::Injured||2::Injured||3::Injure...   \n",
       "1      0::Killed||1::Injured||2::Injured||3::Injured   \n",
       "2  0::Injured, Unharmed, Arrested||1::Unharmed, A...   \n",
       "3         0::Killed||1::Killed||2::Killed||3::Killed   \n",
       "4       0::Injured||1::Injured||2::Killed||3::Killed   \n",
       "\n",
       "                                    participant_type  \\\n",
       "0  0::Victim||1::Victim||2::Victim||3::Victim||4:...   \n",
       "1  0::Victim||1::Victim||2::Victim||3::Victim||4:...   \n",
       "2  0::Subject-Suspect||1::Subject-Suspect||2::Vic...   \n",
       "3  0::Victim||1::Victim||2::Victim||3::Subject-Su...   \n",
       "4  0::Victim||1::Victim||2::Victim||3::Subject-Su...   \n",
       "\n",
       "                                             sources state_house_district  \\\n",
       "0  http://pittsburgh.cbslocal.com/2013/01/01/4-pe...                  NaN   \n",
       "1  http://losangeles.cbslocal.com/2013/01/01/man-...                 62.0   \n",
       "2  http://www.morningjournal.com/general-news/201...                 56.0   \n",
       "3  http://denver.cbslocal.com/2013/01/06/officer-...                 40.0   \n",
       "4  http://myfox8.com/2013/01/08/update-mother-sho...                 62.0   \n",
       "\n",
       "  state_senate_district  \n",
       "0                   NaN  \n",
       "1                  35.0  \n",
       "2                  13.0  \n",
       "3                  28.0  \n",
       "4                  27.0  \n",
       "\n",
       "[5 rows x 29 columns]"
      ]
     },
     "execution_count": 195,
     "metadata": {},
     "output_type": "execute_result"
    }
   ],
   "source": [
    "df = pd.read_csv(\"{}/gun_violence.csv\".format(s3_path))\n",
    "df.head()"
   ]
  },
  {
   "cell_type": "code",
   "execution_count": 196,
   "id": "56cc345c-13e3-44fd-827b-3377043ee0ce",
   "metadata": {
    "tags": []
   },
   "outputs": [
    {
     "name": "stdout",
     "output_type": "stream",
     "text": [
      "(239677, 29)\n"
     ]
    }
   ],
   "source": [
    "print(df.shape)"
   ]
  },
  {
   "cell_type": "code",
   "execution_count": 197,
   "id": "3b5d455c-c968-4f52-9a6c-6cb47dd631e9",
   "metadata": {
    "tags": []
   },
   "outputs": [
    {
     "data": {
      "text/plain": [
       "incident_id                      int64\n",
       "date                            object\n",
       "state                           object\n",
       "city_or_county                  object\n",
       "address                         object\n",
       "n_killed                         int64\n",
       "n_injured                        int64\n",
       "incident_url                    object\n",
       "source_url                      object\n",
       "incident_url_fields_missing       bool\n",
       "congressional_district         float64\n",
       "gun_stolen                      object\n",
       "gun_type                        object\n",
       "incident_characteristics        object\n",
       "latitude                       float64\n",
       "location_description            object\n",
       "longitude                      float64\n",
       "n_guns_involved                float64\n",
       "notes                           object\n",
       "participant_age                 object\n",
       "participant_age_group           object\n",
       "participant_gender              object\n",
       "participant_name                object\n",
       "participant_relationship        object\n",
       "participant_status              object\n",
       "participant_type                object\n",
       "sources                         object\n",
       "state_house_district           float64\n",
       "state_senate_district          float64\n",
       "dtype: object"
      ]
     },
     "execution_count": 197,
     "metadata": {},
     "output_type": "execute_result"
    }
   ],
   "source": [
    "df.dtypes"
   ]
  },
  {
   "cell_type": "markdown",
   "id": "a4f7aeb3-2e79-42c4-b65d-e50075aed404",
   "metadata": {},
   "source": [
    "### The dataset contains 239,677 rows and 29 attributes. "
   ]
  },
  {
   "cell_type": "markdown",
   "id": "dc21fc98-27f4-429d-ae4a-9d9b83d737e7",
   "metadata": {
    "tags": []
   },
   "source": [
    "# Data Overview"
   ]
  },
  {
   "cell_type": "markdown",
   "id": "d492bcdf-da57-4b82-be79-4ba8828765e3",
   "metadata": {},
   "source": [
    "## Show data types"
   ]
  },
  {
   "cell_type": "markdown",
   "id": "8ea3d85e-92d4-4be5-8a39-51596678a7fb",
   "metadata": {
    "tags": []
   },
   "source": [
    "## Show null counts"
   ]
  },
  {
   "cell_type": "code",
   "execution_count": 198,
   "id": "140825f5-6aa8-4431-8958-ec78aee2fd5a",
   "metadata": {
    "tags": []
   },
   "outputs": [
    {
     "data": {
      "text/plain": [
       "incident_id                         0\n",
       "date                                0\n",
       "state                               0\n",
       "city_or_county                      0\n",
       "address                         16497\n",
       "n_killed                            0\n",
       "n_injured                           0\n",
       "incident_url                        0\n",
       "source_url                        468\n",
       "incident_url_fields_missing         0\n",
       "congressional_district          11944\n",
       "gun_stolen                      99498\n",
       "gun_type                        99451\n",
       "incident_characteristics          326\n",
       "latitude                         7923\n",
       "location_description           197588\n",
       "longitude                        7923\n",
       "n_guns_involved                 99451\n",
       "notes                           81017\n",
       "participant_age                 92298\n",
       "participant_age_group           42119\n",
       "participant_gender              36362\n",
       "participant_name               122253\n",
       "participant_relationship       223903\n",
       "participant_status              27626\n",
       "participant_type                24863\n",
       "sources                           609\n",
       "state_house_district            38772\n",
       "state_senate_district           32335\n",
       "dtype: int64"
      ]
     },
     "execution_count": 198,
     "metadata": {},
     "output_type": "execute_result"
    }
   ],
   "source": [
    "df.isnull().sum()"
   ]
  },
  {
   "cell_type": "markdown",
   "id": "c275ac39-6678-4e35-85f3-9666a351892f",
   "metadata": {},
   "source": [
    "## Show percentage of null values"
   ]
  },
  {
   "cell_type": "code",
   "execution_count": 199,
   "id": "38f64773-b544-4ea1-a5b9-4a1132b6039b",
   "metadata": {
    "tags": []
   },
   "outputs": [
    {
     "data": {
      "text/plain": [
       "incident_id                     0.000000\n",
       "date                            0.000000\n",
       "state                           0.000000\n",
       "city_or_county                  0.000000\n",
       "address                         6.883013\n",
       "n_killed                        0.000000\n",
       "n_injured                       0.000000\n",
       "incident_url                    0.000000\n",
       "source_url                      0.195263\n",
       "incident_url_fields_missing     0.000000\n",
       "congressional_district          4.983373\n",
       "gun_stolen                     41.513370\n",
       "gun_type                       41.493760\n",
       "incident_characteristics        0.136016\n",
       "latitude                        3.305699\n",
       "location_description           82.439283\n",
       "longitude                       3.305699\n",
       "n_guns_involved                41.493760\n",
       "notes                          33.802576\n",
       "participant_age                38.509327\n",
       "participant_age_group          17.573234\n",
       "participant_gender             15.171251\n",
       "participant_name               51.007397\n",
       "participant_relationship       93.418643\n",
       "participant_status             11.526346\n",
       "participant_type               10.373544\n",
       "sources                         0.254092\n",
       "state_house_district           16.176771\n",
       "state_senate_district          13.491073\n",
       "dtype: float64"
      ]
     },
     "execution_count": 199,
     "metadata": {},
     "output_type": "execute_result"
    }
   ],
   "source": [
    "100*(df.isnull().sum())/len(df.index)"
   ]
  },
  {
   "cell_type": "markdown",
   "id": "d4b99bf7-b277-402e-b2d6-ffce33751696",
   "metadata": {},
   "source": [
    "## Describe all numeric variables"
   ]
  },
  {
   "cell_type": "code",
   "execution_count": 200,
   "id": "62ee0b53-e078-466a-bb90-e642f4f00627",
   "metadata": {
    "tags": []
   },
   "outputs": [
    {
     "data": {
      "text/html": [
       "<div>\n",
       "<style scoped>\n",
       "    .dataframe tbody tr th:only-of-type {\n",
       "        vertical-align: middle;\n",
       "    }\n",
       "\n",
       "    .dataframe tbody tr th {\n",
       "        vertical-align: top;\n",
       "    }\n",
       "\n",
       "    .dataframe thead th {\n",
       "        text-align: right;\n",
       "    }\n",
       "</style>\n",
       "<table border=\"1\" class=\"dataframe\">\n",
       "  <thead>\n",
       "    <tr style=\"text-align: right;\">\n",
       "      <th></th>\n",
       "      <th>incident_id</th>\n",
       "      <th>n_killed</th>\n",
       "      <th>n_injured</th>\n",
       "      <th>congressional_district</th>\n",
       "      <th>latitude</th>\n",
       "      <th>longitude</th>\n",
       "      <th>n_guns_involved</th>\n",
       "      <th>state_house_district</th>\n",
       "      <th>state_senate_district</th>\n",
       "    </tr>\n",
       "  </thead>\n",
       "  <tbody>\n",
       "    <tr>\n",
       "      <th>count</th>\n",
       "      <td>2.396770e+05</td>\n",
       "      <td>239677.000000</td>\n",
       "      <td>239677.000000</td>\n",
       "      <td>227733.000000</td>\n",
       "      <td>231754.000000</td>\n",
       "      <td>231754.000000</td>\n",
       "      <td>140226.000000</td>\n",
       "      <td>200905.000000</td>\n",
       "      <td>207342.00000</td>\n",
       "    </tr>\n",
       "    <tr>\n",
       "      <th>mean</th>\n",
       "      <td>5.593343e+05</td>\n",
       "      <td>0.252290</td>\n",
       "      <td>0.494007</td>\n",
       "      <td>8.001265</td>\n",
       "      <td>37.546598</td>\n",
       "      <td>-89.338348</td>\n",
       "      <td>1.372442</td>\n",
       "      <td>55.447132</td>\n",
       "      <td>20.47711</td>\n",
       "    </tr>\n",
       "    <tr>\n",
       "      <th>std</th>\n",
       "      <td>2.931287e+05</td>\n",
       "      <td>0.521779</td>\n",
       "      <td>0.729952</td>\n",
       "      <td>8.480835</td>\n",
       "      <td>5.130763</td>\n",
       "      <td>14.359546</td>\n",
       "      <td>4.678202</td>\n",
       "      <td>42.048117</td>\n",
       "      <td>14.20456</td>\n",
       "    </tr>\n",
       "    <tr>\n",
       "      <th>min</th>\n",
       "      <td>9.211400e+04</td>\n",
       "      <td>0.000000</td>\n",
       "      <td>0.000000</td>\n",
       "      <td>0.000000</td>\n",
       "      <td>19.111400</td>\n",
       "      <td>-171.429000</td>\n",
       "      <td>1.000000</td>\n",
       "      <td>1.000000</td>\n",
       "      <td>1.00000</td>\n",
       "    </tr>\n",
       "    <tr>\n",
       "      <th>25%</th>\n",
       "      <td>3.085450e+05</td>\n",
       "      <td>0.000000</td>\n",
       "      <td>0.000000</td>\n",
       "      <td>2.000000</td>\n",
       "      <td>33.903400</td>\n",
       "      <td>-94.158725</td>\n",
       "      <td>1.000000</td>\n",
       "      <td>21.000000</td>\n",
       "      <td>9.00000</td>\n",
       "    </tr>\n",
       "    <tr>\n",
       "      <th>50%</th>\n",
       "      <td>5.435870e+05</td>\n",
       "      <td>0.000000</td>\n",
       "      <td>0.000000</td>\n",
       "      <td>5.000000</td>\n",
       "      <td>38.570600</td>\n",
       "      <td>-86.249600</td>\n",
       "      <td>1.000000</td>\n",
       "      <td>47.000000</td>\n",
       "      <td>19.00000</td>\n",
       "    </tr>\n",
       "    <tr>\n",
       "      <th>75%</th>\n",
       "      <td>8.172280e+05</td>\n",
       "      <td>0.000000</td>\n",
       "      <td>1.000000</td>\n",
       "      <td>10.000000</td>\n",
       "      <td>41.437375</td>\n",
       "      <td>-80.048625</td>\n",
       "      <td>1.000000</td>\n",
       "      <td>84.000000</td>\n",
       "      <td>30.00000</td>\n",
       "    </tr>\n",
       "    <tr>\n",
       "      <th>max</th>\n",
       "      <td>1.083472e+06</td>\n",
       "      <td>50.000000</td>\n",
       "      <td>53.000000</td>\n",
       "      <td>53.000000</td>\n",
       "      <td>71.336800</td>\n",
       "      <td>97.433100</td>\n",
       "      <td>400.000000</td>\n",
       "      <td>901.000000</td>\n",
       "      <td>94.00000</td>\n",
       "    </tr>\n",
       "  </tbody>\n",
       "</table>\n",
       "</div>"
      ],
      "text/plain": [
       "        incident_id       n_killed      n_injured  congressional_district  \\\n",
       "count  2.396770e+05  239677.000000  239677.000000           227733.000000   \n",
       "mean   5.593343e+05       0.252290       0.494007                8.001265   \n",
       "std    2.931287e+05       0.521779       0.729952                8.480835   \n",
       "min    9.211400e+04       0.000000       0.000000                0.000000   \n",
       "25%    3.085450e+05       0.000000       0.000000                2.000000   \n",
       "50%    5.435870e+05       0.000000       0.000000                5.000000   \n",
       "75%    8.172280e+05       0.000000       1.000000               10.000000   \n",
       "max    1.083472e+06      50.000000      53.000000               53.000000   \n",
       "\n",
       "            latitude      longitude  n_guns_involved  state_house_district  \\\n",
       "count  231754.000000  231754.000000    140226.000000         200905.000000   \n",
       "mean       37.546598     -89.338348         1.372442             55.447132   \n",
       "std         5.130763      14.359546         4.678202             42.048117   \n",
       "min        19.111400    -171.429000         1.000000              1.000000   \n",
       "25%        33.903400     -94.158725         1.000000             21.000000   \n",
       "50%        38.570600     -86.249600         1.000000             47.000000   \n",
       "75%        41.437375     -80.048625         1.000000             84.000000   \n",
       "max        71.336800      97.433100       400.000000            901.000000   \n",
       "\n",
       "       state_senate_district  \n",
       "count           207342.00000  \n",
       "mean                20.47711  \n",
       "std                 14.20456  \n",
       "min                  1.00000  \n",
       "25%                  9.00000  \n",
       "50%                 19.00000  \n",
       "75%                 30.00000  \n",
       "max                 94.00000  "
      ]
     },
     "execution_count": 200,
     "metadata": {},
     "output_type": "execute_result"
    }
   ],
   "source": [
    "df.describe()"
   ]
  },
  {
   "cell_type": "markdown",
   "id": "91b7478b-ebbf-458c-b74b-97b7ecf58acd",
   "metadata": {},
   "source": [
    "## Describe all string variables"
   ]
  },
  {
   "cell_type": "code",
   "execution_count": 201,
   "id": "98874f16-2273-466a-a835-bd76c9999a8b",
   "metadata": {
    "tags": []
   },
   "outputs": [
    {
     "data": {
      "text/html": [
       "<div>\n",
       "<style scoped>\n",
       "    .dataframe tbody tr th:only-of-type {\n",
       "        vertical-align: middle;\n",
       "    }\n",
       "\n",
       "    .dataframe tbody tr th {\n",
       "        vertical-align: top;\n",
       "    }\n",
       "\n",
       "    .dataframe thead th {\n",
       "        text-align: right;\n",
       "    }\n",
       "</style>\n",
       "<table border=\"1\" class=\"dataframe\">\n",
       "  <thead>\n",
       "    <tr style=\"text-align: right;\">\n",
       "      <th></th>\n",
       "      <th>date</th>\n",
       "      <th>state</th>\n",
       "      <th>city_or_county</th>\n",
       "      <th>address</th>\n",
       "      <th>incident_url</th>\n",
       "      <th>source_url</th>\n",
       "      <th>gun_stolen</th>\n",
       "      <th>gun_type</th>\n",
       "      <th>incident_characteristics</th>\n",
       "      <th>location_description</th>\n",
       "      <th>notes</th>\n",
       "      <th>participant_age</th>\n",
       "      <th>participant_age_group</th>\n",
       "      <th>participant_gender</th>\n",
       "      <th>participant_name</th>\n",
       "      <th>participant_relationship</th>\n",
       "      <th>participant_status</th>\n",
       "      <th>participant_type</th>\n",
       "      <th>sources</th>\n",
       "    </tr>\n",
       "  </thead>\n",
       "  <tbody>\n",
       "    <tr>\n",
       "      <th>count</th>\n",
       "      <td>239677</td>\n",
       "      <td>239677</td>\n",
       "      <td>239677</td>\n",
       "      <td>223180</td>\n",
       "      <td>239677</td>\n",
       "      <td>239209</td>\n",
       "      <td>140179</td>\n",
       "      <td>140226</td>\n",
       "      <td>239351</td>\n",
       "      <td>42089</td>\n",
       "      <td>158660</td>\n",
       "      <td>147379</td>\n",
       "      <td>197558</td>\n",
       "      <td>203315</td>\n",
       "      <td>117424</td>\n",
       "      <td>15774</td>\n",
       "      <td>212051</td>\n",
       "      <td>214814</td>\n",
       "      <td>239068</td>\n",
       "    </tr>\n",
       "    <tr>\n",
       "      <th>unique</th>\n",
       "      <td>1725</td>\n",
       "      <td>51</td>\n",
       "      <td>12898</td>\n",
       "      <td>198037</td>\n",
       "      <td>239677</td>\n",
       "      <td>213989</td>\n",
       "      <td>349</td>\n",
       "      <td>2502</td>\n",
       "      <td>18126</td>\n",
       "      <td>27595</td>\n",
       "      <td>136652</td>\n",
       "      <td>18951</td>\n",
       "      <td>898</td>\n",
       "      <td>873</td>\n",
       "      <td>113488</td>\n",
       "      <td>284</td>\n",
       "      <td>2150</td>\n",
       "      <td>259</td>\n",
       "      <td>217280</td>\n",
       "    </tr>\n",
       "    <tr>\n",
       "      <th>top</th>\n",
       "      <td>2017-01-01</td>\n",
       "      <td>Illinois</td>\n",
       "      <td>Chicago</td>\n",
       "      <td>2375 International Pkwy</td>\n",
       "      <td>http://www.gunviolencearchive.org/incident/461105</td>\n",
       "      <td>http://blog.tsa.gov</td>\n",
       "      <td>0::Unknown</td>\n",
       "      <td>0::Unknown</td>\n",
       "      <td>Shot - Wounded/Injured</td>\n",
       "      <td>Austin</td>\n",
       "      <td>man shot</td>\n",
       "      <td>0::24</td>\n",
       "      <td>0::Adult 18+</td>\n",
       "      <td>0::Male</td>\n",
       "      <td>0::Officer</td>\n",
       "      <td>1::Significant others - current or former</td>\n",
       "      <td>0::Injured</td>\n",
       "      <td>0::Victim</td>\n",
       "      <td>http://blog.tsa.gov</td>\n",
       "    </tr>\n",
       "    <tr>\n",
       "      <th>freq</th>\n",
       "      <td>342</td>\n",
       "      <td>17556</td>\n",
       "      <td>10814</td>\n",
       "      <td>160</td>\n",
       "      <td>1</td>\n",
       "      <td>1092</td>\n",
       "      <td>121310</td>\n",
       "      <td>93559</td>\n",
       "      <td>47541</td>\n",
       "      <td>240</td>\n",
       "      <td>501</td>\n",
       "      <td>3814</td>\n",
       "      <td>94671</td>\n",
       "      <td>93496</td>\n",
       "      <td>144</td>\n",
       "      <td>2651</td>\n",
       "      <td>42293</td>\n",
       "      <td>58564</td>\n",
       "      <td>1092</td>\n",
       "    </tr>\n",
       "  </tbody>\n",
       "</table>\n",
       "</div>"
      ],
      "text/plain": [
       "              date     state city_or_county                  address  \\\n",
       "count       239677    239677         239677                   223180   \n",
       "unique        1725        51          12898                   198037   \n",
       "top     2017-01-01  Illinois        Chicago  2375 International Pkwy   \n",
       "freq           342     17556          10814                      160   \n",
       "\n",
       "                                             incident_url  \\\n",
       "count                                              239677   \n",
       "unique                                             239677   \n",
       "top     http://www.gunviolencearchive.org/incident/461105   \n",
       "freq                                                    1   \n",
       "\n",
       "                 source_url  gun_stolen    gun_type incident_characteristics  \\\n",
       "count                239209      140179      140226                   239351   \n",
       "unique               213989         349        2502                    18126   \n",
       "top     http://blog.tsa.gov  0::Unknown  0::Unknown   Shot - Wounded/Injured   \n",
       "freq                   1092      121310       93559                    47541   \n",
       "\n",
       "       location_description     notes participant_age participant_age_group  \\\n",
       "count                 42089    158660          147379                197558   \n",
       "unique                27595    136652           18951                   898   \n",
       "top                  Austin  man shot           0::24          0::Adult 18+   \n",
       "freq                    240       501            3814                 94671   \n",
       "\n",
       "       participant_gender participant_name  \\\n",
       "count              203315           117424   \n",
       "unique                873           113488   \n",
       "top               0::Male       0::Officer   \n",
       "freq                93496              144   \n",
       "\n",
       "                         participant_relationship participant_status  \\\n",
       "count                                       15774             212051   \n",
       "unique                                        284               2150   \n",
       "top     1::Significant others - current or former         0::Injured   \n",
       "freq                                         2651              42293   \n",
       "\n",
       "       participant_type              sources  \n",
       "count            214814               239068  \n",
       "unique              259               217280  \n",
       "top           0::Victim  http://blog.tsa.gov  \n",
       "freq              58564                 1092  "
      ]
     },
     "execution_count": 201,
     "metadata": {},
     "output_type": "execute_result"
    }
   ],
   "source": [
    "df.describe(include=[object])"
   ]
  },
  {
   "cell_type": "markdown",
   "id": "f0f60468-43a1-42f3-9053-96bd7af629ae",
   "metadata": {
    "tags": []
   },
   "source": [
    "## Check for duplicates in the DataFrame"
   ]
  },
  {
   "cell_type": "code",
   "execution_count": 202,
   "id": "f968e08c-9632-4dc7-9914-cc785eff7ed4",
   "metadata": {
    "tags": []
   },
   "outputs": [
    {
     "name": "stdout",
     "output_type": "stream",
     "text": [
      "Duplicate Rows Per Column : \n",
      "incident_id                    0\n",
      "date                           0\n",
      "state                          0\n",
      "city_or_county                 0\n",
      "address                        0\n",
      "n_killed                       0\n",
      "n_injured                      0\n",
      "incident_url                   0\n",
      "source_url                     0\n",
      "incident_url_fields_missing    0\n",
      "congressional_district         0\n",
      "gun_stolen                     0\n",
      "gun_type                       0\n",
      "incident_characteristics       0\n",
      "latitude                       0\n",
      "location_description           0\n",
      "longitude                      0\n",
      "n_guns_involved                0\n",
      "notes                          0\n",
      "participant_age                0\n",
      "participant_age_group          0\n",
      "participant_gender             0\n",
      "participant_name               0\n",
      "participant_relationship       0\n",
      "participant_status             0\n",
      "participant_type               0\n",
      "sources                        0\n",
      "state_house_district           0\n",
      "state_senate_district          0\n",
      "dtype: int64\n"
     ]
    }
   ],
   "source": [
    "duplicate_rows = df[df.duplicated()].count()\n",
    "\n",
    "# print duplicate rows\n",
    "print(\"Duplicate Rows Per Column : \")\n",
    "print(duplicate_rows)"
   ]
  },
  {
   "cell_type": "markdown",
   "id": "8a0d31da-16b5-440b-b308-ca27999f347d",
   "metadata": {},
   "source": [
    "## Impute Values for State and Senate Districts based on city and state names and save it to the CSV so that the operation only needs to be done once."
   ]
  },
  {
   "cell_type": "code",
   "execution_count": 203,
   "id": "1517d1a6-645c-4918-8060-5c46d729a79c",
   "metadata": {
    "tags": []
   },
   "outputs": [
    {
     "name": "stdout",
     "output_type": "stream",
     "text": [
      "   incident_id        date           state city_or_county  \\\n",
      "0       461105  2013-01-01    Pennsylvania     Mckeesport   \n",
      "1       460726  2013-01-01      California      Hawthorne   \n",
      "2       478855  2013-01-01            Ohio         Lorain   \n",
      "3       478925  2013-01-05        Colorado         Aurora   \n",
      "4       478959  2013-01-07  North Carolina     Greensboro   \n",
      "\n",
      "                                     address  n_killed  n_injured  \\\n",
      "0  1506 Versailles Avenue and Coursin Street         0          4   \n",
      "1               13500 block of Cerise Avenue         1          3   \n",
      "2                      1776 East 28th Street         1          3   \n",
      "3           16000 block of East Ithaca Place         4          0   \n",
      "4                  307 Mourning Dove Terrace         2          2   \n",
      "\n",
      "                                        incident_url  \\\n",
      "0  http://www.gunviolencearchive.org/incident/461105   \n",
      "1  http://www.gunviolencearchive.org/incident/460726   \n",
      "2  http://www.gunviolencearchive.org/incident/478855   \n",
      "3  http://www.gunviolencearchive.org/incident/478925   \n",
      "4  http://www.gunviolencearchive.org/incident/478959   \n",
      "\n",
      "                                          source_url  \\\n",
      "0  http://www.post-gazette.com/local/south/2013/0...   \n",
      "1  http://www.dailybulletin.com/article/zz/201301...   \n",
      "2  http://chronicle.northcoastnow.com/2013/02/14/...   \n",
      "3  http://www.dailydemocrat.com/20130106/aurora-s...   \n",
      "4  http://www.journalnow.com/news/local/article_d...   \n",
      "\n",
      "   incident_url_fields_missing  ...  \\\n",
      "0                        False  ...   \n",
      "1                        False  ...   \n",
      "2                        False  ...   \n",
      "3                        False  ...   \n",
      "4                        False  ...   \n",
      "\n",
      "                               participant_age_group  \\\n",
      "0  0::Adult 18+||1::Adult 18+||2::Adult 18+||3::A...   \n",
      "1  0::Adult 18+||1::Adult 18+||2::Adult 18+||3::A...   \n",
      "2  0::Adult 18+||1::Adult 18+||2::Adult 18+||3::A...   \n",
      "3  0::Adult 18+||1::Adult 18+||2::Adult 18+||3::A...   \n",
      "4  0::Adult 18+||1::Adult 18+||2::Teen 12-17||3::...   \n",
      "\n",
      "                            participant_gender  \\\n",
      "0         0::Male||1::Male||3::Male||4::Female   \n",
      "1                                      0::Male   \n",
      "2  0::Male||1::Male||2::Male||3::Male||4::Male   \n",
      "3         0::Female||1::Male||2::Male||3::Male   \n",
      "4       0::Female||1::Male||2::Male||3::Female   \n",
      "\n",
      "                                    participant_name participant_relationship  \\\n",
      "0                                     0::Julian Sims                      NaN   \n",
      "1                                  0::Bernard Gillis                      NaN   \n",
      "2  0::Damien Bell||1::Desmen Noble||2::Herman Sea...                      NaN   \n",
      "3  0::Stacie Philbrook||1::Christopher Ratliffe||...                      NaN   \n",
      "4  0::Danielle Imani Jameison||1::Maurice Eugene ...                3::Family   \n",
      "\n",
      "                                  participant_status  \\\n",
      "0  0::Arrested||1::Injured||2::Injured||3::Injure...   \n",
      "1      0::Killed||1::Injured||2::Injured||3::Injured   \n",
      "2  0::Injured, Unharmed, Arrested||1::Unharmed, A...   \n",
      "3         0::Killed||1::Killed||2::Killed||3::Killed   \n",
      "4       0::Injured||1::Injured||2::Killed||3::Killed   \n",
      "\n",
      "                                    participant_type  \\\n",
      "0  0::Victim||1::Victim||2::Victim||3::Victim||4:...   \n",
      "1  0::Victim||1::Victim||2::Victim||3::Victim||4:...   \n",
      "2  0::Subject-Suspect||1::Subject-Suspect||2::Vic...   \n",
      "3  0::Victim||1::Victim||2::Victim||3::Subject-Su...   \n",
      "4  0::Victim||1::Victim||2::Victim||3::Subject-Su...   \n",
      "\n",
      "                                             sources  state_house_district  \\\n",
      "0  http://pittsburgh.cbslocal.com/2013/01/01/4-pe...                  35.0   \n",
      "1  http://losangeles.cbslocal.com/2013/01/01/man-...                  62.0   \n",
      "2  http://www.morningjournal.com/general-news/201...                  56.0   \n",
      "3  http://denver.cbslocal.com/2013/01/06/officer-...                  40.0   \n",
      "4  http://myfox8.com/2013/01/08/update-mother-sho...                  62.0   \n",
      "\n",
      "  state_senate_district           city_state_concat  \n",
      "0                  45.0    Mckeesport, Pennsylvania  \n",
      "1                  35.0       Hawthorne, California  \n",
      "2                  13.0                Lorain, Ohio  \n",
      "3                  28.0            Aurora, Colorado  \n",
      "4                  27.0  Greensboro, North Carolina  \n",
      "\n",
      "[5 rows x 30 columns]\n"
     ]
    }
   ],
   "source": [
    "df['city_state_concat'] = df['city_or_county'] + ', ' + df['state'].astype(str)\n",
    "\n",
    "# Group the DataFrame by city_state_concat and filter for NaN values in state_house_district and state_senate_district\n",
    "nan_districts_df = df.groupby('city_state_concat').filter(lambda x: x['state_house_district'].isna().any() or x['state_senate_district'].isna().any())\n",
    "nan_districts_df = nan_districts_df[(nan_districts_df['state_house_district'].isna()) | (nan_districts_df['state_senate_district'].isna())]\n",
    "\n",
    "unique_cities_and_states = (nan_districts_df['city_state_concat'].unique())\n",
    "unique_cities_and_states\n",
    "\n",
    "for cities in unique_cities_and_states:\n",
    "     \n",
    "    # filter the data to only include rows for the selected city and state\n",
    "    city_data = df[(df['city_state_concat'] == cities)]\n",
    "\n",
    "    # get the non-null values for state_house_district and state_senate_district\n",
    "    house_district_values = city_data['state_house_district'].dropna()\n",
    "    senate_district_values = city_data['state_senate_district'].dropna()\n",
    "\n",
    "    # impute missing values using the median of the non-null values\n",
    "    df.loc[(df['city_state_concat'] == cities) & (df['state_house_district'].isnull()), \n",
    "           'state_house_district'] = house_district_values.median()\n",
    "    df.loc[(df['city_state_concat'] == cities) & (df['state_senate_district'].isnull()), \n",
    "           'state_senate_district'] = senate_district_values.median()\n",
    "\n",
    "# Drop rows where state_house_district is still blank after the for loop\n",
    "# This would mean that the city does not have any rows with a value for \n",
    "# state_house_district or does not have rows with a value for state_senate_district.\n",
    "df = df.dropna(subset=['state_house_district'])\n",
    "df = df.dropna(subset=['state_senate_district'])\n",
    "\n",
    "print(df.head())"
   ]
  },
  {
   "cell_type": "code",
   "execution_count": 204,
   "id": "1aacc7d8-29fc-4dea-b0ca-f585b7028af0",
   "metadata": {
    "tags": []
   },
   "outputs": [],
   "source": [
    "# Save the updated DataFrame to a new CSV file\n",
    "df.to_csv(\"{}/gun_violence.csv\".format(s3_path), index=False)"
   ]
  },
  {
   "cell_type": "markdown",
   "id": "206ff36e-ef19-47aa-b115-79e361e144fb",
   "metadata": {},
   "source": [
    "# Analysis by Location"
   ]
  },
  {
   "cell_type": "code",
   "execution_count": null,
   "id": "4bddd9e0-8eaf-4434-9c60-4abaefe85faa",
   "metadata": {
    "tags": []
   },
   "outputs": [],
   "source": [
    "statement=\"SELECT state, count(*) as incident_count from ads508.gun_violence GROUP BY state ORDER BY count(*) DESC\"\n",
    "gb_state=pd.read_sql(statement, conn)\n",
    "gb_state.head(16)"
   ]
  },
  {
   "cell_type": "code",
   "execution_count": null,
   "id": "96e2d290-3433-449c-8a7d-b6755323edfb",
   "metadata": {
    "tags": []
   },
   "outputs": [],
   "source": [
    "statement=\"SELECT state,city_or_county,count(*) as incident_count from ads508.gun_violence GROUP BY state, city_or_county ORDER BY count(*) DESC\"\n",
    "gb_city=pd.read_sql(statement, conn)\n",
    "gb_city.head(16)"
   ]
  },
  {
   "cell_type": "code",
   "execution_count": null,
   "id": "2456a39a-4933-4877-999c-5562dcb4baa3",
   "metadata": {
    "tags": []
   },
   "outputs": [],
   "source": [
    "statement=\"SELECT state,city_or_county,congressional_district, count(*) as incident_count from ads508.gun_violence GROUP BY state, city_or_county, congressional_district ORDER BY count(*) DESC\"\n",
    "gb_cong=pd.read_sql(statement, conn)\n",
    "gb_cong.head(16)"
   ]
  },
  {
   "cell_type": "markdown",
   "id": "2073bcf7-6dbf-4e3e-901c-b5f9338330fa",
   "metadata": {
    "tags": []
   },
   "source": [
    "## Use GeoPandas to map all gun violence incidents"
   ]
  },
  {
   "cell_type": "code",
   "execution_count": null,
   "id": "d600198c-fdab-42a5-acce-5041ffa30bc9",
   "metadata": {
    "tags": []
   },
   "outputs": [],
   "source": [
    "countries = gpd.read_file(gpd.datasets.get_path(\"naturalearth_lowres\"))\n",
    "countries.head()"
   ]
  },
  {
   "cell_type": "code",
   "execution_count": null,
   "id": "d2e075aa-6f92-4be8-ad98-0a418e491ce7",
   "metadata": {
    "tags": []
   },
   "outputs": [],
   "source": [
    "# wrap df w/ a GeoDataFrame by creating a geometry attribute\n",
    "df_geo = GeoDataFrame(df, geometry=points_from_xy(df.longitude, df.latitude))\n",
    "df_geo.head()"
   ]
  },
  {
   "cell_type": "code",
   "execution_count": null,
   "id": "a7d62eb8-3aad-499c-bf21-4a2b50784dce",
   "metadata": {
    "tags": []
   },
   "outputs": [],
   "source": [
    "from matplotlib.pyplot import figure\n",
    "\n",
    "united_states = GeoDataFrame.from_file('state_shapefiles/')\n",
    "#north_america.plot(color='lightgrey')\n",
    "\n",
    "axes = united_states.plot(color='lightgrey', edgecolor='white')\n",
    "axes.scatter(x=df['longitude'], y=df['latitude'], s=.03*(gb_city['incident_count']), edgecolors='black')\n",
    "plt.xlim(xmin=-180,xmax=-65)\n",
    "plt.show()"
   ]
  },
  {
   "cell_type": "markdown",
   "id": "8c971607-ed6c-4722-9335-33df5b3da630",
   "metadata": {
    "tags": []
   },
   "source": [
    "## Zoom into continental US"
   ]
  },
  {
   "cell_type": "code",
   "execution_count": null,
   "id": "611c5eb8-dc80-4e56-abe6-d3f592b01dad",
   "metadata": {
    "tags": []
   },
   "outputs": [],
   "source": [
    "united_states = GeoDataFrame.from_file('state_shapefiles/')\n",
    "#north_america.plot(color='lightgrey')\n",
    "axes = united_states.plot(color='lightgrey',edgecolor='white')\n",
    "axes.scatter(x=df['longitude'], y=df['latitude'], s=.03*(gb_city['incident_count']), edgecolors='black')\n",
    "plt.xlim(xmin=-130,xmax=-65)\n",
    "plt.ylim(ymin=23, ymax=50)\n",
    "plt.show()"
   ]
  },
  {
   "cell_type": "code",
   "execution_count": null,
   "id": "6982a75b-2ec3-4e5d-a8fb-384c5efc9bf9",
   "metadata": {
    "tags": []
   },
   "outputs": [],
   "source": [
    "#mapped by congressional districts\n",
    "\n",
    "united_states = GeoDataFrame.from_file('congressional_district_shapefiles/')\n",
    "#north_america.plot(color='lightgrey')\n",
    "axes = united_states.plot(color='lightgrey',edgecolor='white')\n",
    "axes.scatter(x=df['longitude'], y=df['latitude'], s=.03*(gb_cong['incident_count']), edgecolors='black')\n",
    "plt.xlim(xmin=-130,xmax=-65)\n",
    "plt.ylim(ymin=23, ymax=50)\n",
    "plt.show()"
   ]
  },
  {
   "cell_type": "code",
   "execution_count": null,
   "id": "3ee9052c-7dd4-4297-a2b5-ce128543fae8",
   "metadata": {
    "tags": []
   },
   "outputs": [],
   "source": [
    "### Parse gun_type column and display histogram of gun type frequency"
   ]
  },
  {
   "cell_type": "code",
   "execution_count": null,
   "id": "41873938-c274-442f-a7d8-a95ff1fef9a4",
   "metadata": {
    "tags": []
   },
   "outputs": [],
   "source": [
    "###############\n",
    "# Gun Type\n",
    "###############\n",
    "import re\n",
    "import math\n",
    "\n",
    "guns_list = []\n",
    "\n",
    "for item in df['gun_type']:\n",
    "\n",
    "    if type(item) == float and math.isnan(item):\n",
    "        continue\n",
    "\n",
    "    gun = re.findall(\"\\d*::\\d* (?P<gun>\\w*)\", item)\n",
    "\n",
    "    if len(gun) == 0:\n",
    "        gun = re.findall(\"\\d*::(?P<gun>\\w*)\", item)\n",
    "\n",
    "    guns_list.extend(gun)\n",
    "\n",
    "# print(guns_list)\n",
    "\n",
    "plt.xticks(rotation=\"vertical\")\n",
    "plt.hist(guns_list)\n",
    "plt.show()"
   ]
  },
  {
   "cell_type": "code",
   "execution_count": null,
   "id": "f225c3c3-c6f3-47f1-8a22-7db59f6cbe8a",
   "metadata": {
    "tags": []
   },
   "outputs": [],
   "source": [
    "df_no_nans = df_geo.dropna(subset=['state_house_district'])\n",
    "\n",
    "# Concatenate the state and state_house_district columns\n",
    "df_no_nans['state_house_district'] = df_no_nans['state'] + ' - ' + df_no_nans['state_house_district'].astype(str)\n",
    "\n",
    "# Get the top 10 state_districts by count\n",
    "top10_districts = df_no_nans['state_house_district'].value_counts().nlargest(10)\n",
    "\n",
    "# Plot the top 10 state_districts using a bar chart\n",
    "top10_districts.plot(kind='bar')\n",
    "\n",
    "# Add labels to the plot\n",
    "plt.title('Top 10 State House by Count')\n",
    "plt.xlabel('State House District')\n",
    "plt.ylabel('Count')\n",
    "\n",
    "# Show the plot\n",
    "plt.show()"
   ]
  },
  {
   "cell_type": "code",
   "execution_count": null,
   "id": "de78f282-8a75-4883-aef1-f3865a513627",
   "metadata": {
    "tags": []
   },
   "outputs": [],
   "source": [
    "df_no_nans = df_geo.dropna(subset=['state_senate_district'])\n",
    "\n",
    "# Concatenate the state and state_house_district columns\n",
    "df_no_nans['state_senate_district'] = df_no_nans['state'] + ' - ' + df_no_nans['state_senate_district'].astype(str)\n",
    "\n",
    "# Get the top 10 state_districts by count\n",
    "top10_districts = df_no_nans['state_senate_district'].value_counts().nlargest(10)\n",
    "\n",
    "# Plot the top 10 state_districts using a bar chart\n",
    "top10_districts.plot(kind='bar')\n",
    "\n",
    "# Add labels to the plot\n",
    "plt.title('Top 10 State Senate by Count')\n",
    "plt.xlabel('State Senate District')\n",
    "plt.ylabel('Count')\n",
    "\n",
    "# Show the plot\n",
    "plt.show()"
   ]
  },
  {
   "cell_type": "code",
   "execution_count": null,
   "id": "494a87f2-e388-4c60-95e3-f534ec971b93",
   "metadata": {
    "tags": []
   },
   "outputs": [],
   "source": [
    "### Find the 10 most common words listed in the 'incident characteristics' column ###\n",
    "### The regular expressions is used as a space delimiter, since some of the words ###\n",
    "### are separated with spaces and others are separated with the \"||\" symbol ###\n",
    "\n",
    "import re\n",
    "from collections import Counter\n",
    "import pandas as pd\n",
    "\n",
    "df[\"incident_characteristics\"] = df[\"incident_characteristics\"].astype(str)\n",
    "\n",
    "# create an empty Counter object\n",
    "word_counts = Counter()\n",
    "\n",
    "# loop through each row in the DataFrame\n",
    "for index, row in df.iterrows():\n",
    "    # split the \"Incident_Characteristics\" column into a list of words using a regular expression\n",
    "    words = re.findall(r'\\w+', row['incident_characteristics'])\n",
    "    # update the Counter object with the words in this row\n",
    "    word_counts.update(words)\n",
    "\n",
    "# get the 10 most common words\n",
    "most_common_words_10 = word_counts.most_common(10)\n",
    "\n",
    "# print the results\n",
    "print(\"The 10 most common words are:\")\n",
    "for word, count in most_common_words_10:\n",
    "    print(f\"{word}: {count}\")"
   ]
  },
  {
   "cell_type": "code",
   "execution_count": null,
   "id": "2ac97659-22b9-4428-be5d-c73f5d26606d",
   "metadata": {
    "tags": []
   },
   "outputs": [],
   "source": [
    "### Creating a word cloud of the most common words. Currently the count is 200, which ###\n",
    "### feels like enough to get a good sense of the types of descriptive words used in ###\n",
    "### the reports. ###\n",
    "\n",
    "most_common_words_200 = word_counts.most_common(200)\n",
    "most_common_words_dict = dict(most_common_words_200)\n",
    "\n",
    "wordcloud = WordCloud(width=800, height=800, background_color='white').generate_from_frequencies(most_common_words_dict)\n",
    "\n",
    "# plot the word cloud\n",
    "plt.figure(figsize=(8,8))\n",
    "plt.imshow(wordcloud, interpolation='bilinear')\n",
    "plt.axis(\"off\")\n",
    "plt.show()"
   ]
  },
  {
   "cell_type": "code",
   "execution_count": null,
   "id": "cdbcaa31-71c7-4328-a79a-e5c92674b32a",
   "metadata": {
    "tags": []
   },
   "outputs": [],
   "source": [
    "# import requests\n",
    "# from bs4 import BeautifulSoup\n",
    "\n",
    "# # send a GET request to the webpage and get the HTML content\n",
    "# url = \"https://ballotpedia.org/Colorado_State_Senate\"\n",
    "# response = requests.get(url)\n",
    "# html_content = response.content\n",
    "\n",
    "# # create a BeautifulSoup object to parse the HTML content\n",
    "# soup = BeautifulSoup(html_content, 'html.parser')\n",
    "\n",
    "# # find the table element that contains the data\n",
    "# table = soup.find('table', class_='infobox')\n",
    "\n",
    "# # loop through each row in the table and extract the data\n",
    "# for row in table.find_all('tr'):\n",
    "#     # get the columns in this row\n",
    "#     cols = row.find_all('td')\n",
    "#     # if there are exactly 4 columns, extract the data and print it\n",
    "#     if len(cols) == 4:\n",
    "#         office = cols[0].get_text(strip=True)\n",
    "#         name = cols[1].get_text(strip=True)\n",
    "#         party = cols[2].get_text(strip=True)\n",
    "#         date_assumed_office = cols[3].get_text(strip=True)\n",
    "#         print(f\"{office}: {name}, {party}, {date_assumed_office}\")"
   ]
  },
  {
   "cell_type": "code",
   "execution_count": null,
   "id": "d295f7b3-9d16-47ff-a324-c48f946d5967",
   "metadata": {
    "tags": []
   },
   "outputs": [],
   "source": [
    "# break up Participant Gender\n",
    "# import matplotlib.pyplot as plt\n",
    "\n",
    "# participant_gender = df['participant_gender']\n",
    "# cleaned_row = []\n",
    "\n",
    "# for row in participant_gender:\n",
    "#     regex = 'Male'\n",
    "#     match_males = re.findall(regex, str(row))\n",
    "\n",
    "#     regex = 'Female'\n",
    "#     match_females = re.findall(regex, str(row))\n",
    "\n",
    "#     if match_males != None:\n",
    "#         cleaned_row = cleaned_row + match_males\n",
    "#     if match_females != None:\n",
    "#         cleaned_row = cleaned_row + match_females\n",
    "\n",
    "# plt.hist(cleaned_row)\n",
    "# plt.show()"
   ]
  },
  {
   "cell_type": "code",
   "execution_count": null,
   "id": "ac6296ed-4bd6-4d85-b00c-6d3b50974d45",
   "metadata": {
    "tags": []
   },
   "outputs": [],
   "source": [
    "participant_type = df['participant_type']\n",
    "cleaned = []\n",
    "\n",
    "for parts in participant_type:\n",
    "\n",
    "    if '||' in str(parts):\n",
    "        part = str(parts).split('||')\n",
    "        \n",
    "        for keyval in part:\n",
    "            if '::' in str(keyval):\n",
    "                \n",
    "                part_value = str(keyval).split('::')\n",
    "                cleaned.append(part_value[1])\n",
    "\n",
    "plt.hist(cleaned)\n",
    "plt.show()"
   ]
  },
  {
   "cell_type": "code",
   "execution_count": null,
   "id": "f2957e3b-7388-4a04-a70b-807eca760bd1",
   "metadata": {
    "tags": []
   },
   "outputs": [],
   "source": [
    "participant_type = df['participant_type']\n",
    "\n",
    "i = 0\n",
    "\n",
    "for parts in participant_type:\n",
    "\n",
    "    suspects = []\n",
    "    victims = []\n",
    "\n",
    "    if '||' in str(parts):\n",
    "        part = str(parts).split('||')\n",
    "        for keyval in part:\n",
    "            if '::' in str(keyval):\n",
    "                part_value = str(keyval).split('::')\n",
    "                if part_value[1] == 'Victim':\n",
    "                    victims.append(part_value[1])\n",
    "                elif part_value[1] == 'Subject-Suspect':\n",
    "                    suspects.append(part_value[1])\n",
    "\n",
    "    df.at[i,'victim_count'] = len(victims)\n",
    "    df.at[i,'suspect_count'] = len(suspects)\n",
    "    i = i + 1\n",
    "\n",
    "plt.clf()\n",
    "#plt.hist(df['suspect_count'], range=[0,7])\n",
    "print(df['suspect_count'].value_counts())\n",
    "df['suspect_count'].value_counts().plot(kind='barh')\n",
    "plt.show()"
   ]
  },
  {
   "cell_type": "code",
   "execution_count": null,
   "id": "e6a28ce1-d5d4-4469-8015-8edf2dec5a93",
   "metadata": {
    "tags": []
   },
   "outputs": [],
   "source": [
    "from collections import Counter\n",
    "\n",
    "phrases_list = []\n",
    "count = 0\n",
    "\n",
    "for i, row in df.iterrows():\n",
    "    if (row['n_injured'] == 0 and row['n_killed'] == 0):\n",
    "        count = count + 1\n",
    "        #print(row['incident_characteristics'])\n",
    " \n",
    "        if not isinstance(row['incident_characteristics'], float):\n",
    "\n",
    "            incident_text = row['incident_characteristics']\n",
    "            \n",
    "            if '||' in str(incident_text):\n",
    "                item = str(incident_text).split('||')\n",
    "                \n",
    "                for phrases in item:\n",
    "                    phrases_list.append(phrases)\n",
    "\n",
    "\n",
    "print(\"Number of incidents where injured = 0 and killed = 0: %d\" % count)\n",
    "print(\"Total rows in dataframe: %d\" % len(df))\n",
    "print(\"Percentage of none injured and none killed: %f\" % (count/len(df)))\n",
    "\n",
    "\n",
    "most_common_words_20 = Counter(phrases_list).most_common(25)\n",
    "print(\"\\n\\n25 Most Common Phrases in Incident Characteristics column:\")\n",
    "for word, count in most_common_words_20:\n",
    "    print(f\"{word}: {count}\")"
   ]
  },
  {
   "cell_type": "code",
   "execution_count": null,
   "id": "655db284-2dab-4b97-bcd9-069e28b1633a",
   "metadata": {
    "tags": []
   },
   "outputs": [],
   "source": [
    "# Data Preprocessing - Get ZIP CODE\n",
    "# assigns to new 'zipcode' column in dataframe\n",
    "\n",
    "!pip install geopy\n",
    "import geopy\n",
    "import pandas as pd\n",
    "\n",
    "#longlat = pd.read_csv(\"longlat.csv\",encoding = 'utf-8', sep = '\\t')\n",
    "geolocator = geopy.Nominatim(user_agent=\"check_1\")\n",
    "\n",
    "def get_zip_code(x):\n",
    "    location = geolocator.reverse(\"{}, {}\".format(x['latitude'],x['longitude']))\n",
    "    return location.raw['address']['postcode']\n",
    "\n",
    "df['zipcode'] = df.head().apply(lambda x: get_zip_code(x), axis = 1)\n",
    "print(df.head(5))"
   ]
  },
  {
   "cell_type": "markdown",
   "id": "acbc6264-033e-4325-bb47-18fd4c69d4f0",
   "metadata": {},
   "source": [
    "# Analysis by Date"
   ]
  },
  {
   "cell_type": "code",
   "execution_count": null,
   "id": "96f2054a-dd7b-42f6-b24a-1683e2be1d4b",
   "metadata": {},
   "outputs": [],
   "source": [
    "statement=\"SELECT year(date) as year, count(*) as incident_count, sum(n_killed) as total_killed, sum(n_injured) as total_injured from ads508.gun_violence GROUP BY year(date) ORDER BY year(date)\"\n",
    "year_count=pd.read_sql(statement, conn)\n",
    "year_count"
   ]
  },
  {
   "cell_type": "code",
   "execution_count": null,
   "id": "0936bb0b-48d0-43c4-88f9-5591f737392e",
   "metadata": {
    "tags": []
   },
   "outputs": [],
   "source": [
    "statement=\"SELECT year(date) as year, month(date) as month, count(*) as incident_count, sum(n_killed) as total_killed, sum(n_injured) as total_injured from ads508.gun_violence GROUP BY year(date), month(date) ORDER BY year(date), month(date)\"\n",
    "month_count=pd.read_sql(statement, conn)\n",
    "month_count"
   ]
  },
  {
   "cell_type": "markdown",
   "id": "ba162902-e197-44d7-b6a1-0c1ecee42c1c",
   "metadata": {},
   "source": [
    "# Analysis by Death/Injury Count"
   ]
  },
  {
   "cell_type": "markdown",
   "id": "2148c4fd-c7bf-44c8-9f7f-aa06ec799ecc",
   "metadata": {},
   "source": [
    "## Show the five deadliest shootings\n",
    "### NOTE: Dataset does not include the Las Vegas shooting that occured October 1, 2017, which took the lives of 60 people."
   ]
  },
  {
   "cell_type": "code",
   "execution_count": null,
   "id": "69616f31-a88d-4f9b-9ee2-5e69049441ae",
   "metadata": {
    "tags": []
   },
   "outputs": [],
   "source": [
    "statement=\"SELECT * FROM ads508.gun_violence ORDER BY n_killed desc LIMIT 10\"\n",
    "top_killed=pd.read_sql(statement, conn)\n",
    "top_killed.head(5)\n"
   ]
  },
  {
   "cell_type": "markdown",
   "id": "5a1ada3c-34ee-4f13-bf4c-af8859cd60cf",
   "metadata": {},
   "source": [
    "## Combine the number of individuals killed and injured to get number of total involved\n"
   ]
  },
  {
   "cell_type": "code",
   "execution_count": null,
   "id": "7f398c91-8922-4d5c-bb3a-c8c64596cbd0",
   "metadata": {
    "tags": []
   },
   "outputs": [],
   "source": [
    "df['n_total']=df['n_killed'] + df['n_injured']\n",
    "df.head(5)"
   ]
  },
  {
   "cell_type": "code",
   "execution_count": null,
   "id": "38bb465f-558f-4388-b838-336be1d064fb",
   "metadata": {
    "tags": []
   },
   "outputs": [],
   "source": [
    "import matplotlib.ticker as mticker\n",
    "plt.hist(df['n_total'])\n",
    "plt.xlabel('Number of Individuals')\n",
    "plt.ylabel('Incident Count')\n",
    "plt.title('Histogram of Individuals Killed/Injured')\n",
    "plt.show()"
   ]
  },
  {
   "cell_type": "markdown",
   "id": "13a7e5be-d644-4314-a452-65d847c2cde6",
   "metadata": {},
   "source": [
    "## Count of incidents with no injuries/deaths"
   ]
  },
  {
   "cell_type": "code",
   "execution_count": null,
   "id": "7861a38d-9c59-41e0-b1ba-a8348152ed77",
   "metadata": {
    "tags": []
   },
   "outputs": [],
   "source": [
    "statement=\"SELECT count(*) as count FROM ads508.gun_violence WHERE n_injured=0 and n_killed=0\"\n",
    "no_injury=pd.read_sql(statement, conn)\n",
    "no_injury"
   ]
  },
  {
   "cell_type": "markdown",
   "id": "3fc67802-3c50-46de-95dd-d9bf19205fe4",
   "metadata": {},
   "source": [
    "### 96,901 incidents of gun violence resulted in 0 injured or killed. "
   ]
  },
  {
   "cell_type": "code",
   "execution_count": null,
   "id": "c74b51fe-2ee0-4b02-a239-716037876389",
   "metadata": {},
   "outputs": [],
   "source": []
  },
  {
   "cell_type": "code",
   "execution_count": null,
   "id": "b906183b-7865-451c-8b7b-1e1e2832eb3f",
   "metadata": {},
   "outputs": [],
   "source": []
  }
 ],
 "metadata": {
  "availableInstances": [
   {
    "_defaultOrder": 0,
    "_isFastLaunch": true,
    "category": "General purpose",
    "gpuNum": 0,
    "hideHardwareSpecs": false,
    "memoryGiB": 4,
    "name": "ml.t3.medium",
    "vcpuNum": 2
   },
   {
    "_defaultOrder": 1,
    "_isFastLaunch": false,
    "category": "General purpose",
    "gpuNum": 0,
    "hideHardwareSpecs": false,
    "memoryGiB": 8,
    "name": "ml.t3.large",
    "vcpuNum": 2
   },
   {
    "_defaultOrder": 2,
    "_isFastLaunch": false,
    "category": "General purpose",
    "gpuNum": 0,
    "hideHardwareSpecs": false,
    "memoryGiB": 16,
    "name": "ml.t3.xlarge",
    "vcpuNum": 4
   },
   {
    "_defaultOrder": 3,
    "_isFastLaunch": false,
    "category": "General purpose",
    "gpuNum": 0,
    "hideHardwareSpecs": false,
    "memoryGiB": 32,
    "name": "ml.t3.2xlarge",
    "vcpuNum": 8
   },
   {
    "_defaultOrder": 4,
    "_isFastLaunch": true,
    "category": "General purpose",
    "gpuNum": 0,
    "hideHardwareSpecs": false,
    "memoryGiB": 8,
    "name": "ml.m5.large",
    "vcpuNum": 2
   },
   {
    "_defaultOrder": 5,
    "_isFastLaunch": false,
    "category": "General purpose",
    "gpuNum": 0,
    "hideHardwareSpecs": false,
    "memoryGiB": 16,
    "name": "ml.m5.xlarge",
    "vcpuNum": 4
   },
   {
    "_defaultOrder": 6,
    "_isFastLaunch": false,
    "category": "General purpose",
    "gpuNum": 0,
    "hideHardwareSpecs": false,
    "memoryGiB": 32,
    "name": "ml.m5.2xlarge",
    "vcpuNum": 8
   },
   {
    "_defaultOrder": 7,
    "_isFastLaunch": false,
    "category": "General purpose",
    "gpuNum": 0,
    "hideHardwareSpecs": false,
    "memoryGiB": 64,
    "name": "ml.m5.4xlarge",
    "vcpuNum": 16
   },
   {
    "_defaultOrder": 8,
    "_isFastLaunch": false,
    "category": "General purpose",
    "gpuNum": 0,
    "hideHardwareSpecs": false,
    "memoryGiB": 128,
    "name": "ml.m5.8xlarge",
    "vcpuNum": 32
   },
   {
    "_defaultOrder": 9,
    "_isFastLaunch": false,
    "category": "General purpose",
    "gpuNum": 0,
    "hideHardwareSpecs": false,
    "memoryGiB": 192,
    "name": "ml.m5.12xlarge",
    "vcpuNum": 48
   },
   {
    "_defaultOrder": 10,
    "_isFastLaunch": false,
    "category": "General purpose",
    "gpuNum": 0,
    "hideHardwareSpecs": false,
    "memoryGiB": 256,
    "name": "ml.m5.16xlarge",
    "vcpuNum": 64
   },
   {
    "_defaultOrder": 11,
    "_isFastLaunch": false,
    "category": "General purpose",
    "gpuNum": 0,
    "hideHardwareSpecs": false,
    "memoryGiB": 384,
    "name": "ml.m5.24xlarge",
    "vcpuNum": 96
   },
   {
    "_defaultOrder": 12,
    "_isFastLaunch": false,
    "category": "General purpose",
    "gpuNum": 0,
    "hideHardwareSpecs": false,
    "memoryGiB": 8,
    "name": "ml.m5d.large",
    "vcpuNum": 2
   },
   {
    "_defaultOrder": 13,
    "_isFastLaunch": false,
    "category": "General purpose",
    "gpuNum": 0,
    "hideHardwareSpecs": false,
    "memoryGiB": 16,
    "name": "ml.m5d.xlarge",
    "vcpuNum": 4
   },
   {
    "_defaultOrder": 14,
    "_isFastLaunch": false,
    "category": "General purpose",
    "gpuNum": 0,
    "hideHardwareSpecs": false,
    "memoryGiB": 32,
    "name": "ml.m5d.2xlarge",
    "vcpuNum": 8
   },
   {
    "_defaultOrder": 15,
    "_isFastLaunch": false,
    "category": "General purpose",
    "gpuNum": 0,
    "hideHardwareSpecs": false,
    "memoryGiB": 64,
    "name": "ml.m5d.4xlarge",
    "vcpuNum": 16
   },
   {
    "_defaultOrder": 16,
    "_isFastLaunch": false,
    "category": "General purpose",
    "gpuNum": 0,
    "hideHardwareSpecs": false,
    "memoryGiB": 128,
    "name": "ml.m5d.8xlarge",
    "vcpuNum": 32
   },
   {
    "_defaultOrder": 17,
    "_isFastLaunch": false,
    "category": "General purpose",
    "gpuNum": 0,
    "hideHardwareSpecs": false,
    "memoryGiB": 192,
    "name": "ml.m5d.12xlarge",
    "vcpuNum": 48
   },
   {
    "_defaultOrder": 18,
    "_isFastLaunch": false,
    "category": "General purpose",
    "gpuNum": 0,
    "hideHardwareSpecs": false,
    "memoryGiB": 256,
    "name": "ml.m5d.16xlarge",
    "vcpuNum": 64
   },
   {
    "_defaultOrder": 19,
    "_isFastLaunch": false,
    "category": "General purpose",
    "gpuNum": 0,
    "hideHardwareSpecs": false,
    "memoryGiB": 384,
    "name": "ml.m5d.24xlarge",
    "vcpuNum": 96
   },
   {
    "_defaultOrder": 20,
    "_isFastLaunch": false,
    "category": "General purpose",
    "gpuNum": 0,
    "hideHardwareSpecs": true,
    "memoryGiB": 0,
    "name": "ml.geospatial.interactive",
    "supportedImageNames": [
     "sagemaker-geospatial-v1-0"
    ],
    "vcpuNum": 0
   },
   {
    "_defaultOrder": 21,
    "_isFastLaunch": true,
    "category": "Compute optimized",
    "gpuNum": 0,
    "hideHardwareSpecs": false,
    "memoryGiB": 4,
    "name": "ml.c5.large",
    "vcpuNum": 2
   },
   {
    "_defaultOrder": 22,
    "_isFastLaunch": false,
    "category": "Compute optimized",
    "gpuNum": 0,
    "hideHardwareSpecs": false,
    "memoryGiB": 8,
    "name": "ml.c5.xlarge",
    "vcpuNum": 4
   },
   {
    "_defaultOrder": 23,
    "_isFastLaunch": false,
    "category": "Compute optimized",
    "gpuNum": 0,
    "hideHardwareSpecs": false,
    "memoryGiB": 16,
    "name": "ml.c5.2xlarge",
    "vcpuNum": 8
   },
   {
    "_defaultOrder": 24,
    "_isFastLaunch": false,
    "category": "Compute optimized",
    "gpuNum": 0,
    "hideHardwareSpecs": false,
    "memoryGiB": 32,
    "name": "ml.c5.4xlarge",
    "vcpuNum": 16
   },
   {
    "_defaultOrder": 25,
    "_isFastLaunch": false,
    "category": "Compute optimized",
    "gpuNum": 0,
    "hideHardwareSpecs": false,
    "memoryGiB": 72,
    "name": "ml.c5.9xlarge",
    "vcpuNum": 36
   },
   {
    "_defaultOrder": 26,
    "_isFastLaunch": false,
    "category": "Compute optimized",
    "gpuNum": 0,
    "hideHardwareSpecs": false,
    "memoryGiB": 96,
    "name": "ml.c5.12xlarge",
    "vcpuNum": 48
   },
   {
    "_defaultOrder": 27,
    "_isFastLaunch": false,
    "category": "Compute optimized",
    "gpuNum": 0,
    "hideHardwareSpecs": false,
    "memoryGiB": 144,
    "name": "ml.c5.18xlarge",
    "vcpuNum": 72
   },
   {
    "_defaultOrder": 28,
    "_isFastLaunch": false,
    "category": "Compute optimized",
    "gpuNum": 0,
    "hideHardwareSpecs": false,
    "memoryGiB": 192,
    "name": "ml.c5.24xlarge",
    "vcpuNum": 96
   },
   {
    "_defaultOrder": 29,
    "_isFastLaunch": true,
    "category": "Accelerated computing",
    "gpuNum": 1,
    "hideHardwareSpecs": false,
    "memoryGiB": 16,
    "name": "ml.g4dn.xlarge",
    "vcpuNum": 4
   },
   {
    "_defaultOrder": 30,
    "_isFastLaunch": false,
    "category": "Accelerated computing",
    "gpuNum": 1,
    "hideHardwareSpecs": false,
    "memoryGiB": 32,
    "name": "ml.g4dn.2xlarge",
    "vcpuNum": 8
   },
   {
    "_defaultOrder": 31,
    "_isFastLaunch": false,
    "category": "Accelerated computing",
    "gpuNum": 1,
    "hideHardwareSpecs": false,
    "memoryGiB": 64,
    "name": "ml.g4dn.4xlarge",
    "vcpuNum": 16
   },
   {
    "_defaultOrder": 32,
    "_isFastLaunch": false,
    "category": "Accelerated computing",
    "gpuNum": 1,
    "hideHardwareSpecs": false,
    "memoryGiB": 128,
    "name": "ml.g4dn.8xlarge",
    "vcpuNum": 32
   },
   {
    "_defaultOrder": 33,
    "_isFastLaunch": false,
    "category": "Accelerated computing",
    "gpuNum": 4,
    "hideHardwareSpecs": false,
    "memoryGiB": 192,
    "name": "ml.g4dn.12xlarge",
    "vcpuNum": 48
   },
   {
    "_defaultOrder": 34,
    "_isFastLaunch": false,
    "category": "Accelerated computing",
    "gpuNum": 1,
    "hideHardwareSpecs": false,
    "memoryGiB": 256,
    "name": "ml.g4dn.16xlarge",
    "vcpuNum": 64
   },
   {
    "_defaultOrder": 35,
    "_isFastLaunch": false,
    "category": "Accelerated computing",
    "gpuNum": 1,
    "hideHardwareSpecs": false,
    "memoryGiB": 61,
    "name": "ml.p3.2xlarge",
    "vcpuNum": 8
   },
   {
    "_defaultOrder": 36,
    "_isFastLaunch": false,
    "category": "Accelerated computing",
    "gpuNum": 4,
    "hideHardwareSpecs": false,
    "memoryGiB": 244,
    "name": "ml.p3.8xlarge",
    "vcpuNum": 32
   },
   {
    "_defaultOrder": 37,
    "_isFastLaunch": false,
    "category": "Accelerated computing",
    "gpuNum": 8,
    "hideHardwareSpecs": false,
    "memoryGiB": 488,
    "name": "ml.p3.16xlarge",
    "vcpuNum": 64
   },
   {
    "_defaultOrder": 38,
    "_isFastLaunch": false,
    "category": "Accelerated computing",
    "gpuNum": 8,
    "hideHardwareSpecs": false,
    "memoryGiB": 768,
    "name": "ml.p3dn.24xlarge",
    "vcpuNum": 96
   },
   {
    "_defaultOrder": 39,
    "_isFastLaunch": false,
    "category": "Memory Optimized",
    "gpuNum": 0,
    "hideHardwareSpecs": false,
    "memoryGiB": 16,
    "name": "ml.r5.large",
    "vcpuNum": 2
   },
   {
    "_defaultOrder": 40,
    "_isFastLaunch": false,
    "category": "Memory Optimized",
    "gpuNum": 0,
    "hideHardwareSpecs": false,
    "memoryGiB": 32,
    "name": "ml.r5.xlarge",
    "vcpuNum": 4
   },
   {
    "_defaultOrder": 41,
    "_isFastLaunch": false,
    "category": "Memory Optimized",
    "gpuNum": 0,
    "hideHardwareSpecs": false,
    "memoryGiB": 64,
    "name": "ml.r5.2xlarge",
    "vcpuNum": 8
   },
   {
    "_defaultOrder": 42,
    "_isFastLaunch": false,
    "category": "Memory Optimized",
    "gpuNum": 0,
    "hideHardwareSpecs": false,
    "memoryGiB": 128,
    "name": "ml.r5.4xlarge",
    "vcpuNum": 16
   },
   {
    "_defaultOrder": 43,
    "_isFastLaunch": false,
    "category": "Memory Optimized",
    "gpuNum": 0,
    "hideHardwareSpecs": false,
    "memoryGiB": 256,
    "name": "ml.r5.8xlarge",
    "vcpuNum": 32
   },
   {
    "_defaultOrder": 44,
    "_isFastLaunch": false,
    "category": "Memory Optimized",
    "gpuNum": 0,
    "hideHardwareSpecs": false,
    "memoryGiB": 384,
    "name": "ml.r5.12xlarge",
    "vcpuNum": 48
   },
   {
    "_defaultOrder": 45,
    "_isFastLaunch": false,
    "category": "Memory Optimized",
    "gpuNum": 0,
    "hideHardwareSpecs": false,
    "memoryGiB": 512,
    "name": "ml.r5.16xlarge",
    "vcpuNum": 64
   },
   {
    "_defaultOrder": 46,
    "_isFastLaunch": false,
    "category": "Memory Optimized",
    "gpuNum": 0,
    "hideHardwareSpecs": false,
    "memoryGiB": 768,
    "name": "ml.r5.24xlarge",
    "vcpuNum": 96
   },
   {
    "_defaultOrder": 47,
    "_isFastLaunch": false,
    "category": "Accelerated computing",
    "gpuNum": 1,
    "hideHardwareSpecs": false,
    "memoryGiB": 16,
    "name": "ml.g5.xlarge",
    "vcpuNum": 4
   },
   {
    "_defaultOrder": 48,
    "_isFastLaunch": false,
    "category": "Accelerated computing",
    "gpuNum": 1,
    "hideHardwareSpecs": false,
    "memoryGiB": 32,
    "name": "ml.g5.2xlarge",
    "vcpuNum": 8
   },
   {
    "_defaultOrder": 49,
    "_isFastLaunch": false,
    "category": "Accelerated computing",
    "gpuNum": 1,
    "hideHardwareSpecs": false,
    "memoryGiB": 64,
    "name": "ml.g5.4xlarge",
    "vcpuNum": 16
   },
   {
    "_defaultOrder": 50,
    "_isFastLaunch": false,
    "category": "Accelerated computing",
    "gpuNum": 1,
    "hideHardwareSpecs": false,
    "memoryGiB": 128,
    "name": "ml.g5.8xlarge",
    "vcpuNum": 32
   },
   {
    "_defaultOrder": 51,
    "_isFastLaunch": false,
    "category": "Accelerated computing",
    "gpuNum": 1,
    "hideHardwareSpecs": false,
    "memoryGiB": 256,
    "name": "ml.g5.16xlarge",
    "vcpuNum": 64
   },
   {
    "_defaultOrder": 52,
    "_isFastLaunch": false,
    "category": "Accelerated computing",
    "gpuNum": 4,
    "hideHardwareSpecs": false,
    "memoryGiB": 192,
    "name": "ml.g5.12xlarge",
    "vcpuNum": 48
   },
   {
    "_defaultOrder": 53,
    "_isFastLaunch": false,
    "category": "Accelerated computing",
    "gpuNum": 4,
    "hideHardwareSpecs": false,
    "memoryGiB": 384,
    "name": "ml.g5.24xlarge",
    "vcpuNum": 96
   },
   {
    "_defaultOrder": 54,
    "_isFastLaunch": false,
    "category": "Accelerated computing",
    "gpuNum": 8,
    "hideHardwareSpecs": false,
    "memoryGiB": 768,
    "name": "ml.g5.48xlarge",
    "vcpuNum": 192
   }
  ],
  "instance_type": "ml.t3.medium",
  "kernelspec": {
   "display_name": "Python 3 (Data Science)",
   "language": "python",
   "name": "python3__SAGEMAKER_INTERNAL__arn:aws:sagemaker:us-east-1:081325390199:image/datascience-1.0"
  },
  "language_info": {
   "codemirror_mode": {
    "name": "ipython",
    "version": 3
   },
   "file_extension": ".py",
   "mimetype": "text/x-python",
   "name": "python",
   "nbconvert_exporter": "python",
   "pygments_lexer": "ipython3",
   "version": "3.7.10"
  }
 },
 "nbformat": 4,
 "nbformat_minor": 5
}
