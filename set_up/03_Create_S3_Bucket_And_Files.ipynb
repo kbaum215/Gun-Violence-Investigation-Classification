{
 "cells": [
  {
   "cell_type": "markdown",
   "id": "885528b1-148a-4a5d-8cca-782e0212ce21",
   "metadata": {},
   "source": [
    "# Create S3 Bucket"
   ]
  },
  {
   "cell_type": "code",
   "execution_count": 2,
   "id": "e2248399-5323-46fd-b8f9-39694b50d875",
   "metadata": {},
   "outputs": [],
   "source": [
    "import requests\n",
    "import pandas as pd\n",
    "import boto3\n",
    "import sagemaker\n",
    "from io import StringIO\n",
    "\n",
    "session = boto3.session.Session()\n",
    "region = session.region_name\n",
    "sagemaker_session = sagemaker.Session()\n",
    "bucket = sagemaker_session.default_bucket()\n",
    "\n",
    "s3 = boto3.Session().client(service_name=\"s3\", region_name=region)\n"
   ]
  },
  {
   "cell_type": "code",
   "execution_count": 3,
   "id": "52950542-28c9-4329-ae1e-1f6115dc06c9",
   "metadata": {},
   "outputs": [],
   "source": [
    "setup_s3_bucket_passed = False"
   ]
  },
  {
   "cell_type": "code",
   "execution_count": 4,
   "id": "ded17772-9223-4777-b3bc-40124e38fa5c",
   "metadata": {},
   "outputs": [
    {
     "name": "stdout",
     "output_type": "stream",
     "text": [
      "Default bucket: sagemaker-us-east-1-705927414280\n"
     ]
    }
   ],
   "source": [
    "print(\"Default bucket: {}\".format(bucket))"
   ]
  },
  {
   "cell_type": "markdown",
   "id": "b9a947d9-30da-411b-84a6-df8c980b7e2d",
   "metadata": {},
   "source": [
    "# Verify S3_BUCKET Bucket Creation"
   ]
  },
  {
   "cell_type": "code",
   "execution_count": 5,
   "id": "14f5f242-ded9-46d6-8b93-d7fc971b5c1a",
   "metadata": {},
   "outputs": [
    {
     "name": "stdout",
     "output_type": "stream",
     "text": [
      "2023-03-17 13:01:57 aws-athena-query-results-705927414280-us-east-1\n",
      "2023-03-18 02:29:33 gunviolence-kbaum215\n",
      "2023-03-19 21:59:56 official-gunviolence-kbaum215\n",
      "2023-03-05 21:10:59 sagemaker-studio-705927414280-q3srkpw595r\n",
      "2023-03-05 20:36:33 sagemaker-studio-705927414280-vo6gix3myc\n",
      "2023-03-05 20:42:01 sagemaker-us-east-1-705927414280\n"
     ]
    }
   ],
   "source": [
    "%%bash\n",
    "\n",
    "aws s3 ls s3://${bucket}/"
   ]
  },
  {
   "cell_type": "code",
   "execution_count": 6,
   "id": "6db14929-0911-4c9b-89c0-9e727575ca29",
   "metadata": {},
   "outputs": [
    {
     "name": "stdout",
     "output_type": "stream",
     "text": [
      "{'ResponseMetadata': {'RequestId': 'R9NM4DGV7QX22ES5', 'HostId': 'yLTT42yIrVia/fO+dzIaJyIDLn8FlbvXW5BUKwaMJxIJmTKDbaxHDe2NjvxmSGRUPhcptyOq0Rg=', 'HTTPStatusCode': 200, 'HTTPHeaders': {'x-amz-id-2': 'yLTT42yIrVia/fO+dzIaJyIDLn8FlbvXW5BUKwaMJxIJmTKDbaxHDe2NjvxmSGRUPhcptyOq0Rg=', 'x-amz-request-id': 'R9NM4DGV7QX22ES5', 'date': 'Sun, 16 Apr 2023 20:41:14 GMT', 'x-amz-bucket-region': 'us-east-1', 'x-amz-access-point-alias': 'false', 'content-type': 'application/xml', 'server': 'AmazonS3'}, 'RetryAttempts': 0}}\n"
     ]
    }
   ],
   "source": [
    "from botocore.client import ClientError\n",
    "\n",
    "response = None\n",
    "\n",
    "try:\n",
    "    response = s3.head_bucket(Bucket=bucket)\n",
    "    print(response)\n",
    "    setup_s3_bucket_passed = True\n",
    "except ClientError as e:\n",
    "    print(\"[ERROR] Cannot find bucket {} in {} due to {}.\".format(bucket, response, e))"
   ]
  },
  {
   "cell_type": "code",
   "execution_count": 7,
   "id": "78b880ff-c875-4838-92c4-6010e33b84e5",
   "metadata": {},
   "outputs": [
    {
     "name": "stdout",
     "output_type": "stream",
     "text": [
      "Stored 'setup_s3_bucket_passed' (bool)\n"
     ]
    }
   ],
   "source": [
    "%store setup_s3_bucket_passed\n"
   ]
  },
  {
   "cell_type": "code",
   "execution_count": 8,
   "id": "343ce559-74b3-439f-bec6-a68639493df9",
   "metadata": {},
   "outputs": [
    {
     "name": "stdout",
     "output_type": "stream",
     "text": [
      "Stored variables and their in-db values:\n",
      "ingest_create_athena_db_passed             -> True\n",
      "s3_private_path                            -> 's3://sagemaker-us-east-1-705927414280/gun_violenc\n",
      "s3_private_path_1                          -> 's3://sagemaker-us-east-1-705927414280/census2010_\n",
      "s3_private_path_2                          -> 's3://sagemaker-us-east-1-705927414280/state_abbre\n",
      "s3_private_path_3                          -> 's3://sagemaker-us-east-1-705927414280/congress_da\n",
      "s3_private_path_4                          -> 's3://sagemaker-us-east-1-705927414280/state_incom\n",
      "s3_private_path_5                          -> 's3://sagemaker-us-east-1-705927414280/cities_data\n",
      "s3_private_path_6                          -> 's3://sagemaker-us-east-1-705927414280/zipcodes'\n",
      "s3_private_path_7                          -> 's3://sagemaker-us-east-1-705927414280/adjusted_gr\n",
      "s3_private_path_8                          -> 's3://sagemaker-us-east-1-705927414280/temp'\n",
      "s3_private_path_tsv                        -> 's3://sagemaker-us-east-1-705927414280/amazon-revi\n",
      "s3_public_path                             -> 's3://sagemaker-studio-458903497716-h2kl4ff3dz/dat\n",
      "s3_public_path_1                           -> 's3://sagemaker-studio-458903497716-h2kl4ff3dz/cen\n",
      "s3_public_path_2                           -> 's3://sagemaker-studio-458903497716-h2kl4ff3dz/sta\n",
      "s3_public_path_3                           -> 's3://sagemaker-studio-458903497716-h2kl4ff3dz/con\n",
      "s3_public_path_4                           -> 's3://sagemaker-studio-458903497716-h2kl4ff3dz/sta\n",
      "s3_public_path_5                           -> 's3://sagemaker-studio-458903497716-h2kl4ff3dz/cit\n",
      "s3_public_path_6                           -> 's3://sagemaker-studio-458903497716-h2kl4ff3dz/zip\n",
      "s3_public_path_7                           -> 's3://sagemaker-studio-458903497716-h2kl4ff3dz/adj\n",
      "s3_public_path_8                           -> 's3://sagemaker-studio-458903497716-h2kl4ff3dz/tem\n",
      "s3_public_path_csv                         -> 's3://sagemaker-studio-458903497716-h2kl4ff3dz/dat\n",
      "s3_public_path_tsv                         -> 's3://amazon-reviews-pds/tsv'\n",
      "setup_dependencies_passed                  -> True\n",
      "setup_iam_roles_passed                     -> True\n",
      "setup_instance_check_passed                -> True\n",
      "setup_s3_bucket_passed                     -> True\n"
     ]
    }
   ],
   "source": [
    "%store"
   ]
  },
  {
   "cell_type": "markdown",
   "id": "3454a2c9-5de4-4895-8c5d-a6938fe32954",
   "metadata": {},
   "source": [
    "In the next section, we are creating folders and moving files from the Github repo into the S3 folders to create the file paths. As a group, we found that access issues when copying data from the public to the private bucket were insurmountable. The creator of the public bucket could run the code that copied data from public to private, but the other two group members could not. After futile troubleshooting, this workaround was made. The code to copy data still exists in the data preparation notebook, but this serves as a backup in case the user has access issues."
   ]
  },
  {
   "cell_type": "markdown",
   "id": "f931a58e-1760-441a-9339-0b7fe33da340",
   "metadata": {},
   "source": [
    "# Create Folders If They Do Not Already Exist"
   ]
  },
  {
   "cell_type": "code",
   "execution_count": 9,
   "id": "d10c37cf-b846-4d69-ad76-9ed1b35ea7e4",
   "metadata": {},
   "outputs": [
    {
     "name": "stdout",
     "output_type": "stream",
     "text": [
      "Folder gun_violence_data already exists\n",
      "Folder census2010_data already exists\n",
      "Folder state_abbrev_data already exists\n",
      "Folder congress_data already exists\n",
      "Folder state_income_data already exists\n",
      "Folder cities_data already exists\n",
      "Folder modeling_data already exists\n",
      "Folder train already exists\n",
      "Folder validation already exists\n",
      "Folder test already exists\n"
     ]
    }
   ],
   "source": [
    "def create_folder(bucket_name, folder_name, parent_folder=None):\n",
    "    s3 = boto3.client('s3')\n",
    "    folder_key = f\"{parent_folder}{folder_name}/\" if parent_folder else f\"{folder_name}/\"\n",
    "    s3.put_object(Bucket=bucket_name, Key=folder_key)\n",
    "\n",
    "def get_existing_folders(bucket_name):\n",
    "    s3 = boto3.client('s3')\n",
    "    existing_folders = set()\n",
    "    paginator = s3.get_paginator('list_objects_v2')\n",
    "    for page in paginator.paginate(Bucket=bucket_name):\n",
    "        for obj in page.get('Contents', []):\n",
    "            folder = obj['Key'].split('/')[0]\n",
    "            existing_folders.add(folder)\n",
    "    return existing_folders\n",
    "\n",
    "def create_folders_if_not_exists(bucket_name, folder_names, parent_folder=None):\n",
    "    existing_folders = get_existing_folders(bucket_name)\n",
    "    for folder_name in folder_names:\n",
    "        if parent_folder:\n",
    "            full_folder_name = f\"{parent_folder}{folder_name}\"\n",
    "        else:\n",
    "            full_folder_name = folder_name\n",
    "\n",
    "        if full_folder_name not in existing_folders:\n",
    "            create_folder(bucket_name, folder_name, parent_folder)\n",
    "            print(f\"Created folder: {full_folder_name}\")\n",
    "        else:\n",
    "            print(f\"Folder {full_folder_name} already exists\")\n",
    "\n",
    "bucket_name = bucket \n",
    "folder_names = [\n",
    "    'gun_violence_data',\n",
    "    'census2010_data',\n",
    "    'state_abbrev_data',\n",
    "    'congress_data',\n",
    "    'state_income_data',\n",
    "    'cities_data',\n",
    "    'modeling_data',\n",
    "    'train',\n",
    "    'validation',\n",
    "    'test'\n",
    "]\n",
    "\n",
    "create_folders_if_not_exists(bucket_name, folder_names)"
   ]
  },
  {
   "cell_type": "markdown",
   "id": "8663592a-ebbf-41e0-828b-5b42f60c37d1",
   "metadata": {},
   "source": [
    "#  Put The Files Into Their Appropriate Folders"
   ]
  },
  {
   "cell_type": "code",
   "execution_count": 10,
   "id": "339eee94-b708-4a34-96bb-2e9310e4e0d2",
   "metadata": {
    "tags": []
   },
   "outputs": [],
   "source": [
    "import io\n",
    "\n",
    "def process_and_upload_to_s3(url, bucket_name, folder_name):\n",
    "    # Download the CSV from the GitHub URL\n",
    "    response = requests.get(url)\n",
    "    csv_content = response.content.decode(\"utf-8\")\n",
    "\n",
    "    # Read the content of the CSV file and create a DataFrame\n",
    "    df = pd.read_csv(io.StringIO(csv_content))\n",
    "\n",
    "    # Move the 'target_class' column to the first position\n",
    "    cols = df.columns.tolist()\n",
    "    cols.insert(0, cols.pop(cols.index('target_class')))\n",
    "    df = df[cols]\n",
    "\n",
    "    # Convert the modified DataFrame to a CSV string without the header row\n",
    "    csv_buffer = io.StringIO()\n",
    "    df.to_csv(csv_buffer, header=False, index=False)\n",
    "\n",
    "    # Upload the CSV string to the S3 bucket\n",
    "    s3 = boto3.client('s3')\n",
    "    s3.put_object(Bucket=bucket_name, Key=f\"{folder_name}/data.csv\", Body=csv_buffer.getvalue())\n",
    "\n",
    "\n",
    "# Define the GitHub URLs and local output paths for the train, validation, and test files\n",
    "train_path =\"https://raw.githubusercontent.com/vivianndo/ads508_gunviolence/main/generated_data/df_train.csv\"\n",
    "validation_path = \"https://raw.githubusercontent.com/vivianndo/ads508_gunviolence/main/generated_data/df_validation.csv\"\n",
    "test_path =\"https://raw.githubusercontent.com/vivianndo/ads508_gunviolence/main/generated_data/df_test.csv\"\n",
    "# Define the GitHub URLs and S3 folder names for the train, validation, and test files\n",
    "file_data = [\n",
    "    {\n",
    "        \"url\": train_path,\n",
    "        \"folder_name\": \"train\"\n",
    "    },\n",
    "    {\n",
    "        \"url\": validation_path,\n",
    "        \"folder_name\": \"validation\"\n",
    "    },\n",
    "    {\n",
    "        \"url\": test_path,\n",
    "        \"folder_name\": \"test\"\n",
    "    }\n",
    "]\n",
    "\n",
    "# Process and upload the modified train, validation, and test files to the S3 bucket\n",
    "for file_info in file_data:\n",
    "    process_and_upload_to_s3(file_info[\"url\"], bucket_name, file_info[\"folder_name\"])"
   ]
  },
  {
   "cell_type": "code",
   "execution_count": 11,
   "id": "8263341b-3af3-4328-9190-5b6b1a3b802a",
   "metadata": {},
   "outputs": [
    {
     "name": "stdout",
     "output_type": "stream",
     "text": [
      "File gun_violence.csv already exists in gun_violence_data\n",
      "File sub_est2018_all.csv already exists in census2010_data\n",
      "File state_abbrev_map.csv already exists in state_abbrev_data\n",
      "File Congress_2013-2018.csv already exists in congress_data\n",
      "File all_states_income.csv already exists in state_income_data\n",
      "File uscities.csv already exists in cities_data\n",
      "File data_for_modeling.csv already exists in modeling_data\n",
      "File data.csv already exists in train\n",
      "File data.csv already exists in validation\n",
      "File data.csv already exists in test\n"
     ]
    }
   ],
   "source": [
    "def check_file_exists_in_folder(bucket_name, folder_name, file_name):\n",
    "    s3 = boto3.client('s3')\n",
    "    key_prefix = f\"{folder_name}/{file_name}\"\n",
    "    response = s3.list_objects_v2(Bucket=bucket_name, Prefix=key_prefix)\n",
    "\n",
    "    for obj in response.get('Contents', []):\n",
    "        if obj['Key'] == key_prefix:\n",
    "            return True\n",
    "    return False\n",
    "\n",
    "def upload_file_to_folder(bucket_name, folder_name, file_path, file_name):\n",
    "    if not check_file_exists_in_folder(bucket_name, folder_name, file_name):\n",
    "        s3 = boto3.client('s3')\n",
    "        key = f\"{folder_name}/{file_name}\"\n",
    "        s3.upload_file(file_path, bucket_name, key)\n",
    "        print(f\"Uploaded {file_name} to {folder_name}\")\n",
    "    else:\n",
    "        print(f\"File {file_name} already exists in {folder_name}\")\n",
    "    \n",
    "\n",
    "# Upload the files to the specified folders\n",
    "upload_file_to_folder(bucket_name, 'gun_violence_data', '../raw_data/gun_violence.csv', 'gun_violence.csv')\n",
    "upload_file_to_folder(bucket_name, 'census2010_data', '../raw_data/sub_est2018_all.csv', 'sub_est2018_all.csv')\n",
    "upload_file_to_folder(bucket_name, 'state_abbrev_data', '../raw_data/state_abbrev_map.csv', 'state_abbrev_map.csv')\n",
    "upload_file_to_folder(bucket_name, 'congress_data', '../raw_data/Congress_2013-2018.csv', 'Congress_2013-2018.csv')\n",
    "upload_file_to_folder(bucket_name, 'state_income_data', '../raw_data/all_states_income.csv', 'all_states_income.csv')\n",
    "upload_file_to_folder(bucket_name, 'cities_data', '../raw_data/uscities.csv', 'uscities.csv')\n",
    "upload_file_to_folder(bucket_name, 'modeling_data', '../generated_data/data_for_modeling.csv', 'data_for_modeling.csv')\n",
    "\n",
    "# Upload the train file\n",
    "upload_file_to_folder(bucket_name, 'train', '../train/df_train.csv', 'data.csv')\n",
    "\n",
    "# Upload the validation file\n",
    "upload_file_to_folder(bucket_name, 'validation', '../validation/df_validation.csv', 'data.csv')\n",
    "\n",
    "# Upload the test file\n",
    "upload_file_to_folder(bucket_name, 'test', '../test/df_test.csv', 'data.csv')"
   ]
  },
  {
   "cell_type": "markdown",
   "id": "b25c285c-3d08-4bd7-8d50-f771316e8851",
   "metadata": {},
   "source": [
    "# Release Resources"
   ]
  },
  {
   "cell_type": "code",
   "execution_count": 12,
   "id": "464ee102-c0cb-485d-9c1e-903925ae8894",
   "metadata": {},
   "outputs": [
    {
     "data": {
      "text/html": [
       "\n",
       "<p><b>Shutting down your kernel for this notebook to release resources.</b></p>\n",
       "<button class=\"sm-command-button\" data-commandlinker-command=\"kernelmenu:shutdown\" style=\"display:none;\">Shutdown Kernel</button>\n",
       "        \n",
       "<script>\n",
       "try {\n",
       "    els = document.getElementsByClassName(\"sm-command-button\");\n",
       "    els[0].click();\n",
       "}\n",
       "catch(err) {\n",
       "    // NoOp\n",
       "}    \n",
       "</script>\n"
      ],
      "text/plain": [
       "<IPython.core.display.HTML object>"
      ]
     },
     "metadata": {},
     "output_type": "display_data"
    }
   ],
   "source": [
    "%%html\n",
    "\n",
    "<p><b>Shutting down your kernel for this notebook to release resources.</b></p>\n",
    "<button class=\"sm-command-button\" data-commandlinker-command=\"kernelmenu:shutdown\" style=\"display:none;\">Shutdown Kernel</button>\n",
    "        \n",
    "<script>\n",
    "try {\n",
    "    els = document.getElementsByClassName(\"sm-command-button\");\n",
    "    els[0].click();\n",
    "}\n",
    "catch(err) {\n",
    "    // NoOp\n",
    "}    \n",
    "</script>"
   ]
  },
  {
   "cell_type": "code",
   "execution_count": 13,
   "id": "a8d20eae-a884-40e1-a0f4-2c15a88a3f2b",
   "metadata": {
    "tags": []
   },
   "outputs": [
    {
     "data": {
      "application/javascript": [
       "\n",
       "try {\n",
       "    Jupyter.notebook.save_checkpoint();\n",
       "    Jupyter.notebook.session.delete();\n",
       "}\n",
       "catch(err) {\n",
       "    // NoOp\n",
       "}\n"
      ],
      "text/plain": [
       "<IPython.core.display.Javascript object>"
      ]
     },
     "metadata": {},
     "output_type": "display_data"
    }
   ],
   "source": [
    "%%javascript\n",
    "\n",
    "try {\n",
    "    Jupyter.notebook.save_checkpoint();\n",
    "    Jupyter.notebook.session.delete();\n",
    "}\n",
    "catch(err) {\n",
    "    // NoOp\n",
    "}"
   ]
  }
 ],
 "metadata": {
  "availableInstances": [
   {
    "_defaultOrder": 0,
    "_isFastLaunch": true,
    "category": "General purpose",
    "gpuNum": 0,
    "hideHardwareSpecs": false,
    "memoryGiB": 4,
    "name": "ml.t3.medium",
    "vcpuNum": 2
   },
   {
    "_defaultOrder": 1,
    "_isFastLaunch": false,
    "category": "General purpose",
    "gpuNum": 0,
    "hideHardwareSpecs": false,
    "memoryGiB": 8,
    "name": "ml.t3.large",
    "vcpuNum": 2
   },
   {
    "_defaultOrder": 2,
    "_isFastLaunch": false,
    "category": "General purpose",
    "gpuNum": 0,
    "hideHardwareSpecs": false,
    "memoryGiB": 16,
    "name": "ml.t3.xlarge",
    "vcpuNum": 4
   },
   {
    "_defaultOrder": 3,
    "_isFastLaunch": false,
    "category": "General purpose",
    "gpuNum": 0,
    "hideHardwareSpecs": false,
    "memoryGiB": 32,
    "name": "ml.t3.2xlarge",
    "vcpuNum": 8
   },
   {
    "_defaultOrder": 4,
    "_isFastLaunch": true,
    "category": "General purpose",
    "gpuNum": 0,
    "hideHardwareSpecs": false,
    "memoryGiB": 8,
    "name": "ml.m5.large",
    "vcpuNum": 2
   },
   {
    "_defaultOrder": 5,
    "_isFastLaunch": false,
    "category": "General purpose",
    "gpuNum": 0,
    "hideHardwareSpecs": false,
    "memoryGiB": 16,
    "name": "ml.m5.xlarge",
    "vcpuNum": 4
   },
   {
    "_defaultOrder": 6,
    "_isFastLaunch": false,
    "category": "General purpose",
    "gpuNum": 0,
    "hideHardwareSpecs": false,
    "memoryGiB": 32,
    "name": "ml.m5.2xlarge",
    "vcpuNum": 8
   },
   {
    "_defaultOrder": 7,
    "_isFastLaunch": false,
    "category": "General purpose",
    "gpuNum": 0,
    "hideHardwareSpecs": false,
    "memoryGiB": 64,
    "name": "ml.m5.4xlarge",
    "vcpuNum": 16
   },
   {
    "_defaultOrder": 8,
    "_isFastLaunch": false,
    "category": "General purpose",
    "gpuNum": 0,
    "hideHardwareSpecs": false,
    "memoryGiB": 128,
    "name": "ml.m5.8xlarge",
    "vcpuNum": 32
   },
   {
    "_defaultOrder": 9,
    "_isFastLaunch": false,
    "category": "General purpose",
    "gpuNum": 0,
    "hideHardwareSpecs": false,
    "memoryGiB": 192,
    "name": "ml.m5.12xlarge",
    "vcpuNum": 48
   },
   {
    "_defaultOrder": 10,
    "_isFastLaunch": false,
    "category": "General purpose",
    "gpuNum": 0,
    "hideHardwareSpecs": false,
    "memoryGiB": 256,
    "name": "ml.m5.16xlarge",
    "vcpuNum": 64
   },
   {
    "_defaultOrder": 11,
    "_isFastLaunch": false,
    "category": "General purpose",
    "gpuNum": 0,
    "hideHardwareSpecs": false,
    "memoryGiB": 384,
    "name": "ml.m5.24xlarge",
    "vcpuNum": 96
   },
   {
    "_defaultOrder": 12,
    "_isFastLaunch": false,
    "category": "General purpose",
    "gpuNum": 0,
    "hideHardwareSpecs": false,
    "memoryGiB": 8,
    "name": "ml.m5d.large",
    "vcpuNum": 2
   },
   {
    "_defaultOrder": 13,
    "_isFastLaunch": false,
    "category": "General purpose",
    "gpuNum": 0,
    "hideHardwareSpecs": false,
    "memoryGiB": 16,
    "name": "ml.m5d.xlarge",
    "vcpuNum": 4
   },
   {
    "_defaultOrder": 14,
    "_isFastLaunch": false,
    "category": "General purpose",
    "gpuNum": 0,
    "hideHardwareSpecs": false,
    "memoryGiB": 32,
    "name": "ml.m5d.2xlarge",
    "vcpuNum": 8
   },
   {
    "_defaultOrder": 15,
    "_isFastLaunch": false,
    "category": "General purpose",
    "gpuNum": 0,
    "hideHardwareSpecs": false,
    "memoryGiB": 64,
    "name": "ml.m5d.4xlarge",
    "vcpuNum": 16
   },
   {
    "_defaultOrder": 16,
    "_isFastLaunch": false,
    "category": "General purpose",
    "gpuNum": 0,
    "hideHardwareSpecs": false,
    "memoryGiB": 128,
    "name": "ml.m5d.8xlarge",
    "vcpuNum": 32
   },
   {
    "_defaultOrder": 17,
    "_isFastLaunch": false,
    "category": "General purpose",
    "gpuNum": 0,
    "hideHardwareSpecs": false,
    "memoryGiB": 192,
    "name": "ml.m5d.12xlarge",
    "vcpuNum": 48
   },
   {
    "_defaultOrder": 18,
    "_isFastLaunch": false,
    "category": "General purpose",
    "gpuNum": 0,
    "hideHardwareSpecs": false,
    "memoryGiB": 256,
    "name": "ml.m5d.16xlarge",
    "vcpuNum": 64
   },
   {
    "_defaultOrder": 19,
    "_isFastLaunch": false,
    "category": "General purpose",
    "gpuNum": 0,
    "hideHardwareSpecs": false,
    "memoryGiB": 384,
    "name": "ml.m5d.24xlarge",
    "vcpuNum": 96
   },
   {
    "_defaultOrder": 20,
    "_isFastLaunch": false,
    "category": "General purpose",
    "gpuNum": 0,
    "hideHardwareSpecs": true,
    "memoryGiB": 0,
    "name": "ml.geospatial.interactive",
    "supportedImageNames": [
     "sagemaker-geospatial-v1-0"
    ],
    "vcpuNum": 0
   },
   {
    "_defaultOrder": 21,
    "_isFastLaunch": true,
    "category": "Compute optimized",
    "gpuNum": 0,
    "hideHardwareSpecs": false,
    "memoryGiB": 4,
    "name": "ml.c5.large",
    "vcpuNum": 2
   },
   {
    "_defaultOrder": 22,
    "_isFastLaunch": false,
    "category": "Compute optimized",
    "gpuNum": 0,
    "hideHardwareSpecs": false,
    "memoryGiB": 8,
    "name": "ml.c5.xlarge",
    "vcpuNum": 4
   },
   {
    "_defaultOrder": 23,
    "_isFastLaunch": false,
    "category": "Compute optimized",
    "gpuNum": 0,
    "hideHardwareSpecs": false,
    "memoryGiB": 16,
    "name": "ml.c5.2xlarge",
    "vcpuNum": 8
   },
   {
    "_defaultOrder": 24,
    "_isFastLaunch": false,
    "category": "Compute optimized",
    "gpuNum": 0,
    "hideHardwareSpecs": false,
    "memoryGiB": 32,
    "name": "ml.c5.4xlarge",
    "vcpuNum": 16
   },
   {
    "_defaultOrder": 25,
    "_isFastLaunch": false,
    "category": "Compute optimized",
    "gpuNum": 0,
    "hideHardwareSpecs": false,
    "memoryGiB": 72,
    "name": "ml.c5.9xlarge",
    "vcpuNum": 36
   },
   {
    "_defaultOrder": 26,
    "_isFastLaunch": false,
    "category": "Compute optimized",
    "gpuNum": 0,
    "hideHardwareSpecs": false,
    "memoryGiB": 96,
    "name": "ml.c5.12xlarge",
    "vcpuNum": 48
   },
   {
    "_defaultOrder": 27,
    "_isFastLaunch": false,
    "category": "Compute optimized",
    "gpuNum": 0,
    "hideHardwareSpecs": false,
    "memoryGiB": 144,
    "name": "ml.c5.18xlarge",
    "vcpuNum": 72
   },
   {
    "_defaultOrder": 28,
    "_isFastLaunch": false,
    "category": "Compute optimized",
    "gpuNum": 0,
    "hideHardwareSpecs": false,
    "memoryGiB": 192,
    "name": "ml.c5.24xlarge",
    "vcpuNum": 96
   },
   {
    "_defaultOrder": 29,
    "_isFastLaunch": true,
    "category": "Accelerated computing",
    "gpuNum": 1,
    "hideHardwareSpecs": false,
    "memoryGiB": 16,
    "name": "ml.g4dn.xlarge",
    "vcpuNum": 4
   },
   {
    "_defaultOrder": 30,
    "_isFastLaunch": false,
    "category": "Accelerated computing",
    "gpuNum": 1,
    "hideHardwareSpecs": false,
    "memoryGiB": 32,
    "name": "ml.g4dn.2xlarge",
    "vcpuNum": 8
   },
   {
    "_defaultOrder": 31,
    "_isFastLaunch": false,
    "category": "Accelerated computing",
    "gpuNum": 1,
    "hideHardwareSpecs": false,
    "memoryGiB": 64,
    "name": "ml.g4dn.4xlarge",
    "vcpuNum": 16
   },
   {
    "_defaultOrder": 32,
    "_isFastLaunch": false,
    "category": "Accelerated computing",
    "gpuNum": 1,
    "hideHardwareSpecs": false,
    "memoryGiB": 128,
    "name": "ml.g4dn.8xlarge",
    "vcpuNum": 32
   },
   {
    "_defaultOrder": 33,
    "_isFastLaunch": false,
    "category": "Accelerated computing",
    "gpuNum": 4,
    "hideHardwareSpecs": false,
    "memoryGiB": 192,
    "name": "ml.g4dn.12xlarge",
    "vcpuNum": 48
   },
   {
    "_defaultOrder": 34,
    "_isFastLaunch": false,
    "category": "Accelerated computing",
    "gpuNum": 1,
    "hideHardwareSpecs": false,
    "memoryGiB": 256,
    "name": "ml.g4dn.16xlarge",
    "vcpuNum": 64
   },
   {
    "_defaultOrder": 35,
    "_isFastLaunch": false,
    "category": "Accelerated computing",
    "gpuNum": 1,
    "hideHardwareSpecs": false,
    "memoryGiB": 61,
    "name": "ml.p3.2xlarge",
    "vcpuNum": 8
   },
   {
    "_defaultOrder": 36,
    "_isFastLaunch": false,
    "category": "Accelerated computing",
    "gpuNum": 4,
    "hideHardwareSpecs": false,
    "memoryGiB": 244,
    "name": "ml.p3.8xlarge",
    "vcpuNum": 32
   },
   {
    "_defaultOrder": 37,
    "_isFastLaunch": false,
    "category": "Accelerated computing",
    "gpuNum": 8,
    "hideHardwareSpecs": false,
    "memoryGiB": 488,
    "name": "ml.p3.16xlarge",
    "vcpuNum": 64
   },
   {
    "_defaultOrder": 38,
    "_isFastLaunch": false,
    "category": "Accelerated computing",
    "gpuNum": 8,
    "hideHardwareSpecs": false,
    "memoryGiB": 768,
    "name": "ml.p3dn.24xlarge",
    "vcpuNum": 96
   },
   {
    "_defaultOrder": 39,
    "_isFastLaunch": false,
    "category": "Memory Optimized",
    "gpuNum": 0,
    "hideHardwareSpecs": false,
    "memoryGiB": 16,
    "name": "ml.r5.large",
    "vcpuNum": 2
   },
   {
    "_defaultOrder": 40,
    "_isFastLaunch": false,
    "category": "Memory Optimized",
    "gpuNum": 0,
    "hideHardwareSpecs": false,
    "memoryGiB": 32,
    "name": "ml.r5.xlarge",
    "vcpuNum": 4
   },
   {
    "_defaultOrder": 41,
    "_isFastLaunch": false,
    "category": "Memory Optimized",
    "gpuNum": 0,
    "hideHardwareSpecs": false,
    "memoryGiB": 64,
    "name": "ml.r5.2xlarge",
    "vcpuNum": 8
   },
   {
    "_defaultOrder": 42,
    "_isFastLaunch": false,
    "category": "Memory Optimized",
    "gpuNum": 0,
    "hideHardwareSpecs": false,
    "memoryGiB": 128,
    "name": "ml.r5.4xlarge",
    "vcpuNum": 16
   },
   {
    "_defaultOrder": 43,
    "_isFastLaunch": false,
    "category": "Memory Optimized",
    "gpuNum": 0,
    "hideHardwareSpecs": false,
    "memoryGiB": 256,
    "name": "ml.r5.8xlarge",
    "vcpuNum": 32
   },
   {
    "_defaultOrder": 44,
    "_isFastLaunch": false,
    "category": "Memory Optimized",
    "gpuNum": 0,
    "hideHardwareSpecs": false,
    "memoryGiB": 384,
    "name": "ml.r5.12xlarge",
    "vcpuNum": 48
   },
   {
    "_defaultOrder": 45,
    "_isFastLaunch": false,
    "category": "Memory Optimized",
    "gpuNum": 0,
    "hideHardwareSpecs": false,
    "memoryGiB": 512,
    "name": "ml.r5.16xlarge",
    "vcpuNum": 64
   },
   {
    "_defaultOrder": 46,
    "_isFastLaunch": false,
    "category": "Memory Optimized",
    "gpuNum": 0,
    "hideHardwareSpecs": false,
    "memoryGiB": 768,
    "name": "ml.r5.24xlarge",
    "vcpuNum": 96
   },
   {
    "_defaultOrder": 47,
    "_isFastLaunch": false,
    "category": "Accelerated computing",
    "gpuNum": 1,
    "hideHardwareSpecs": false,
    "memoryGiB": 16,
    "name": "ml.g5.xlarge",
    "vcpuNum": 4
   },
   {
    "_defaultOrder": 48,
    "_isFastLaunch": false,
    "category": "Accelerated computing",
    "gpuNum": 1,
    "hideHardwareSpecs": false,
    "memoryGiB": 32,
    "name": "ml.g5.2xlarge",
    "vcpuNum": 8
   },
   {
    "_defaultOrder": 49,
    "_isFastLaunch": false,
    "category": "Accelerated computing",
    "gpuNum": 1,
    "hideHardwareSpecs": false,
    "memoryGiB": 64,
    "name": "ml.g5.4xlarge",
    "vcpuNum": 16
   },
   {
    "_defaultOrder": 50,
    "_isFastLaunch": false,
    "category": "Accelerated computing",
    "gpuNum": 1,
    "hideHardwareSpecs": false,
    "memoryGiB": 128,
    "name": "ml.g5.8xlarge",
    "vcpuNum": 32
   },
   {
    "_defaultOrder": 51,
    "_isFastLaunch": false,
    "category": "Accelerated computing",
    "gpuNum": 1,
    "hideHardwareSpecs": false,
    "memoryGiB": 256,
    "name": "ml.g5.16xlarge",
    "vcpuNum": 64
   },
   {
    "_defaultOrder": 52,
    "_isFastLaunch": false,
    "category": "Accelerated computing",
    "gpuNum": 4,
    "hideHardwareSpecs": false,
    "memoryGiB": 192,
    "name": "ml.g5.12xlarge",
    "vcpuNum": 48
   },
   {
    "_defaultOrder": 53,
    "_isFastLaunch": false,
    "category": "Accelerated computing",
    "gpuNum": 4,
    "hideHardwareSpecs": false,
    "memoryGiB": 384,
    "name": "ml.g5.24xlarge",
    "vcpuNum": 96
   },
   {
    "_defaultOrder": 54,
    "_isFastLaunch": false,
    "category": "Accelerated computing",
    "gpuNum": 8,
    "hideHardwareSpecs": false,
    "memoryGiB": 768,
    "name": "ml.g5.48xlarge",
    "vcpuNum": 192
   }
  ],
  "kernelspec": {
   "display_name": "Python 3 (Data Science)",
   "language": "python",
   "name": "python3__SAGEMAKER_INTERNAL__arn:aws:sagemaker:us-east-1:081325390199:image/datascience-1.0"
  },
  "language_info": {
   "codemirror_mode": {
    "name": "ipython",
    "version": 3
   },
   "file_extension": ".py",
   "mimetype": "text/x-python",
   "name": "python",
   "nbconvert_exporter": "python",
   "pygments_lexer": "ipython3",
   "version": "3.7.10"
  }
 },
 "nbformat": 4,
 "nbformat_minor": 5
}
